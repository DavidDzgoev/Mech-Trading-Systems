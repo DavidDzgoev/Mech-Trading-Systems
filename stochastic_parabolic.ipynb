{
  "nbformat": 4,
  "nbformat_minor": 0,
  "metadata": {
    "colab": {
      "name": "stochastic_parabolic.ipynb",
      "provenance": [],
      "authorship_tag": "ABX9TyMTHuzMEyHatK68zYh0BasL",
      "include_colab_link": true
    },
    "kernelspec": {
      "name": "python3",
      "display_name": "Python 3"
    },
    "language_info": {
      "name": "python"
    }
  },
  "cells": [
    {
      "cell_type": "markdown",
      "metadata": {
        "id": "view-in-github",
        "colab_type": "text"
      },
      "source": [
        "<a href=\"https://colab.research.google.com/github/nikitaoltyan/Mech-Trading-Systems/blob/main/stochastic_parabolic.ipynb\" target=\"_parent\"><img src=\"https://colab.research.google.com/assets/colab-badge.svg\" alt=\"Open In Colab\"/></a>"
      ]
    },
    {
      "cell_type": "code",
      "metadata": {
        "colab": {
          "base_uri": "https://localhost:8080/"
        },
        "id": "GVjjUYbgcmdd",
        "outputId": "c22e87d6-46bc-475b-ff96-ed034f74fba4"
      },
      "source": [
        "# Project cloning\n",
        "!git clone https://github.com/nikitaoltyan/Mech-Trading-Systems.git\n",
        "%cd Mech-Trading-Systems"
      ],
      "execution_count": 1,
      "outputs": [
        {
          "output_type": "stream",
          "text": [
            "Cloning into 'Mech-Trading-Systems'...\n",
            "remote: Enumerating objects: 297, done.\u001b[K\n",
            "remote: Counting objects: 100% (35/35), done.\u001b[K\n",
            "remote: Compressing objects: 100% (32/32), done.\u001b[K\n",
            "remote: Total 297 (delta 18), reused 8 (delta 3), pack-reused 262\u001b[K\n",
            "Receiving objects: 100% (297/297), 1.97 MiB | 12.14 MiB/s, done.\n",
            "Resolving deltas: 100% (147/147), done.\n",
            "/content/Mech-Trading-Systems\n"
          ],
          "name": "stdout"
        }
      ]
    },
    {
      "cell_type": "code",
      "metadata": {
        "id": "zW7s5VgPcobM"
      },
      "source": [
        "import pandas as pd\n",
        "from PlotDraw import draw_plot"
      ],
      "execution_count": 2,
      "outputs": []
    },
    {
      "cell_type": "code",
      "metadata": {
        "colab": {
          "base_uri": "https://localhost:8080/",
          "height": 204
        },
        "id": "ligVuU0IcrIz",
        "outputId": "26fc4843-640e-47d0-9ed1-59ff272a7f11"
      },
      "source": [
        "data = pd.read_excel(\"LHAG.xlsx\")\n",
        "data.head()"
      ],
      "execution_count": 3,
      "outputs": [
        {
          "output_type": "execute_result",
          "data": {
            "text/html": [
              "<div>\n",
              "<style scoped>\n",
              "    .dataframe tbody tr th:only-of-type {\n",
              "        vertical-align: middle;\n",
              "    }\n",
              "\n",
              "    .dataframe tbody tr th {\n",
              "        vertical-align: top;\n",
              "    }\n",
              "\n",
              "    .dataframe thead th {\n",
              "        text-align: right;\n",
              "    }\n",
              "</style>\n",
              "<table border=\"1\" class=\"dataframe\">\n",
              "  <thead>\n",
              "    <tr style=\"text-align: right;\">\n",
              "      <th></th>\n",
              "      <th>&lt;DATE&gt;</th>\n",
              "      <th>&lt;CLOSE&gt;</th>\n",
              "      <th>&lt;OPEN&gt;</th>\n",
              "      <th>&lt;HIGH&gt;</th>\n",
              "      <th>&lt;LOW&gt;</th>\n",
              "      <th>&lt;VOL&gt;</th>\n",
              "    </tr>\n",
              "  </thead>\n",
              "  <tbody>\n",
              "    <tr>\n",
              "      <th>0</th>\n",
              "      <td>Dec 30, 2020</td>\n",
              "      <td>10.815</td>\n",
              "      <td>11.000</td>\n",
              "      <td>11.030</td>\n",
              "      <td>10.735</td>\n",
              "      <td>3.15M</td>\n",
              "    </tr>\n",
              "    <tr>\n",
              "      <th>1</th>\n",
              "      <td>Dec 29, 2020</td>\n",
              "      <td>10.960</td>\n",
              "      <td>10.630</td>\n",
              "      <td>11.290</td>\n",
              "      <td>10.560</td>\n",
              "      <td>11.25M</td>\n",
              "    </tr>\n",
              "    <tr>\n",
              "      <th>2</th>\n",
              "      <td>Dec 28, 2020</td>\n",
              "      <td>10.375</td>\n",
              "      <td>10.170</td>\n",
              "      <td>10.615</td>\n",
              "      <td>10.155</td>\n",
              "      <td>6.45M</td>\n",
              "    </tr>\n",
              "    <tr>\n",
              "      <th>3</th>\n",
              "      <td>Dec 23, 2020</td>\n",
              "      <td>9.860</td>\n",
              "      <td>9.518</td>\n",
              "      <td>9.888</td>\n",
              "      <td>9.496</td>\n",
              "      <td>3.55M</td>\n",
              "    </tr>\n",
              "    <tr>\n",
              "      <th>4</th>\n",
              "      <td>Dec 22, 2020</td>\n",
              "      <td>9.450</td>\n",
              "      <td>9.390</td>\n",
              "      <td>9.600</td>\n",
              "      <td>9.328</td>\n",
              "      <td>3.16M</td>\n",
              "    </tr>\n",
              "  </tbody>\n",
              "</table>\n",
              "</div>"
            ],
            "text/plain": [
              "         <DATE>  <CLOSE>  <OPEN>  <HIGH>   <LOW>   <VOL>\n",
              "0  Dec 30, 2020   10.815  11.000  11.030  10.735   3.15M\n",
              "1  Dec 29, 2020   10.960  10.630  11.290  10.560  11.25M\n",
              "2  Dec 28, 2020   10.375  10.170  10.615  10.155   6.45M\n",
              "3  Dec 23, 2020    9.860   9.518   9.888   9.496   3.55M\n",
              "4  Dec 22, 2020    9.450   9.390   9.600   9.328   3.16M"
            ]
          },
          "metadata": {
            "tags": []
          },
          "execution_count": 3
        }
      ]
    },
    {
      "cell_type": "code",
      "metadata": {
        "colab": {
          "base_uri": "https://localhost:8080/"
        },
        "id": "emzk1oiqctCr",
        "outputId": "21cb471f-6600-486f-9309-620b23ca0459"
      },
      "source": [
        "data.astype({'<CLOSE>': 'int32', '<OPEN>': 'int32', '<HIGH>': 'int32', '<LOW>': 'int32'}).dtypes\n",
        "data.astype({'<DATE>': 'datetime64[ns]'}).dtypes"
      ],
      "execution_count": 4,
      "outputs": [
        {
          "output_type": "execute_result",
          "data": {
            "text/plain": [
              "<DATE>     datetime64[ns]\n",
              "<CLOSE>           float64\n",
              "<OPEN>            float64\n",
              "<HIGH>            float64\n",
              "<LOW>             float64\n",
              "<VOL>              object\n",
              "dtype: object"
            ]
          },
          "metadata": {
            "tags": []
          },
          "execution_count": 4
        }
      ]
    },
    {
      "cell_type": "code",
      "metadata": {
        "id": "DU29w87bcvOU"
      },
      "source": [
        "def stochastic(data, period = 14, m = 3):\n",
        "    stoch_data = data.copy()\n",
        "    stoch_data['14-HIGH'] = stoch_data['<HIGH>'].rolling(period).max()\n",
        "    stoch_data['14-LOW'] = stoch_data['<LOW>'].rolling(period).min()\n",
        "    stoch_data['%K'] = (stoch_data['<CLOSE>'] - stoch_data['14-LOW'])*100/(stoch_data['14-HIGH'] - stoch_data['14-LOW'])\n",
        "    stoch_data['%D'] = stoch_data['%K'].rolling(m).mean()\n",
        "    return stoch_data"
      ],
      "execution_count": 8,
      "outputs": []
    },
    {
      "cell_type": "code",
      "metadata": {
        "colab": {
          "base_uri": "https://localhost:8080/",
          "height": 419
        },
        "id": "uRzRhIIwdcIS",
        "outputId": "9e303e71-eeb5-4338-9c2f-98889587091f"
      },
      "source": [
        "stoch_data = stochastic(data)\n",
        "stoch_data"
      ],
      "execution_count": 10,
      "outputs": [
        {
          "output_type": "execute_result",
          "data": {
            "text/html": [
              "<div>\n",
              "<style scoped>\n",
              "    .dataframe tbody tr th:only-of-type {\n",
              "        vertical-align: middle;\n",
              "    }\n",
              "\n",
              "    .dataframe tbody tr th {\n",
              "        vertical-align: top;\n",
              "    }\n",
              "\n",
              "    .dataframe thead th {\n",
              "        text-align: right;\n",
              "    }\n",
              "</style>\n",
              "<table border=\"1\" class=\"dataframe\">\n",
              "  <thead>\n",
              "    <tr style=\"text-align: right;\">\n",
              "      <th></th>\n",
              "      <th>&lt;DATE&gt;</th>\n",
              "      <th>&lt;CLOSE&gt;</th>\n",
              "      <th>&lt;OPEN&gt;</th>\n",
              "      <th>&lt;HIGH&gt;</th>\n",
              "      <th>&lt;LOW&gt;</th>\n",
              "      <th>&lt;VOL&gt;</th>\n",
              "      <th>14-HIGH</th>\n",
              "      <th>14-LOW</th>\n",
              "      <th>%K</th>\n",
              "      <th>%D</th>\n",
              "    </tr>\n",
              "  </thead>\n",
              "  <tbody>\n",
              "    <tr>\n",
              "      <th>0</th>\n",
              "      <td>Dec 30, 2020</td>\n",
              "      <td>10.815</td>\n",
              "      <td>11.000</td>\n",
              "      <td>11.030</td>\n",
              "      <td>10.735</td>\n",
              "      <td>3.15M</td>\n",
              "      <td>NaN</td>\n",
              "      <td>NaN</td>\n",
              "      <td>NaN</td>\n",
              "      <td>NaN</td>\n",
              "    </tr>\n",
              "    <tr>\n",
              "      <th>1</th>\n",
              "      <td>Dec 29, 2020</td>\n",
              "      <td>10.960</td>\n",
              "      <td>10.630</td>\n",
              "      <td>11.290</td>\n",
              "      <td>10.560</td>\n",
              "      <td>11.25M</td>\n",
              "      <td>NaN</td>\n",
              "      <td>NaN</td>\n",
              "      <td>NaN</td>\n",
              "      <td>NaN</td>\n",
              "    </tr>\n",
              "    <tr>\n",
              "      <th>2</th>\n",
              "      <td>Dec 28, 2020</td>\n",
              "      <td>10.375</td>\n",
              "      <td>10.170</td>\n",
              "      <td>10.615</td>\n",
              "      <td>10.155</td>\n",
              "      <td>6.45M</td>\n",
              "      <td>NaN</td>\n",
              "      <td>NaN</td>\n",
              "      <td>NaN</td>\n",
              "      <td>NaN</td>\n",
              "    </tr>\n",
              "    <tr>\n",
              "      <th>3</th>\n",
              "      <td>Dec 23, 2020</td>\n",
              "      <td>9.860</td>\n",
              "      <td>9.518</td>\n",
              "      <td>9.888</td>\n",
              "      <td>9.496</td>\n",
              "      <td>3.55M</td>\n",
              "      <td>NaN</td>\n",
              "      <td>NaN</td>\n",
              "      <td>NaN</td>\n",
              "      <td>NaN</td>\n",
              "    </tr>\n",
              "    <tr>\n",
              "      <th>4</th>\n",
              "      <td>Dec 22, 2020</td>\n",
              "      <td>9.450</td>\n",
              "      <td>9.390</td>\n",
              "      <td>9.600</td>\n",
              "      <td>9.328</td>\n",
              "      <td>3.16M</td>\n",
              "      <td>NaN</td>\n",
              "      <td>NaN</td>\n",
              "      <td>NaN</td>\n",
              "      <td>NaN</td>\n",
              "    </tr>\n",
              "    <tr>\n",
              "      <th>...</th>\n",
              "      <td>...</td>\n",
              "      <td>...</td>\n",
              "      <td>...</td>\n",
              "      <td>...</td>\n",
              "      <td>...</td>\n",
              "      <td>...</td>\n",
              "      <td>...</td>\n",
              "      <td>...</td>\n",
              "      <td>...</td>\n",
              "      <td>...</td>\n",
              "    </tr>\n",
              "    <tr>\n",
              "      <th>1258</th>\n",
              "      <td>Jan 08, 2016</td>\n",
              "      <td>14.920</td>\n",
              "      <td>15.060</td>\n",
              "      <td>15.140</td>\n",
              "      <td>14.840</td>\n",
              "      <td>5.90M</td>\n",
              "      <td>15.14</td>\n",
              "      <td>13.205</td>\n",
              "      <td>88.630491</td>\n",
              "      <td>79.196200</td>\n",
              "    </tr>\n",
              "    <tr>\n",
              "      <th>1259</th>\n",
              "      <td>Jan 07, 2016</td>\n",
              "      <td>15.010</td>\n",
              "      <td>14.800</td>\n",
              "      <td>15.150</td>\n",
              "      <td>14.615</td>\n",
              "      <td>8.07M</td>\n",
              "      <td>15.15</td>\n",
              "      <td>13.205</td>\n",
              "      <td>92.802057</td>\n",
              "      <td>87.479378</td>\n",
              "    </tr>\n",
              "    <tr>\n",
              "      <th>1260</th>\n",
              "      <td>Jan 06, 2016</td>\n",
              "      <td>15.160</td>\n",
              "      <td>14.910</td>\n",
              "      <td>15.410</td>\n",
              "      <td>14.900</td>\n",
              "      <td>8.04M</td>\n",
              "      <td>15.41</td>\n",
              "      <td>13.205</td>\n",
              "      <td>88.662132</td>\n",
              "      <td>90.031560</td>\n",
              "    </tr>\n",
              "    <tr>\n",
              "      <th>1261</th>\n",
              "      <td>Jan 05, 2016</td>\n",
              "      <td>14.925</td>\n",
              "      <td>14.670</td>\n",
              "      <td>14.995</td>\n",
              "      <td>14.625</td>\n",
              "      <td>6.52M</td>\n",
              "      <td>15.41</td>\n",
              "      <td>13.205</td>\n",
              "      <td>78.004535</td>\n",
              "      <td>86.489574</td>\n",
              "    </tr>\n",
              "    <tr>\n",
              "      <th>1262</th>\n",
              "      <td>Jan 04, 2016</td>\n",
              "      <td>14.475</td>\n",
              "      <td>14.275</td>\n",
              "      <td>14.725</td>\n",
              "      <td>14.175</td>\n",
              "      <td>6.38M</td>\n",
              "      <td>15.41</td>\n",
              "      <td>13.205</td>\n",
              "      <td>57.596372</td>\n",
              "      <td>74.754346</td>\n",
              "    </tr>\n",
              "  </tbody>\n",
              "</table>\n",
              "<p>1263 rows × 10 columns</p>\n",
              "</div>"
            ],
            "text/plain": [
              "            <DATE>  <CLOSE>  <OPEN>  ...  14-LOW         %K         %D\n",
              "0     Dec 30, 2020   10.815  11.000  ...     NaN        NaN        NaN\n",
              "1     Dec 29, 2020   10.960  10.630  ...     NaN        NaN        NaN\n",
              "2     Dec 28, 2020   10.375  10.170  ...     NaN        NaN        NaN\n",
              "3     Dec 23, 2020    9.860   9.518  ...     NaN        NaN        NaN\n",
              "4     Dec 22, 2020    9.450   9.390  ...     NaN        NaN        NaN\n",
              "...            ...      ...     ...  ...     ...        ...        ...\n",
              "1258  Jan 08, 2016   14.920  15.060  ...  13.205  88.630491  79.196200\n",
              "1259  Jan 07, 2016   15.010  14.800  ...  13.205  92.802057  87.479378\n",
              "1260  Jan 06, 2016   15.160  14.910  ...  13.205  88.662132  90.031560\n",
              "1261  Jan 05, 2016   14.925  14.670  ...  13.205  78.004535  86.489574\n",
              "1262  Jan 04, 2016   14.475  14.275  ...  13.205  57.596372  74.754346\n",
              "\n",
              "[1263 rows x 10 columns]"
            ]
          },
          "metadata": {
            "tags": []
          },
          "execution_count": 10
        }
      ]
    },
    {
      "cell_type": "code",
      "metadata": {
        "id": "s_Fje3Dpdhp9"
      },
      "source": [
        ""
      ],
      "execution_count": null,
      "outputs": []
    }
  ]
}