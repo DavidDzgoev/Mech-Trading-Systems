{
  "nbformat": 4,
  "nbformat_minor": 0,
  "metadata": {
    "colab": {
      "name": "Копия блокнота \"Mech_Systems\"",
      "provenance": [],
      "collapsed_sections": [],
      "include_colab_link": true
    },
    "kernelspec": {
      "name": "python3",
      "display_name": "Python 3"
    }
  },
  "cells": [
    {
      "cell_type": "markdown",
      "metadata": {
        "id": "view-in-github",
        "colab_type": "text"
      },
      "source": [
        "<a href=\"https://colab.research.google.com/github/nikitaoltyan/Mech-Trading-Systems/blob/main/Mech_Systems.ipynb\" target=\"_parent\"><img src=\"https://colab.research.google.com/assets/colab-badge.svg\" alt=\"Open In Colab\"/></a>"
      ]
    },
    {
      "cell_type": "code",
      "metadata": {
        "colab": {
          "base_uri": "https://localhost:8080/"
        },
        "id": "oLGJ0T9Zw7kL",
        "outputId": "a3229e3a-cef7-4902-bc2d-4690b21abc9c"
      },
      "source": [
        "# Project cloning\n",
        "!git clone https://github.com/nikitaoltyan/Mech-Trading-Systems.git\n",
        "%cd Mech-Trading-Systems"
      ],
      "execution_count": 1,
      "outputs": [
        {
          "output_type": "stream",
          "text": [
            "Cloning into 'Mech-Trading-Systems'...\n",
            "remote: Enumerating objects: 179, done.\u001b[K\n",
            "remote: Counting objects: 100% (179/179), done.\u001b[K\n",
            "remote: Compressing objects: 100% (170/170), done.\u001b[K\n",
            "remote: Total 179 (delta 87), reused 0 (delta 0), pack-reused 0\u001b[K\n",
            "Receiving objects: 100% (179/179), 308.00 KiB | 4.67 MiB/s, done.\n",
            "Resolving deltas: 100% (87/87), done.\n",
            "/content/Mech-Trading-Systems\n"
          ],
          "name": "stdout"
        }
      ]
    },
    {
      "cell_type": "code",
      "metadata": {
        "id": "Fbt612jrSzLQ"
      },
      "source": [
        "import pandas as pd\n",
        "import numpy as np"
      ],
      "execution_count": 2,
      "outputs": []
    },
    {
      "cell_type": "code",
      "metadata": {
        "id": "ChZQskMSw9Fz"
      },
      "source": [
        "from classifiers.HeadWithShoulders import head_with_shoulders\n",
        "from classifiers.Trend import find_rising_trend_lines, find_decreasing_trend_lines, draw_trends\n",
        "from classifiers.Triangle import find_triangle, draw_triangles\n",
        "from PlotDraw import draw_plot"
      ],
      "execution_count": 3,
      "outputs": []
    },
    {
      "cell_type": "code",
      "metadata": {
        "colab": {
          "base_uri": "https://localhost:8080/",
          "height": 221
        },
        "id": "WOKeZvGACEKT",
        "outputId": "ee99d5b3-cb26-4a8a-bbf9-061fd17e27fd"
      },
      "source": [
        "data = pd.read_excel(\"Boeing_Data.xlsx\")\r\n",
        "data.head()"
      ],
      "execution_count": 4,
      "outputs": [
        {
          "output_type": "execute_result",
          "data": {
            "text/html": [
              "<div>\n",
              "<style scoped>\n",
              "    .dataframe tbody tr th:only-of-type {\n",
              "        vertical-align: middle;\n",
              "    }\n",
              "\n",
              "    .dataframe tbody tr th {\n",
              "        vertical-align: top;\n",
              "    }\n",
              "\n",
              "    .dataframe thead th {\n",
              "        text-align: right;\n",
              "    }\n",
              "</style>\n",
              "<table border=\"1\" class=\"dataframe\">\n",
              "  <thead>\n",
              "    <tr style=\"text-align: right;\">\n",
              "      <th></th>\n",
              "      <th>&lt;DATE&gt;</th>\n",
              "      <th>&lt;OPEN&gt;</th>\n",
              "      <th>&lt;HIGH&gt;</th>\n",
              "      <th>&lt;LOW&gt;</th>\n",
              "      <th>&lt;CLOSE&gt;</th>\n",
              "      <th>&lt;VOL&gt;</th>\n",
              "    </tr>\n",
              "  </thead>\n",
              "  <tbody>\n",
              "    <tr>\n",
              "      <th>0</th>\n",
              "      <td>2015-01-02</td>\n",
              "      <td>130.94</td>\n",
              "      <td>131.84</td>\n",
              "      <td>129.10</td>\n",
              "      <td>129.96</td>\n",
              "      <td>314405</td>\n",
              "    </tr>\n",
              "    <tr>\n",
              "      <th>1</th>\n",
              "      <td>2015-01-05</td>\n",
              "      <td>129.43</td>\n",
              "      <td>129.83</td>\n",
              "      <td>128.61</td>\n",
              "      <td>129.09</td>\n",
              "      <td>375840</td>\n",
              "    </tr>\n",
              "    <tr>\n",
              "      <th>2</th>\n",
              "      <td>2015-01-06</td>\n",
              "      <td>128.85</td>\n",
              "      <td>129.61</td>\n",
              "      <td>126.20</td>\n",
              "      <td>127.69</td>\n",
              "      <td>274113</td>\n",
              "    </tr>\n",
              "    <tr>\n",
              "      <th>3</th>\n",
              "      <td>2015-01-07</td>\n",
              "      <td>128.83</td>\n",
              "      <td>129.96</td>\n",
              "      <td>128.74</td>\n",
              "      <td>129.47</td>\n",
              "      <td>207999</td>\n",
              "    </tr>\n",
              "    <tr>\n",
              "      <th>4</th>\n",
              "      <td>2015-01-08</td>\n",
              "      <td>130.60</td>\n",
              "      <td>131.98</td>\n",
              "      <td>130.48</td>\n",
              "      <td>131.83</td>\n",
              "      <td>206594</td>\n",
              "    </tr>\n",
              "  </tbody>\n",
              "</table>\n",
              "</div>"
            ],
            "text/plain": [
              "      <DATE>  <OPEN>  <HIGH>   <LOW>  <CLOSE>   <VOL>\n",
              "0 2015-01-02  130.94  131.84  129.10   129.96  314405\n",
              "1 2015-01-05  129.43  129.83  128.61   129.09  375840\n",
              "2 2015-01-06  128.85  129.61  126.20   127.69  274113\n",
              "3 2015-01-07  128.83  129.96  128.74   129.47  207999\n",
              "4 2015-01-08  130.60  131.98  130.48   131.83  206594"
            ]
          },
          "metadata": {
            "tags": []
          },
          "execution_count": 4
        }
      ]
    },
    {
      "cell_type": "code",
      "metadata": {
        "id": "3AEbYEeu8GEA"
      },
      "source": [
        "rise_trends = find_rising_trend_lines(data, 15, 30)"
      ],
      "execution_count": null,
      "outputs": []
    },
    {
      "cell_type": "code",
      "metadata": {
        "id": "nmZrmMXqLfFW",
        "colab": {
          "base_uri": "https://localhost:8080/",
          "height": 1000
        },
        "outputId": "412981ad-df72-41de-8a0c-a0772cfdd9d8"
      },
      "source": [
        "draw_trends(data, rise_trends)"
      ],
      "execution_count": null,
      "outputs": [
        {
          "output_type": "display_data",
          "data": {
            "text/html": [
              "<html>\n",
              "<head><meta charset=\"utf-8\" /></head>\n",
              "<body>\n",
              "    <div>\n",
              "            <script src=\"https://cdnjs.cloudflare.com/ajax/libs/mathjax/2.7.5/MathJax.js?config=TeX-AMS-MML_SVG\"></script><script type=\"text/javascript\">if (window.MathJax) {MathJax.Hub.Config({SVG: {font: \"STIX-Web\"}});}</script>\n",
              "                <script type=\"text/javascript\">window.PlotlyConfig = {MathJaxConfig: 'local'};</script>\n",
              "        <script src=\"https://cdn.plot.ly/plotly-latest.min.js\"></script>    \n",
              "            <div id=\"3cf1cc59-dbec-4be5-903e-abf1fd02696c\" class=\"plotly-graph-div\" style=\"height:525px; width:100%;\"></div>\n",
              "            <script type=\"text/javascript\">\n",
              "                \n",
              "                    window.PLOTLYENV=window.PLOTLYENV || {};\n",
              "                    \n",
              "                if (document.getElementById(\"3cf1cc59-dbec-4be5-903e-abf1fd02696c\")) {\n",
              "                    Plotly.newPlot(\n",
              "                        '3cf1cc59-dbec-4be5-903e-abf1fd02696c',\n",
              "                        [{\"close\": [134.09, 132.45, 139.9, 147.76, 145.43, 146.28, 147.31, 147.18, 148.605, 148.0, 147.56, 148.13, 147.87, 148.04, 149.72, 149.8, 151.22, 153.79, 158.31, 154.68, 154.42, 153.02, 151.72, 150.87, 153.77, 155.6, 154.44, 154.47, 153.16, 154.74, 152.57, 151.18, 152.0], \"high\": [135.19, 132.99, 141.85, 148.24, 146.82, 146.58, 148.0, 148.39, 148.86, 148.89, 148.15, 148.71, 148.37, 148.56, 149.84, 149.96, 151.55, 154.24, 158.81, 155.92, 154.78, 154.7, 152.31, 151.85, 154.12, 156.9, 155.22, 155.96, 155.01, 155.57, 153.95, 152.58, 152.91], \"low\": [133.55, 130.76, 136.01, 139.64, 144.38, 143.05, 146.22, 146.05, 146.56, 147.72, 145.68, 147.51, 147.26, 147.72, 148.06, 148.615, 149.55, 151.06, 153.96, 153.42, 153.25, 152.14, 150.82, 150.52, 150.96, 154.23, 154.03, 154.35, 152.83, 153.16, 152.46, 151.17, 151.83], \"open\": [135.1, 131.93, 136.3, 139.68, 146.04, 143.72, 146.38, 146.15, 147.47, 148.62, 146.16, 148.08, 147.45, 148.24, 148.09, 148.615, 149.61, 151.11, 153.97, 155.1, 153.51, 154.305, 152.11, 151.08, 150.96, 154.7, 154.56, 155.0, 153.72, 153.16, 153.44, 152.36, 151.91], \"type\": \"candlestick\", \"x\": [15, 16, 17, 18, 19, 20, 21, 22, 23, 24, 25, 26, 27, 28, 29, 30, 31, 32, 33, 34, 35, 36, 37, 38, 39, 40, 41, 42, 43, 44, 45, 46, 47]}],\n",
              "                        {\"template\": {\"data\": {\"bar\": [{\"error_x\": {\"color\": \"#2a3f5f\"}, \"error_y\": {\"color\": \"#2a3f5f\"}, \"marker\": {\"line\": {\"color\": \"#E5ECF6\", \"width\": 0.5}}, \"type\": \"bar\"}], \"barpolar\": [{\"marker\": {\"line\": {\"color\": \"#E5ECF6\", \"width\": 0.5}}, \"type\": \"barpolar\"}], \"carpet\": [{\"aaxis\": {\"endlinecolor\": \"#2a3f5f\", \"gridcolor\": \"white\", \"linecolor\": \"white\", \"minorgridcolor\": \"white\", \"startlinecolor\": \"#2a3f5f\"}, \"baxis\": {\"endlinecolor\": \"#2a3f5f\", \"gridcolor\": \"white\", \"linecolor\": \"white\", \"minorgridcolor\": \"white\", \"startlinecolor\": \"#2a3f5f\"}, \"type\": \"carpet\"}], \"choropleth\": [{\"colorbar\": {\"outlinewidth\": 0, \"ticks\": \"\"}, \"type\": \"choropleth\"}], \"contour\": [{\"colorbar\": {\"outlinewidth\": 0, \"ticks\": \"\"}, \"colorscale\": [[0.0, \"#0d0887\"], [0.1111111111111111, \"#46039f\"], [0.2222222222222222, \"#7201a8\"], [0.3333333333333333, \"#9c179e\"], [0.4444444444444444, \"#bd3786\"], [0.5555555555555556, \"#d8576b\"], [0.6666666666666666, \"#ed7953\"], [0.7777777777777778, \"#fb9f3a\"], [0.8888888888888888, \"#fdca26\"], [1.0, \"#f0f921\"]], \"type\": \"contour\"}], \"contourcarpet\": [{\"colorbar\": {\"outlinewidth\": 0, \"ticks\": \"\"}, \"type\": \"contourcarpet\"}], \"heatmap\": [{\"colorbar\": {\"outlinewidth\": 0, \"ticks\": \"\"}, \"colorscale\": [[0.0, \"#0d0887\"], [0.1111111111111111, \"#46039f\"], [0.2222222222222222, \"#7201a8\"], [0.3333333333333333, \"#9c179e\"], [0.4444444444444444, \"#bd3786\"], [0.5555555555555556, \"#d8576b\"], [0.6666666666666666, \"#ed7953\"], [0.7777777777777778, \"#fb9f3a\"], [0.8888888888888888, \"#fdca26\"], [1.0, \"#f0f921\"]], \"type\": \"heatmap\"}], \"heatmapgl\": [{\"colorbar\": {\"outlinewidth\": 0, \"ticks\": \"\"}, \"colorscale\": [[0.0, \"#0d0887\"], [0.1111111111111111, \"#46039f\"], [0.2222222222222222, \"#7201a8\"], [0.3333333333333333, \"#9c179e\"], [0.4444444444444444, \"#bd3786\"], [0.5555555555555556, \"#d8576b\"], [0.6666666666666666, \"#ed7953\"], [0.7777777777777778, \"#fb9f3a\"], [0.8888888888888888, \"#fdca26\"], [1.0, \"#f0f921\"]], \"type\": \"heatmapgl\"}], \"histogram\": [{\"marker\": {\"colorbar\": {\"outlinewidth\": 0, \"ticks\": \"\"}}, \"type\": \"histogram\"}], \"histogram2d\": [{\"colorbar\": {\"outlinewidth\": 0, \"ticks\": \"\"}, \"colorscale\": [[0.0, \"#0d0887\"], [0.1111111111111111, \"#46039f\"], [0.2222222222222222, \"#7201a8\"], [0.3333333333333333, \"#9c179e\"], [0.4444444444444444, \"#bd3786\"], [0.5555555555555556, \"#d8576b\"], [0.6666666666666666, \"#ed7953\"], [0.7777777777777778, \"#fb9f3a\"], [0.8888888888888888, \"#fdca26\"], [1.0, \"#f0f921\"]], \"type\": \"histogram2d\"}], \"histogram2dcontour\": [{\"colorbar\": {\"outlinewidth\": 0, \"ticks\": \"\"}, \"colorscale\": [[0.0, \"#0d0887\"], [0.1111111111111111, \"#46039f\"], [0.2222222222222222, \"#7201a8\"], [0.3333333333333333, \"#9c179e\"], [0.4444444444444444, \"#bd3786\"], [0.5555555555555556, \"#d8576b\"], [0.6666666666666666, \"#ed7953\"], [0.7777777777777778, \"#fb9f3a\"], [0.8888888888888888, \"#fdca26\"], [1.0, \"#f0f921\"]], \"type\": \"histogram2dcontour\"}], \"mesh3d\": [{\"colorbar\": {\"outlinewidth\": 0, \"ticks\": \"\"}, \"type\": \"mesh3d\"}], \"parcoords\": [{\"line\": {\"colorbar\": {\"outlinewidth\": 0, \"ticks\": \"\"}}, \"type\": \"parcoords\"}], \"pie\": [{\"automargin\": true, \"type\": \"pie\"}], \"scatter\": [{\"marker\": {\"colorbar\": {\"outlinewidth\": 0, \"ticks\": \"\"}}, \"type\": \"scatter\"}], \"scatter3d\": [{\"line\": {\"colorbar\": {\"outlinewidth\": 0, \"ticks\": \"\"}}, \"marker\": {\"colorbar\": {\"outlinewidth\": 0, \"ticks\": \"\"}}, \"type\": \"scatter3d\"}], \"scattercarpet\": [{\"marker\": {\"colorbar\": {\"outlinewidth\": 0, \"ticks\": \"\"}}, \"type\": \"scattercarpet\"}], \"scattergeo\": [{\"marker\": {\"colorbar\": {\"outlinewidth\": 0, \"ticks\": \"\"}}, \"type\": \"scattergeo\"}], \"scattergl\": [{\"marker\": {\"colorbar\": {\"outlinewidth\": 0, \"ticks\": \"\"}}, \"type\": \"scattergl\"}], \"scattermapbox\": [{\"marker\": {\"colorbar\": {\"outlinewidth\": 0, \"ticks\": \"\"}}, \"type\": \"scattermapbox\"}], \"scatterpolar\": [{\"marker\": {\"colorbar\": {\"outlinewidth\": 0, \"ticks\": \"\"}}, \"type\": \"scatterpolar\"}], \"scatterpolargl\": [{\"marker\": {\"colorbar\": {\"outlinewidth\": 0, \"ticks\": \"\"}}, \"type\": \"scatterpolargl\"}], \"scatterternary\": [{\"marker\": {\"colorbar\": {\"outlinewidth\": 0, \"ticks\": \"\"}}, \"type\": \"scatterternary\"}], \"surface\": [{\"colorbar\": {\"outlinewidth\": 0, \"ticks\": \"\"}, \"colorscale\": [[0.0, \"#0d0887\"], [0.1111111111111111, \"#46039f\"], [0.2222222222222222, \"#7201a8\"], [0.3333333333333333, \"#9c179e\"], [0.4444444444444444, \"#bd3786\"], [0.5555555555555556, \"#d8576b\"], [0.6666666666666666, \"#ed7953\"], [0.7777777777777778, \"#fb9f3a\"], [0.8888888888888888, \"#fdca26\"], [1.0, \"#f0f921\"]], \"type\": \"surface\"}], \"table\": [{\"cells\": {\"fill\": {\"color\": \"#EBF0F8\"}, \"line\": {\"color\": \"white\"}}, \"header\": {\"fill\": {\"color\": \"#C8D4E3\"}, \"line\": {\"color\": \"white\"}}, \"type\": \"table\"}]}, \"layout\": {\"annotationdefaults\": {\"arrowcolor\": \"#2a3f5f\", \"arrowhead\": 0, \"arrowwidth\": 1}, \"coloraxis\": {\"colorbar\": {\"outlinewidth\": 0, \"ticks\": \"\"}}, \"colorscale\": {\"diverging\": [[0, \"#8e0152\"], [0.1, \"#c51b7d\"], [0.2, \"#de77ae\"], [0.3, \"#f1b6da\"], [0.4, \"#fde0ef\"], [0.5, \"#f7f7f7\"], [0.6, \"#e6f5d0\"], [0.7, \"#b8e186\"], [0.8, \"#7fbc41\"], [0.9, \"#4d9221\"], [1, \"#276419\"]], \"sequential\": [[0.0, \"#0d0887\"], [0.1111111111111111, \"#46039f\"], [0.2222222222222222, \"#7201a8\"], [0.3333333333333333, \"#9c179e\"], [0.4444444444444444, \"#bd3786\"], [0.5555555555555556, \"#d8576b\"], [0.6666666666666666, \"#ed7953\"], [0.7777777777777778, \"#fb9f3a\"], [0.8888888888888888, \"#fdca26\"], [1.0, \"#f0f921\"]], \"sequentialminus\": [[0.0, \"#0d0887\"], [0.1111111111111111, \"#46039f\"], [0.2222222222222222, \"#7201a8\"], [0.3333333333333333, \"#9c179e\"], [0.4444444444444444, \"#bd3786\"], [0.5555555555555556, \"#d8576b\"], [0.6666666666666666, \"#ed7953\"], [0.7777777777777778, \"#fb9f3a\"], [0.8888888888888888, \"#fdca26\"], [1.0, \"#f0f921\"]]}, \"colorway\": [\"#636efa\", \"#EF553B\", \"#00cc96\", \"#ab63fa\", \"#FFA15A\", \"#19d3f3\", \"#FF6692\", \"#B6E880\", \"#FF97FF\", \"#FECB52\"], \"font\": {\"color\": \"#2a3f5f\"}, \"geo\": {\"bgcolor\": \"white\", \"lakecolor\": \"white\", \"landcolor\": \"#E5ECF6\", \"showlakes\": true, \"showland\": true, \"subunitcolor\": \"white\"}, \"hoverlabel\": {\"align\": \"left\"}, \"hovermode\": \"closest\", \"mapbox\": {\"style\": \"light\"}, \"paper_bgcolor\": \"white\", \"plot_bgcolor\": \"#E5ECF6\", \"polar\": {\"angularaxis\": {\"gridcolor\": \"white\", \"linecolor\": \"white\", \"ticks\": \"\"}, \"bgcolor\": \"#E5ECF6\", \"radialaxis\": {\"gridcolor\": \"white\", \"linecolor\": \"white\", \"ticks\": \"\"}}, \"scene\": {\"xaxis\": {\"backgroundcolor\": \"#E5ECF6\", \"gridcolor\": \"white\", \"gridwidth\": 2, \"linecolor\": \"white\", \"showbackground\": true, \"ticks\": \"\", \"zerolinecolor\": \"white\"}, \"yaxis\": {\"backgroundcolor\": \"#E5ECF6\", \"gridcolor\": \"white\", \"gridwidth\": 2, \"linecolor\": \"white\", \"showbackground\": true, \"ticks\": \"\", \"zerolinecolor\": \"white\"}, \"zaxis\": {\"backgroundcolor\": \"#E5ECF6\", \"gridcolor\": \"white\", \"gridwidth\": 2, \"linecolor\": \"white\", \"showbackground\": true, \"ticks\": \"\", \"zerolinecolor\": \"white\"}}, \"shapedefaults\": {\"line\": {\"color\": \"#2a3f5f\"}}, \"ternary\": {\"aaxis\": {\"gridcolor\": \"white\", \"linecolor\": \"white\", \"ticks\": \"\"}, \"baxis\": {\"gridcolor\": \"white\", \"linecolor\": \"white\", \"ticks\": \"\"}, \"bgcolor\": \"#E5ECF6\", \"caxis\": {\"gridcolor\": \"white\", \"linecolor\": \"white\", \"ticks\": \"\"}}, \"title\": {\"x\": 0.05}, \"xaxis\": {\"automargin\": true, \"gridcolor\": \"white\", \"linecolor\": \"white\", \"ticks\": \"\", \"title\": {\"standoff\": 15}, \"zerolinecolor\": \"white\", \"zerolinewidth\": 2}, \"yaxis\": {\"automargin\": true, \"gridcolor\": \"white\", \"linecolor\": \"white\", \"ticks\": \"\", \"title\": {\"standoff\": 15}, \"zerolinecolor\": \"white\", \"zerolinewidth\": 2}}}},\n",
              "                        {\"responsive\": true}\n",
              "                    ).then(function(){\n",
              "                            \n",
              "var gd = document.getElementById('3cf1cc59-dbec-4be5-903e-abf1fd02696c');\n",
              "var x = new MutationObserver(function (mutations, observer) {{\n",
              "        var display = window.getComputedStyle(gd).display;\n",
              "        if (!display || display === 'none') {{\n",
              "            console.log([gd, 'removed!']);\n",
              "            Plotly.purge(gd);\n",
              "            observer.disconnect();\n",
              "        }}\n",
              "}});\n",
              "\n",
              "// Listen for the removal of the full notebook cells\n",
              "var notebookContainer = gd.closest('#notebook-container');\n",
              "if (notebookContainer) {{\n",
              "    x.observe(notebookContainer, {childList: true});\n",
              "}}\n",
              "\n",
              "// Listen for the clearing of the current output cell\n",
              "var outputEl = gd.closest('.output');\n",
              "if (outputEl) {{\n",
              "    x.observe(outputEl, {childList: true});\n",
              "}}\n",
              "\n",
              "                        })\n",
              "                };\n",
              "                \n",
              "            </script>\n",
              "        </div>\n",
              "</body>\n",
              "</html>"
            ]
          },
          "metadata": {
            "tags": []
          }
        },
        {
          "output_type": "display_data",
          "data": {
            "text/html": [
              "<html>\n",
              "<head><meta charset=\"utf-8\" /></head>\n",
              "<body>\n",
              "    <div>\n",
              "            <script src=\"https://cdnjs.cloudflare.com/ajax/libs/mathjax/2.7.5/MathJax.js?config=TeX-AMS-MML_SVG\"></script><script type=\"text/javascript\">if (window.MathJax) {MathJax.Hub.Config({SVG: {font: \"STIX-Web\"}});}</script>\n",
              "                <script type=\"text/javascript\">window.PlotlyConfig = {MathJaxConfig: 'local'};</script>\n",
              "        <script src=\"https://cdn.plot.ly/plotly-latest.min.js\"></script>    \n",
              "            <div id=\"d3263a3b-5c8c-43d5-8ede-8b17f6ecdc9f\" class=\"plotly-graph-div\" style=\"height:525px; width:100%;\"></div>\n",
              "            <script type=\"text/javascript\">\n",
              "                \n",
              "                    window.PLOTLYENV=window.PLOTLYENV || {};\n",
              "                    \n",
              "                if (document.getElementById(\"d3263a3b-5c8c-43d5-8ede-8b17f6ecdc9f\")) {\n",
              "                    Plotly.newPlot(\n",
              "                        'd3263a3b-5c8c-43d5-8ede-8b17f6ecdc9f',\n",
              "                        [{\"close\": [131.87, 131.79, 130.57, 131.32, 132.19, 131.04, 131.75, 132.38, 132.21, 134.67, 134.47, 133.85, 135.88, 133.82, 133.18, 133.41, 133.57, 133.95, 135.06, 136.2, 135.91, 135.62, 137.44, 138.93, 145.56, 143.32, 142.99, 142.49, 142.43, 140.72, 140.07, 139.54, 143.04, 142.1, 145.1, 147.67, 148.54, 149.98, 148.22, 146.44, 145.31, 146.35, 146.99, 149.63, 149.74, 149.98, 149.9, 151.64, 150.63, 152.37, 152.26, 152.17, 152.25, 154.09, 155.33, 156.43, 157.2, 156.65, 154.41, 153.77, 154.49, 156.16, 156.37, 157.51, 157.48, 157.84, 157.51, 156.07, 155.72, 155.76, 156.87, 158.63, 158.72, 159.1, 158.44, 159.08, 159.35, 158.29, 158.83, 157.67, 158.36, 159.0, 159.53, 157.92, 160.54, 167.34, 169.15, 167.74, 165.54, 163.49, 163.95, 162.26, 162.4, 163.92, 166.48, 163.76, 164.26, 166.25, 167.97, 168.4, 169.41, 170.8, 172.7, 175.54, 175.36, 176.84, 177.43, 179.4, 180.24, 183.93, 182.98, 182.03, 180.96, 181.95, 181.76, 180.57, 178.69, 179.07, 178.72, 178.72, 178.12, 180.1, 179.4], \"high\": [132.46, 132.27, 131.56, 131.72, 132.34, 132.78, 132.52, 132.7, 133.22, 134.88, 134.98, 134.6, 136.86, 135.57, 134.27, 133.62, 135.11, 135.38, 135.62, 136.93, 136.73, 136.18, 138.85, 139.41, 146.18, 146.22, 143.98, 143.3, 143.85, 142.74, 140.72, 140.81, 143.1, 143.27, 145.85, 149.33, 148.57, 150.06, 149.29, 148.31, 147.04, 146.58, 148.38, 149.72, 150.74, 150.07, 150.09, 152.06, 153.04, 152.65, 152.46, 153.51, 152.59, 154.31, 155.96, 156.81, 158.0, 160.01, 156.3, 155.22, 156.0, 157.08, 157.87, 158.38, 158.93, 157.99, 158.41, 157.235, 156.66, 156.62, 157.04, 159.13, 159.66, 159.63, 159.08, 159.9, 159.69, 159.15, 159.5, 159.0, 159.05, 159.87, 160.23, 159.5, 160.93, 168.62, 169.99, 169.69, 165.98, 165.1, 165.67, 163.32, 163.51, 164.06, 167.4, 165.08, 165.04, 166.44, 169.07, 168.8, 169.95, 170.81, 173.23, 176.14, 175.58, 177.0, 178.78, 179.88, 181.93, 184.79, 185.65, 183.52, 182.28, 182.82, 182.61, 182.57, 181.61, 179.17, 179.66, 179.11, 179.94, 180.32, 180.15], \"low\": [131.26, 131.09, 130.44, 129.925, 130.62, 130.72, 131.32, 130.81, 131.7, 132.8, 133.69, 132.55, 134.78, 133.29, 133.03, 131.43, 133.51, 133.33, 134.94, 135.55, 135.86, 134.3, 136.78, 137.44, 136.72, 141.78, 142.23, 142.15, 141.86, 140.65, 139.41, 138.92, 141.74, 141.31, 141.74, 146.39, 146.59, 148.27, 147.2, 146.14, 145.0, 144.615, 146.52, 147.89, 149.03, 149.07, 148.445, 149.2, 150.6, 150.4, 151.27, 151.87, 150.13, 151.14, 154.17, 155.55, 154.48, 154.95, 154.19, 153.06, 153.31, 155.07, 155.97, 157.02, 156.26, 156.565, 156.92, 156.01, 155.17, 155.0, 155.23, 157.81, 157.43, 157.93, 158.17, 158.62, 158.28, 156.73, 158.5, 157.24, 156.87, 158.0, 158.25, 157.29, 157.87, 163.5, 167.46, 167.02, 163.83, 163.25, 163.12, 160.82, 162.32, 162.76, 165.03, 163.7, 164.09, 164.54, 166.35, 167.25, 168.38, 168.76, 170.51, 173.86, 174.05, 175.7, 176.21, 177.66, 179.68, 181.82, 182.98, 181.48, 180.44, 180.75, 181.5, 179.61, 177.95, 177.19, 177.79, 177.99, 177.68, 178.22, 179.16], \"open\": [131.45, 131.28, 131.04, 130.19, 131.58, 131.75, 132.15, 131.38, 132.465, 132.8, 134.71, 134.01, 134.93, 135.5, 133.65, 132.25, 134.38, 133.33, 135.37, 135.75, 136.04, 134.3, 136.78, 137.44, 138.35, 145.83, 143.455, 143.04, 143.18, 141.8, 140.72, 139.1, 141.74, 142.1, 141.74, 146.39, 147.2, 148.9, 149.19, 147.28, 146.81, 145.25, 146.98, 147.89, 149.61, 150.01, 149.1, 149.83, 151.62, 150.95, 152.46, 153.51, 151.03, 151.71, 154.17, 155.57, 155.2, 159.33, 156.23, 153.93, 153.88, 155.16, 156.76, 157.08, 158.58, 157.86, 158.41, 157.14, 155.96, 156.15, 156.2, 157.81, 158.3, 159.22, 159.08, 158.96, 159.39, 159.15, 158.56, 158.36, 157.18, 158.87, 159.81, 159.0, 158.54, 163.63, 167.53, 169.12, 165.59, 164.85, 164.38, 163.12, 163.42, 162.76, 165.03, 164.82, 164.2, 165.34, 166.35, 167.7, 168.51, 169.73, 170.51, 173.92, 174.87, 175.97, 176.75, 177.98, 180.62, 181.82, 184.0, 182.38, 181.5, 181.03, 182.55, 181.38, 181.61, 177.19, 178.61, 179.0, 179.7, 178.31, 179.87], \"type\": \"candlestick\", \"x\": [425, 426, 427, 428, 429, 430, 431, 432, 433, 434, 435, 436, 437, 438, 439, 440, 441, 442, 443, 444, 445, 446, 447, 448, 449, 450, 451, 452, 453, 454, 455, 456, 457, 458, 459, 460, 461, 462, 463, 464, 465, 466, 467, 468, 469, 470, 471, 472, 473, 474, 475, 476, 477, 478, 479, 480, 481, 482, 483, 484, 485, 486, 487, 488, 489, 490, 491, 492, 493, 494, 495, 496, 497, 498, 499, 500, 501, 502, 503, 504, 505, 506, 507, 508, 509, 510, 511, 512, 513, 514, 515, 516, 517, 518, 519, 520, 521, 522, 523, 524, 525, 526, 527, 528, 529, 530, 531, 532, 533, 534, 535, 536, 537, 538, 539, 540, 541, 542, 543, 544, 545, 546, 547]}],\n",
              "                        {\"template\": {\"data\": {\"bar\": [{\"error_x\": {\"color\": \"#2a3f5f\"}, \"error_y\": {\"color\": \"#2a3f5f\"}, \"marker\": {\"line\": {\"color\": \"#E5ECF6\", \"width\": 0.5}}, \"type\": \"bar\"}], \"barpolar\": [{\"marker\": {\"line\": {\"color\": \"#E5ECF6\", \"width\": 0.5}}, \"type\": \"barpolar\"}], \"carpet\": [{\"aaxis\": {\"endlinecolor\": \"#2a3f5f\", \"gridcolor\": \"white\", \"linecolor\": \"white\", \"minorgridcolor\": \"white\", \"startlinecolor\": \"#2a3f5f\"}, \"baxis\": {\"endlinecolor\": \"#2a3f5f\", \"gridcolor\": \"white\", \"linecolor\": \"white\", \"minorgridcolor\": \"white\", \"startlinecolor\": \"#2a3f5f\"}, \"type\": \"carpet\"}], \"choropleth\": [{\"colorbar\": {\"outlinewidth\": 0, \"ticks\": \"\"}, \"type\": \"choropleth\"}], \"contour\": [{\"colorbar\": {\"outlinewidth\": 0, \"ticks\": \"\"}, \"colorscale\": [[0.0, \"#0d0887\"], [0.1111111111111111, \"#46039f\"], [0.2222222222222222, \"#7201a8\"], [0.3333333333333333, \"#9c179e\"], [0.4444444444444444, \"#bd3786\"], [0.5555555555555556, \"#d8576b\"], [0.6666666666666666, \"#ed7953\"], [0.7777777777777778, \"#fb9f3a\"], [0.8888888888888888, \"#fdca26\"], [1.0, \"#f0f921\"]], \"type\": \"contour\"}], \"contourcarpet\": [{\"colorbar\": {\"outlinewidth\": 0, \"ticks\": \"\"}, \"type\": \"contourcarpet\"}], \"heatmap\": [{\"colorbar\": {\"outlinewidth\": 0, \"ticks\": \"\"}, \"colorscale\": [[0.0, \"#0d0887\"], [0.1111111111111111, \"#46039f\"], [0.2222222222222222, \"#7201a8\"], [0.3333333333333333, \"#9c179e\"], [0.4444444444444444, \"#bd3786\"], [0.5555555555555556, \"#d8576b\"], [0.6666666666666666, \"#ed7953\"], [0.7777777777777778, \"#fb9f3a\"], [0.8888888888888888, \"#fdca26\"], [1.0, \"#f0f921\"]], \"type\": \"heatmap\"}], \"heatmapgl\": [{\"colorbar\": {\"outlinewidth\": 0, \"ticks\": \"\"}, \"colorscale\": [[0.0, \"#0d0887\"], [0.1111111111111111, \"#46039f\"], [0.2222222222222222, \"#7201a8\"], [0.3333333333333333, \"#9c179e\"], [0.4444444444444444, \"#bd3786\"], [0.5555555555555556, \"#d8576b\"], [0.6666666666666666, \"#ed7953\"], [0.7777777777777778, \"#fb9f3a\"], [0.8888888888888888, \"#fdca26\"], [1.0, \"#f0f921\"]], \"type\": \"heatmapgl\"}], \"histogram\": [{\"marker\": {\"colorbar\": {\"outlinewidth\": 0, \"ticks\": \"\"}}, \"type\": \"histogram\"}], \"histogram2d\": [{\"colorbar\": {\"outlinewidth\": 0, \"ticks\": \"\"}, \"colorscale\": [[0.0, \"#0d0887\"], [0.1111111111111111, \"#46039f\"], [0.2222222222222222, \"#7201a8\"], [0.3333333333333333, \"#9c179e\"], [0.4444444444444444, \"#bd3786\"], [0.5555555555555556, \"#d8576b\"], [0.6666666666666666, \"#ed7953\"], [0.7777777777777778, \"#fb9f3a\"], [0.8888888888888888, \"#fdca26\"], [1.0, \"#f0f921\"]], \"type\": \"histogram2d\"}], \"histogram2dcontour\": [{\"colorbar\": {\"outlinewidth\": 0, \"ticks\": \"\"}, \"colorscale\": [[0.0, \"#0d0887\"], [0.1111111111111111, \"#46039f\"], [0.2222222222222222, \"#7201a8\"], [0.3333333333333333, \"#9c179e\"], [0.4444444444444444, \"#bd3786\"], [0.5555555555555556, \"#d8576b\"], [0.6666666666666666, \"#ed7953\"], [0.7777777777777778, \"#fb9f3a\"], [0.8888888888888888, \"#fdca26\"], [1.0, \"#f0f921\"]], \"type\": \"histogram2dcontour\"}], \"mesh3d\": [{\"colorbar\": {\"outlinewidth\": 0, \"ticks\": \"\"}, \"type\": \"mesh3d\"}], \"parcoords\": [{\"line\": {\"colorbar\": {\"outlinewidth\": 0, \"ticks\": \"\"}}, \"type\": \"parcoords\"}], \"pie\": [{\"automargin\": true, \"type\": \"pie\"}], \"scatter\": [{\"marker\": {\"colorbar\": {\"outlinewidth\": 0, \"ticks\": \"\"}}, \"type\": \"scatter\"}], \"scatter3d\": [{\"line\": {\"colorbar\": {\"outlinewidth\": 0, \"ticks\": \"\"}}, \"marker\": {\"colorbar\": {\"outlinewidth\": 0, \"ticks\": \"\"}}, \"type\": \"scatter3d\"}], \"scattercarpet\": [{\"marker\": {\"colorbar\": {\"outlinewidth\": 0, \"ticks\": \"\"}}, \"type\": \"scattercarpet\"}], \"scattergeo\": [{\"marker\": {\"colorbar\": {\"outlinewidth\": 0, \"ticks\": \"\"}}, \"type\": \"scattergeo\"}], \"scattergl\": [{\"marker\": {\"colorbar\": {\"outlinewidth\": 0, \"ticks\": \"\"}}, \"type\": \"scattergl\"}], \"scattermapbox\": [{\"marker\": {\"colorbar\": {\"outlinewidth\": 0, \"ticks\": \"\"}}, \"type\": \"scattermapbox\"}], \"scatterpolar\": [{\"marker\": {\"colorbar\": {\"outlinewidth\": 0, \"ticks\": \"\"}}, \"type\": \"scatterpolar\"}], \"scatterpolargl\": [{\"marker\": {\"colorbar\": {\"outlinewidth\": 0, \"ticks\": \"\"}}, \"type\": \"scatterpolargl\"}], \"scatterternary\": [{\"marker\": {\"colorbar\": {\"outlinewidth\": 0, \"ticks\": \"\"}}, \"type\": \"scatterternary\"}], \"surface\": [{\"colorbar\": {\"outlinewidth\": 0, \"ticks\": \"\"}, \"colorscale\": [[0.0, \"#0d0887\"], [0.1111111111111111, \"#46039f\"], [0.2222222222222222, \"#7201a8\"], [0.3333333333333333, \"#9c179e\"], [0.4444444444444444, \"#bd3786\"], [0.5555555555555556, \"#d8576b\"], [0.6666666666666666, \"#ed7953\"], [0.7777777777777778, \"#fb9f3a\"], [0.8888888888888888, \"#fdca26\"], [1.0, \"#f0f921\"]], \"type\": \"surface\"}], \"table\": [{\"cells\": {\"fill\": {\"color\": \"#EBF0F8\"}, \"line\": {\"color\": \"white\"}}, \"header\": {\"fill\": {\"color\": \"#C8D4E3\"}, \"line\": {\"color\": \"white\"}}, \"type\": \"table\"}]}, \"layout\": {\"annotationdefaults\": {\"arrowcolor\": \"#2a3f5f\", \"arrowhead\": 0, \"arrowwidth\": 1}, \"coloraxis\": {\"colorbar\": {\"outlinewidth\": 0, \"ticks\": \"\"}}, \"colorscale\": {\"diverging\": [[0, \"#8e0152\"], [0.1, \"#c51b7d\"], [0.2, \"#de77ae\"], [0.3, \"#f1b6da\"], [0.4, \"#fde0ef\"], [0.5, \"#f7f7f7\"], [0.6, \"#e6f5d0\"], [0.7, \"#b8e186\"], [0.8, \"#7fbc41\"], [0.9, \"#4d9221\"], [1, \"#276419\"]], \"sequential\": [[0.0, \"#0d0887\"], [0.1111111111111111, \"#46039f\"], [0.2222222222222222, \"#7201a8\"], [0.3333333333333333, \"#9c179e\"], [0.4444444444444444, \"#bd3786\"], [0.5555555555555556, \"#d8576b\"], [0.6666666666666666, \"#ed7953\"], [0.7777777777777778, \"#fb9f3a\"], [0.8888888888888888, \"#fdca26\"], [1.0, \"#f0f921\"]], \"sequentialminus\": [[0.0, \"#0d0887\"], [0.1111111111111111, \"#46039f\"], [0.2222222222222222, \"#7201a8\"], [0.3333333333333333, \"#9c179e\"], [0.4444444444444444, \"#bd3786\"], [0.5555555555555556, \"#d8576b\"], [0.6666666666666666, \"#ed7953\"], [0.7777777777777778, \"#fb9f3a\"], [0.8888888888888888, \"#fdca26\"], [1.0, \"#f0f921\"]]}, \"colorway\": [\"#636efa\", \"#EF553B\", \"#00cc96\", \"#ab63fa\", \"#FFA15A\", \"#19d3f3\", \"#FF6692\", \"#B6E880\", \"#FF97FF\", \"#FECB52\"], \"font\": {\"color\": \"#2a3f5f\"}, \"geo\": {\"bgcolor\": \"white\", \"lakecolor\": \"white\", \"landcolor\": \"#E5ECF6\", \"showlakes\": true, \"showland\": true, \"subunitcolor\": \"white\"}, \"hoverlabel\": {\"align\": \"left\"}, \"hovermode\": \"closest\", \"mapbox\": {\"style\": \"light\"}, \"paper_bgcolor\": \"white\", \"plot_bgcolor\": \"#E5ECF6\", \"polar\": {\"angularaxis\": {\"gridcolor\": \"white\", \"linecolor\": \"white\", \"ticks\": \"\"}, \"bgcolor\": \"#E5ECF6\", \"radialaxis\": {\"gridcolor\": \"white\", \"linecolor\": \"white\", \"ticks\": \"\"}}, \"scene\": {\"xaxis\": {\"backgroundcolor\": \"#E5ECF6\", \"gridcolor\": \"white\", \"gridwidth\": 2, \"linecolor\": \"white\", \"showbackground\": true, \"ticks\": \"\", \"zerolinecolor\": \"white\"}, \"yaxis\": {\"backgroundcolor\": \"#E5ECF6\", \"gridcolor\": \"white\", \"gridwidth\": 2, \"linecolor\": \"white\", \"showbackground\": true, \"ticks\": \"\", \"zerolinecolor\": \"white\"}, \"zaxis\": {\"backgroundcolor\": \"#E5ECF6\", \"gridcolor\": \"white\", \"gridwidth\": 2, \"linecolor\": \"white\", \"showbackground\": true, \"ticks\": \"\", \"zerolinecolor\": \"white\"}}, \"shapedefaults\": {\"line\": {\"color\": \"#2a3f5f\"}}, \"ternary\": {\"aaxis\": {\"gridcolor\": \"white\", \"linecolor\": \"white\", \"ticks\": \"\"}, \"baxis\": {\"gridcolor\": \"white\", \"linecolor\": \"white\", \"ticks\": \"\"}, \"bgcolor\": \"#E5ECF6\", \"caxis\": {\"gridcolor\": \"white\", \"linecolor\": \"white\", \"ticks\": \"\"}}, \"title\": {\"x\": 0.05}, \"xaxis\": {\"automargin\": true, \"gridcolor\": \"white\", \"linecolor\": \"white\", \"ticks\": \"\", \"title\": {\"standoff\": 15}, \"zerolinecolor\": \"white\", \"zerolinewidth\": 2}, \"yaxis\": {\"automargin\": true, \"gridcolor\": \"white\", \"linecolor\": \"white\", \"ticks\": \"\", \"title\": {\"standoff\": 15}, \"zerolinecolor\": \"white\", \"zerolinewidth\": 2}}}},\n",
              "                        {\"responsive\": true}\n",
              "                    ).then(function(){\n",
              "                            \n",
              "var gd = document.getElementById('d3263a3b-5c8c-43d5-8ede-8b17f6ecdc9f');\n",
              "var x = new MutationObserver(function (mutations, observer) {{\n",
              "        var display = window.getComputedStyle(gd).display;\n",
              "        if (!display || display === 'none') {{\n",
              "            console.log([gd, 'removed!']);\n",
              "            Plotly.purge(gd);\n",
              "            observer.disconnect();\n",
              "        }}\n",
              "}});\n",
              "\n",
              "// Listen for the removal of the full notebook cells\n",
              "var notebookContainer = gd.closest('#notebook-container');\n",
              "if (notebookContainer) {{\n",
              "    x.observe(notebookContainer, {childList: true});\n",
              "}}\n",
              "\n",
              "// Listen for the clearing of the current output cell\n",
              "var outputEl = gd.closest('.output');\n",
              "if (outputEl) {{\n",
              "    x.observe(outputEl, {childList: true});\n",
              "}}\n",
              "\n",
              "                        })\n",
              "                };\n",
              "                \n",
              "            </script>\n",
              "        </div>\n",
              "</body>\n",
              "</html>"
            ]
          },
          "metadata": {
            "tags": []
          }
        },
        {
          "output_type": "display_data",
          "data": {
            "text/html": [
              "<html>\n",
              "<head><meta charset=\"utf-8\" /></head>\n",
              "<body>\n",
              "    <div>\n",
              "            <script src=\"https://cdnjs.cloudflare.com/ajax/libs/mathjax/2.7.5/MathJax.js?config=TeX-AMS-MML_SVG\"></script><script type=\"text/javascript\">if (window.MathJax) {MathJax.Hub.Config({SVG: {font: \"STIX-Web\"}});}</script>\n",
              "                <script type=\"text/javascript\">window.PlotlyConfig = {MathJaxConfig: 'local'};</script>\n",
              "        <script src=\"https://cdn.plot.ly/plotly-latest.min.js\"></script>    \n",
              "            <div id=\"4a9925a5-c293-45ab-a7fd-15bb44607891\" class=\"plotly-graph-div\" style=\"height:525px; width:100%;\"></div>\n",
              "            <script type=\"text/javascript\">\n",
              "                \n",
              "                    window.PLOTLYENV=window.PLOTLYENV || {};\n",
              "                    \n",
              "                if (document.getElementById(\"4a9925a5-c293-45ab-a7fd-15bb44607891\")) {\n",
              "                    Plotly.newPlot(\n",
              "                        '4a9925a5-c293-45ab-a7fd-15bb44607891',\n",
              "                        [{\"close\": [176.91, 176.72, 178.755, 177.09, 177.36, 178.86, 177.48, 178.45, 176.06, 175.69, 179.02, 177.86, 178.42, 179.35, 180.38, 182.09, 183.47, 181.74, 183.23, 184.84, 182.46, 183.43, 183.39, 183.07, 185.02, 186.01, 186.98, 183.13, 183.94, 183.22, 182.44, 182.7, 178.83], \"high\": [177.9, 177.6, 178.785, 180.17, 178.22, 179.085, 179.94, 178.59, 178.11, 176.78, 179.05, 179.96, 179.89, 179.78, 180.93, 182.45, 183.82, 182.94, 183.74, 184.92, 184.39, 183.9, 183.67, 184.23, 185.02, 186.37, 187.2, 185.61, 184.27, 183.92, 184.02, 183.11, 181.42], \"low\": [176.87, 175.55, 176.98, 176.9, 177.14, 177.26, 177.48, 176.96, 175.94, 175.65, 176.12, 177.13, 178.17, 178.4, 179.58, 181.65, 182.63, 180.13, 182.6, 183.06, 181.8, 182.56, 182.27, 182.37, 183.585, 185.01, 186.32, 178.3, 182.2, 182.66, 182.3, 182.07, 178.71], \"open\": [177.77, 177.0, 176.98, 179.15, 177.85, 178.47, 179.07, 177.4, 178.1, 176.34, 176.12, 178.6, 178.5, 178.73, 179.58, 181.83, 182.71, 182.59, 182.6, 183.37, 184.39, 182.84, 183.48, 183.76, 183.7, 185.35, 186.32, 185.09, 182.84, 183.85, 183.42, 183.07, 181.39], \"type\": \"candlestick\", \"x\": [556, 557, 558, 559, 560, 561, 562, 563, 564, 565, 566, 567, 568, 569, 570, 571, 572, 573, 574, 575, 576, 577, 578, 579, 580, 581, 582, 583, 584, 585, 586, 587, 588]}],\n",
              "                        {\"template\": {\"data\": {\"bar\": [{\"error_x\": {\"color\": \"#2a3f5f\"}, \"error_y\": {\"color\": \"#2a3f5f\"}, \"marker\": {\"line\": {\"color\": \"#E5ECF6\", \"width\": 0.5}}, \"type\": \"bar\"}], \"barpolar\": [{\"marker\": {\"line\": {\"color\": \"#E5ECF6\", \"width\": 0.5}}, \"type\": \"barpolar\"}], \"carpet\": [{\"aaxis\": {\"endlinecolor\": \"#2a3f5f\", \"gridcolor\": \"white\", \"linecolor\": \"white\", \"minorgridcolor\": \"white\", \"startlinecolor\": \"#2a3f5f\"}, \"baxis\": {\"endlinecolor\": \"#2a3f5f\", \"gridcolor\": \"white\", \"linecolor\": \"white\", \"minorgridcolor\": \"white\", \"startlinecolor\": \"#2a3f5f\"}, \"type\": \"carpet\"}], \"choropleth\": [{\"colorbar\": {\"outlinewidth\": 0, \"ticks\": \"\"}, \"type\": \"choropleth\"}], \"contour\": [{\"colorbar\": {\"outlinewidth\": 0, \"ticks\": \"\"}, \"colorscale\": [[0.0, \"#0d0887\"], [0.1111111111111111, \"#46039f\"], [0.2222222222222222, \"#7201a8\"], [0.3333333333333333, \"#9c179e\"], [0.4444444444444444, \"#bd3786\"], [0.5555555555555556, \"#d8576b\"], [0.6666666666666666, \"#ed7953\"], [0.7777777777777778, \"#fb9f3a\"], [0.8888888888888888, \"#fdca26\"], [1.0, \"#f0f921\"]], \"type\": \"contour\"}], \"contourcarpet\": [{\"colorbar\": {\"outlinewidth\": 0, \"ticks\": \"\"}, \"type\": \"contourcarpet\"}], \"heatmap\": [{\"colorbar\": {\"outlinewidth\": 0, \"ticks\": \"\"}, \"colorscale\": [[0.0, \"#0d0887\"], [0.1111111111111111, \"#46039f\"], [0.2222222222222222, \"#7201a8\"], [0.3333333333333333, \"#9c179e\"], [0.4444444444444444, \"#bd3786\"], [0.5555555555555556, \"#d8576b\"], [0.6666666666666666, \"#ed7953\"], [0.7777777777777778, \"#fb9f3a\"], [0.8888888888888888, \"#fdca26\"], [1.0, \"#f0f921\"]], \"type\": \"heatmap\"}], \"heatmapgl\": [{\"colorbar\": {\"outlinewidth\": 0, \"ticks\": \"\"}, \"colorscale\": [[0.0, \"#0d0887\"], [0.1111111111111111, \"#46039f\"], [0.2222222222222222, \"#7201a8\"], [0.3333333333333333, \"#9c179e\"], [0.4444444444444444, \"#bd3786\"], [0.5555555555555556, \"#d8576b\"], [0.6666666666666666, \"#ed7953\"], [0.7777777777777778, \"#fb9f3a\"], [0.8888888888888888, \"#fdca26\"], [1.0, \"#f0f921\"]], \"type\": \"heatmapgl\"}], \"histogram\": [{\"marker\": {\"colorbar\": {\"outlinewidth\": 0, \"ticks\": \"\"}}, \"type\": \"histogram\"}], \"histogram2d\": [{\"colorbar\": {\"outlinewidth\": 0, \"ticks\": \"\"}, \"colorscale\": [[0.0, \"#0d0887\"], [0.1111111111111111, \"#46039f\"], [0.2222222222222222, \"#7201a8\"], [0.3333333333333333, \"#9c179e\"], [0.4444444444444444, \"#bd3786\"], [0.5555555555555556, \"#d8576b\"], [0.6666666666666666, \"#ed7953\"], [0.7777777777777778, \"#fb9f3a\"], [0.8888888888888888, \"#fdca26\"], [1.0, \"#f0f921\"]], \"type\": \"histogram2d\"}], \"histogram2dcontour\": [{\"colorbar\": {\"outlinewidth\": 0, \"ticks\": \"\"}, \"colorscale\": [[0.0, \"#0d0887\"], [0.1111111111111111, \"#46039f\"], [0.2222222222222222, \"#7201a8\"], [0.3333333333333333, \"#9c179e\"], [0.4444444444444444, \"#bd3786\"], [0.5555555555555556, \"#d8576b\"], [0.6666666666666666, \"#ed7953\"], [0.7777777777777778, \"#fb9f3a\"], [0.8888888888888888, \"#fdca26\"], [1.0, \"#f0f921\"]], \"type\": \"histogram2dcontour\"}], \"mesh3d\": [{\"colorbar\": {\"outlinewidth\": 0, \"ticks\": \"\"}, \"type\": \"mesh3d\"}], \"parcoords\": [{\"line\": {\"colorbar\": {\"outlinewidth\": 0, \"ticks\": \"\"}}, \"type\": \"parcoords\"}], \"pie\": [{\"automargin\": true, \"type\": \"pie\"}], \"scatter\": [{\"marker\": {\"colorbar\": {\"outlinewidth\": 0, \"ticks\": \"\"}}, \"type\": \"scatter\"}], \"scatter3d\": [{\"line\": {\"colorbar\": {\"outlinewidth\": 0, \"ticks\": \"\"}}, \"marker\": {\"colorbar\": {\"outlinewidth\": 0, \"ticks\": \"\"}}, \"type\": \"scatter3d\"}], \"scattercarpet\": [{\"marker\": {\"colorbar\": {\"outlinewidth\": 0, \"ticks\": \"\"}}, \"type\": \"scattercarpet\"}], \"scattergeo\": [{\"marker\": {\"colorbar\": {\"outlinewidth\": 0, \"ticks\": \"\"}}, \"type\": \"scattergeo\"}], \"scattergl\": [{\"marker\": {\"colorbar\": {\"outlinewidth\": 0, \"ticks\": \"\"}}, \"type\": \"scattergl\"}], \"scattermapbox\": [{\"marker\": {\"colorbar\": {\"outlinewidth\": 0, \"ticks\": \"\"}}, \"type\": \"scattermapbox\"}], \"scatterpolar\": [{\"marker\": {\"colorbar\": {\"outlinewidth\": 0, \"ticks\": \"\"}}, \"type\": \"scatterpolar\"}], \"scatterpolargl\": [{\"marker\": {\"colorbar\": {\"outlinewidth\": 0, \"ticks\": \"\"}}, \"type\": \"scatterpolargl\"}], \"scatterternary\": [{\"marker\": {\"colorbar\": {\"outlinewidth\": 0, \"ticks\": \"\"}}, \"type\": \"scatterternary\"}], \"surface\": [{\"colorbar\": {\"outlinewidth\": 0, \"ticks\": \"\"}, \"colorscale\": [[0.0, \"#0d0887\"], [0.1111111111111111, \"#46039f\"], [0.2222222222222222, \"#7201a8\"], [0.3333333333333333, \"#9c179e\"], [0.4444444444444444, \"#bd3786\"], [0.5555555555555556, \"#d8576b\"], [0.6666666666666666, \"#ed7953\"], [0.7777777777777778, \"#fb9f3a\"], [0.8888888888888888, \"#fdca26\"], [1.0, \"#f0f921\"]], \"type\": \"surface\"}], \"table\": [{\"cells\": {\"fill\": {\"color\": \"#EBF0F8\"}, \"line\": {\"color\": \"white\"}}, \"header\": {\"fill\": {\"color\": \"#C8D4E3\"}, \"line\": {\"color\": \"white\"}}, \"type\": \"table\"}]}, \"layout\": {\"annotationdefaults\": {\"arrowcolor\": \"#2a3f5f\", \"arrowhead\": 0, \"arrowwidth\": 1}, \"coloraxis\": {\"colorbar\": {\"outlinewidth\": 0, \"ticks\": \"\"}}, \"colorscale\": {\"diverging\": [[0, \"#8e0152\"], [0.1, \"#c51b7d\"], [0.2, \"#de77ae\"], [0.3, \"#f1b6da\"], [0.4, \"#fde0ef\"], [0.5, \"#f7f7f7\"], [0.6, \"#e6f5d0\"], [0.7, \"#b8e186\"], [0.8, \"#7fbc41\"], [0.9, \"#4d9221\"], [1, \"#276419\"]], \"sequential\": [[0.0, \"#0d0887\"], [0.1111111111111111, \"#46039f\"], [0.2222222222222222, \"#7201a8\"], [0.3333333333333333, \"#9c179e\"], [0.4444444444444444, \"#bd3786\"], [0.5555555555555556, \"#d8576b\"], [0.6666666666666666, \"#ed7953\"], [0.7777777777777778, \"#fb9f3a\"], [0.8888888888888888, \"#fdca26\"], [1.0, \"#f0f921\"]], \"sequentialminus\": [[0.0, \"#0d0887\"], [0.1111111111111111, \"#46039f\"], [0.2222222222222222, \"#7201a8\"], [0.3333333333333333, \"#9c179e\"], [0.4444444444444444, \"#bd3786\"], [0.5555555555555556, \"#d8576b\"], [0.6666666666666666, \"#ed7953\"], [0.7777777777777778, \"#fb9f3a\"], [0.8888888888888888, \"#fdca26\"], [1.0, \"#f0f921\"]]}, \"colorway\": [\"#636efa\", \"#EF553B\", \"#00cc96\", \"#ab63fa\", \"#FFA15A\", \"#19d3f3\", \"#FF6692\", \"#B6E880\", \"#FF97FF\", \"#FECB52\"], \"font\": {\"color\": \"#2a3f5f\"}, \"geo\": {\"bgcolor\": \"white\", \"lakecolor\": \"white\", \"landcolor\": \"#E5ECF6\", \"showlakes\": true, \"showland\": true, \"subunitcolor\": \"white\"}, \"hoverlabel\": {\"align\": \"left\"}, \"hovermode\": \"closest\", \"mapbox\": {\"style\": \"light\"}, \"paper_bgcolor\": \"white\", \"plot_bgcolor\": \"#E5ECF6\", \"polar\": {\"angularaxis\": {\"gridcolor\": \"white\", \"linecolor\": \"white\", \"ticks\": \"\"}, \"bgcolor\": \"#E5ECF6\", \"radialaxis\": {\"gridcolor\": \"white\", \"linecolor\": \"white\", \"ticks\": \"\"}}, \"scene\": {\"xaxis\": {\"backgroundcolor\": \"#E5ECF6\", \"gridcolor\": \"white\", \"gridwidth\": 2, \"linecolor\": \"white\", \"showbackground\": true, \"ticks\": \"\", \"zerolinecolor\": \"white\"}, \"yaxis\": {\"backgroundcolor\": \"#E5ECF6\", \"gridcolor\": \"white\", \"gridwidth\": 2, \"linecolor\": \"white\", \"showbackground\": true, \"ticks\": \"\", \"zerolinecolor\": \"white\"}, \"zaxis\": {\"backgroundcolor\": \"#E5ECF6\", \"gridcolor\": \"white\", \"gridwidth\": 2, \"linecolor\": \"white\", \"showbackground\": true, \"ticks\": \"\", \"zerolinecolor\": \"white\"}}, \"shapedefaults\": {\"line\": {\"color\": \"#2a3f5f\"}}, \"ternary\": {\"aaxis\": {\"gridcolor\": \"white\", \"linecolor\": \"white\", \"ticks\": \"\"}, \"baxis\": {\"gridcolor\": \"white\", \"linecolor\": \"white\", \"ticks\": \"\"}, \"bgcolor\": \"#E5ECF6\", \"caxis\": {\"gridcolor\": \"white\", \"linecolor\": \"white\", \"ticks\": \"\"}}, \"title\": {\"x\": 0.05}, \"xaxis\": {\"automargin\": true, \"gridcolor\": \"white\", \"linecolor\": \"white\", \"ticks\": \"\", \"title\": {\"standoff\": 15}, \"zerolinecolor\": \"white\", \"zerolinewidth\": 2}, \"yaxis\": {\"automargin\": true, \"gridcolor\": \"white\", \"linecolor\": \"white\", \"ticks\": \"\", \"title\": {\"standoff\": 15}, \"zerolinecolor\": \"white\", \"zerolinewidth\": 2}}}},\n",
              "                        {\"responsive\": true}\n",
              "                    ).then(function(){\n",
              "                            \n",
              "var gd = document.getElementById('4a9925a5-c293-45ab-a7fd-15bb44607891');\n",
              "var x = new MutationObserver(function (mutations, observer) {{\n",
              "        var display = window.getComputedStyle(gd).display;\n",
              "        if (!display || display === 'none') {{\n",
              "            console.log([gd, 'removed!']);\n",
              "            Plotly.purge(gd);\n",
              "            observer.disconnect();\n",
              "        }}\n",
              "}});\n",
              "\n",
              "// Listen for the removal of the full notebook cells\n",
              "var notebookContainer = gd.closest('#notebook-container');\n",
              "if (notebookContainer) {{\n",
              "    x.observe(notebookContainer, {childList: true});\n",
              "}}\n",
              "\n",
              "// Listen for the clearing of the current output cell\n",
              "var outputEl = gd.closest('.output');\n",
              "if (outputEl) {{\n",
              "    x.observe(outputEl, {childList: true});\n",
              "}}\n",
              "\n",
              "                        })\n",
              "                };\n",
              "                \n",
              "            </script>\n",
              "        </div>\n",
              "</body>\n",
              "</html>"
            ]
          },
          "metadata": {
            "tags": []
          }
        },
        {
          "output_type": "display_data",
          "data": {
            "text/html": [
              "<html>\n",
              "<head><meta charset=\"utf-8\" /></head>\n",
              "<body>\n",
              "    <div>\n",
              "            <script src=\"https://cdnjs.cloudflare.com/ajax/libs/mathjax/2.7.5/MathJax.js?config=TeX-AMS-MML_SVG\"></script><script type=\"text/javascript\">if (window.MathJax) {MathJax.Hub.Config({SVG: {font: \"STIX-Web\"}});}</script>\n",
              "                <script type=\"text/javascript\">window.PlotlyConfig = {MathJaxConfig: 'local'};</script>\n",
              "        <script src=\"https://cdn.plot.ly/plotly-latest.min.js\"></script>    \n",
              "            <div id=\"0aeaee39-d4d7-440a-a7bb-2b8b5720ce0b\" class=\"plotly-graph-div\" style=\"height:525px; width:100%;\"></div>\n",
              "            <script type=\"text/javascript\">\n",
              "                \n",
              "                    window.PLOTLYENV=window.PLOTLYENV || {};\n",
              "                    \n",
              "                if (document.getElementById(\"0aeaee39-d4d7-440a-a7bb-2b8b5720ce0b\")) {\n",
              "                    Plotly.newPlot(\n",
              "                        '0aeaee39-d4d7-440a-a7bb-2b8b5720ce0b',\n",
              "                        [{\"close\": [183.62, 183.52, 185.24, 187.07, 186.6, 186.94, 187.79, 187.32, 190.15, 188.93, 186.75, 188.05, 189.94, 190.0, 190.145, 191.14, 192.42, 195.39, 196.42, 199.0, 198.32, 199.31, 199.5, 202.24, 200.0, 199.01, 199.56, 197.49, 197.75, 198.51, 201.94, 201.58, 202.42, 204.08, 206.385, 206.4, 206.3, 208.55, 208.99, 208.24, 210.87, 210.41, 212.14, 212.34, 212.5, 233.47, 240.97, 241.52, 242.52, 239.34, 237.94, 238.18, 237.29, 240.14, 239.47, 234.36, 232.9, 234.95, 236.93, 239.21, 237.53, 235.53], \"high\": [185.32, 184.26, 185.4, 187.4, 187.38, 187.41, 188.26, 187.86, 191.66, 190.65, 188.84, 188.53, 191.04, 190.99, 190.53, 191.52, 193.33, 195.54, 197.94, 199.4, 201.23, 199.56, 200.38, 202.33, 204.38, 200.82, 200.9, 199.5, 199.41, 199.42, 202.13, 202.48, 203.22, 204.54, 206.65, 208.6, 206.91, 208.71, 209.7, 209.0, 210.93, 211.21, 212.18, 212.63, 213.79, 233.97, 242.66, 241.99, 246.42, 243.925, 241.51, 239.53, 239.47, 241.37, 240.52, 238.04, 236.15, 235.4, 237.47, 239.63, 240.25, 237.56], \"low\": [182.56, 182.98, 183.5, 185.59, 186.36, 186.21, 186.72, 184.65, 187.65, 188.82, 186.695, 186.45, 187.76, 189.27, 188.11, 189.58, 190.95, 191.37, 195.81, 197.06, 198.32, 197.62, 199.21, 198.94, 199.95, 198.92, 199.31, 196.5, 197.4, 197.77, 198.975, 200.79, 201.44, 202.34, 204.12, 206.33, 205.44, 206.93, 208.83, 207.64, 209.01, 209.96, 209.55, 211.5, 211.95, 223.26, 236.99, 238.59, 242.33, 239.155, 237.9, 236.07, 236.42, 237.55, 238.96, 234.1, 231.97, 231.0, 235.76, 236.18, 237.49, 235.31], \"open\": [183.75, 184.17, 183.5, 185.59, 187.12, 186.73, 187.39, 187.38, 187.82, 190.04, 188.46, 186.69, 188.01, 189.99, 190.3, 190.05, 191.0, 191.43, 196.08, 197.5, 198.76, 199.56, 199.26, 198.94, 202.72, 199.45, 199.82, 199.47, 198.46, 198.09, 199.43, 201.64, 202.0, 202.45, 204.12, 207.07, 206.68, 206.93, 208.87, 209.0, 209.16, 211.11, 210.03, 211.785, 213.22, 223.5, 237.13, 241.03, 242.33, 243.33, 238.78, 237.45, 238.59, 237.56, 239.9, 238.04, 234.0, 232.77, 236.02, 236.55, 239.69, 236.89], \"type\": \"candlestick\", \"x\": [591, 592, 593, 594, 595, 596, 597, 598, 599, 600, 601, 602, 603, 604, 605, 606, 607, 608, 609, 610, 611, 612, 613, 614, 615, 616, 617, 618, 619, 620, 621, 622, 623, 624, 625, 626, 627, 628, 629, 630, 631, 632, 633, 634, 635, 636, 637, 638, 639, 640, 641, 642, 643, 644, 645, 646, 647, 648, 649, 650, 651, 652]}],\n",
              "                        {\"template\": {\"data\": {\"bar\": [{\"error_x\": {\"color\": \"#2a3f5f\"}, \"error_y\": {\"color\": \"#2a3f5f\"}, \"marker\": {\"line\": {\"color\": \"#E5ECF6\", \"width\": 0.5}}, \"type\": \"bar\"}], \"barpolar\": [{\"marker\": {\"line\": {\"color\": \"#E5ECF6\", \"width\": 0.5}}, \"type\": \"barpolar\"}], \"carpet\": [{\"aaxis\": {\"endlinecolor\": \"#2a3f5f\", \"gridcolor\": \"white\", \"linecolor\": \"white\", \"minorgridcolor\": \"white\", \"startlinecolor\": \"#2a3f5f\"}, \"baxis\": {\"endlinecolor\": \"#2a3f5f\", \"gridcolor\": \"white\", \"linecolor\": \"white\", \"minorgridcolor\": \"white\", \"startlinecolor\": \"#2a3f5f\"}, \"type\": \"carpet\"}], \"choropleth\": [{\"colorbar\": {\"outlinewidth\": 0, \"ticks\": \"\"}, \"type\": \"choropleth\"}], \"contour\": [{\"colorbar\": {\"outlinewidth\": 0, \"ticks\": \"\"}, \"colorscale\": [[0.0, \"#0d0887\"], [0.1111111111111111, \"#46039f\"], [0.2222222222222222, \"#7201a8\"], [0.3333333333333333, \"#9c179e\"], [0.4444444444444444, \"#bd3786\"], [0.5555555555555556, \"#d8576b\"], [0.6666666666666666, \"#ed7953\"], [0.7777777777777778, \"#fb9f3a\"], [0.8888888888888888, \"#fdca26\"], [1.0, \"#f0f921\"]], \"type\": \"contour\"}], \"contourcarpet\": [{\"colorbar\": {\"outlinewidth\": 0, \"ticks\": \"\"}, \"type\": \"contourcarpet\"}], \"heatmap\": [{\"colorbar\": {\"outlinewidth\": 0, \"ticks\": \"\"}, \"colorscale\": [[0.0, \"#0d0887\"], [0.1111111111111111, \"#46039f\"], [0.2222222222222222, \"#7201a8\"], [0.3333333333333333, \"#9c179e\"], [0.4444444444444444, \"#bd3786\"], [0.5555555555555556, \"#d8576b\"], [0.6666666666666666, \"#ed7953\"], [0.7777777777777778, \"#fb9f3a\"], [0.8888888888888888, \"#fdca26\"], [1.0, \"#f0f921\"]], \"type\": \"heatmap\"}], \"heatmapgl\": [{\"colorbar\": {\"outlinewidth\": 0, \"ticks\": \"\"}, \"colorscale\": [[0.0, \"#0d0887\"], [0.1111111111111111, \"#46039f\"], [0.2222222222222222, \"#7201a8\"], [0.3333333333333333, \"#9c179e\"], [0.4444444444444444, \"#bd3786\"], [0.5555555555555556, \"#d8576b\"], [0.6666666666666666, \"#ed7953\"], [0.7777777777777778, \"#fb9f3a\"], [0.8888888888888888, \"#fdca26\"], [1.0, \"#f0f921\"]], \"type\": \"heatmapgl\"}], \"histogram\": [{\"marker\": {\"colorbar\": {\"outlinewidth\": 0, \"ticks\": \"\"}}, \"type\": \"histogram\"}], \"histogram2d\": [{\"colorbar\": {\"outlinewidth\": 0, \"ticks\": \"\"}, \"colorscale\": [[0.0, \"#0d0887\"], [0.1111111111111111, \"#46039f\"], [0.2222222222222222, \"#7201a8\"], [0.3333333333333333, \"#9c179e\"], [0.4444444444444444, \"#bd3786\"], [0.5555555555555556, \"#d8576b\"], [0.6666666666666666, \"#ed7953\"], [0.7777777777777778, \"#fb9f3a\"], [0.8888888888888888, \"#fdca26\"], [1.0, \"#f0f921\"]], \"type\": \"histogram2d\"}], \"histogram2dcontour\": [{\"colorbar\": {\"outlinewidth\": 0, \"ticks\": \"\"}, \"colorscale\": [[0.0, \"#0d0887\"], [0.1111111111111111, \"#46039f\"], [0.2222222222222222, \"#7201a8\"], [0.3333333333333333, \"#9c179e\"], [0.4444444444444444, \"#bd3786\"], [0.5555555555555556, \"#d8576b\"], [0.6666666666666666, \"#ed7953\"], [0.7777777777777778, \"#fb9f3a\"], [0.8888888888888888, \"#fdca26\"], [1.0, \"#f0f921\"]], \"type\": \"histogram2dcontour\"}], \"mesh3d\": [{\"colorbar\": {\"outlinewidth\": 0, \"ticks\": \"\"}, \"type\": \"mesh3d\"}], \"parcoords\": [{\"line\": {\"colorbar\": {\"outlinewidth\": 0, \"ticks\": \"\"}}, \"type\": \"parcoords\"}], \"pie\": [{\"automargin\": true, \"type\": \"pie\"}], \"scatter\": [{\"marker\": {\"colorbar\": {\"outlinewidth\": 0, \"ticks\": \"\"}}, \"type\": \"scatter\"}], \"scatter3d\": [{\"line\": {\"colorbar\": {\"outlinewidth\": 0, \"ticks\": \"\"}}, \"marker\": {\"colorbar\": {\"outlinewidth\": 0, \"ticks\": \"\"}}, \"type\": \"scatter3d\"}], \"scattercarpet\": [{\"marker\": {\"colorbar\": {\"outlinewidth\": 0, \"ticks\": \"\"}}, \"type\": \"scattercarpet\"}], \"scattergeo\": [{\"marker\": {\"colorbar\": {\"outlinewidth\": 0, \"ticks\": \"\"}}, \"type\": \"scattergeo\"}], \"scattergl\": [{\"marker\": {\"colorbar\": {\"outlinewidth\": 0, \"ticks\": \"\"}}, \"type\": \"scattergl\"}], \"scattermapbox\": [{\"marker\": {\"colorbar\": {\"outlinewidth\": 0, \"ticks\": \"\"}}, \"type\": \"scattermapbox\"}], \"scatterpolar\": [{\"marker\": {\"colorbar\": {\"outlinewidth\": 0, \"ticks\": \"\"}}, \"type\": \"scatterpolar\"}], \"scatterpolargl\": [{\"marker\": {\"colorbar\": {\"outlinewidth\": 0, \"ticks\": \"\"}}, \"type\": \"scatterpolargl\"}], \"scatterternary\": [{\"marker\": {\"colorbar\": {\"outlinewidth\": 0, \"ticks\": \"\"}}, \"type\": \"scatterternary\"}], \"surface\": [{\"colorbar\": {\"outlinewidth\": 0, \"ticks\": \"\"}, \"colorscale\": [[0.0, \"#0d0887\"], [0.1111111111111111, \"#46039f\"], [0.2222222222222222, \"#7201a8\"], [0.3333333333333333, \"#9c179e\"], [0.4444444444444444, \"#bd3786\"], [0.5555555555555556, \"#d8576b\"], [0.6666666666666666, \"#ed7953\"], [0.7777777777777778, \"#fb9f3a\"], [0.8888888888888888, \"#fdca26\"], [1.0, \"#f0f921\"]], \"type\": \"surface\"}], \"table\": [{\"cells\": {\"fill\": {\"color\": \"#EBF0F8\"}, \"line\": {\"color\": \"white\"}}, \"header\": {\"fill\": {\"color\": \"#C8D4E3\"}, \"line\": {\"color\": \"white\"}}, \"type\": \"table\"}]}, \"layout\": {\"annotationdefaults\": {\"arrowcolor\": \"#2a3f5f\", \"arrowhead\": 0, \"arrowwidth\": 1}, \"coloraxis\": {\"colorbar\": {\"outlinewidth\": 0, \"ticks\": \"\"}}, \"colorscale\": {\"diverging\": [[0, \"#8e0152\"], [0.1, \"#c51b7d\"], [0.2, \"#de77ae\"], [0.3, \"#f1b6da\"], [0.4, \"#fde0ef\"], [0.5, \"#f7f7f7\"], [0.6, \"#e6f5d0\"], [0.7, \"#b8e186\"], [0.8, \"#7fbc41\"], [0.9, \"#4d9221\"], [1, \"#276419\"]], \"sequential\": [[0.0, \"#0d0887\"], [0.1111111111111111, \"#46039f\"], [0.2222222222222222, \"#7201a8\"], [0.3333333333333333, \"#9c179e\"], [0.4444444444444444, \"#bd3786\"], [0.5555555555555556, \"#d8576b\"], [0.6666666666666666, \"#ed7953\"], [0.7777777777777778, \"#fb9f3a\"], [0.8888888888888888, \"#fdca26\"], [1.0, \"#f0f921\"]], \"sequentialminus\": [[0.0, \"#0d0887\"], [0.1111111111111111, \"#46039f\"], [0.2222222222222222, \"#7201a8\"], [0.3333333333333333, \"#9c179e\"], [0.4444444444444444, \"#bd3786\"], [0.5555555555555556, \"#d8576b\"], [0.6666666666666666, \"#ed7953\"], [0.7777777777777778, \"#fb9f3a\"], [0.8888888888888888, \"#fdca26\"], [1.0, \"#f0f921\"]]}, \"colorway\": [\"#636efa\", \"#EF553B\", \"#00cc96\", \"#ab63fa\", \"#FFA15A\", \"#19d3f3\", \"#FF6692\", \"#B6E880\", \"#FF97FF\", \"#FECB52\"], \"font\": {\"color\": \"#2a3f5f\"}, \"geo\": {\"bgcolor\": \"white\", \"lakecolor\": \"white\", \"landcolor\": \"#E5ECF6\", \"showlakes\": true, \"showland\": true, \"subunitcolor\": \"white\"}, \"hoverlabel\": {\"align\": \"left\"}, \"hovermode\": \"closest\", \"mapbox\": {\"style\": \"light\"}, \"paper_bgcolor\": \"white\", \"plot_bgcolor\": \"#E5ECF6\", \"polar\": {\"angularaxis\": {\"gridcolor\": \"white\", \"linecolor\": \"white\", \"ticks\": \"\"}, \"bgcolor\": \"#E5ECF6\", \"radialaxis\": {\"gridcolor\": \"white\", \"linecolor\": \"white\", \"ticks\": \"\"}}, \"scene\": {\"xaxis\": {\"backgroundcolor\": \"#E5ECF6\", \"gridcolor\": \"white\", \"gridwidth\": 2, \"linecolor\": \"white\", \"showbackground\": true, \"ticks\": \"\", \"zerolinecolor\": \"white\"}, \"yaxis\": {\"backgroundcolor\": \"#E5ECF6\", \"gridcolor\": \"white\", \"gridwidth\": 2, \"linecolor\": \"white\", \"showbackground\": true, \"ticks\": \"\", \"zerolinecolor\": \"white\"}, \"zaxis\": {\"backgroundcolor\": \"#E5ECF6\", \"gridcolor\": \"white\", \"gridwidth\": 2, \"linecolor\": \"white\", \"showbackground\": true, \"ticks\": \"\", \"zerolinecolor\": \"white\"}}, \"shapedefaults\": {\"line\": {\"color\": \"#2a3f5f\"}}, \"ternary\": {\"aaxis\": {\"gridcolor\": \"white\", \"linecolor\": \"white\", \"ticks\": \"\"}, \"baxis\": {\"gridcolor\": \"white\", \"linecolor\": \"white\", \"ticks\": \"\"}, \"bgcolor\": \"#E5ECF6\", \"caxis\": {\"gridcolor\": \"white\", \"linecolor\": \"white\", \"ticks\": \"\"}}, \"title\": {\"x\": 0.05}, \"xaxis\": {\"automargin\": true, \"gridcolor\": \"white\", \"linecolor\": \"white\", \"ticks\": \"\", \"title\": {\"standoff\": 15}, \"zerolinecolor\": \"white\", \"zerolinewidth\": 2}, \"yaxis\": {\"automargin\": true, \"gridcolor\": \"white\", \"linecolor\": \"white\", \"ticks\": \"\", \"title\": {\"standoff\": 15}, \"zerolinecolor\": \"white\", \"zerolinewidth\": 2}}}},\n",
              "                        {\"responsive\": true}\n",
              "                    ).then(function(){\n",
              "                            \n",
              "var gd = document.getElementById('0aeaee39-d4d7-440a-a7bb-2b8b5720ce0b');\n",
              "var x = new MutationObserver(function (mutations, observer) {{\n",
              "        var display = window.getComputedStyle(gd).display;\n",
              "        if (!display || display === 'none') {{\n",
              "            console.log([gd, 'removed!']);\n",
              "            Plotly.purge(gd);\n",
              "            observer.disconnect();\n",
              "        }}\n",
              "}});\n",
              "\n",
              "// Listen for the removal of the full notebook cells\n",
              "var notebookContainer = gd.closest('#notebook-container');\n",
              "if (notebookContainer) {{\n",
              "    x.observe(notebookContainer, {childList: true});\n",
              "}}\n",
              "\n",
              "// Listen for the clearing of the current output cell\n",
              "var outputEl = gd.closest('.output');\n",
              "if (outputEl) {{\n",
              "    x.observe(outputEl, {childList: true});\n",
              "}}\n",
              "\n",
              "                        })\n",
              "                };\n",
              "                \n",
              "            </script>\n",
              "        </div>\n",
              "</body>\n",
              "</html>"
            ]
          },
          "metadata": {
            "tags": []
          }
        },
        {
          "output_type": "display_data",
          "data": {
            "text/html": [
              "<html>\n",
              "<head><meta charset=\"utf-8\" /></head>\n",
              "<body>\n",
              "    <div>\n",
              "            <script src=\"https://cdnjs.cloudflare.com/ajax/libs/mathjax/2.7.5/MathJax.js?config=TeX-AMS-MML_SVG\"></script><script type=\"text/javascript\">if (window.MathJax) {MathJax.Hub.Config({SVG: {font: \"STIX-Web\"}});}</script>\n",
              "                <script type=\"text/javascript\">window.PlotlyConfig = {MathJaxConfig: 'local'};</script>\n",
              "        <script src=\"https://cdn.plot.ly/plotly-latest.min.js\"></script>    \n",
              "            <div id=\"6267214d-26d3-4e96-9299-43e71ad37fec\" class=\"plotly-graph-div\" style=\"height:525px; width:100%;\"></div>\n",
              "            <script type=\"text/javascript\">\n",
              "                \n",
              "                    window.PLOTLYENV=window.PLOTLYENV || {};\n",
              "                    \n",
              "                if (document.getElementById(\"6267214d-26d3-4e96-9299-43e71ad37fec\")) {\n",
              "                    Plotly.newPlot(\n",
              "                        '6267214d-26d3-4e96-9299-43e71ad37fec',\n",
              "                        [{\"close\": [239.75, 238.08, 238.76, 235.9, 237.11, 240.5, 240.38, 239.74, 240.37, 237.01, 234.69, 236.32, 238.63, 240.52, 240.5, 241.75, 245.35, 249.08, 253.1, 252.71, 255.43, 256.16, 256.71, 254.3, 253.81, 255.27, 254.25, 254.27, 255.52, 255.46, 255.7, 258.91, 258.41, 258.42, 260.86, 261.47, 261.93, 261.04, 259.72, 258.56, 260.02, 259.03, 264.715, 262.3, 265.98, 258.4, 259.36, 256.34, 259.24, 257.95, 258.53, 262.6, 261.72, 264.08, 266.2, 265.6, 262.66, 260.96, 262.36], \"high\": [239.86, 238.99, 238.88, 238.96, 237.54, 241.06, 241.42, 241.06, 242.53, 240.13, 237.67, 236.52, 239.36, 241.85, 241.6, 243.44, 245.54, 249.95, 253.76, 255.0, 256.68, 256.97, 259.27, 256.74, 256.39, 258.74, 255.79, 255.25, 255.85, 258.21, 257.0, 258.99, 258.85, 258.79, 260.86, 261.59, 262.96, 263.79, 262.0, 258.98, 260.72, 259.04, 264.8, 265.96, 267.19, 265.97, 261.4, 259.45, 260.38, 259.49, 259.28, 263.205, 263.63, 265.81, 267.25, 267.57, 266.66, 262.47, 263.29], \"low\": [236.18, 237.21, 236.6, 235.6, 234.76, 236.11, 239.02, 238.5, 239.42, 236.25, 234.37, 234.35, 235.54, 239.74, 238.98, 237.15, 242.51, 246.29, 249.01, 251.96, 252.26, 254.49, 256.14, 251.51, 253.55, 253.98, 251.2, 252.64, 253.59, 254.72, 254.12, 254.97, 257.1, 257.14, 257.24, 259.03, 260.34, 260.79, 259.7, 256.31, 256.73, 256.11, 259.58, 262.15, 263.57, 254.57, 257.36, 255.82, 255.33, 257.47, 256.3, 258.07, 260.14, 262.62, 264.36, 265.3, 259.57, 259.63, 260.5], \"open\": [236.18, 238.69, 238.39, 238.58, 236.34, 236.73, 240.84, 241.03, 239.65, 240.06, 237.53, 234.92, 235.89, 239.74, 240.89, 240.03, 243.05, 247.5, 249.99, 252.97, 253.05, 256.09, 256.42, 256.74, 255.04, 255.31, 254.11, 253.73, 254.65, 256.05, 256.7, 255.35, 258.21, 258.58, 259.26, 260.98, 260.94, 263.0, 261.73, 256.33, 258.47, 258.7, 260.78, 265.1, 263.57, 264.21, 259.85, 258.26, 255.55, 259.48, 258.29, 258.09, 262.21, 262.62, 264.36, 266.73, 265.45, 262.47, 261.2], \"type\": \"candlestick\", \"x\": [655, 656, 657, 658, 659, 660, 661, 662, 663, 664, 665, 666, 667, 668, 669, 670, 671, 672, 673, 674, 675, 676, 677, 678, 679, 680, 681, 682, 683, 684, 685, 686, 687, 688, 689, 690, 691, 692, 693, 694, 695, 696, 697, 698, 699, 700, 701, 702, 703, 704, 705, 706, 707, 708, 709, 710, 711, 712, 713]}],\n",
              "                        {\"template\": {\"data\": {\"bar\": [{\"error_x\": {\"color\": \"#2a3f5f\"}, \"error_y\": {\"color\": \"#2a3f5f\"}, \"marker\": {\"line\": {\"color\": \"#E5ECF6\", \"width\": 0.5}}, \"type\": \"bar\"}], \"barpolar\": [{\"marker\": {\"line\": {\"color\": \"#E5ECF6\", \"width\": 0.5}}, \"type\": \"barpolar\"}], \"carpet\": [{\"aaxis\": {\"endlinecolor\": \"#2a3f5f\", \"gridcolor\": \"white\", \"linecolor\": \"white\", \"minorgridcolor\": \"white\", \"startlinecolor\": \"#2a3f5f\"}, \"baxis\": {\"endlinecolor\": \"#2a3f5f\", \"gridcolor\": \"white\", \"linecolor\": \"white\", \"minorgridcolor\": \"white\", \"startlinecolor\": \"#2a3f5f\"}, \"type\": \"carpet\"}], \"choropleth\": [{\"colorbar\": {\"outlinewidth\": 0, \"ticks\": \"\"}, \"type\": \"choropleth\"}], \"contour\": [{\"colorbar\": {\"outlinewidth\": 0, \"ticks\": \"\"}, \"colorscale\": [[0.0, \"#0d0887\"], [0.1111111111111111, \"#46039f\"], [0.2222222222222222, \"#7201a8\"], [0.3333333333333333, \"#9c179e\"], [0.4444444444444444, \"#bd3786\"], [0.5555555555555556, \"#d8576b\"], [0.6666666666666666, \"#ed7953\"], [0.7777777777777778, \"#fb9f3a\"], [0.8888888888888888, \"#fdca26\"], [1.0, \"#f0f921\"]], \"type\": \"contour\"}], \"contourcarpet\": [{\"colorbar\": {\"outlinewidth\": 0, \"ticks\": \"\"}, \"type\": \"contourcarpet\"}], \"heatmap\": [{\"colorbar\": {\"outlinewidth\": 0, \"ticks\": \"\"}, \"colorscale\": [[0.0, \"#0d0887\"], [0.1111111111111111, \"#46039f\"], [0.2222222222222222, \"#7201a8\"], [0.3333333333333333, \"#9c179e\"], [0.4444444444444444, \"#bd3786\"], [0.5555555555555556, \"#d8576b\"], [0.6666666666666666, \"#ed7953\"], [0.7777777777777778, \"#fb9f3a\"], [0.8888888888888888, \"#fdca26\"], [1.0, \"#f0f921\"]], \"type\": \"heatmap\"}], \"heatmapgl\": [{\"colorbar\": {\"outlinewidth\": 0, \"ticks\": \"\"}, \"colorscale\": [[0.0, \"#0d0887\"], [0.1111111111111111, \"#46039f\"], [0.2222222222222222, \"#7201a8\"], [0.3333333333333333, \"#9c179e\"], [0.4444444444444444, \"#bd3786\"], [0.5555555555555556, \"#d8576b\"], [0.6666666666666666, \"#ed7953\"], [0.7777777777777778, \"#fb9f3a\"], [0.8888888888888888, \"#fdca26\"], [1.0, \"#f0f921\"]], \"type\": \"heatmapgl\"}], \"histogram\": [{\"marker\": {\"colorbar\": {\"outlinewidth\": 0, \"ticks\": \"\"}}, \"type\": \"histogram\"}], \"histogram2d\": [{\"colorbar\": {\"outlinewidth\": 0, \"ticks\": \"\"}, \"colorscale\": [[0.0, \"#0d0887\"], [0.1111111111111111, \"#46039f\"], [0.2222222222222222, \"#7201a8\"], [0.3333333333333333, \"#9c179e\"], [0.4444444444444444, \"#bd3786\"], [0.5555555555555556, \"#d8576b\"], [0.6666666666666666, \"#ed7953\"], [0.7777777777777778, \"#fb9f3a\"], [0.8888888888888888, \"#fdca26\"], [1.0, \"#f0f921\"]], \"type\": \"histogram2d\"}], \"histogram2dcontour\": [{\"colorbar\": {\"outlinewidth\": 0, \"ticks\": \"\"}, \"colorscale\": [[0.0, \"#0d0887\"], [0.1111111111111111, \"#46039f\"], [0.2222222222222222, \"#7201a8\"], [0.3333333333333333, \"#9c179e\"], [0.4444444444444444, \"#bd3786\"], [0.5555555555555556, \"#d8576b\"], [0.6666666666666666, \"#ed7953\"], [0.7777777777777778, \"#fb9f3a\"], [0.8888888888888888, \"#fdca26\"], [1.0, \"#f0f921\"]], \"type\": \"histogram2dcontour\"}], \"mesh3d\": [{\"colorbar\": {\"outlinewidth\": 0, \"ticks\": \"\"}, \"type\": \"mesh3d\"}], \"parcoords\": [{\"line\": {\"colorbar\": {\"outlinewidth\": 0, \"ticks\": \"\"}}, \"type\": \"parcoords\"}], \"pie\": [{\"automargin\": true, \"type\": \"pie\"}], \"scatter\": [{\"marker\": {\"colorbar\": {\"outlinewidth\": 0, \"ticks\": \"\"}}, \"type\": \"scatter\"}], \"scatter3d\": [{\"line\": {\"colorbar\": {\"outlinewidth\": 0, \"ticks\": \"\"}}, \"marker\": {\"colorbar\": {\"outlinewidth\": 0, \"ticks\": \"\"}}, \"type\": \"scatter3d\"}], \"scattercarpet\": [{\"marker\": {\"colorbar\": {\"outlinewidth\": 0, \"ticks\": \"\"}}, \"type\": \"scattercarpet\"}], \"scattergeo\": [{\"marker\": {\"colorbar\": {\"outlinewidth\": 0, \"ticks\": \"\"}}, \"type\": \"scattergeo\"}], \"scattergl\": [{\"marker\": {\"colorbar\": {\"outlinewidth\": 0, \"ticks\": \"\"}}, \"type\": \"scattergl\"}], \"scattermapbox\": [{\"marker\": {\"colorbar\": {\"outlinewidth\": 0, \"ticks\": \"\"}}, \"type\": \"scattermapbox\"}], \"scatterpolar\": [{\"marker\": {\"colorbar\": {\"outlinewidth\": 0, \"ticks\": \"\"}}, \"type\": \"scatterpolar\"}], \"scatterpolargl\": [{\"marker\": {\"colorbar\": {\"outlinewidth\": 0, \"ticks\": \"\"}}, \"type\": \"scatterpolargl\"}], \"scatterternary\": [{\"marker\": {\"colorbar\": {\"outlinewidth\": 0, \"ticks\": \"\"}}, \"type\": \"scatterternary\"}], \"surface\": [{\"colorbar\": {\"outlinewidth\": 0, \"ticks\": \"\"}, \"colorscale\": [[0.0, \"#0d0887\"], [0.1111111111111111, \"#46039f\"], [0.2222222222222222, \"#7201a8\"], [0.3333333333333333, \"#9c179e\"], [0.4444444444444444, \"#bd3786\"], [0.5555555555555556, \"#d8576b\"], [0.6666666666666666, \"#ed7953\"], [0.7777777777777778, \"#fb9f3a\"], [0.8888888888888888, \"#fdca26\"], [1.0, \"#f0f921\"]], \"type\": \"surface\"}], \"table\": [{\"cells\": {\"fill\": {\"color\": \"#EBF0F8\"}, \"line\": {\"color\": \"white\"}}, \"header\": {\"fill\": {\"color\": \"#C8D4E3\"}, \"line\": {\"color\": \"white\"}}, \"type\": \"table\"}]}, \"layout\": {\"annotationdefaults\": {\"arrowcolor\": \"#2a3f5f\", \"arrowhead\": 0, \"arrowwidth\": 1}, \"coloraxis\": {\"colorbar\": {\"outlinewidth\": 0, \"ticks\": \"\"}}, \"colorscale\": {\"diverging\": [[0, \"#8e0152\"], [0.1, \"#c51b7d\"], [0.2, \"#de77ae\"], [0.3, \"#f1b6da\"], [0.4, \"#fde0ef\"], [0.5, \"#f7f7f7\"], [0.6, \"#e6f5d0\"], [0.7, \"#b8e186\"], [0.8, \"#7fbc41\"], [0.9, \"#4d9221\"], [1, \"#276419\"]], \"sequential\": [[0.0, \"#0d0887\"], [0.1111111111111111, \"#46039f\"], [0.2222222222222222, \"#7201a8\"], [0.3333333333333333, \"#9c179e\"], [0.4444444444444444, \"#bd3786\"], [0.5555555555555556, \"#d8576b\"], [0.6666666666666666, \"#ed7953\"], [0.7777777777777778, \"#fb9f3a\"], [0.8888888888888888, \"#fdca26\"], [1.0, \"#f0f921\"]], \"sequentialminus\": [[0.0, \"#0d0887\"], [0.1111111111111111, \"#46039f\"], [0.2222222222222222, \"#7201a8\"], [0.3333333333333333, \"#9c179e\"], [0.4444444444444444, \"#bd3786\"], [0.5555555555555556, \"#d8576b\"], [0.6666666666666666, \"#ed7953\"], [0.7777777777777778, \"#fb9f3a\"], [0.8888888888888888, \"#fdca26\"], [1.0, \"#f0f921\"]]}, \"colorway\": [\"#636efa\", \"#EF553B\", \"#00cc96\", \"#ab63fa\", \"#FFA15A\", \"#19d3f3\", \"#FF6692\", \"#B6E880\", \"#FF97FF\", \"#FECB52\"], \"font\": {\"color\": \"#2a3f5f\"}, \"geo\": {\"bgcolor\": \"white\", \"lakecolor\": \"white\", \"landcolor\": \"#E5ECF6\", \"showlakes\": true, \"showland\": true, \"subunitcolor\": \"white\"}, \"hoverlabel\": {\"align\": \"left\"}, \"hovermode\": \"closest\", \"mapbox\": {\"style\": \"light\"}, \"paper_bgcolor\": \"white\", \"plot_bgcolor\": \"#E5ECF6\", \"polar\": {\"angularaxis\": {\"gridcolor\": \"white\", \"linecolor\": \"white\", \"ticks\": \"\"}, \"bgcolor\": \"#E5ECF6\", \"radialaxis\": {\"gridcolor\": \"white\", \"linecolor\": \"white\", \"ticks\": \"\"}}, \"scene\": {\"xaxis\": {\"backgroundcolor\": \"#E5ECF6\", \"gridcolor\": \"white\", \"gridwidth\": 2, \"linecolor\": \"white\", \"showbackground\": true, \"ticks\": \"\", \"zerolinecolor\": \"white\"}, \"yaxis\": {\"backgroundcolor\": \"#E5ECF6\", \"gridcolor\": \"white\", \"gridwidth\": 2, \"linecolor\": \"white\", \"showbackground\": true, \"ticks\": \"\", \"zerolinecolor\": \"white\"}, \"zaxis\": {\"backgroundcolor\": \"#E5ECF6\", \"gridcolor\": \"white\", \"gridwidth\": 2, \"linecolor\": \"white\", \"showbackground\": true, \"ticks\": \"\", \"zerolinecolor\": \"white\"}}, \"shapedefaults\": {\"line\": {\"color\": \"#2a3f5f\"}}, \"ternary\": {\"aaxis\": {\"gridcolor\": \"white\", \"linecolor\": \"white\", \"ticks\": \"\"}, \"baxis\": {\"gridcolor\": \"white\", \"linecolor\": \"white\", \"ticks\": \"\"}, \"bgcolor\": \"#E5ECF6\", \"caxis\": {\"gridcolor\": \"white\", \"linecolor\": \"white\", \"ticks\": \"\"}}, \"title\": {\"x\": 0.05}, \"xaxis\": {\"automargin\": true, \"gridcolor\": \"white\", \"linecolor\": \"white\", \"ticks\": \"\", \"title\": {\"standoff\": 15}, \"zerolinecolor\": \"white\", \"zerolinewidth\": 2}, \"yaxis\": {\"automargin\": true, \"gridcolor\": \"white\", \"linecolor\": \"white\", \"ticks\": \"\", \"title\": {\"standoff\": 15}, \"zerolinecolor\": \"white\", \"zerolinewidth\": 2}}}},\n",
              "                        {\"responsive\": true}\n",
              "                    ).then(function(){\n",
              "                            \n",
              "var gd = document.getElementById('6267214d-26d3-4e96-9299-43e71ad37fec');\n",
              "var x = new MutationObserver(function (mutations, observer) {{\n",
              "        var display = window.getComputedStyle(gd).display;\n",
              "        if (!display || display === 'none') {{\n",
              "            console.log([gd, 'removed!']);\n",
              "            Plotly.purge(gd);\n",
              "            observer.disconnect();\n",
              "        }}\n",
              "}});\n",
              "\n",
              "// Listen for the removal of the full notebook cells\n",
              "var notebookContainer = gd.closest('#notebook-container');\n",
              "if (notebookContainer) {{\n",
              "    x.observe(notebookContainer, {childList: true});\n",
              "}}\n",
              "\n",
              "// Listen for the clearing of the current output cell\n",
              "var outputEl = gd.closest('.output');\n",
              "if (outputEl) {{\n",
              "    x.observe(outputEl, {childList: true});\n",
              "}}\n",
              "\n",
              "                        })\n",
              "                };\n",
              "                \n",
              "            </script>\n",
              "        </div>\n",
              "</body>\n",
              "</html>"
            ]
          },
          "metadata": {
            "tags": []
          }
        },
        {
          "output_type": "display_data",
          "data": {
            "text/html": [
              "<html>\n",
              "<head><meta charset=\"utf-8\" /></head>\n",
              "<body>\n",
              "    <div>\n",
              "            <script src=\"https://cdnjs.cloudflare.com/ajax/libs/mathjax/2.7.5/MathJax.js?config=TeX-AMS-MML_SVG\"></script><script type=\"text/javascript\">if (window.MathJax) {MathJax.Hub.Config({SVG: {font: \"STIX-Web\"}});}</script>\n",
              "                <script type=\"text/javascript\">window.PlotlyConfig = {MathJaxConfig: 'local'};</script>\n",
              "        <script src=\"https://cdn.plot.ly/plotly-latest.min.js\"></script>    \n",
              "            <div id=\"ea0458a4-1e4f-4a41-a705-9b74a5280322\" class=\"plotly-graph-div\" style=\"height:525px; width:100%;\"></div>\n",
              "            <script type=\"text/javascript\">\n",
              "                \n",
              "                    window.PLOTLYENV=window.PLOTLYENV || {};\n",
              "                    \n",
              "                if (document.getElementById(\"ea0458a4-1e4f-4a41-a705-9b74a5280322\")) {\n",
              "                    Plotly.newPlot(\n",
              "                        'ea0458a4-1e4f-4a41-a705-9b74a5280322',\n",
              "                        [{\"close\": [263.69, 262.24, 264.55, 266.99, 265.09, 265.82, 265.56, 267.96, 269.34, 276.55, 271.35, 277.94, 275.57, 278.32, 281.93, 285.56, 283.11, 289.85, 291.82, 293.84, 293.94, 296.17, 297.13, 297.95, 294.965, 295.1, 295.41, 295.51, 296.27, 295.01, 296.87, 297.6, 296.69, 308.6, 310.035, 318.43, 320.42, 328.21, 336.26, 335.32, 351.11, 340.21, 337.87, 337.99, 335.6, 334.7, 343.09, 343.06, 340.92, 338.0, 354.13, 357.1, 348.81, 328.99], \"high\": [265.02, 263.65, 265.6, 267.0, 267.38, 266.54, 266.82, 268.0, 269.66, 277.03, 278.64, 281.43, 279.4, 279.11, 284.76, 287.3, 286.33, 292.65, 295.75, 296.7, 297.3, 297.08, 297.56, 299.2, 298.35, 296.0, 297.44, 296.5, 296.89, 296.86, 296.93, 298.4, 298.33, 308.89, 310.84, 319.89, 322.06, 328.4, 336.85, 347.54, 352.22, 350.69, 343.8, 341.31, 338.83, 338.97, 343.52, 345.64, 344.29, 339.79, 360.61, 361.36, 355.09, 349.83], \"low\": [263.36, 262.04, 263.38, 264.83, 264.59, 265.33, 264.81, 265.24, 266.19, 269.445, 270.74, 276.42, 274.89, 274.21, 278.34, 283.56, 280.03, 287.88, 289.75, 292.62, 293.02, 294.69, 294.26, 297.11, 294.15, 293.07, 294.78, 294.87, 294.74, 294.88, 295.43, 295.5, 295.47, 296.72, 305.82, 310.49, 315.52, 321.5, 330.92, 331.38, 336.5, 339.23, 335.9, 332.06, 334.96, 334.14, 336.0, 341.4, 340.23, 334.37, 351.63, 352.12, 348.7, 317.39], \"open\": [263.85, 262.93, 263.38, 266.17, 267.14, 265.33, 265.57, 266.83, 269.5, 270.25, 277.41, 276.42, 278.72, 274.36, 278.63, 285.15, 286.13, 287.88, 290.57, 293.92, 296.17, 296.0, 296.63, 298.7, 298.11, 295.91, 295.26, 296.5, 296.34, 296.86, 295.78, 296.47, 298.25, 296.72, 308.3, 310.55, 316.7, 322.18, 330.95, 339.9, 336.9, 350.4, 341.51, 334.82, 338.55, 336.28, 336.0, 344.99, 341.43, 339.49, 359.89, 352.7, 354.28, 342.68], \"type\": \"candlestick\", \"x\": [716, 717, 718, 719, 720, 721, 722, 723, 724, 725, 726, 727, 728, 729, 730, 731, 732, 733, 734, 735, 736, 737, 738, 739, 740, 741, 742, 743, 744, 745, 746, 747, 748, 749, 750, 751, 752, 753, 754, 755, 756, 757, 758, 759, 760, 761, 762, 763, 764, 765, 766, 767, 768, 769]}],\n",
              "                        {\"template\": {\"data\": {\"bar\": [{\"error_x\": {\"color\": \"#2a3f5f\"}, \"error_y\": {\"color\": \"#2a3f5f\"}, \"marker\": {\"line\": {\"color\": \"#E5ECF6\", \"width\": 0.5}}, \"type\": \"bar\"}], \"barpolar\": [{\"marker\": {\"line\": {\"color\": \"#E5ECF6\", \"width\": 0.5}}, \"type\": \"barpolar\"}], \"carpet\": [{\"aaxis\": {\"endlinecolor\": \"#2a3f5f\", \"gridcolor\": \"white\", \"linecolor\": \"white\", \"minorgridcolor\": \"white\", \"startlinecolor\": \"#2a3f5f\"}, \"baxis\": {\"endlinecolor\": \"#2a3f5f\", \"gridcolor\": \"white\", \"linecolor\": \"white\", \"minorgridcolor\": \"white\", \"startlinecolor\": \"#2a3f5f\"}, \"type\": \"carpet\"}], \"choropleth\": [{\"colorbar\": {\"outlinewidth\": 0, \"ticks\": \"\"}, \"type\": \"choropleth\"}], \"contour\": [{\"colorbar\": {\"outlinewidth\": 0, \"ticks\": \"\"}, \"colorscale\": [[0.0, \"#0d0887\"], [0.1111111111111111, \"#46039f\"], [0.2222222222222222, \"#7201a8\"], [0.3333333333333333, \"#9c179e\"], [0.4444444444444444, \"#bd3786\"], [0.5555555555555556, \"#d8576b\"], [0.6666666666666666, \"#ed7953\"], [0.7777777777777778, \"#fb9f3a\"], [0.8888888888888888, \"#fdca26\"], [1.0, \"#f0f921\"]], \"type\": \"contour\"}], \"contourcarpet\": [{\"colorbar\": {\"outlinewidth\": 0, \"ticks\": \"\"}, \"type\": \"contourcarpet\"}], \"heatmap\": [{\"colorbar\": {\"outlinewidth\": 0, \"ticks\": \"\"}, \"colorscale\": [[0.0, \"#0d0887\"], [0.1111111111111111, \"#46039f\"], [0.2222222222222222, \"#7201a8\"], [0.3333333333333333, \"#9c179e\"], [0.4444444444444444, \"#bd3786\"], [0.5555555555555556, \"#d8576b\"], [0.6666666666666666, \"#ed7953\"], [0.7777777777777778, \"#fb9f3a\"], [0.8888888888888888, \"#fdca26\"], [1.0, \"#f0f921\"]], \"type\": \"heatmap\"}], \"heatmapgl\": [{\"colorbar\": {\"outlinewidth\": 0, \"ticks\": \"\"}, \"colorscale\": [[0.0, \"#0d0887\"], [0.1111111111111111, \"#46039f\"], [0.2222222222222222, \"#7201a8\"], [0.3333333333333333, \"#9c179e\"], [0.4444444444444444, \"#bd3786\"], [0.5555555555555556, \"#d8576b\"], [0.6666666666666666, \"#ed7953\"], [0.7777777777777778, \"#fb9f3a\"], [0.8888888888888888, \"#fdca26\"], [1.0, \"#f0f921\"]], \"type\": \"heatmapgl\"}], \"histogram\": [{\"marker\": {\"colorbar\": {\"outlinewidth\": 0, \"ticks\": \"\"}}, \"type\": \"histogram\"}], \"histogram2d\": [{\"colorbar\": {\"outlinewidth\": 0, \"ticks\": \"\"}, \"colorscale\": [[0.0, \"#0d0887\"], [0.1111111111111111, \"#46039f\"], [0.2222222222222222, \"#7201a8\"], [0.3333333333333333, \"#9c179e\"], [0.4444444444444444, \"#bd3786\"], [0.5555555555555556, \"#d8576b\"], [0.6666666666666666, \"#ed7953\"], [0.7777777777777778, \"#fb9f3a\"], [0.8888888888888888, \"#fdca26\"], [1.0, \"#f0f921\"]], \"type\": \"histogram2d\"}], \"histogram2dcontour\": [{\"colorbar\": {\"outlinewidth\": 0, \"ticks\": \"\"}, \"colorscale\": [[0.0, \"#0d0887\"], [0.1111111111111111, \"#46039f\"], [0.2222222222222222, \"#7201a8\"], [0.3333333333333333, \"#9c179e\"], [0.4444444444444444, \"#bd3786\"], [0.5555555555555556, \"#d8576b\"], [0.6666666666666666, \"#ed7953\"], [0.7777777777777778, \"#fb9f3a\"], [0.8888888888888888, \"#fdca26\"], [1.0, \"#f0f921\"]], \"type\": \"histogram2dcontour\"}], \"mesh3d\": [{\"colorbar\": {\"outlinewidth\": 0, \"ticks\": \"\"}, \"type\": \"mesh3d\"}], \"parcoords\": [{\"line\": {\"colorbar\": {\"outlinewidth\": 0, \"ticks\": \"\"}}, \"type\": \"parcoords\"}], \"pie\": [{\"automargin\": true, \"type\": \"pie\"}], \"scatter\": [{\"marker\": {\"colorbar\": {\"outlinewidth\": 0, \"ticks\": \"\"}}, \"type\": \"scatter\"}], \"scatter3d\": [{\"line\": {\"colorbar\": {\"outlinewidth\": 0, \"ticks\": \"\"}}, \"marker\": {\"colorbar\": {\"outlinewidth\": 0, \"ticks\": \"\"}}, \"type\": \"scatter3d\"}], \"scattercarpet\": [{\"marker\": {\"colorbar\": {\"outlinewidth\": 0, \"ticks\": \"\"}}, \"type\": \"scattercarpet\"}], \"scattergeo\": [{\"marker\": {\"colorbar\": {\"outlinewidth\": 0, \"ticks\": \"\"}}, \"type\": \"scattergeo\"}], \"scattergl\": [{\"marker\": {\"colorbar\": {\"outlinewidth\": 0, \"ticks\": \"\"}}, \"type\": \"scattergl\"}], \"scattermapbox\": [{\"marker\": {\"colorbar\": {\"outlinewidth\": 0, \"ticks\": \"\"}}, \"type\": \"scattermapbox\"}], \"scatterpolar\": [{\"marker\": {\"colorbar\": {\"outlinewidth\": 0, \"ticks\": \"\"}}, \"type\": \"scatterpolar\"}], \"scatterpolargl\": [{\"marker\": {\"colorbar\": {\"outlinewidth\": 0, \"ticks\": \"\"}}, \"type\": \"scatterpolargl\"}], \"scatterternary\": [{\"marker\": {\"colorbar\": {\"outlinewidth\": 0, \"ticks\": \"\"}}, \"type\": \"scatterternary\"}], \"surface\": [{\"colorbar\": {\"outlinewidth\": 0, \"ticks\": \"\"}, \"colorscale\": [[0.0, \"#0d0887\"], [0.1111111111111111, \"#46039f\"], [0.2222222222222222, \"#7201a8\"], [0.3333333333333333, \"#9c179e\"], [0.4444444444444444, \"#bd3786\"], [0.5555555555555556, \"#d8576b\"], [0.6666666666666666, \"#ed7953\"], [0.7777777777777778, \"#fb9f3a\"], [0.8888888888888888, \"#fdca26\"], [1.0, \"#f0f921\"]], \"type\": \"surface\"}], \"table\": [{\"cells\": {\"fill\": {\"color\": \"#EBF0F8\"}, \"line\": {\"color\": \"white\"}}, \"header\": {\"fill\": {\"color\": \"#C8D4E3\"}, \"line\": {\"color\": \"white\"}}, \"type\": \"table\"}]}, \"layout\": {\"annotationdefaults\": {\"arrowcolor\": \"#2a3f5f\", \"arrowhead\": 0, \"arrowwidth\": 1}, \"coloraxis\": {\"colorbar\": {\"outlinewidth\": 0, \"ticks\": \"\"}}, \"colorscale\": {\"diverging\": [[0, \"#8e0152\"], [0.1, \"#c51b7d\"], [0.2, \"#de77ae\"], [0.3, \"#f1b6da\"], [0.4, \"#fde0ef\"], [0.5, \"#f7f7f7\"], [0.6, \"#e6f5d0\"], [0.7, \"#b8e186\"], [0.8, \"#7fbc41\"], [0.9, \"#4d9221\"], [1, \"#276419\"]], \"sequential\": [[0.0, \"#0d0887\"], [0.1111111111111111, \"#46039f\"], [0.2222222222222222, \"#7201a8\"], [0.3333333333333333, \"#9c179e\"], [0.4444444444444444, \"#bd3786\"], [0.5555555555555556, \"#d8576b\"], [0.6666666666666666, \"#ed7953\"], [0.7777777777777778, \"#fb9f3a\"], [0.8888888888888888, \"#fdca26\"], [1.0, \"#f0f921\"]], \"sequentialminus\": [[0.0, \"#0d0887\"], [0.1111111111111111, \"#46039f\"], [0.2222222222222222, \"#7201a8\"], [0.3333333333333333, \"#9c179e\"], [0.4444444444444444, \"#bd3786\"], [0.5555555555555556, \"#d8576b\"], [0.6666666666666666, \"#ed7953\"], [0.7777777777777778, \"#fb9f3a\"], [0.8888888888888888, \"#fdca26\"], [1.0, \"#f0f921\"]]}, \"colorway\": [\"#636efa\", \"#EF553B\", \"#00cc96\", \"#ab63fa\", \"#FFA15A\", \"#19d3f3\", \"#FF6692\", \"#B6E880\", \"#FF97FF\", \"#FECB52\"], \"font\": {\"color\": \"#2a3f5f\"}, \"geo\": {\"bgcolor\": \"white\", \"lakecolor\": \"white\", \"landcolor\": \"#E5ECF6\", \"showlakes\": true, \"showland\": true, \"subunitcolor\": \"white\"}, \"hoverlabel\": {\"align\": \"left\"}, \"hovermode\": \"closest\", \"mapbox\": {\"style\": \"light\"}, \"paper_bgcolor\": \"white\", \"plot_bgcolor\": \"#E5ECF6\", \"polar\": {\"angularaxis\": {\"gridcolor\": \"white\", \"linecolor\": \"white\", \"ticks\": \"\"}, \"bgcolor\": \"#E5ECF6\", \"radialaxis\": {\"gridcolor\": \"white\", \"linecolor\": \"white\", \"ticks\": \"\"}}, \"scene\": {\"xaxis\": {\"backgroundcolor\": \"#E5ECF6\", \"gridcolor\": \"white\", \"gridwidth\": 2, \"linecolor\": \"white\", \"showbackground\": true, \"ticks\": \"\", \"zerolinecolor\": \"white\"}, \"yaxis\": {\"backgroundcolor\": \"#E5ECF6\", \"gridcolor\": \"white\", \"gridwidth\": 2, \"linecolor\": \"white\", \"showbackground\": true, \"ticks\": \"\", \"zerolinecolor\": \"white\"}, \"zaxis\": {\"backgroundcolor\": \"#E5ECF6\", \"gridcolor\": \"white\", \"gridwidth\": 2, \"linecolor\": \"white\", \"showbackground\": true, \"ticks\": \"\", \"zerolinecolor\": \"white\"}}, \"shapedefaults\": {\"line\": {\"color\": \"#2a3f5f\"}}, \"ternary\": {\"aaxis\": {\"gridcolor\": \"white\", \"linecolor\": \"white\", \"ticks\": \"\"}, \"baxis\": {\"gridcolor\": \"white\", \"linecolor\": \"white\", \"ticks\": \"\"}, \"bgcolor\": \"#E5ECF6\", \"caxis\": {\"gridcolor\": \"white\", \"linecolor\": \"white\", \"ticks\": \"\"}}, \"title\": {\"x\": 0.05}, \"xaxis\": {\"automargin\": true, \"gridcolor\": \"white\", \"linecolor\": \"white\", \"ticks\": \"\", \"title\": {\"standoff\": 15}, \"zerolinecolor\": \"white\", \"zerolinewidth\": 2}, \"yaxis\": {\"automargin\": true, \"gridcolor\": \"white\", \"linecolor\": \"white\", \"ticks\": \"\", \"title\": {\"standoff\": 15}, \"zerolinecolor\": \"white\", \"zerolinewidth\": 2}}}},\n",
              "                        {\"responsive\": true}\n",
              "                    ).then(function(){\n",
              "                            \n",
              "var gd = document.getElementById('ea0458a4-1e4f-4a41-a705-9b74a5280322');\n",
              "var x = new MutationObserver(function (mutations, observer) {{\n",
              "        var display = window.getComputedStyle(gd).display;\n",
              "        if (!display || display === 'none') {{\n",
              "            console.log([gd, 'removed!']);\n",
              "            Plotly.purge(gd);\n",
              "            observer.disconnect();\n",
              "        }}\n",
              "}});\n",
              "\n",
              "// Listen for the removal of the full notebook cells\n",
              "var notebookContainer = gd.closest('#notebook-container');\n",
              "if (notebookContainer) {{\n",
              "    x.observe(notebookContainer, {childList: true});\n",
              "}}\n",
              "\n",
              "// Listen for the clearing of the current output cell\n",
              "var outputEl = gd.closest('.output');\n",
              "if (outputEl) {{\n",
              "    x.observe(outputEl, {childList: true});\n",
              "}}\n",
              "\n",
              "                        })\n",
              "                };\n",
              "                \n",
              "            </script>\n",
              "        </div>\n",
              "</body>\n",
              "</html>"
            ]
          },
          "metadata": {
            "tags": []
          }
        },
        {
          "output_type": "display_data",
          "data": {
            "text/html": [
              "<html>\n",
              "<head><meta charset=\"utf-8\" /></head>\n",
              "<body>\n",
              "    <div>\n",
              "            <script src=\"https://cdnjs.cloudflare.com/ajax/libs/mathjax/2.7.5/MathJax.js?config=TeX-AMS-MML_SVG\"></script><script type=\"text/javascript\">if (window.MathJax) {MathJax.Hub.Config({SVG: {font: \"STIX-Web\"}});}</script>\n",
              "                <script type=\"text/javascript\">window.PlotlyConfig = {MathJaxConfig: 'local'};</script>\n",
              "        <script src=\"https://cdn.plot.ly/plotly-latest.min.js\"></script>    \n",
              "            <div id=\"2be227d5-f08e-4269-9ac1-6d18bc23a1ac\" class=\"plotly-graph-div\" style=\"height:525px; width:100%;\"></div>\n",
              "            <script type=\"text/javascript\">\n",
              "                \n",
              "                    window.PLOTLYENV=window.PLOTLYENV || {};\n",
              "                    \n",
              "                if (document.getElementById(\"2be227d5-f08e-4269-9ac1-6d18bc23a1ac\")) {\n",
              "                    Plotly.newPlot(\n",
              "                        '2be227d5-f08e-4269-9ac1-6d18bc23a1ac',\n",
              "                        [{\"close\": [340.49, 338.48, 344.56, 343.95, 342.3, 344.51, 342.23, 340.9, 344.09, 351.32, 363.98, 355.09, 359.13, 359.02, 360.05, 352.53, 358.1, 352.15, 356.63, 360.71, 360.27, 371.435, 368.42, 369.45, 370.86, 370.62, 363.73, 362.215, 357.66, 354.79], \"high\": [342.98, 341.93, 346.88, 348.48, 345.35, 347.66, 343.7, 343.56, 344.75, 352.0, 365.0, 364.85, 359.54, 360.61, 360.55, 360.75, 358.75, 356.83, 358.11, 363.28, 363.23, 371.55, 374.47, 371.3, 373.3, 372.55, 370.67, 367.57, 361.59, 357.54], \"low\": [335.93, 336.72, 338.64, 342.41, 341.16, 343.9, 340.32, 340.3, 340.33, 345.33, 359.03, 354.54, 351.92, 354.42, 357.23, 350.79, 354.3, 351.74, 354.54, 358.98, 358.91, 361.09, 366.05, 365.46, 369.05, 368.08, 363.3, 358.95, 353.48, 352.62], \"open\": [335.93, 340.07, 340.27, 343.95, 343.78, 344.0, 342.29, 341.66, 340.55, 345.52, 359.5, 364.28, 352.0, 358.33, 358.74, 357.71, 355.86, 356.83, 355.83, 358.98, 360.88, 362.32, 372.0, 368.14, 371.0, 371.76, 370.67, 366.26, 357.07, 352.62], \"type\": \"candlestick\", \"x\": [832, 833, 834, 835, 836, 837, 838, 839, 840, 841, 842, 843, 844, 845, 846, 847, 848, 849, 850, 851, 852, 853, 854, 855, 856, 857, 858, 859, 860, 861]}],\n",
              "                        {\"template\": {\"data\": {\"bar\": [{\"error_x\": {\"color\": \"#2a3f5f\"}, \"error_y\": {\"color\": \"#2a3f5f\"}, \"marker\": {\"line\": {\"color\": \"#E5ECF6\", \"width\": 0.5}}, \"type\": \"bar\"}], \"barpolar\": [{\"marker\": {\"line\": {\"color\": \"#E5ECF6\", \"width\": 0.5}}, \"type\": \"barpolar\"}], \"carpet\": [{\"aaxis\": {\"endlinecolor\": \"#2a3f5f\", \"gridcolor\": \"white\", \"linecolor\": \"white\", \"minorgridcolor\": \"white\", \"startlinecolor\": \"#2a3f5f\"}, \"baxis\": {\"endlinecolor\": \"#2a3f5f\", \"gridcolor\": \"white\", \"linecolor\": \"white\", \"minorgridcolor\": \"white\", \"startlinecolor\": \"#2a3f5f\"}, \"type\": \"carpet\"}], \"choropleth\": [{\"colorbar\": {\"outlinewidth\": 0, \"ticks\": \"\"}, \"type\": \"choropleth\"}], \"contour\": [{\"colorbar\": {\"outlinewidth\": 0, \"ticks\": \"\"}, \"colorscale\": [[0.0, \"#0d0887\"], [0.1111111111111111, \"#46039f\"], [0.2222222222222222, \"#7201a8\"], [0.3333333333333333, \"#9c179e\"], [0.4444444444444444, \"#bd3786\"], [0.5555555555555556, \"#d8576b\"], [0.6666666666666666, \"#ed7953\"], [0.7777777777777778, \"#fb9f3a\"], [0.8888888888888888, \"#fdca26\"], [1.0, \"#f0f921\"]], \"type\": \"contour\"}], \"contourcarpet\": [{\"colorbar\": {\"outlinewidth\": 0, \"ticks\": \"\"}, \"type\": \"contourcarpet\"}], \"heatmap\": [{\"colorbar\": {\"outlinewidth\": 0, \"ticks\": \"\"}, \"colorscale\": [[0.0, \"#0d0887\"], [0.1111111111111111, \"#46039f\"], [0.2222222222222222, \"#7201a8\"], [0.3333333333333333, \"#9c179e\"], [0.4444444444444444, \"#bd3786\"], [0.5555555555555556, \"#d8576b\"], [0.6666666666666666, \"#ed7953\"], [0.7777777777777778, \"#fb9f3a\"], [0.8888888888888888, \"#fdca26\"], [1.0, \"#f0f921\"]], \"type\": \"heatmap\"}], \"heatmapgl\": [{\"colorbar\": {\"outlinewidth\": 0, \"ticks\": \"\"}, \"colorscale\": [[0.0, \"#0d0887\"], [0.1111111111111111, \"#46039f\"], [0.2222222222222222, \"#7201a8\"], [0.3333333333333333, \"#9c179e\"], [0.4444444444444444, \"#bd3786\"], [0.5555555555555556, \"#d8576b\"], [0.6666666666666666, \"#ed7953\"], [0.7777777777777778, \"#fb9f3a\"], [0.8888888888888888, \"#fdca26\"], [1.0, \"#f0f921\"]], \"type\": \"heatmapgl\"}], \"histogram\": [{\"marker\": {\"colorbar\": {\"outlinewidth\": 0, \"ticks\": \"\"}}, \"type\": \"histogram\"}], \"histogram2d\": [{\"colorbar\": {\"outlinewidth\": 0, \"ticks\": \"\"}, \"colorscale\": [[0.0, \"#0d0887\"], [0.1111111111111111, \"#46039f\"], [0.2222222222222222, \"#7201a8\"], [0.3333333333333333, \"#9c179e\"], [0.4444444444444444, \"#bd3786\"], [0.5555555555555556, \"#d8576b\"], [0.6666666666666666, \"#ed7953\"], [0.7777777777777778, \"#fb9f3a\"], [0.8888888888888888, \"#fdca26\"], [1.0, \"#f0f921\"]], \"type\": \"histogram2d\"}], \"histogram2dcontour\": [{\"colorbar\": {\"outlinewidth\": 0, \"ticks\": \"\"}, \"colorscale\": [[0.0, \"#0d0887\"], [0.1111111111111111, \"#46039f\"], [0.2222222222222222, \"#7201a8\"], [0.3333333333333333, \"#9c179e\"], [0.4444444444444444, \"#bd3786\"], [0.5555555555555556, \"#d8576b\"], [0.6666666666666666, \"#ed7953\"], [0.7777777777777778, \"#fb9f3a\"], [0.8888888888888888, \"#fdca26\"], [1.0, \"#f0f921\"]], \"type\": \"histogram2dcontour\"}], \"mesh3d\": [{\"colorbar\": {\"outlinewidth\": 0, \"ticks\": \"\"}, \"type\": \"mesh3d\"}], \"parcoords\": [{\"line\": {\"colorbar\": {\"outlinewidth\": 0, \"ticks\": \"\"}}, \"type\": \"parcoords\"}], \"pie\": [{\"automargin\": true, \"type\": \"pie\"}], \"scatter\": [{\"marker\": {\"colorbar\": {\"outlinewidth\": 0, \"ticks\": \"\"}}, \"type\": \"scatter\"}], \"scatter3d\": [{\"line\": {\"colorbar\": {\"outlinewidth\": 0, \"ticks\": \"\"}}, \"marker\": {\"colorbar\": {\"outlinewidth\": 0, \"ticks\": \"\"}}, \"type\": \"scatter3d\"}], \"scattercarpet\": [{\"marker\": {\"colorbar\": {\"outlinewidth\": 0, \"ticks\": \"\"}}, \"type\": \"scattercarpet\"}], \"scattergeo\": [{\"marker\": {\"colorbar\": {\"outlinewidth\": 0, \"ticks\": \"\"}}, \"type\": \"scattergeo\"}], \"scattergl\": [{\"marker\": {\"colorbar\": {\"outlinewidth\": 0, \"ticks\": \"\"}}, \"type\": \"scattergl\"}], \"scattermapbox\": [{\"marker\": {\"colorbar\": {\"outlinewidth\": 0, \"ticks\": \"\"}}, \"type\": \"scattermapbox\"}], \"scatterpolar\": [{\"marker\": {\"colorbar\": {\"outlinewidth\": 0, \"ticks\": \"\"}}, \"type\": \"scatterpolar\"}], \"scatterpolargl\": [{\"marker\": {\"colorbar\": {\"outlinewidth\": 0, \"ticks\": \"\"}}, \"type\": \"scatterpolargl\"}], \"scatterternary\": [{\"marker\": {\"colorbar\": {\"outlinewidth\": 0, \"ticks\": \"\"}}, \"type\": \"scatterternary\"}], \"surface\": [{\"colorbar\": {\"outlinewidth\": 0, \"ticks\": \"\"}, \"colorscale\": [[0.0, \"#0d0887\"], [0.1111111111111111, \"#46039f\"], [0.2222222222222222, \"#7201a8\"], [0.3333333333333333, \"#9c179e\"], [0.4444444444444444, \"#bd3786\"], [0.5555555555555556, \"#d8576b\"], [0.6666666666666666, \"#ed7953\"], [0.7777777777777778, \"#fb9f3a\"], [0.8888888888888888, \"#fdca26\"], [1.0, \"#f0f921\"]], \"type\": \"surface\"}], \"table\": [{\"cells\": {\"fill\": {\"color\": \"#EBF0F8\"}, \"line\": {\"color\": \"white\"}}, \"header\": {\"fill\": {\"color\": \"#C8D4E3\"}, \"line\": {\"color\": \"white\"}}, \"type\": \"table\"}]}, \"layout\": {\"annotationdefaults\": {\"arrowcolor\": \"#2a3f5f\", \"arrowhead\": 0, \"arrowwidth\": 1}, \"coloraxis\": {\"colorbar\": {\"outlinewidth\": 0, \"ticks\": \"\"}}, \"colorscale\": {\"diverging\": [[0, \"#8e0152\"], [0.1, \"#c51b7d\"], [0.2, \"#de77ae\"], [0.3, \"#f1b6da\"], [0.4, \"#fde0ef\"], [0.5, \"#f7f7f7\"], [0.6, \"#e6f5d0\"], [0.7, \"#b8e186\"], [0.8, \"#7fbc41\"], [0.9, \"#4d9221\"], [1, \"#276419\"]], \"sequential\": [[0.0, \"#0d0887\"], [0.1111111111111111, \"#46039f\"], [0.2222222222222222, \"#7201a8\"], [0.3333333333333333, \"#9c179e\"], [0.4444444444444444, \"#bd3786\"], [0.5555555555555556, \"#d8576b\"], [0.6666666666666666, \"#ed7953\"], [0.7777777777777778, \"#fb9f3a\"], [0.8888888888888888, \"#fdca26\"], [1.0, \"#f0f921\"]], \"sequentialminus\": [[0.0, \"#0d0887\"], [0.1111111111111111, \"#46039f\"], [0.2222222222222222, \"#7201a8\"], [0.3333333333333333, \"#9c179e\"], [0.4444444444444444, \"#bd3786\"], [0.5555555555555556, \"#d8576b\"], [0.6666666666666666, \"#ed7953\"], [0.7777777777777778, \"#fb9f3a\"], [0.8888888888888888, \"#fdca26\"], [1.0, \"#f0f921\"]]}, \"colorway\": [\"#636efa\", \"#EF553B\", \"#00cc96\", \"#ab63fa\", \"#FFA15A\", \"#19d3f3\", \"#FF6692\", \"#B6E880\", \"#FF97FF\", \"#FECB52\"], \"font\": {\"color\": \"#2a3f5f\"}, \"geo\": {\"bgcolor\": \"white\", \"lakecolor\": \"white\", \"landcolor\": \"#E5ECF6\", \"showlakes\": true, \"showland\": true, \"subunitcolor\": \"white\"}, \"hoverlabel\": {\"align\": \"left\"}, \"hovermode\": \"closest\", \"mapbox\": {\"style\": \"light\"}, \"paper_bgcolor\": \"white\", \"plot_bgcolor\": \"#E5ECF6\", \"polar\": {\"angularaxis\": {\"gridcolor\": \"white\", \"linecolor\": \"white\", \"ticks\": \"\"}, \"bgcolor\": \"#E5ECF6\", \"radialaxis\": {\"gridcolor\": \"white\", \"linecolor\": \"white\", \"ticks\": \"\"}}, \"scene\": {\"xaxis\": {\"backgroundcolor\": \"#E5ECF6\", \"gridcolor\": \"white\", \"gridwidth\": 2, \"linecolor\": \"white\", \"showbackground\": true, \"ticks\": \"\", \"zerolinecolor\": \"white\"}, \"yaxis\": {\"backgroundcolor\": \"#E5ECF6\", \"gridcolor\": \"white\", \"gridwidth\": 2, \"linecolor\": \"white\", \"showbackground\": true, \"ticks\": \"\", \"zerolinecolor\": \"white\"}, \"zaxis\": {\"backgroundcolor\": \"#E5ECF6\", \"gridcolor\": \"white\", \"gridwidth\": 2, \"linecolor\": \"white\", \"showbackground\": true, \"ticks\": \"\", \"zerolinecolor\": \"white\"}}, \"shapedefaults\": {\"line\": {\"color\": \"#2a3f5f\"}}, \"ternary\": {\"aaxis\": {\"gridcolor\": \"white\", \"linecolor\": \"white\", \"ticks\": \"\"}, \"baxis\": {\"gridcolor\": \"white\", \"linecolor\": \"white\", \"ticks\": \"\"}, \"bgcolor\": \"#E5ECF6\", \"caxis\": {\"gridcolor\": \"white\", \"linecolor\": \"white\", \"ticks\": \"\"}}, \"title\": {\"x\": 0.05}, \"xaxis\": {\"automargin\": true, \"gridcolor\": \"white\", \"linecolor\": \"white\", \"ticks\": \"\", \"title\": {\"standoff\": 15}, \"zerolinecolor\": \"white\", \"zerolinewidth\": 2}, \"yaxis\": {\"automargin\": true, \"gridcolor\": \"white\", \"linecolor\": \"white\", \"ticks\": \"\", \"title\": {\"standoff\": 15}, \"zerolinecolor\": \"white\", \"zerolinewidth\": 2}}}},\n",
              "                        {\"responsive\": true}\n",
              "                    ).then(function(){\n",
              "                            \n",
              "var gd = document.getElementById('2be227d5-f08e-4269-9ac1-6d18bc23a1ac');\n",
              "var x = new MutationObserver(function (mutations, observer) {{\n",
              "        var display = window.getComputedStyle(gd).display;\n",
              "        if (!display || display === 'none') {{\n",
              "            console.log([gd, 'removed!']);\n",
              "            Plotly.purge(gd);\n",
              "            observer.disconnect();\n",
              "        }}\n",
              "}});\n",
              "\n",
              "// Listen for the removal of the full notebook cells\n",
              "var notebookContainer = gd.closest('#notebook-container');\n",
              "if (notebookContainer) {{\n",
              "    x.observe(notebookContainer, {childList: true});\n",
              "}}\n",
              "\n",
              "// Listen for the clearing of the current output cell\n",
              "var outputEl = gd.closest('.output');\n",
              "if (outputEl) {{\n",
              "    x.observe(outputEl, {childList: true});\n",
              "}}\n",
              "\n",
              "                        })\n",
              "                };\n",
              "                \n",
              "            </script>\n",
              "        </div>\n",
              "</body>\n",
              "</html>"
            ]
          },
          "metadata": {
            "tags": []
          }
        },
        {
          "output_type": "display_data",
          "data": {
            "text/html": [
              "<html>\n",
              "<head><meta charset=\"utf-8\" /></head>\n",
              "<body>\n",
              "    <div>\n",
              "            <script src=\"https://cdnjs.cloudflare.com/ajax/libs/mathjax/2.7.5/MathJax.js?config=TeX-AMS-MML_SVG\"></script><script type=\"text/javascript\">if (window.MathJax) {MathJax.Hub.Config({SVG: {font: \"STIX-Web\"}});}</script>\n",
              "                <script type=\"text/javascript\">window.PlotlyConfig = {MathJaxConfig: 'local'};</script>\n",
              "        <script src=\"https://cdn.plot.ly/plotly-latest.min.js\"></script>    \n",
              "            <div id=\"b9697275-f5f0-4a52-a217-58a95488e183\" class=\"plotly-graph-div\" style=\"height:525px; width:100%;\"></div>\n",
              "            <script type=\"text/javascript\">\n",
              "                \n",
              "                    window.PLOTLYENV=window.PLOTLYENV || {};\n",
              "                    \n",
              "                if (document.getElementById(\"b9697275-f5f0-4a52-a217-58a95488e183\")) {\n",
              "                    Plotly.newPlot(\n",
              "                        'b9697275-f5f0-4a52-a217-58a95488e183',\n",
              "                        [{\"close\": [328.04, 340.5, 343.86, 352.91, 352.89, 350.49, 352.29, 351.91, 359.12, 364.9, 358.0, 358.87, 358.36, 364.27, 363.14, 364.83, 387.87, 385.49, 387.5, 396.96, 410.01, 410.91, 405.09, 404.87, 404.0, 410.98, 410.56, 409.9, 417.94, 416.24, 421.62, 417.56, 424.0, 426.86, 426.74, 435.42, 439.79, 440.79, 432.61, 430.27, 424.5, 421.94, 422.61], \"high\": [330.51, 341.17, 347.2, 353.41, 354.24, 352.8, 353.2, 355.0, 363.05, 367.29, 363.93, 362.19, 363.15, 366.84, 363.14, 367.65, 391.86, 388.88, 392.77, 396.97, 410.71, 413.8, 410.16, 404.87, 409.82, 411.17, 412.45, 412.07, 418.04, 417.89, 421.82, 421.91, 424.44, 429.82, 428.99, 436.32, 441.38, 445.88, 444.19, 433.8, 431.97, 424.85, 423.31], \"low\": [323.77, 332.8, 340.98, 343.01, 348.22, 347.16, 348.04, 351.67, 351.35, 361.4, 354.48, 353.67, 357.02, 360.44, 357.72, 362.49, 380.51, 382.13, 384.73, 388.52, 399.75, 405.89, 402.53, 397.83, 402.845, 405.47, 407.8, 407.99, 411.5, 414.58, 417.16, 415.81, 419.14, 426.52, 424.4, 427.16, 437.14, 440.2, 426.64, 428.75, 422.14, 416.44, 415.65], \"open\": [329.79, 334.11, 342.96, 345.0, 348.56, 348.73, 352.01, 352.8, 351.35, 363.78, 362.46, 361.44, 359.2, 362.23, 359.75, 362.99, 386.15, 387.7, 386.79, 388.93, 400.61, 410.67, 406.46, 399.65, 408.18, 407.46, 411.09, 409.44, 412.47, 415.91, 417.16, 421.5, 419.91, 427.64, 425.85, 427.16, 437.8, 445.57, 443.24, 431.5, 430.09, 422.33, 415.65], \"type\": \"candlestick\", \"x\": [1000, 1001, 1002, 1003, 1004, 1005, 1006, 1007, 1008, 1009, 1010, 1011, 1012, 1013, 1014, 1015, 1016, 1017, 1018, 1019, 1020, 1021, 1022, 1023, 1024, 1025, 1026, 1027, 1028, 1029, 1030, 1031, 1032, 1033, 1034, 1035, 1036, 1037, 1038, 1039, 1040, 1041, 1042]}],\n",
              "                        {\"template\": {\"data\": {\"bar\": [{\"error_x\": {\"color\": \"#2a3f5f\"}, \"error_y\": {\"color\": \"#2a3f5f\"}, \"marker\": {\"line\": {\"color\": \"#E5ECF6\", \"width\": 0.5}}, \"type\": \"bar\"}], \"barpolar\": [{\"marker\": {\"line\": {\"color\": \"#E5ECF6\", \"width\": 0.5}}, \"type\": \"barpolar\"}], \"carpet\": [{\"aaxis\": {\"endlinecolor\": \"#2a3f5f\", \"gridcolor\": \"white\", \"linecolor\": \"white\", \"minorgridcolor\": \"white\", \"startlinecolor\": \"#2a3f5f\"}, \"baxis\": {\"endlinecolor\": \"#2a3f5f\", \"gridcolor\": \"white\", \"linecolor\": \"white\", \"minorgridcolor\": \"white\", \"startlinecolor\": \"#2a3f5f\"}, \"type\": \"carpet\"}], \"choropleth\": [{\"colorbar\": {\"outlinewidth\": 0, \"ticks\": \"\"}, \"type\": \"choropleth\"}], \"contour\": [{\"colorbar\": {\"outlinewidth\": 0, \"ticks\": \"\"}, \"colorscale\": [[0.0, \"#0d0887\"], [0.1111111111111111, \"#46039f\"], [0.2222222222222222, \"#7201a8\"], [0.3333333333333333, \"#9c179e\"], [0.4444444444444444, \"#bd3786\"], [0.5555555555555556, \"#d8576b\"], [0.6666666666666666, \"#ed7953\"], [0.7777777777777778, \"#fb9f3a\"], [0.8888888888888888, \"#fdca26\"], [1.0, \"#f0f921\"]], \"type\": \"contour\"}], \"contourcarpet\": [{\"colorbar\": {\"outlinewidth\": 0, \"ticks\": \"\"}, \"type\": \"contourcarpet\"}], \"heatmap\": [{\"colorbar\": {\"outlinewidth\": 0, \"ticks\": \"\"}, \"colorscale\": [[0.0, \"#0d0887\"], [0.1111111111111111, \"#46039f\"], [0.2222222222222222, \"#7201a8\"], [0.3333333333333333, \"#9c179e\"], [0.4444444444444444, \"#bd3786\"], [0.5555555555555556, \"#d8576b\"], [0.6666666666666666, \"#ed7953\"], [0.7777777777777778, \"#fb9f3a\"], [0.8888888888888888, \"#fdca26\"], [1.0, \"#f0f921\"]], \"type\": \"heatmap\"}], \"heatmapgl\": [{\"colorbar\": {\"outlinewidth\": 0, \"ticks\": \"\"}, \"colorscale\": [[0.0, \"#0d0887\"], [0.1111111111111111, \"#46039f\"], [0.2222222222222222, \"#7201a8\"], [0.3333333333333333, \"#9c179e\"], [0.4444444444444444, \"#bd3786\"], [0.5555555555555556, \"#d8576b\"], [0.6666666666666666, \"#ed7953\"], [0.7777777777777778, \"#fb9f3a\"], [0.8888888888888888, \"#fdca26\"], [1.0, \"#f0f921\"]], \"type\": \"heatmapgl\"}], \"histogram\": [{\"marker\": {\"colorbar\": {\"outlinewidth\": 0, \"ticks\": \"\"}}, \"type\": \"histogram\"}], \"histogram2d\": [{\"colorbar\": {\"outlinewidth\": 0, \"ticks\": \"\"}, \"colorscale\": [[0.0, \"#0d0887\"], [0.1111111111111111, \"#46039f\"], [0.2222222222222222, \"#7201a8\"], [0.3333333333333333, \"#9c179e\"], [0.4444444444444444, \"#bd3786\"], [0.5555555555555556, \"#d8576b\"], [0.6666666666666666, \"#ed7953\"], [0.7777777777777778, \"#fb9f3a\"], [0.8888888888888888, \"#fdca26\"], [1.0, \"#f0f921\"]], \"type\": \"histogram2d\"}], \"histogram2dcontour\": [{\"colorbar\": {\"outlinewidth\": 0, \"ticks\": \"\"}, \"colorscale\": [[0.0, \"#0d0887\"], [0.1111111111111111, \"#46039f\"], [0.2222222222222222, \"#7201a8\"], [0.3333333333333333, \"#9c179e\"], [0.4444444444444444, \"#bd3786\"], [0.5555555555555556, \"#d8576b\"], [0.6666666666666666, \"#ed7953\"], [0.7777777777777778, \"#fb9f3a\"], [0.8888888888888888, \"#fdca26\"], [1.0, \"#f0f921\"]], \"type\": \"histogram2dcontour\"}], \"mesh3d\": [{\"colorbar\": {\"outlinewidth\": 0, \"ticks\": \"\"}, \"type\": \"mesh3d\"}], \"parcoords\": [{\"line\": {\"colorbar\": {\"outlinewidth\": 0, \"ticks\": \"\"}}, \"type\": \"parcoords\"}], \"pie\": [{\"automargin\": true, \"type\": \"pie\"}], \"scatter\": [{\"marker\": {\"colorbar\": {\"outlinewidth\": 0, \"ticks\": \"\"}}, \"type\": \"scatter\"}], \"scatter3d\": [{\"line\": {\"colorbar\": {\"outlinewidth\": 0, \"ticks\": \"\"}}, \"marker\": {\"colorbar\": {\"outlinewidth\": 0, \"ticks\": \"\"}}, \"type\": \"scatter3d\"}], \"scattercarpet\": [{\"marker\": {\"colorbar\": {\"outlinewidth\": 0, \"ticks\": \"\"}}, \"type\": \"scattercarpet\"}], \"scattergeo\": [{\"marker\": {\"colorbar\": {\"outlinewidth\": 0, \"ticks\": \"\"}}, \"type\": \"scattergeo\"}], \"scattergl\": [{\"marker\": {\"colorbar\": {\"outlinewidth\": 0, \"ticks\": \"\"}}, \"type\": \"scattergl\"}], \"scattermapbox\": [{\"marker\": {\"colorbar\": {\"outlinewidth\": 0, \"ticks\": \"\"}}, \"type\": \"scattermapbox\"}], \"scatterpolar\": [{\"marker\": {\"colorbar\": {\"outlinewidth\": 0, \"ticks\": \"\"}}, \"type\": \"scatterpolar\"}], \"scatterpolargl\": [{\"marker\": {\"colorbar\": {\"outlinewidth\": 0, \"ticks\": \"\"}}, \"type\": \"scatterpolargl\"}], \"scatterternary\": [{\"marker\": {\"colorbar\": {\"outlinewidth\": 0, \"ticks\": \"\"}}, \"type\": \"scatterternary\"}], \"surface\": [{\"colorbar\": {\"outlinewidth\": 0, \"ticks\": \"\"}, \"colorscale\": [[0.0, \"#0d0887\"], [0.1111111111111111, \"#46039f\"], [0.2222222222222222, \"#7201a8\"], [0.3333333333333333, \"#9c179e\"], [0.4444444444444444, \"#bd3786\"], [0.5555555555555556, \"#d8576b\"], [0.6666666666666666, \"#ed7953\"], [0.7777777777777778, \"#fb9f3a\"], [0.8888888888888888, \"#fdca26\"], [1.0, \"#f0f921\"]], \"type\": \"surface\"}], \"table\": [{\"cells\": {\"fill\": {\"color\": \"#EBF0F8\"}, \"line\": {\"color\": \"white\"}}, \"header\": {\"fill\": {\"color\": \"#C8D4E3\"}, \"line\": {\"color\": \"white\"}}, \"type\": \"table\"}]}, \"layout\": {\"annotationdefaults\": {\"arrowcolor\": \"#2a3f5f\", \"arrowhead\": 0, \"arrowwidth\": 1}, \"coloraxis\": {\"colorbar\": {\"outlinewidth\": 0, \"ticks\": \"\"}}, \"colorscale\": {\"diverging\": [[0, \"#8e0152\"], [0.1, \"#c51b7d\"], [0.2, \"#de77ae\"], [0.3, \"#f1b6da\"], [0.4, \"#fde0ef\"], [0.5, \"#f7f7f7\"], [0.6, \"#e6f5d0\"], [0.7, \"#b8e186\"], [0.8, \"#7fbc41\"], [0.9, \"#4d9221\"], [1, \"#276419\"]], \"sequential\": [[0.0, \"#0d0887\"], [0.1111111111111111, \"#46039f\"], [0.2222222222222222, \"#7201a8\"], [0.3333333333333333, \"#9c179e\"], [0.4444444444444444, \"#bd3786\"], [0.5555555555555556, \"#d8576b\"], [0.6666666666666666, \"#ed7953\"], [0.7777777777777778, \"#fb9f3a\"], [0.8888888888888888, \"#fdca26\"], [1.0, \"#f0f921\"]], \"sequentialminus\": [[0.0, \"#0d0887\"], [0.1111111111111111, \"#46039f\"], [0.2222222222222222, \"#7201a8\"], [0.3333333333333333, \"#9c179e\"], [0.4444444444444444, \"#bd3786\"], [0.5555555555555556, \"#d8576b\"], [0.6666666666666666, \"#ed7953\"], [0.7777777777777778, \"#fb9f3a\"], [0.8888888888888888, \"#fdca26\"], [1.0, \"#f0f921\"]]}, \"colorway\": [\"#636efa\", \"#EF553B\", \"#00cc96\", \"#ab63fa\", \"#FFA15A\", \"#19d3f3\", \"#FF6692\", \"#B6E880\", \"#FF97FF\", \"#FECB52\"], \"font\": {\"color\": \"#2a3f5f\"}, \"geo\": {\"bgcolor\": \"white\", \"lakecolor\": \"white\", \"landcolor\": \"#E5ECF6\", \"showlakes\": true, \"showland\": true, \"subunitcolor\": \"white\"}, \"hoverlabel\": {\"align\": \"left\"}, \"hovermode\": \"closest\", \"mapbox\": {\"style\": \"light\"}, \"paper_bgcolor\": \"white\", \"plot_bgcolor\": \"#E5ECF6\", \"polar\": {\"angularaxis\": {\"gridcolor\": \"white\", \"linecolor\": \"white\", \"ticks\": \"\"}, \"bgcolor\": \"#E5ECF6\", \"radialaxis\": {\"gridcolor\": \"white\", \"linecolor\": \"white\", \"ticks\": \"\"}}, \"scene\": {\"xaxis\": {\"backgroundcolor\": \"#E5ECF6\", \"gridcolor\": \"white\", \"gridwidth\": 2, \"linecolor\": \"white\", \"showbackground\": true, \"ticks\": \"\", \"zerolinecolor\": \"white\"}, \"yaxis\": {\"backgroundcolor\": \"#E5ECF6\", \"gridcolor\": \"white\", \"gridwidth\": 2, \"linecolor\": \"white\", \"showbackground\": true, \"ticks\": \"\", \"zerolinecolor\": \"white\"}, \"zaxis\": {\"backgroundcolor\": \"#E5ECF6\", \"gridcolor\": \"white\", \"gridwidth\": 2, \"linecolor\": \"white\", \"showbackground\": true, \"ticks\": \"\", \"zerolinecolor\": \"white\"}}, \"shapedefaults\": {\"line\": {\"color\": \"#2a3f5f\"}}, \"ternary\": {\"aaxis\": {\"gridcolor\": \"white\", \"linecolor\": \"white\", \"ticks\": \"\"}, \"baxis\": {\"gridcolor\": \"white\", \"linecolor\": \"white\", \"ticks\": \"\"}, \"bgcolor\": \"#E5ECF6\", \"caxis\": {\"gridcolor\": \"white\", \"linecolor\": \"white\", \"ticks\": \"\"}}, \"title\": {\"x\": 0.05}, \"xaxis\": {\"automargin\": true, \"gridcolor\": \"white\", \"linecolor\": \"white\", \"ticks\": \"\", \"title\": {\"standoff\": 15}, \"zerolinecolor\": \"white\", \"zerolinewidth\": 2}, \"yaxis\": {\"automargin\": true, \"gridcolor\": \"white\", \"linecolor\": \"white\", \"ticks\": \"\", \"title\": {\"standoff\": 15}, \"zerolinecolor\": \"white\", \"zerolinewidth\": 2}}}},\n",
              "                        {\"responsive\": true}\n",
              "                    ).then(function(){\n",
              "                            \n",
              "var gd = document.getElementById('b9697275-f5f0-4a52-a217-58a95488e183');\n",
              "var x = new MutationObserver(function (mutations, observer) {{\n",
              "        var display = window.getComputedStyle(gd).display;\n",
              "        if (!display || display === 'none') {{\n",
              "            console.log([gd, 'removed!']);\n",
              "            Plotly.purge(gd);\n",
              "            observer.disconnect();\n",
              "        }}\n",
              "}});\n",
              "\n",
              "// Listen for the removal of the full notebook cells\n",
              "var notebookContainer = gd.closest('#notebook-container');\n",
              "if (notebookContainer) {{\n",
              "    x.observe(notebookContainer, {childList: true});\n",
              "}}\n",
              "\n",
              "// Listen for the clearing of the current output cell\n",
              "var outputEl = gd.closest('.output');\n",
              "if (outputEl) {{\n",
              "    x.observe(outputEl, {childList: true});\n",
              "}}\n",
              "\n",
              "                        })\n",
              "                };\n",
              "                \n",
              "            </script>\n",
              "        </div>\n",
              "</body>\n",
              "</html>"
            ]
          },
          "metadata": {
            "tags": []
          }
        },
        {
          "output_type": "display_data",
          "data": {
            "text/html": [
              "<html>\n",
              "<head><meta charset=\"utf-8\" /></head>\n",
              "<body>\n",
              "    <div>\n",
              "            <script src=\"https://cdnjs.cloudflare.com/ajax/libs/mathjax/2.7.5/MathJax.js?config=TeX-AMS-MML_SVG\"></script><script type=\"text/javascript\">if (window.MathJax) {MathJax.Hub.Config({SVG: {font: \"STIX-Web\"}});}</script>\n",
              "                <script type=\"text/javascript\">window.PlotlyConfig = {MathJaxConfig: 'local'};</script>\n",
              "        <script src=\"https://cdn.plot.ly/plotly-latest.min.js\"></script>    \n",
              "            <div id=\"41ca45a1-9f9b-42b9-b45e-85ff71635de8\" class=\"plotly-graph-div\" style=\"height:525px; width:100%;\"></div>\n",
              "            <script type=\"text/javascript\">\n",
              "                \n",
              "                    window.PLOTLYENV=window.PLOTLYENV || {};\n",
              "                    \n",
              "                if (document.getElementById(\"41ca45a1-9f9b-42b9-b45e-85ff71635de8\")) {\n",
              "                    Plotly.newPlot(\n",
              "                        '41ca45a1-9f9b-42b9-b45e-85ff71635de8',\n",
              "                        [{\"close\": [179.34, 188.69, 182.23, 176.63, 187.04, 202.4, 210.08, 203.32, 205.57, 199.65, 211.29, 218.46, 217.56, 216.57, 210.98, 213.09, 223.8, 237.2, 232.58, 237.99, 236.47, 231.96, 234.43, 230.32, 228.8, 229.4, 225.9, 221.2, 220.19, 219.25, 218.82, 219.57], \"high\": [184.45, 193.92, 189.96, 184.56, 187.26, 202.81, 211.17, 222.35, 209.42, 206.57, 214.2, 222.9, 221.0, 219.88, 217.6, 218.05, 224.93, 242.0, 238.07, 244.0, 241.49, 240.8, 236.98, 236.2, 237.6, 232.48, 232.3, 228.46, 223.42, 219.4, 223.65, 224.34], \"low\": [172.24, 180.44, 180.42, 176.25, 178.78, 191.47, 196.08, 203.01, 200.0, 199.19, 202.0, 215.85, 213.12, 216.06, 208.6, 213.0, 210.42, 226.6, 230.26, 237.2, 234.52, 228.37, 228.24, 228.35, 228.37, 224.73, 225.3, 220.53, 218.62, 211.11, 217.81, 219.4], \"open\": [179.19, 182.72, 189.73, 178.74, 178.99, 194.59, 200.07, 222.35, 200.09, 204.72, 203.29, 219.91, 217.41, 217.69, 215.67, 214.49, 213.1, 227.66, 236.42, 238.27, 238.43, 238.61, 228.25, 233.03, 234.41, 230.04, 229.45, 227.22, 221.87, 212.43, 223.65, 219.75], \"type\": \"candlestick\", \"x\": [1462, 1463, 1464, 1465, 1466, 1467, 1468, 1469, 1470, 1471, 1472, 1473, 1474, 1475, 1476, 1477, 1478, 1479, 1480, 1481, 1482, 1483, 1484, 1485, 1486, 1487, 1488, 1489, 1490, 1491, 1492, 1493]}],\n",
              "                        {\"template\": {\"data\": {\"bar\": [{\"error_x\": {\"color\": \"#2a3f5f\"}, \"error_y\": {\"color\": \"#2a3f5f\"}, \"marker\": {\"line\": {\"color\": \"#E5ECF6\", \"width\": 0.5}}, \"type\": \"bar\"}], \"barpolar\": [{\"marker\": {\"line\": {\"color\": \"#E5ECF6\", \"width\": 0.5}}, \"type\": \"barpolar\"}], \"carpet\": [{\"aaxis\": {\"endlinecolor\": \"#2a3f5f\", \"gridcolor\": \"white\", \"linecolor\": \"white\", \"minorgridcolor\": \"white\", \"startlinecolor\": \"#2a3f5f\"}, \"baxis\": {\"endlinecolor\": \"#2a3f5f\", \"gridcolor\": \"white\", \"linecolor\": \"white\", \"minorgridcolor\": \"white\", \"startlinecolor\": \"#2a3f5f\"}, \"type\": \"carpet\"}], \"choropleth\": [{\"colorbar\": {\"outlinewidth\": 0, \"ticks\": \"\"}, \"type\": \"choropleth\"}], \"contour\": [{\"colorbar\": {\"outlinewidth\": 0, \"ticks\": \"\"}, \"colorscale\": [[0.0, \"#0d0887\"], [0.1111111111111111, \"#46039f\"], [0.2222222222222222, \"#7201a8\"], [0.3333333333333333, \"#9c179e\"], [0.4444444444444444, \"#bd3786\"], [0.5555555555555556, \"#d8576b\"], [0.6666666666666666, \"#ed7953\"], [0.7777777777777778, \"#fb9f3a\"], [0.8888888888888888, \"#fdca26\"], [1.0, \"#f0f921\"]], \"type\": \"contour\"}], \"contourcarpet\": [{\"colorbar\": {\"outlinewidth\": 0, \"ticks\": \"\"}, \"type\": \"contourcarpet\"}], \"heatmap\": [{\"colorbar\": {\"outlinewidth\": 0, \"ticks\": \"\"}, \"colorscale\": [[0.0, \"#0d0887\"], [0.1111111111111111, \"#46039f\"], [0.2222222222222222, \"#7201a8\"], [0.3333333333333333, \"#9c179e\"], [0.4444444444444444, \"#bd3786\"], [0.5555555555555556, \"#d8576b\"], [0.6666666666666666, \"#ed7953\"], [0.7777777777777778, \"#fb9f3a\"], [0.8888888888888888, \"#fdca26\"], [1.0, \"#f0f921\"]], \"type\": \"heatmap\"}], \"heatmapgl\": [{\"colorbar\": {\"outlinewidth\": 0, \"ticks\": \"\"}, \"colorscale\": [[0.0, \"#0d0887\"], [0.1111111111111111, \"#46039f\"], [0.2222222222222222, \"#7201a8\"], [0.3333333333333333, \"#9c179e\"], [0.4444444444444444, \"#bd3786\"], [0.5555555555555556, \"#d8576b\"], [0.6666666666666666, \"#ed7953\"], [0.7777777777777778, \"#fb9f3a\"], [0.8888888888888888, \"#fdca26\"], [1.0, \"#f0f921\"]], \"type\": \"heatmapgl\"}], \"histogram\": [{\"marker\": {\"colorbar\": {\"outlinewidth\": 0, \"ticks\": \"\"}}, \"type\": \"histogram\"}], \"histogram2d\": [{\"colorbar\": {\"outlinewidth\": 0, \"ticks\": \"\"}, \"colorscale\": [[0.0, \"#0d0887\"], [0.1111111111111111, \"#46039f\"], [0.2222222222222222, \"#7201a8\"], [0.3333333333333333, \"#9c179e\"], [0.4444444444444444, \"#bd3786\"], [0.5555555555555556, \"#d8576b\"], [0.6666666666666666, \"#ed7953\"], [0.7777777777777778, \"#fb9f3a\"], [0.8888888888888888, \"#fdca26\"], [1.0, \"#f0f921\"]], \"type\": \"histogram2d\"}], \"histogram2dcontour\": [{\"colorbar\": {\"outlinewidth\": 0, \"ticks\": \"\"}, \"colorscale\": [[0.0, \"#0d0887\"], [0.1111111111111111, \"#46039f\"], [0.2222222222222222, \"#7201a8\"], [0.3333333333333333, \"#9c179e\"], [0.4444444444444444, \"#bd3786\"], [0.5555555555555556, \"#d8576b\"], [0.6666666666666666, \"#ed7953\"], [0.7777777777777778, \"#fb9f3a\"], [0.8888888888888888, \"#fdca26\"], [1.0, \"#f0f921\"]], \"type\": \"histogram2dcontour\"}], \"mesh3d\": [{\"colorbar\": {\"outlinewidth\": 0, \"ticks\": \"\"}, \"type\": \"mesh3d\"}], \"parcoords\": [{\"line\": {\"colorbar\": {\"outlinewidth\": 0, \"ticks\": \"\"}}, \"type\": \"parcoords\"}], \"pie\": [{\"automargin\": true, \"type\": \"pie\"}], \"scatter\": [{\"marker\": {\"colorbar\": {\"outlinewidth\": 0, \"ticks\": \"\"}}, \"type\": \"scatter\"}], \"scatter3d\": [{\"line\": {\"colorbar\": {\"outlinewidth\": 0, \"ticks\": \"\"}}, \"marker\": {\"colorbar\": {\"outlinewidth\": 0, \"ticks\": \"\"}}, \"type\": \"scatter3d\"}], \"scattercarpet\": [{\"marker\": {\"colorbar\": {\"outlinewidth\": 0, \"ticks\": \"\"}}, \"type\": \"scattercarpet\"}], \"scattergeo\": [{\"marker\": {\"colorbar\": {\"outlinewidth\": 0, \"ticks\": \"\"}}, \"type\": \"scattergeo\"}], \"scattergl\": [{\"marker\": {\"colorbar\": {\"outlinewidth\": 0, \"ticks\": \"\"}}, \"type\": \"scattergl\"}], \"scattermapbox\": [{\"marker\": {\"colorbar\": {\"outlinewidth\": 0, \"ticks\": \"\"}}, \"type\": \"scattermapbox\"}], \"scatterpolar\": [{\"marker\": {\"colorbar\": {\"outlinewidth\": 0, \"ticks\": \"\"}}, \"type\": \"scatterpolar\"}], \"scatterpolargl\": [{\"marker\": {\"colorbar\": {\"outlinewidth\": 0, \"ticks\": \"\"}}, \"type\": \"scatterpolargl\"}], \"scatterternary\": [{\"marker\": {\"colorbar\": {\"outlinewidth\": 0, \"ticks\": \"\"}}, \"type\": \"scatterternary\"}], \"surface\": [{\"colorbar\": {\"outlinewidth\": 0, \"ticks\": \"\"}, \"colorscale\": [[0.0, \"#0d0887\"], [0.1111111111111111, \"#46039f\"], [0.2222222222222222, \"#7201a8\"], [0.3333333333333333, \"#9c179e\"], [0.4444444444444444, \"#bd3786\"], [0.5555555555555556, \"#d8576b\"], [0.6666666666666666, \"#ed7953\"], [0.7777777777777778, \"#fb9f3a\"], [0.8888888888888888, \"#fdca26\"], [1.0, \"#f0f921\"]], \"type\": \"surface\"}], \"table\": [{\"cells\": {\"fill\": {\"color\": \"#EBF0F8\"}, \"line\": {\"color\": \"white\"}}, \"header\": {\"fill\": {\"color\": \"#C8D4E3\"}, \"line\": {\"color\": \"white\"}}, \"type\": \"table\"}]}, \"layout\": {\"annotationdefaults\": {\"arrowcolor\": \"#2a3f5f\", \"arrowhead\": 0, \"arrowwidth\": 1}, \"coloraxis\": {\"colorbar\": {\"outlinewidth\": 0, \"ticks\": \"\"}}, \"colorscale\": {\"diverging\": [[0, \"#8e0152\"], [0.1, \"#c51b7d\"], [0.2, \"#de77ae\"], [0.3, \"#f1b6da\"], [0.4, \"#fde0ef\"], [0.5, \"#f7f7f7\"], [0.6, \"#e6f5d0\"], [0.7, \"#b8e186\"], [0.8, \"#7fbc41\"], [0.9, \"#4d9221\"], [1, \"#276419\"]], \"sequential\": [[0.0, \"#0d0887\"], [0.1111111111111111, \"#46039f\"], [0.2222222222222222, \"#7201a8\"], [0.3333333333333333, \"#9c179e\"], [0.4444444444444444, \"#bd3786\"], [0.5555555555555556, \"#d8576b\"], [0.6666666666666666, \"#ed7953\"], [0.7777777777777778, \"#fb9f3a\"], [0.8888888888888888, \"#fdca26\"], [1.0, \"#f0f921\"]], \"sequentialminus\": [[0.0, \"#0d0887\"], [0.1111111111111111, \"#46039f\"], [0.2222222222222222, \"#7201a8\"], [0.3333333333333333, \"#9c179e\"], [0.4444444444444444, \"#bd3786\"], [0.5555555555555556, \"#d8576b\"], [0.6666666666666666, \"#ed7953\"], [0.7777777777777778, \"#fb9f3a\"], [0.8888888888888888, \"#fdca26\"], [1.0, \"#f0f921\"]]}, \"colorway\": [\"#636efa\", \"#EF553B\", \"#00cc96\", \"#ab63fa\", \"#FFA15A\", \"#19d3f3\", \"#FF6692\", \"#B6E880\", \"#FF97FF\", \"#FECB52\"], \"font\": {\"color\": \"#2a3f5f\"}, \"geo\": {\"bgcolor\": \"white\", \"lakecolor\": \"white\", \"landcolor\": \"#E5ECF6\", \"showlakes\": true, \"showland\": true, \"subunitcolor\": \"white\"}, \"hoverlabel\": {\"align\": \"left\"}, \"hovermode\": \"closest\", \"mapbox\": {\"style\": \"light\"}, \"paper_bgcolor\": \"white\", \"plot_bgcolor\": \"#E5ECF6\", \"polar\": {\"angularaxis\": {\"gridcolor\": \"white\", \"linecolor\": \"white\", \"ticks\": \"\"}, \"bgcolor\": \"#E5ECF6\", \"radialaxis\": {\"gridcolor\": \"white\", \"linecolor\": \"white\", \"ticks\": \"\"}}, \"scene\": {\"xaxis\": {\"backgroundcolor\": \"#E5ECF6\", \"gridcolor\": \"white\", \"gridwidth\": 2, \"linecolor\": \"white\", \"showbackground\": true, \"ticks\": \"\", \"zerolinecolor\": \"white\"}, \"yaxis\": {\"backgroundcolor\": \"#E5ECF6\", \"gridcolor\": \"white\", \"gridwidth\": 2, \"linecolor\": \"white\", \"showbackground\": true, \"ticks\": \"\", \"zerolinecolor\": \"white\"}, \"zaxis\": {\"backgroundcolor\": \"#E5ECF6\", \"gridcolor\": \"white\", \"gridwidth\": 2, \"linecolor\": \"white\", \"showbackground\": true, \"ticks\": \"\", \"zerolinecolor\": \"white\"}}, \"shapedefaults\": {\"line\": {\"color\": \"#2a3f5f\"}}, \"ternary\": {\"aaxis\": {\"gridcolor\": \"white\", \"linecolor\": \"white\", \"ticks\": \"\"}, \"baxis\": {\"gridcolor\": \"white\", \"linecolor\": \"white\", \"ticks\": \"\"}, \"bgcolor\": \"#E5ECF6\", \"caxis\": {\"gridcolor\": \"white\", \"linecolor\": \"white\", \"ticks\": \"\"}}, \"title\": {\"x\": 0.05}, \"xaxis\": {\"automargin\": true, \"gridcolor\": \"white\", \"linecolor\": \"white\", \"ticks\": \"\", \"title\": {\"standoff\": 15}, \"zerolinecolor\": \"white\", \"zerolinewidth\": 2}, \"yaxis\": {\"automargin\": true, \"gridcolor\": \"white\", \"linecolor\": \"white\", \"ticks\": \"\", \"title\": {\"standoff\": 15}, \"zerolinecolor\": \"white\", \"zerolinewidth\": 2}}}},\n",
              "                        {\"responsive\": true}\n",
              "                    ).then(function(){\n",
              "                            \n",
              "var gd = document.getElementById('41ca45a1-9f9b-42b9-b45e-85ff71635de8');\n",
              "var x = new MutationObserver(function (mutations, observer) {{\n",
              "        var display = window.getComputedStyle(gd).display;\n",
              "        if (!display || display === 'none') {{\n",
              "            console.log([gd, 'removed!']);\n",
              "            Plotly.purge(gd);\n",
              "            observer.disconnect();\n",
              "        }}\n",
              "}});\n",
              "\n",
              "// Listen for the removal of the full notebook cells\n",
              "var notebookContainer = gd.closest('#notebook-container');\n",
              "if (notebookContainer) {{\n",
              "    x.observe(notebookContainer, {childList: true});\n",
              "}}\n",
              "\n",
              "// Listen for the clearing of the current output cell\n",
              "var outputEl = gd.closest('.output');\n",
              "if (outputEl) {{\n",
              "    x.observe(outputEl, {childList: true});\n",
              "}}\n",
              "\n",
              "                        })\n",
              "                };\n",
              "                \n",
              "            </script>\n",
              "        </div>\n",
              "</body>\n",
              "</html>"
            ]
          },
          "metadata": {
            "tags": []
          }
        }
      ]
    },
    {
      "cell_type": "code",
      "metadata": {
        "colab": {
          "base_uri": "https://localhost:8080/",
          "height": 562
        },
        "id": "J_2B69odDcU0",
        "outputId": "6702db9d-da31-48a2-bd48-f7c1b6f45849"
      },
      "source": [
        "draw_plot(data, 1, 100)"
      ],
      "execution_count": null,
      "outputs": [
        {
          "output_type": "display_data",
          "data": {
            "text/html": [
              "<html>\n",
              "<head><meta charset=\"utf-8\" /></head>\n",
              "<body>\n",
              "    <div>\n",
              "            <script src=\"https://cdnjs.cloudflare.com/ajax/libs/mathjax/2.7.5/MathJax.js?config=TeX-AMS-MML_SVG\"></script><script type=\"text/javascript\">if (window.MathJax) {MathJax.Hub.Config({SVG: {font: \"STIX-Web\"}});}</script>\n",
              "                <script type=\"text/javascript\">window.PlotlyConfig = {MathJaxConfig: 'local'};</script>\n",
              "        <script src=\"https://cdn.plot.ly/plotly-latest.min.js\"></script>    \n",
              "            <div id=\"c7732a5a-0068-448a-b983-3f8af56607a2\" class=\"plotly-graph-div\" style=\"height:525px; width:100%;\"></div>\n",
              "            <script type=\"text/javascript\">\n",
              "                \n",
              "                    window.PLOTLYENV=window.PLOTLYENV || {};\n",
              "                    \n",
              "                if (document.getElementById(\"c7732a5a-0068-448a-b983-3f8af56607a2\")) {\n",
              "                    Plotly.newPlot(\n",
              "                        'c7732a5a-0068-448a-b983-3f8af56607a2',\n",
              "                        [{\"close\": [129.09, 127.69, 129.47, 131.83, 131.58, 130.91, 131.14, 130.345, 130.16, 130.79, 131.24, 132.41, 135.65, 134.64, 134.09, 132.45, 139.9, 147.76, 145.43, 146.28, 147.31, 147.18, 148.605, 148.0, 147.56, 148.13, 147.87, 148.04, 149.72, 149.8, 151.22, 153.79, 158.31, 154.68, 154.42, 153.02, 151.72, 150.87, 153.77, 155.6, 154.44, 154.47, 153.16, 154.74, 152.57, 151.18, 152.0, 151.57, 153.68, 154.54, 155.74, 154.1, 154.53, 152.87, 151.64, 148.18, 148.15, 148.9, 152.68, 150.22, 148.61, 149.26, 150.92, 152.27, 153.36, 153.56, 154.34, 153.38, 153.22, 152.39, 152.0, 149.6, 152.67, 153.35, 151.26, 149.87, 148.39, 147.92, 147.5, 146.14, 143.27, 144.65, 144.07, 143.02, 141.0, 141.42, 145.49, 145.85, 145.49, 145.63, 147.98, 146.89, 146.64, 147.04, 146.43, 147.37, 144.83, 142.8, 143.06], \"high\": [129.83, 129.61, 129.96, 131.98, 132.24, 132.25, 133.91, 131.27, 131.77, 131.01, 131.99, 132.87, 136.195, 135.75, 135.19, 132.99, 141.85, 148.24, 146.82, 146.58, 148.0, 148.39, 148.86, 148.89, 148.15, 148.71, 148.37, 148.56, 149.84, 149.96, 151.55, 154.24, 158.81, 155.92, 154.78, 154.7, 152.31, 151.85, 154.12, 156.9, 155.22, 155.96, 155.01, 155.57, 153.95, 152.58, 152.91, 152.24, 154.07, 155.0, 155.97, 155.08, 155.48, 154.9, 152.56, 151.93, 148.82, 149.27, 153.17, 152.08, 149.7, 150.5, 151.43, 153.49, 153.48, 153.61, 154.96, 155.46, 153.5, 153.99, 152.52, 151.35, 153.53, 154.05, 153.0, 150.8, 149.67, 148.71, 148.23, 147.43, 145.93, 145.0, 144.79, 144.62, 143.1, 142.135, 145.93, 146.79, 146.08, 146.52, 148.24, 148.24, 147.19, 147.71, 147.3, 147.7, 147.13, 144.39, 143.61], \"low\": [128.61, 126.2, 128.74, 130.48, 130.97, 129.98, 130.18, 129.16, 129.73, 129.11, 129.48, 130.5701, 133.05, 134.62, 133.55, 130.76, 136.01, 139.64, 144.38, 143.05, 146.22, 146.05, 146.56, 147.72, 145.68, 147.51, 147.26, 147.72, 148.06, 148.615, 149.55, 151.06, 153.96, 153.42, 153.25, 152.14, 150.82, 150.52, 150.96, 154.23, 154.03, 154.35, 152.83, 153.16, 152.46, 151.17, 151.83, 149.79, 152.47, 152.8, 152.12, 153.68, 154.52, 152.87, 151.39, 148.16, 145.99, 147.56, 150.04, 149.94, 146.82, 148.34, 148.13, 151.31, 152.34, 151.645, 153.34, 153.0, 151.6, 152.22, 151.07, 149.47, 151.07, 152.06, 148.86, 149.74, 148.03, 147.75, 146.02, 145.92, 142.75, 143.85, 143.24, 142.33, 140.46, 140.69, 143.17, 145.42, 144.02, 145.2, 146.86, 146.34, 146.3, 146.74, 146.11, 146.22, 144.81, 142.17, 142.58], \"open\": [129.43, 128.85, 128.83, 130.6, 131.75, 132.25, 132.35, 129.26, 130.73, 129.92, 131.69, 130.87, 133.52, 135.75, 135.1, 131.93, 136.3, 139.68, 146.04, 143.72, 146.38, 146.15, 147.47, 148.62, 146.16, 148.08, 147.45, 148.24, 148.09, 148.615, 149.61, 151.11, 153.97, 155.1, 153.51, 154.305, 152.11, 151.08, 150.96, 154.7, 154.56, 155.0, 153.72, 153.16, 153.44, 152.36, 151.91, 151.94, 152.47, 153.08, 153.78, 154.765, 154.645, 154.9, 152.0, 151.38, 147.71, 148.46, 150.04, 152.08, 149.7, 149.03, 148.21, 151.31, 152.43, 152.75, 153.55, 153.73, 153.02, 153.99, 151.65, 150.9, 151.15, 153.85, 152.74, 150.44, 149.57, 148.71, 147.89, 147.1, 145.27, 144.69, 143.88, 143.7, 143.01, 140.69, 143.21, 145.42, 144.83, 145.44, 146.86, 148.0, 146.88, 147.65, 146.97, 146.23, 147.13, 144.39, 143.5], \"type\": \"candlestick\", \"x\": [1, 2, 3, 4, 5, 6, 7, 8, 9, 10, 11, 12, 13, 14, 15, 16, 17, 18, 19, 20, 21, 22, 23, 24, 25, 26, 27, 28, 29, 30, 31, 32, 33, 34, 35, 36, 37, 38, 39, 40, 41, 42, 43, 44, 45, 46, 47, 48, 49, 50, 51, 52, 53, 54, 55, 56, 57, 58, 59, 60, 61, 62, 63, 64, 65, 66, 67, 68, 69, 70, 71, 72, 73, 74, 75, 76, 77, 78, 79, 80, 81, 82, 83, 84, 85, 86, 87, 88, 89, 90, 91, 92, 93, 94, 95, 96, 97, 98, 99]}],\n",
              "                        {\"template\": {\"data\": {\"bar\": [{\"error_x\": {\"color\": \"#2a3f5f\"}, \"error_y\": {\"color\": \"#2a3f5f\"}, \"marker\": {\"line\": {\"color\": \"#E5ECF6\", \"width\": 0.5}}, \"type\": \"bar\"}], \"barpolar\": [{\"marker\": {\"line\": {\"color\": \"#E5ECF6\", \"width\": 0.5}}, \"type\": \"barpolar\"}], \"carpet\": [{\"aaxis\": {\"endlinecolor\": \"#2a3f5f\", \"gridcolor\": \"white\", \"linecolor\": \"white\", \"minorgridcolor\": \"white\", \"startlinecolor\": \"#2a3f5f\"}, \"baxis\": {\"endlinecolor\": \"#2a3f5f\", \"gridcolor\": \"white\", \"linecolor\": \"white\", \"minorgridcolor\": \"white\", \"startlinecolor\": \"#2a3f5f\"}, \"type\": \"carpet\"}], \"choropleth\": [{\"colorbar\": {\"outlinewidth\": 0, \"ticks\": \"\"}, \"type\": \"choropleth\"}], \"contour\": [{\"colorbar\": {\"outlinewidth\": 0, \"ticks\": \"\"}, \"colorscale\": [[0.0, \"#0d0887\"], [0.1111111111111111, \"#46039f\"], [0.2222222222222222, \"#7201a8\"], [0.3333333333333333, \"#9c179e\"], [0.4444444444444444, \"#bd3786\"], [0.5555555555555556, \"#d8576b\"], [0.6666666666666666, \"#ed7953\"], [0.7777777777777778, \"#fb9f3a\"], [0.8888888888888888, \"#fdca26\"], [1.0, \"#f0f921\"]], \"type\": \"contour\"}], \"contourcarpet\": [{\"colorbar\": {\"outlinewidth\": 0, \"ticks\": \"\"}, \"type\": \"contourcarpet\"}], \"heatmap\": [{\"colorbar\": {\"outlinewidth\": 0, \"ticks\": \"\"}, \"colorscale\": [[0.0, \"#0d0887\"], [0.1111111111111111, \"#46039f\"], [0.2222222222222222, \"#7201a8\"], [0.3333333333333333, \"#9c179e\"], [0.4444444444444444, \"#bd3786\"], [0.5555555555555556, \"#d8576b\"], [0.6666666666666666, \"#ed7953\"], [0.7777777777777778, \"#fb9f3a\"], [0.8888888888888888, \"#fdca26\"], [1.0, \"#f0f921\"]], \"type\": \"heatmap\"}], \"heatmapgl\": [{\"colorbar\": {\"outlinewidth\": 0, \"ticks\": \"\"}, \"colorscale\": [[0.0, \"#0d0887\"], [0.1111111111111111, \"#46039f\"], [0.2222222222222222, \"#7201a8\"], [0.3333333333333333, \"#9c179e\"], [0.4444444444444444, \"#bd3786\"], [0.5555555555555556, \"#d8576b\"], [0.6666666666666666, \"#ed7953\"], [0.7777777777777778, \"#fb9f3a\"], [0.8888888888888888, \"#fdca26\"], [1.0, \"#f0f921\"]], \"type\": \"heatmapgl\"}], \"histogram\": [{\"marker\": {\"colorbar\": {\"outlinewidth\": 0, \"ticks\": \"\"}}, \"type\": \"histogram\"}], \"histogram2d\": [{\"colorbar\": {\"outlinewidth\": 0, \"ticks\": \"\"}, \"colorscale\": [[0.0, \"#0d0887\"], [0.1111111111111111, \"#46039f\"], [0.2222222222222222, \"#7201a8\"], [0.3333333333333333, \"#9c179e\"], [0.4444444444444444, \"#bd3786\"], [0.5555555555555556, \"#d8576b\"], [0.6666666666666666, \"#ed7953\"], [0.7777777777777778, \"#fb9f3a\"], [0.8888888888888888, \"#fdca26\"], [1.0, \"#f0f921\"]], \"type\": \"histogram2d\"}], \"histogram2dcontour\": [{\"colorbar\": {\"outlinewidth\": 0, \"ticks\": \"\"}, \"colorscale\": [[0.0, \"#0d0887\"], [0.1111111111111111, \"#46039f\"], [0.2222222222222222, \"#7201a8\"], [0.3333333333333333, \"#9c179e\"], [0.4444444444444444, \"#bd3786\"], [0.5555555555555556, \"#d8576b\"], [0.6666666666666666, \"#ed7953\"], [0.7777777777777778, \"#fb9f3a\"], [0.8888888888888888, \"#fdca26\"], [1.0, \"#f0f921\"]], \"type\": \"histogram2dcontour\"}], \"mesh3d\": [{\"colorbar\": {\"outlinewidth\": 0, \"ticks\": \"\"}, \"type\": \"mesh3d\"}], \"parcoords\": [{\"line\": {\"colorbar\": {\"outlinewidth\": 0, \"ticks\": \"\"}}, \"type\": \"parcoords\"}], \"pie\": [{\"automargin\": true, \"type\": \"pie\"}], \"scatter\": [{\"marker\": {\"colorbar\": {\"outlinewidth\": 0, \"ticks\": \"\"}}, \"type\": \"scatter\"}], \"scatter3d\": [{\"line\": {\"colorbar\": {\"outlinewidth\": 0, \"ticks\": \"\"}}, \"marker\": {\"colorbar\": {\"outlinewidth\": 0, \"ticks\": \"\"}}, \"type\": \"scatter3d\"}], \"scattercarpet\": [{\"marker\": {\"colorbar\": {\"outlinewidth\": 0, \"ticks\": \"\"}}, \"type\": \"scattercarpet\"}], \"scattergeo\": [{\"marker\": {\"colorbar\": {\"outlinewidth\": 0, \"ticks\": \"\"}}, \"type\": \"scattergeo\"}], \"scattergl\": [{\"marker\": {\"colorbar\": {\"outlinewidth\": 0, \"ticks\": \"\"}}, \"type\": \"scattergl\"}], \"scattermapbox\": [{\"marker\": {\"colorbar\": {\"outlinewidth\": 0, \"ticks\": \"\"}}, \"type\": \"scattermapbox\"}], \"scatterpolar\": [{\"marker\": {\"colorbar\": {\"outlinewidth\": 0, \"ticks\": \"\"}}, \"type\": \"scatterpolar\"}], \"scatterpolargl\": [{\"marker\": {\"colorbar\": {\"outlinewidth\": 0, \"ticks\": \"\"}}, \"type\": \"scatterpolargl\"}], \"scatterternary\": [{\"marker\": {\"colorbar\": {\"outlinewidth\": 0, \"ticks\": \"\"}}, \"type\": \"scatterternary\"}], \"surface\": [{\"colorbar\": {\"outlinewidth\": 0, \"ticks\": \"\"}, \"colorscale\": [[0.0, \"#0d0887\"], [0.1111111111111111, \"#46039f\"], [0.2222222222222222, \"#7201a8\"], [0.3333333333333333, \"#9c179e\"], [0.4444444444444444, \"#bd3786\"], [0.5555555555555556, \"#d8576b\"], [0.6666666666666666, \"#ed7953\"], [0.7777777777777778, \"#fb9f3a\"], [0.8888888888888888, \"#fdca26\"], [1.0, \"#f0f921\"]], \"type\": \"surface\"}], \"table\": [{\"cells\": {\"fill\": {\"color\": \"#EBF0F8\"}, \"line\": {\"color\": \"white\"}}, \"header\": {\"fill\": {\"color\": \"#C8D4E3\"}, \"line\": {\"color\": \"white\"}}, \"type\": \"table\"}]}, \"layout\": {\"annotationdefaults\": {\"arrowcolor\": \"#2a3f5f\", \"arrowhead\": 0, \"arrowwidth\": 1}, \"coloraxis\": {\"colorbar\": {\"outlinewidth\": 0, \"ticks\": \"\"}}, \"colorscale\": {\"diverging\": [[0, \"#8e0152\"], [0.1, \"#c51b7d\"], [0.2, \"#de77ae\"], [0.3, \"#f1b6da\"], [0.4, \"#fde0ef\"], [0.5, \"#f7f7f7\"], [0.6, \"#e6f5d0\"], [0.7, \"#b8e186\"], [0.8, \"#7fbc41\"], [0.9, \"#4d9221\"], [1, \"#276419\"]], \"sequential\": [[0.0, \"#0d0887\"], [0.1111111111111111, \"#46039f\"], [0.2222222222222222, \"#7201a8\"], [0.3333333333333333, \"#9c179e\"], [0.4444444444444444, \"#bd3786\"], [0.5555555555555556, \"#d8576b\"], [0.6666666666666666, \"#ed7953\"], [0.7777777777777778, \"#fb9f3a\"], [0.8888888888888888, \"#fdca26\"], [1.0, \"#f0f921\"]], \"sequentialminus\": [[0.0, \"#0d0887\"], [0.1111111111111111, \"#46039f\"], [0.2222222222222222, \"#7201a8\"], [0.3333333333333333, \"#9c179e\"], [0.4444444444444444, \"#bd3786\"], [0.5555555555555556, \"#d8576b\"], [0.6666666666666666, \"#ed7953\"], [0.7777777777777778, \"#fb9f3a\"], [0.8888888888888888, \"#fdca26\"], [1.0, \"#f0f921\"]]}, \"colorway\": [\"#636efa\", \"#EF553B\", \"#00cc96\", \"#ab63fa\", \"#FFA15A\", \"#19d3f3\", \"#FF6692\", \"#B6E880\", \"#FF97FF\", \"#FECB52\"], \"font\": {\"color\": \"#2a3f5f\"}, \"geo\": {\"bgcolor\": \"white\", \"lakecolor\": \"white\", \"landcolor\": \"#E5ECF6\", \"showlakes\": true, \"showland\": true, \"subunitcolor\": \"white\"}, \"hoverlabel\": {\"align\": \"left\"}, \"hovermode\": \"closest\", \"mapbox\": {\"style\": \"light\"}, \"paper_bgcolor\": \"white\", \"plot_bgcolor\": \"#E5ECF6\", \"polar\": {\"angularaxis\": {\"gridcolor\": \"white\", \"linecolor\": \"white\", \"ticks\": \"\"}, \"bgcolor\": \"#E5ECF6\", \"radialaxis\": {\"gridcolor\": \"white\", \"linecolor\": \"white\", \"ticks\": \"\"}}, \"scene\": {\"xaxis\": {\"backgroundcolor\": \"#E5ECF6\", \"gridcolor\": \"white\", \"gridwidth\": 2, \"linecolor\": \"white\", \"showbackground\": true, \"ticks\": \"\", \"zerolinecolor\": \"white\"}, \"yaxis\": {\"backgroundcolor\": \"#E5ECF6\", \"gridcolor\": \"white\", \"gridwidth\": 2, \"linecolor\": \"white\", \"showbackground\": true, \"ticks\": \"\", \"zerolinecolor\": \"white\"}, \"zaxis\": {\"backgroundcolor\": \"#E5ECF6\", \"gridcolor\": \"white\", \"gridwidth\": 2, \"linecolor\": \"white\", \"showbackground\": true, \"ticks\": \"\", \"zerolinecolor\": \"white\"}}, \"shapedefaults\": {\"line\": {\"color\": \"#2a3f5f\"}}, \"ternary\": {\"aaxis\": {\"gridcolor\": \"white\", \"linecolor\": \"white\", \"ticks\": \"\"}, \"baxis\": {\"gridcolor\": \"white\", \"linecolor\": \"white\", \"ticks\": \"\"}, \"bgcolor\": \"#E5ECF6\", \"caxis\": {\"gridcolor\": \"white\", \"linecolor\": \"white\", \"ticks\": \"\"}}, \"title\": {\"x\": 0.05}, \"xaxis\": {\"automargin\": true, \"gridcolor\": \"white\", \"linecolor\": \"white\", \"ticks\": \"\", \"title\": {\"standoff\": 15}, \"zerolinecolor\": \"white\", \"zerolinewidth\": 2}, \"yaxis\": {\"automargin\": true, \"gridcolor\": \"white\", \"linecolor\": \"white\", \"ticks\": \"\", \"title\": {\"standoff\": 15}, \"zerolinecolor\": \"white\", \"zerolinewidth\": 2}}}},\n",
              "                        {\"responsive\": true}\n",
              "                    ).then(function(){\n",
              "                            \n",
              "var gd = document.getElementById('c7732a5a-0068-448a-b983-3f8af56607a2');\n",
              "var x = new MutationObserver(function (mutations, observer) {{\n",
              "        var display = window.getComputedStyle(gd).display;\n",
              "        if (!display || display === 'none') {{\n",
              "            console.log([gd, 'removed!']);\n",
              "            Plotly.purge(gd);\n",
              "            observer.disconnect();\n",
              "        }}\n",
              "}});\n",
              "\n",
              "// Listen for the removal of the full notebook cells\n",
              "var notebookContainer = gd.closest('#notebook-container');\n",
              "if (notebookContainer) {{\n",
              "    x.observe(notebookContainer, {childList: true});\n",
              "}}\n",
              "\n",
              "// Listen for the clearing of the current output cell\n",
              "var outputEl = gd.closest('.output');\n",
              "if (outputEl) {{\n",
              "    x.observe(outputEl, {childList: true});\n",
              "}}\n",
              "\n",
              "                        })\n",
              "                };\n",
              "                \n",
              "            </script>\n",
              "        </div>\n",
              "</body>\n",
              "</html>"
            ]
          },
          "metadata": {
            "tags": []
          }
        }
      ]
    },
    {
      "cell_type": "code",
      "metadata": {
        "colab": {
          "base_uri": "https://localhost:8080/",
          "height": 562
        },
        "id": "6i_HJPOrDQVD",
        "outputId": "abaa78a4-670f-49b4-cf41-a147fd9bd11f"
      },
      "source": [
        "draw_plot(data, 0, data.shape[0])"
      ],
      "execution_count": null,
      "outputs": [
        {
          "output_type": "display_data",
          "data": {
            "text/html": [
              "<html>\n",
              "<head><meta charset=\"utf-8\" /></head>\n",
              "<body>\n",
              "    <div>\n",
              "            <script src=\"https://cdnjs.cloudflare.com/ajax/libs/mathjax/2.7.5/MathJax.js?config=TeX-AMS-MML_SVG\"></script><script type=\"text/javascript\">if (window.MathJax) {MathJax.Hub.Config({SVG: {font: \"STIX-Web\"}});}</script>\n",
              "                <script type=\"text/javascript\">window.PlotlyConfig = {MathJaxConfig: 'local'};</script>\n",
              "        <script src=\"https://cdn.plot.ly/plotly-latest.min.js\"></script>    \n",
              "            <div id=\"49fb1536-97f8-4e9a-8f6e-ba2ce2fbc9b1\" class=\"plotly-graph-div\" style=\"height:525px; width:100%;\"></div>\n",
              "            <script type=\"text/javascript\">\n",
              "                \n",
              "                    window.PLOTLYENV=window.PLOTLYENV || {};\n",
              "                    \n",
              "                if (document.getElementById(\"49fb1536-97f8-4e9a-8f6e-ba2ce2fbc9b1\")) {\n",
              "                    Plotly.newPlot(\n",
              "                        '49fb1536-97f8-4e9a-8f6e-ba2ce2fbc9b1',\n",
              "                        [{\"close\": [129.96, 129.09, 127.69, 129.47, 131.83, 131.58, 130.91, 131.14, 130.345, 130.16, 130.79, 131.24, 132.41, 135.65, 134.64, 134.09, 132.45, 139.9, 147.76, 145.43, 146.28, 147.31, 147.18, 148.605, 148.0, 147.56, 148.13, 147.87, 148.04, 149.72, 149.8, 151.22, 153.79, 158.31, 154.68, 154.42, 153.02, 151.72, 150.87, 153.77, 155.6, 154.44, 154.47, 153.16, 154.74, 152.57, 151.18, 152.0, 151.57, 153.68, 154.54, 155.74, 154.1, 154.53, 152.87, 151.64, 148.18, 148.15, 148.9, 152.68, 150.22, 148.61, 149.26, 150.92, 152.27, 153.36, 153.56, 154.34, 153.38, 153.22, 152.39, 152.0, 149.6, 152.67, 153.35, 151.26, 149.87, 148.39, 147.92, 147.5, 146.14, 143.27, 144.65, 144.07, 143.02, 141.0, 141.42, 145.49, 145.85, 145.49, 145.63, 147.98, 146.89, 146.64, 147.04, 146.43, 147.37, 144.83, 142.8, 143.06, 142.3, 140.7, 141.28, 143.3, 143.81, 141.17, 140.71, 140.65, 140.1, 141.62, 142.94, 142.8, 142.3, 142.32, 143.5, 145.39, 145.28, 145.68, 144.46, 142.99, 142.45, 142.57, 138.69, 139.04, 140.755, 140.24, 140.44, 143.36, 141.95, 142.82, 144.5, 146.58, 147.85, 146.93, 148.5, 146.89, 146.63, 145.1, 146.46, 146.14, 144.0, 141.01, 141.73, 144.15, 143.05, 144.18, 143.61, 143.62, 144.95, 143.85, 142.42, 145.815, 144.07, 142.32, 144.83, 145.09, 144.51, 144.61, 142.81, 137.06, 132.68, 128.62, 129.31, 131.82, 133.22, 130.69, 127.28, 130.57, 131.1, 129.82, 133.93, 132.63, 133.5, 134.65, 134.37, 136.39, 137.17, 137.82, 136.12, 135.98, 133.98, 131.65, 129.87, 130.99, 128.46, 128.87, 130.97, 130.6, 132.54, 140.71, 140.28, 134.23, 137.49, 137.55, 138.43, 139.02, 140.92, 146.4, 146.8, 146.72, 148.46, 147.88, 147.16, 148.15, 148.35, 148.08, 148.23, 147.99, 147.67, 146.07, 144.97, 145.03, 142.54, 142.63, 144.42, 146.2, 148.28, 149.26, 149.37, 148.34, 148.69, 147.44, 147.0, 145.64, 147.84, 146.985, 145.39, 148.51, 148.51, 145.05, 143.96, 146.52, 144.39, 143.12, 146.58, 148.11, 145.76, 139.48, 140.89, 142.41, 144.04, 143.62, 144.53, 147.37, 146.41, 144.73, 140.495, 141.03, 138.81, 132.97, 130.16, 130.11, 131.92, 128.1, 129.16, 125.59, 126.05, 122.16, 123.39, 124.6, 124.03, 128.03, 116.57, 118.01, 120.14, 121.55, 117.53, 121.81, 122.47, 119.5, 118.72, 116.37, 108.42, 108.66, 112.71, 116.37, 117.5, 115.26, 117.38, 116.89, 115.46, 116.79, 118.12, 118.15, 119.94, 119.68, 119.53, 121.07, 122.82, 122.3, 122.84, 122.86, 124.6, 126.38, 126.34, 127.5, 130.69, 134.03, 135.12, 132.96, 132.06, 131.31, 130.87, 128.57, 127.01, 126.98, 126.29, 127.02, 127.86, 127.02, 127.86, 127.9, 129.46, 131.15, 130.84, 131.1, 131.98, 132.68, 130.6, 130.78, 131.07, 130.76, 133.2, 137.06, 134.79, 134.85, 134.02, 132.51, 130.9, 132.09, 133.26, 132.13, 134.73, 133.06, 134.44, 132.085, 134.15, 132.53, 131.03, 128.09, 127.38, 127.56, 127.5, 128.85, 129.28, 129.21, 126.15, 126.36, 126.84, 127.39, 131.94, 131.95, 133.01, 133.11, 131.11, 129.88, 130.5, 130.16, 129.35, 129.8, 132.85, 131.53, 131.79, 133.53, 126.52, 122.63, 123.9, 126.95, 129.83, 129.7, 126.97, 126.945, 127.13, 130.05, 132.01, 130.8, 130.09, 131.58, 132.38, 133.38, 134.66, 134.75, 133.58, 133.46, 132.89, 134.9, 135.93, 133.05, 133.66, 133.19, 131.61, 131.87, 131.22, 131.69, 132.18, 132.67, 132.32, 133.02, 133.11, 134.71, 135.005, 134.72, 134.94, 134.44, 134.06, 133.27, 133.01, 132.23, 132.925, 130.75, 129.45, 129.87, 131.15, 132.95, 132.61, 132.9, 128.54, 130.08, 128.79, 127.65, 127.74, 126.73, 127.48, 127.82, 130.62, 131.87, 131.79, 130.57, 131.32, 132.19, 131.04, 131.75, 132.38, 132.21, 134.67, 134.47, 133.85, 135.88, 133.82, 133.18, 133.41, 133.57, 133.95, 135.06, 136.2, 135.91, 135.62, 137.44, 138.93, 145.56, 143.32, 142.99, 142.49, 142.43, 140.72, 140.07, 139.54, 143.04, 142.1, 145.1, 147.67, 148.54, 149.98, 148.22, 146.44, 145.31, 146.35, 146.99, 149.63, 149.74, 149.98, 149.9, 151.64, 150.63, 152.37, 152.26, 152.17, 152.25, 154.09, 155.33, 156.43, 157.2, 156.65, 154.41, 153.77, 154.49, 156.16, 156.37, 157.51, 157.48, 157.84, 157.51, 156.07, 155.72, 155.76, 156.87, 158.63, 158.72, 159.1, 158.44, 159.08, 159.35, 158.29, 158.83, 157.67, 158.36, 159.0, 159.53, 157.92, 160.54, 167.34, 169.15, 167.74, 165.54, 163.49, 163.95, 162.26, 162.4, 163.92, 166.48, 163.76, 164.26, 166.25, 167.97, 168.4, 169.41, 170.8, 172.7, 175.54, 175.36, 176.84, 177.43, 179.4, 180.24, 183.93, 182.98, 182.03, 180.96, 181.95, 181.76, 180.57, 178.69, 179.07, 178.72, 178.72, 178.12, 180.1, 179.4, 176.03, 176.99, 177.22, 175.82, 176.16, 177.35, 177.54, 177.99, 176.91, 176.72, 178.755, 177.09, 177.36, 178.86, 177.48, 178.45, 176.06, 175.69, 179.02, 177.86, 178.42, 179.35, 180.38, 182.09, 183.47, 181.74, 183.23, 184.84, 182.46, 183.43, 183.39, 183.07, 185.02, 186.01, 186.98, 183.13, 183.94, 183.22, 182.44, 182.7, 178.83, 177.37, 180.75, 183.62, 183.52, 185.24, 187.07, 186.6, 186.94, 187.79, 187.32, 190.15, 188.93, 186.75, 188.05, 189.94, 190.0, 190.145, 191.14, 192.42, 195.39, 196.42, 199.0, 198.32, 199.31, 199.5, 202.24, 200.0, 199.01, 199.56, 197.49, 197.75, 198.51, 201.94, 201.58, 202.42, 204.08, 206.385, 206.4, 206.3, 208.55, 208.99, 208.24, 210.87, 210.41, 212.14, 212.34, 212.5, 233.47, 240.97, 241.52, 242.52, 239.34, 237.94, 238.18, 237.29, 240.14, 239.47, 234.36, 232.9, 234.95, 236.93, 239.21, 237.53, 235.53, 235.81, 235.62, 239.75, 238.08, 238.76, 235.9, 237.11, 240.5, 240.38, 239.74, 240.37, 237.01, 234.69, 236.32, 238.63, 240.52, 240.5, 241.75, 245.35, 249.08, 253.1, 252.71, 255.43, 256.16, 256.71, 254.3, 253.81, 255.27, 254.25, 254.27, 255.52, 255.46, 255.7, 258.91, 258.41, 258.42, 260.86, 261.47, 261.93, 261.04, 259.72, 258.56, 260.02, 259.03, 264.715, 262.3, 265.98, 258.4, 259.36, 256.34, 259.24, 257.95, 258.53, 262.6, 261.72, 264.08, 266.2, 265.6, 262.66, 260.96, 262.36, 261.72, 262.89, 263.69, 262.24, 264.55, 266.99, 265.09, 265.82, 265.56, 267.96, 269.34, 276.55, 271.35, 277.94, 275.57, 278.32, 281.93, 285.56, 283.11, 289.85, 291.82, 293.84, 293.94, 296.17, 297.13, 297.95, 294.965, 295.1, 295.41, 295.51, 296.27, 295.01, 296.87, 297.6, 296.69, 308.6, 310.035, 318.43, 320.42, 328.21, 336.26, 335.32, 351.11, 340.21, 337.87, 337.99, 335.6, 334.7, 343.09, 343.06, 340.92, 338.0, 354.13, 357.1, 348.81, 328.99, 341.06, 347.96, 329.61, 332.58, 343.22, 343.15, 344.82, 356.45, 354.93, 353.14, 352.4, 355.85, 356.7, 363.4, 364.58, 362.29, 349.96, 344.64, 353.4, 348.95, 347.03, 348.82, 354.54, 344.21, 338.78, 330.15, 329.98, 330.23, 331.78, 337.81, 337.36, 319.54, 320.93, 328.81, 321.12, 320.01, 327.95, 322.28, 330.93, 327.34, 336.7, 326.215, 322.41, 334.71, 327.22, 337.32, 329.31, 331.86, 336.84, 341.11, 340.33, 338.75, 338.63, 328.93, 342.78, 342.79, 340.93, 333.64, 329.5, 324.25, 330.68, 334.41, 340.49, 338.48, 344.56, 343.95, 342.3, 344.51, 342.23, 340.9, 344.09, 351.32, 363.98, 355.09, 359.13, 359.02, 360.05, 352.53, 358.1, 352.15, 356.63, 360.71, 360.27, 371.435, 368.42, 369.45, 370.86, 370.62, 363.73, 362.215, 357.66, 354.79, 341.11, 342.5, 337.49, 338.92, 331.425, 331.29, 330.01, 334.64, 335.46, 335.97, 332.88, 333.0, 334.55, 341.96, 347.03, 340.65, 346.03, 351.05, 356.05, 356.81, 360.23, 355.48, 354.95, 353.23, 358.34, 355.94, 359.31, 360.53, 350.94, 356.36, 352.55, 349.85, 348.5, 346.44, 350.81, 347.59, 343.72, 339.45, 338.4, 339.11, 331.76, 345.955, 346.43, 350.765, 353.83, 350.1, 347.16, 349.4, 353.71, 351.2, 350.2, 346.91, 342.75, 346.24, 346.68, 351.22, 349.36, 341.85, 345.21, 353.57, 355.44, 359.76, 354.73, 363.76, 365.18, 367.73, 371.89, 367.94, 367.5, 365.04, 367.43, 371.98, 382.68, 386.49, 392.44, 390.15, 386.52, 385.98, 385.47, 367.7, 358.26, 359.92, 358.81, 368.07, 365.41, 359.46, 356.2, 355.96, 349.69, 355.1, 363.65, 358.99, 336.01, 349.89, 354.98, 363.24, 357.4, 362.17, 366.72, 371.98, 370.74, 369.35, 356.96, 349.64, 344.66, 341.58, 336.06, 320.86, 317.835, 317.28, 312.3, 316.21, 318.07, 333.56, 342.4, 346.72, 359.9, 342.55, 331.71, 323.23, 326.23, 322.14, 326.94, 325.41, 318.905, 316.39, 328.2, 319.64, 313.15, 304.33, 294.31, 313.88, 316.96, 316.25, 322.35, 323.84, 310.73, 326.95, 328.04, 340.5, 343.86, 352.91, 352.89, 350.49, 352.29, 351.91, 359.12, 364.9, 358.0, 358.87, 358.36, 364.27, 363.14, 364.83, 387.87, 385.49, 387.5, 396.96, 410.01, 410.91, 405.09, 404.87, 404.0, 410.98, 410.56, 409.9, 417.94, 416.24, 421.62, 417.56, 424.0, 426.86, 426.74, 435.42, 439.79, 440.79, 432.61, 430.27, 424.5, 421.94, 422.61, 399.95, 375.5, 377.49, 373.32, 378.125, 372.07, 373.97, 376.3, 372.8, 362.52, 370.6, 370.38, 374.17, 374.39, 381.47, 391.86, 390.69, 384.895, 395.99, 391.92, 374.61, 368.95, 364.78, 370.23, 379.7, 375.23, 381.78, 377.6, 380.0, 375.11, 373.99, 375.4, 383.04, 380.74, 379.07, 377.54, 376.8, 375.74, 377.01, 371.925, 357.4, 359.68, 354.03, 354.69, 337.44, 343.0, 345.73, 353.7, 355.1, 353.04, 358.705, 352.68, 350.45, 355.12, 354.95, 349.0, 349.93, 341.53, 338.67, 344.61, 348.63, 350.735, 353.8, 353.865, 349.41, 347.06, 348.57, 347.16, 354.895, 374.12, 368.65, 374.96, 371.99, 374.265, 369.29, 375.16, 363.85, 364.15, 356.12, 354.06, 354.4, 355.93, 351.15, 353.22, 352.15, 358.98, 365.32, 361.62, 362.69, 369.6, 361.16, 377.23, 373.37, 372.85, 361.33, 347.96, 345.015, 340.32, 347.2, 341.54, 334.1, 339.595, 331.06, 332.38, 331.41, 336.42, 337.56, 333.02, 332.92, 320.42, 328.01, 330.66, 333.74, 331.91, 340.06, 354.37, 355.67, 358.62, 354.75, 359.54, 362.67, 364.23, 354.05, 356.27, 360.32, 362.88, 358.93, 369.43, 382.88, 376.0, 379.37, 378.87, 383.98, 385.99, 383.67, 379.27, 377.37, 381.55, 386.34, 386.89, 382.72, 380.53, 374.76, 367.53, 371.87, 375.62, 376.925, 374.18, 374.89, 370.955, 375.18, 372.98, 370.97, 372.48, 369.38, 344.22, 331.28, 337.37, 340.41, 344.97, 339.91, 341.17, 348.99, 346.025, 339.82, 344.91, 350.93, 358.04, 354.07, 357.59, 350.61, 366.88, 363.07, 362.4, 367.34, 371.58, 369.37, 366.94, 370.69, 366.5, 371.03, 373.0, 373.92, 368.18, 366.5, 355.16, 352.12, 348.94, 345.68, 354.04, 351.08, 347.98, 350.01, 341.67, 326.92, 326.99, 330.81, 333.46, 328.19, 337.65, 332.97, 329.91, 330.07, 326.57, 325.75, 333.22, 332.78, 333.77, 337.19, 331.28, 336.32, 329.66, 330.12, 332.5, 329.8, 332.06, 324.11, 313.34, 308.89, 317.96, 323.06, 316.6, 316.55, 321.84, 323.21, 318.16, 316.14, 318.04, 329.57, 341.43, 336.9, 344.63, 344.47, 347.67, 342.83, 340.48, 338.905, 338.49, 336.29, 330.36, 318.05, 305.49, 288.0, 275.01, 289.05, 281.05, 282.96, 260.45, 262.06, 228.1, 231.01, 188.68, 155.065, 170.15, 129.61, 124.75, 100.97, 97.75, 95.0, 105.71, 127.63, 158.69, 180.27, 161.97, 152.36, 149.12, 130.61, 123.01, 124.66, 148.49, 141.5, 146.8, 151.88, 147.35, 140.98, 145.9, 134.14, 153.71, 136.25, 134.85, 137.61, 128.99, 128.57, 130.85, 138.96, 140.89, 133.38, 131.38, 125.3, 121.85, 128.63, 133.39, 128.88, 125.2, 121.58, 122.49, 119.96, 135.42, 130.45, 133.3, 138.92, 137.53, 144.74, 149.49, 149.77, 145.72, 151.36, 153.34, 173.16, 184.29, 205.32, 230.34, 216.8, 203.32, 169.9, 189.51, 190.92, 197.76, 192.46, 192.25, 186.91, 188.48, 187.86, 176.71, 174.91, 169.93, 194.39, 183.16, 180.33, 180.77, 187.9, 179.02, 179.97, 173.24, 178.41, 175.62, 180.0, 187.85, 178.66, 175.64, 174.42, 178.5, 179.79, 176.45, 173.79, 170.155, 170.93, 165.95, 161.9, 158.01, 162.26, 165.03, 174.27, 172.19, 170.01, 179.25, 180.1, 175.46, 174.74, 178.07, 172.05, 170.23, 169.27, 169.63, 167.47, 178.25, 174.71, 171.78, 174.1, 175.8, 171.77, 172.14, 174.82, 168.79, 171.13, 161.05, 160.82, 157.69, 160.19, 165.36, 163.5, 167.54, 167.6, 161.03, 156.35, 156.78, 151.15, 145.95, 156.05, 166.21, 163.6, 165.22, 167.99, 168.06, 171.26, 159.53, 164.65, 167.95, 167.32, 167.4, 162.13, 163.22, 164.26, 167.32, 167.09, 167.23, 163.87, 169.09, 167.37, 160.86, 155.21, 148.25, 148.26, 144.38, 148.64, 153.74, 151.49, 157.29, 157.83, 179.34, 188.69, 182.23, 176.63, 187.04, 202.4, 210.08, 203.32, 205.57, 199.65, 211.29, 218.46, 217.56, 216.57, 210.98, 213.09, 223.8, 237.2, 232.58, 237.99, 236.47, 231.96, 234.43, 230.32, 228.8, 229.4, 225.9, 221.2, 220.19, 219.25, 218.82, 219.57, 217.11, 216.03, 216.18, 216.63, 214.07], \"high\": [131.84, 129.83, 129.61, 129.96, 131.98, 132.24, 132.25, 133.91, 131.27, 131.77, 131.01, 131.99, 132.87, 136.195, 135.75, 135.19, 132.99, 141.85, 148.24, 146.82, 146.58, 148.0, 148.39, 148.86, 148.89, 148.15, 148.71, 148.37, 148.56, 149.84, 149.96, 151.55, 154.24, 158.81, 155.92, 154.78, 154.7, 152.31, 151.85, 154.12, 156.9, 155.22, 155.96, 155.01, 155.57, 153.95, 152.58, 152.91, 152.24, 154.07, 155.0, 155.97, 155.08, 155.48, 154.9, 152.56, 151.93, 148.82, 149.27, 153.17, 152.08, 149.7, 150.5, 151.43, 153.49, 153.48, 153.61, 154.96, 155.46, 153.5, 153.99, 152.52, 151.35, 153.53, 154.05, 153.0, 150.8, 149.67, 148.71, 148.23, 147.43, 145.93, 145.0, 144.79, 144.62, 143.1, 142.135, 145.93, 146.79, 146.08, 146.52, 148.24, 148.24, 147.19, 147.71, 147.3, 147.7, 147.13, 144.39, 143.61, 142.92, 142.24, 142.03, 144.44, 145.02, 143.23, 141.3, 141.28, 140.97, 142.56, 143.95, 142.85, 142.57, 143.54, 143.93, 146.53, 146.08, 146.05, 146.33, 144.77, 143.73, 142.93, 141.2, 139.84, 141.1, 141.4, 140.72, 143.42, 143.12, 144.09, 145.16, 146.74, 148.28, 147.66, 148.7, 147.43, 147.04, 146.31, 149.13, 147.93, 146.45, 143.14, 142.17, 144.6, 143.76, 144.9, 144.59, 144.83, 145.59, 145.21, 143.81, 146.74, 144.93, 142.98, 145.43, 145.45, 144.83, 145.19, 144.39, 141.72, 135.0, 135.0, 129.76, 132.34, 133.66, 132.58, 128.93, 130.57, 132.33, 130.47, 133.98, 136.14, 134.51, 134.86, 135.05, 136.98, 137.41, 139.91, 137.68, 137.38, 134.48, 134.96, 130.75, 131.63, 130.4, 129.13, 131.39, 131.6, 132.59, 141.06, 140.45, 140.86, 137.65, 138.49, 138.58, 139.92, 142.15, 147.33, 147.7, 147.19, 148.98, 148.68, 147.38, 149.59, 149.45, 148.46, 148.73, 148.75, 148.16, 147.08, 146.05, 145.82, 144.4, 143.85, 144.47, 146.59, 148.36, 149.47, 150.58, 149.58, 149.57, 148.99, 147.8, 147.25, 149.31, 148.0, 147.58, 148.78, 149.44, 147.0, 145.65, 147.45, 145.48, 144.42, 147.08, 148.51, 149.8, 143.65, 141.94, 142.78, 144.05, 143.9, 144.61, 147.52, 147.61, 145.83, 141.6, 141.7, 139.22, 136.62, 135.07, 130.94, 132.14, 132.44, 130.06, 126.835, 127.09, 124.81, 125.98, 125.57, 125.23, 128.13, 120.08, 118.01, 120.14, 122.28, 120.19, 122.11, 122.53, 121.14, 119.98, 119.45, 113.09, 109.81, 112.73, 116.8, 118.21, 117.07, 118.92, 118.49, 115.95, 117.54, 119.42, 119.43, 120.95, 120.73, 119.71, 122.23, 123.32, 122.97, 123.24, 123.77, 125.5, 126.99, 126.37, 128.11, 131.59, 134.67, 136.09, 134.99, 132.21, 132.61, 130.92, 132.7, 128.15, 127.085, 127.95, 128.51, 128.03, 128.94, 130.0, 129.87, 130.37, 131.48, 131.85, 131.53, 132.24, 133.8, 131.355, 132.61, 131.75, 130.96, 133.26, 137.87, 137.68, 135.23, 134.98, 133.28, 132.27, 132.6, 133.61, 133.75, 135.23, 134.94, 135.03, 134.82, 134.4, 134.45, 133.17, 130.15, 128.71, 128.37, 128.75, 129.59, 129.81, 129.61, 129.94, 126.495, 127.02, 127.57, 132.07, 133.38, 133.52, 133.79, 132.08, 131.4, 130.57, 131.75, 129.87, 129.99, 133.9, 133.19, 133.08, 134.54, 129.39, 125.57, 124.65, 127.31, 129.83, 130.34, 128.99, 127.18, 128.13, 130.45, 132.55, 132.92, 131.28, 131.91, 132.73, 133.87, 135.64, 135.17, 134.93, 133.47, 133.19, 134.96, 139.3, 135.77, 133.77, 134.18, 133.24, 132.39, 132.47, 132.42, 132.91, 132.93, 133.52, 133.53, 133.77, 134.99, 135.18, 134.98, 135.95, 134.99, 136.25, 134.63, 133.22, 134.07, 133.58, 133.36, 130.83, 129.87, 131.95, 132.95, 133.07, 132.9, 131.7, 130.67, 130.0, 129.24, 128.46, 127.61, 128.29, 128.46, 130.62, 132.46, 132.27, 131.56, 131.72, 132.34, 132.78, 132.52, 132.7, 133.22, 134.88, 134.98, 134.6, 136.86, 135.57, 134.27, 133.62, 135.11, 135.38, 135.62, 136.93, 136.73, 136.18, 138.85, 139.41, 146.18, 146.22, 143.98, 143.3, 143.85, 142.74, 140.72, 140.81, 143.1, 143.27, 145.85, 149.33, 148.57, 150.06, 149.29, 148.31, 147.04, 146.58, 148.38, 149.72, 150.74, 150.07, 150.09, 152.06, 153.04, 152.65, 152.46, 153.51, 152.59, 154.31, 155.96, 156.81, 158.0, 160.01, 156.3, 155.22, 156.0, 157.08, 157.87, 158.38, 158.93, 157.99, 158.41, 157.235, 156.66, 156.62, 157.04, 159.13, 159.66, 159.63, 159.08, 159.9, 159.69, 159.15, 159.5, 159.0, 159.05, 159.87, 160.23, 159.5, 160.93, 168.62, 169.99, 169.69, 165.98, 165.1, 165.67, 163.32, 163.51, 164.06, 167.4, 165.08, 165.04, 166.44, 169.07, 168.8, 169.95, 170.81, 173.23, 176.14, 175.58, 177.0, 178.78, 179.88, 181.93, 184.79, 185.65, 183.52, 182.28, 182.82, 182.61, 182.57, 181.61, 179.17, 179.66, 179.11, 179.94, 180.32, 180.15, 180.16, 177.06, 177.83, 177.51, 176.43, 177.65, 177.93, 178.48, 177.9, 177.6, 178.785, 180.17, 178.22, 179.085, 179.94, 178.59, 178.11, 176.78, 179.05, 179.96, 179.89, 179.78, 180.93, 182.45, 183.82, 182.94, 183.74, 184.92, 184.39, 183.9, 183.67, 184.23, 185.02, 186.37, 187.2, 185.61, 184.27, 183.92, 184.02, 183.11, 181.42, 178.5, 181.37, 185.32, 184.26, 185.4, 187.4, 187.38, 187.41, 188.26, 187.86, 191.66, 190.65, 188.84, 188.53, 191.04, 190.99, 190.53, 191.52, 193.33, 195.54, 197.94, 199.4, 201.23, 199.56, 200.38, 202.33, 204.38, 200.82, 200.9, 199.5, 199.41, 199.42, 202.13, 202.48, 203.22, 204.54, 206.65, 208.6, 206.91, 208.71, 209.7, 209.0, 210.93, 211.21, 212.18, 212.63, 213.79, 233.97, 242.66, 241.99, 246.42, 243.925, 241.51, 239.53, 239.47, 241.37, 240.52, 238.04, 236.15, 235.4, 237.47, 239.63, 240.25, 237.56, 237.24, 236.85, 239.86, 238.99, 238.88, 238.96, 237.54, 241.06, 241.42, 241.06, 242.53, 240.13, 237.67, 236.52, 239.36, 241.85, 241.6, 243.44, 245.54, 249.95, 253.76, 255.0, 256.68, 256.97, 259.27, 256.74, 256.39, 258.74, 255.79, 255.25, 255.85, 258.21, 257.0, 258.99, 258.85, 258.79, 260.86, 261.59, 262.96, 263.79, 262.0, 258.98, 260.72, 259.04, 264.8, 265.96, 267.19, 265.97, 261.4, 259.45, 260.38, 259.49, 259.28, 263.205, 263.63, 265.81, 267.25, 267.57, 266.66, 262.47, 263.29, 262.29, 264.75, 265.02, 263.65, 265.6, 267.0, 267.38, 266.54, 266.82, 268.0, 269.66, 277.03, 278.64, 281.43, 279.4, 279.11, 284.76, 287.3, 286.33, 292.65, 295.75, 296.7, 297.3, 297.08, 297.56, 299.2, 298.35, 296.0, 297.44, 296.5, 296.89, 296.86, 296.93, 298.4, 298.33, 308.89, 310.84, 319.89, 322.06, 328.4, 336.85, 347.54, 352.22, 350.69, 343.8, 341.31, 338.83, 338.97, 343.52, 345.64, 344.29, 339.79, 360.61, 361.36, 355.09, 349.83, 341.6, 353.54, 348.62, 337.66, 347.73, 347.75, 347.32, 356.46, 359.44, 357.77, 360.78, 358.07, 358.77, 364.04, 369.83, 371.6, 362.63, 346.04, 354.71, 355.06, 348.35, 352.5, 354.88, 354.64, 347.88, 340.34, 332.83, 330.81, 333.25, 339.7, 341.88, 332.67, 331.13, 331.83, 334.76, 322.775, 330.48, 329.75, 331.08, 327.68, 338.88, 334.47, 334.74, 336.61, 337.56, 338.31, 339.2, 333.15, 339.74, 342.37, 342.3, 340.64, 341.18, 347.54, 344.91, 345.63, 342.92, 342.5, 333.83, 330.46, 332.63, 335.87, 342.98, 341.93, 346.88, 348.48, 345.35, 347.66, 343.7, 343.56, 344.75, 352.0, 365.0, 364.85, 359.54, 360.61, 360.55, 360.75, 358.75, 356.83, 358.11, 363.28, 363.23, 371.55, 374.47, 371.3, 373.3, 372.55, 370.67, 367.57, 361.59, 357.54, 346.62, 346.78, 340.28, 340.93, 333.69, 334.4, 341.4, 337.515, 339.93, 336.31, 339.6, 337.225, 336.09, 343.02, 347.99, 343.97, 346.51, 351.23, 356.18, 358.95, 361.86, 359.35, 356.88, 354.87, 359.3, 356.3, 360.18, 364.52, 362.1, 359.0, 357.89, 350.69, 350.56, 347.37, 352.09, 351.21, 346.77, 340.75, 341.97, 339.85, 336.94, 347.68, 348.42, 352.54, 354.4, 355.84, 350.09, 350.58, 354.99, 355.68, 351.92, 350.91, 345.34, 346.28, 347.14, 353.27, 349.98, 349.94, 346.51, 355.04, 360.41, 362.25, 361.17, 365.78, 371.13, 371.62, 372.55, 371.83, 370.46, 368.48, 368.11, 374.18, 383.2, 388.56, 394.15, 391.09, 392.27, 386.64, 386.75, 383.28, 369.73, 366.86, 362.45, 368.57, 368.29, 367.56, 359.8, 358.53, 353.4, 364.32, 364.39, 363.25, 361.71, 350.59, 363.36, 364.48, 371.53, 363.06, 368.44, 372.79, 373.63, 370.93, 369.63, 355.0, 355.22, 347.86, 340.0, 335.93, 321.95, 326.71, 316.89, 318.47, 318.5, 334.01, 343.23, 347.58, 369.0, 358.04, 333.07, 337.41, 327.13, 333.51, 331.86, 328.47, 323.91, 327.0, 332.03, 333.37, 321.31, 314.92, 302.63, 314.0, 316.96, 321.42, 323.58, 323.89, 319.55, 328.28, 330.51, 341.17, 347.2, 353.41, 354.24, 352.8, 353.2, 355.0, 363.05, 367.29, 363.93, 362.19, 363.15, 366.84, 363.14, 367.65, 391.86, 388.88, 392.77, 396.97, 410.71, 413.8, 410.16, 404.87, 409.82, 411.17, 412.45, 412.07, 418.04, 417.89, 421.82, 421.91, 424.44, 429.82, 428.99, 436.32, 441.38, 445.88, 444.19, 433.8, 431.97, 424.85, 423.31, 402.46, 390.0, 381.56, 380.31, 385.62, 372.99, 378.73, 380.74, 376.77, 369.77, 371.2, 375.5, 376.41, 376.26, 382.18, 392.9, 394.8, 390.98, 397.03, 398.62, 379.54, 372.1, 368.73, 371.06, 379.92, 377.75, 384.61, 384.0, 382.14, 378.84, 376.69, 380.99, 384.73, 383.92, 385.08, 380.9, 381.15, 377.3, 377.84, 372.32, 367.45, 361.44, 355.38, 355.5, 346.49, 346.06, 348.78, 356.37, 359.93, 355.64, 360.61, 357.2, 351.47, 361.4, 359.25, 352.59, 351.88, 345.54, 339.11, 346.29, 353.13, 351.59, 355.24, 357.4, 355.34, 349.06, 349.06, 348.9, 356.05, 374.62, 379.3, 375.75, 376.09, 375.41, 375.04, 378.95, 369.31, 366.19, 365.23, 356.51, 354.81, 357.23, 352.89, 353.83, 356.49, 359.23, 365.44, 362.83, 365.27, 369.74, 368.41, 378.3, 382.34, 376.24, 371.34, 357.02, 348.22, 346.0, 347.41, 351.21, 344.18, 340.5, 333.0, 335.68, 333.62, 336.42, 339.06, 335.67, 337.2, 329.54, 328.01, 331.16, 335.89, 333.48, 342.58, 356.39, 369.62, 367.33, 361.29, 360.19, 366.0, 366.27, 355.14, 358.0, 364.71, 364.9, 360.87, 369.43, 383.36, 383.38, 381.73, 381.55, 385.22, 386.4, 388.51, 384.04, 380.075, 381.86, 391.0, 388.16, 389.68, 383.58, 382.52, 372.99, 372.05, 376.08, 378.1, 377.23, 377.79, 374.46, 376.94, 378.63, 373.45, 377.4, 373.64, 369.35, 334.2, 341.08, 350.72, 345.69, 343.16, 344.92, 349.72, 349.99, 345.59, 345.09, 351.35, 361.56, 359.38, 359.34, 356.63, 369.73, 367.02, 366.62, 368.46, 373.42, 375.46, 374.79, 370.96, 370.66, 373.52, 374.27, 374.75, 371.81, 368.3, 367.05, 355.5, 355.26, 350.12, 354.36, 353.39, 351.38, 350.01, 341.67, 336.17, 330.8, 335.2, 334.8, 335.27, 340.46, 338.74, 333.17, 333.55, 330.48, 326.55, 333.25, 334.8, 334.86, 344.19, 333.67, 341.73, 337.7, 334.1, 335.35, 333.02, 332.86, 332.32, 326.53, 312.67, 318.15, 326.16, 321.17, 319.1, 327.0, 325.3, 321.57, 320.7, 319.3, 329.65, 343.41, 340.65, 345.86, 348.02, 349.94, 347.77, 344.41, 339.78, 341.38, 341.24, 334.34, 321.74, 315.2, 300.86, 282.86, 291.53, 297.4, 285.67, 275.79, 264.08, 241.42, 237.79, 226.99, 189.17, 178.17, 148.59, 132.81, 107.65, 103.51, 106.5, 114.46, 127.93, 174.74, 186.44, 172.09, 153.81, 160.62, 144.35, 136.49, 131.24, 149.64, 164.8, 153.99, 157.98, 155.45, 152.4, 148.61, 143.17, 153.78, 138.76, 140.6, 142.37, 137.47, 131.18, 137.01, 147.14, 144.57, 143.6, 131.49, 133.78, 126.79, 130.68, 135.55, 130.95, 133.12, 125.07, 122.6, 121.85, 136.2, 137.04, 135.37, 144.23, 141.05, 145.87, 149.65, 156.68, 151.0, 153.54, 155.83, 173.76, 188.54, 218.75, 234.18, 226.95, 212.91, 192.08, 191.2, 193.17, 208.25, 196.18, 198.01, 197.64, 188.64, 189.97, 185.04, 177.49, 173.67, 194.4, 188.31, 190.46, 187.74, 189.34, 184.89, 181.5, 180.55, 179.31, 183.25, 181.15, 189.46, 184.31, 181.09, 176.5, 182.6, 182.86, 182.5, 181.08, 174.05, 173.7, 172.89, 164.5, 163.35, 163.58, 167.4, 174.98, 175.57, 171.74, 179.78, 189.88, 183.83, 179.31, 179.46, 178.14, 173.22, 174.065, 170.8, 170.06, 178.25, 180.62, 174.35, 181.31, 177.24, 175.26, 175.48, 174.99, 180.81, 172.75, 166.78, 163.0, 163.75, 161.35, 165.93, 168.78, 170.56, 168.43, 169.62, 158.75, 160.05, 160.4, 150.25, 156.3, 167.9, 165.47, 170.89, 172.67, 169.75, 172.08, 175.5, 166.26, 168.05, 169.95, 169.18, 165.41, 165.17, 164.51, 173.4, 170.82, 169.27, 167.58, 169.6, 170.2, 165.45, 160.15, 153.67, 150.07, 149.03, 149.53, 154.79, 155.39, 157.6, 158.45, 184.45, 193.92, 189.96, 184.56, 187.26, 202.81, 211.17, 222.35, 209.42, 206.57, 214.2, 222.9, 221.0, 219.88, 217.6, 218.05, 224.93, 242.0, 238.07, 244.0, 241.49, 240.8, 236.98, 236.2, 237.6, 232.48, 232.3, 228.46, 223.42, 219.4, 223.65, 224.34, 219.86, 219.2, 221.58, 218.51, 216.87], \"low\": [129.1, 128.61, 126.2, 128.74, 130.48, 130.97, 129.98, 130.18, 129.16, 129.73, 129.11, 129.48, 130.5701, 133.05, 134.62, 133.55, 130.76, 136.01, 139.64, 144.38, 143.05, 146.22, 146.05, 146.56, 147.72, 145.68, 147.51, 147.26, 147.72, 148.06, 148.615, 149.55, 151.06, 153.96, 153.42, 153.25, 152.14, 150.82, 150.52, 150.96, 154.23, 154.03, 154.35, 152.83, 153.16, 152.46, 151.17, 151.83, 149.79, 152.47, 152.8, 152.12, 153.68, 154.52, 152.87, 151.39, 148.16, 145.99, 147.56, 150.04, 149.94, 146.82, 148.34, 148.13, 151.31, 152.34, 151.645, 153.34, 153.0, 151.6, 152.22, 151.07, 149.47, 151.07, 152.06, 148.86, 149.74, 148.03, 147.75, 146.02, 145.92, 142.75, 143.85, 143.24, 142.33, 140.46, 140.69, 143.17, 145.42, 144.02, 145.2, 146.86, 146.34, 146.3, 146.74, 146.11, 146.22, 144.81, 142.17, 142.58, 141.59, 140.33, 140.34, 140.7, 142.955, 140.96, 140.08, 140.23, 139.92, 140.41, 141.9, 141.17, 141.34, 141.42, 141.96, 144.04, 144.96, 145.11, 143.82, 142.59, 142.34, 141.925, 138.6, 138.45, 140.08, 139.89, 139.03, 140.17, 141.52, 142.79, 144.07, 145.82, 146.71, 146.5, 147.85, 146.05, 145.93, 144.225, 145.14, 145.79, 143.995, 140.81, 139.54, 142.45, 142.22, 143.33, 142.6, 143.28, 143.83, 143.46, 141.73, 143.95, 143.3, 140.07, 141.59, 143.79, 143.0, 143.83, 142.36, 136.91, 131.61, 115.44, 125.23, 129.5, 130.89, 130.39, 127.23, 128.0, 130.54, 128.9, 132.18, 132.23, 132.44, 133.06, 133.725, 134.77, 136.12, 137.0, 135.91, 134.95, 132.52, 131.62, 127.18, 129.31, 128.46, 127.52, 129.65, 129.04, 128.61, 139.4, 139.71, 133.59, 135.08, 136.53, 136.41, 137.64, 136.68, 142.15, 144.95, 145.65, 146.02, 145.17, 145.84, 147.21, 147.59, 147.14, 147.28, 146.49, 146.01, 145.25, 144.03, 144.52, 141.61, 142.0, 142.36, 144.69, 146.5, 148.31, 149.14, 147.74, 147.25, 147.39, 146.71, 145.37, 146.47, 146.44, 144.3, 146.14, 147.33, 144.67, 142.32, 144.3, 143.77, 141.46, 144.38, 146.23, 145.74, 138.9, 139.74, 140.51, 142.86, 143.4, 142.86, 145.21, 146.04, 144.53, 139.43, 139.8, 137.29, 132.54, 130.14, 128.94, 129.67, 127.84, 125.93, 124.525, 125.13, 119.82, 121.59, 123.34, 123.4, 124.83, 115.04, 115.07, 118.03, 118.7, 117.38, 117.24, 121.04, 117.3, 117.5, 116.3, 102.1, 105.11, 109.03, 114.0, 116.73, 114.43, 116.06, 115.98, 112.51, 115.82, 117.72, 117.505, 118.29, 118.605, 118.25, 119.91, 120.72, 121.35, 122.07, 121.45, 124.16, 124.205, 124.21, 125.79, 127.43, 131.25, 134.8, 132.76, 130.05, 130.58, 128.24, 128.04, 125.26, 125.16, 126.0, 125.61, 125.78, 126.57, 127.62, 127.74, 126.99, 129.85, 130.53, 130.72, 130.58, 132.48, 128.5, 130.3, 130.5, 129.32, 131.06, 132.04, 134.5, 132.84, 133.31, 131.47, 130.54, 131.44, 131.89, 131.82, 133.01, 132.94, 133.5, 131.92, 131.71, 131.98, 130.38, 127.1, 127.22, 125.89, 126.5, 127.41, 128.85, 128.87, 126.06, 124.79, 125.37, 126.0, 127.52, 131.84, 132.05, 131.98, 130.37, 129.88, 128.53, 129.98, 126.91, 128.88, 131.45, 131.49, 131.59, 132.74, 126.21, 122.39, 122.71, 124.21, 127.17, 129.16, 126.64, 123.99, 126.28, 127.67, 131.98, 130.35, 129.39, 130.255, 131.6, 131.99, 133.2, 134.11, 133.05, 130.62, 132.55, 132.53, 135.74, 132.56, 132.33, 132.72, 131.37, 131.67, 130.97, 131.04, 131.77, 132.26, 131.76, 132.47, 132.66, 133.7, 133.48, 134.13, 134.57, 133.88, 133.65, 133.07, 132.47, 131.83, 132.66, 130.69, 129.16, 128.38, 130.59, 131.6, 132.06, 131.51, 128.53, 126.44, 128.28, 127.35, 126.94, 126.39, 127.35, 127.59, 128.29, 131.26, 131.09, 130.44, 129.925, 130.62, 130.72, 131.32, 130.81, 131.7, 132.8, 133.69, 132.55, 134.78, 133.29, 133.03, 131.43, 133.51, 133.33, 134.94, 135.55, 135.86, 134.3, 136.78, 137.44, 136.72, 141.78, 142.23, 142.15, 141.86, 140.65, 139.41, 138.92, 141.74, 141.31, 141.74, 146.39, 146.59, 148.27, 147.2, 146.14, 145.0, 144.615, 146.52, 147.89, 149.03, 149.07, 148.445, 149.2, 150.6, 150.4, 151.27, 151.87, 150.13, 151.14, 154.17, 155.55, 154.48, 154.95, 154.19, 153.06, 153.31, 155.07, 155.97, 157.02, 156.26, 156.565, 156.92, 156.01, 155.17, 155.0, 155.23, 157.81, 157.43, 157.93, 158.17, 158.62, 158.28, 156.73, 158.5, 157.24, 156.87, 158.0, 158.25, 157.29, 157.87, 163.5, 167.46, 167.02, 163.83, 163.25, 163.12, 160.82, 162.32, 162.76, 165.03, 163.7, 164.09, 164.54, 166.35, 167.25, 168.38, 168.76, 170.51, 173.86, 174.05, 175.7, 176.21, 177.66, 179.68, 181.82, 182.98, 181.48, 180.44, 180.75, 181.5, 179.61, 177.95, 177.19, 177.79, 177.99, 177.68, 178.22, 179.16, 175.5, 175.98, 176.63, 174.79, 173.83, 175.01, 177.0, 177.29, 176.87, 175.55, 176.98, 176.9, 177.14, 177.26, 177.48, 176.96, 175.94, 175.65, 176.12, 177.13, 178.17, 178.4, 179.58, 181.65, 182.63, 180.13, 182.6, 183.06, 181.8, 182.56, 182.27, 182.37, 183.585, 185.01, 186.32, 178.3, 182.2, 182.66, 182.3, 182.07, 178.71, 175.5, 176.9, 182.56, 182.98, 183.5, 185.59, 186.36, 186.21, 186.72, 184.65, 187.65, 188.82, 186.695, 186.45, 187.76, 189.27, 188.11, 189.58, 190.95, 191.37, 195.81, 197.06, 198.32, 197.62, 199.21, 198.94, 199.95, 198.92, 199.31, 196.5, 197.4, 197.77, 198.975, 200.79, 201.44, 202.34, 204.12, 206.33, 205.44, 206.93, 208.83, 207.64, 209.01, 209.96, 209.55, 211.5, 211.95, 223.26, 236.99, 238.59, 242.33, 239.155, 237.9, 236.07, 236.42, 237.55, 238.96, 234.1, 231.97, 231.0, 235.76, 236.18, 237.49, 235.31, 234.6, 234.39, 236.18, 237.21, 236.6, 235.6, 234.76, 236.11, 239.02, 238.5, 239.42, 236.25, 234.37, 234.35, 235.54, 239.74, 238.98, 237.15, 242.51, 246.29, 249.01, 251.96, 252.26, 254.49, 256.14, 251.51, 253.55, 253.98, 251.2, 252.64, 253.59, 254.72, 254.12, 254.97, 257.1, 257.14, 257.24, 259.03, 260.34, 260.79, 259.7, 256.31, 256.73, 256.11, 259.58, 262.15, 263.57, 254.57, 257.36, 255.82, 255.33, 257.47, 256.3, 258.07, 260.14, 262.62, 264.36, 265.3, 259.57, 259.63, 260.5, 260.24, 260.3, 263.36, 262.04, 263.38, 264.83, 264.59, 265.33, 264.81, 265.24, 266.19, 269.445, 270.74, 276.42, 274.89, 274.21, 278.34, 283.56, 280.03, 287.88, 289.75, 292.62, 293.02, 294.69, 294.26, 297.11, 294.15, 293.07, 294.78, 294.87, 294.74, 294.88, 295.43, 295.5, 295.47, 296.72, 305.82, 310.49, 315.52, 321.5, 330.92, 331.38, 336.5, 339.23, 335.9, 332.06, 334.96, 334.14, 336.0, 341.4, 340.23, 334.37, 351.63, 352.12, 348.7, 317.39, 317.66, 341.29, 329.55, 319.31, 335.14, 340.42, 341.7, 348.33, 353.61, 351.7, 351.8, 352.78, 353.14, 358.23, 363.3, 362.25, 346.49, 335.46, 337.02, 346.12, 339.78, 344.04, 350.38, 343.35, 337.63, 322.41, 322.91, 325.72, 326.86, 331.32, 335.18, 319.11, 318.4, 323.85, 319.02, 311.17, 322.05, 317.18, 323.38, 311.96, 330.45, 322.26, 322.08, 329.9, 326.33, 330.58, 326.64, 327.67, 333.65, 337.22, 337.5, 335.12, 336.07, 323.3, 330.7, 338.47, 337.77, 333.41, 324.27, 323.99, 319.16, 328.34, 335.93, 336.72, 338.64, 342.41, 341.16, 343.9, 340.32, 340.3, 340.33, 345.33, 359.03, 354.54, 351.92, 354.42, 357.23, 350.79, 354.3, 351.74, 354.54, 358.98, 358.91, 361.09, 366.05, 365.46, 369.05, 368.08, 363.3, 358.95, 353.48, 352.62, 338.62, 340.46, 336.49, 336.73, 327.6, 330.6, 329.82, 327.5, 335.37, 329.78, 332.27, 329.19, 330.51, 336.84, 343.36, 339.28, 343.04, 346.27, 352.525, 355.09, 354.49, 355.27, 353.02, 352.42, 354.8, 345.6, 355.27, 359.53, 350.52, 354.88, 350.54, 346.21, 345.73, 343.35, 345.72, 346.28, 343.15, 336.68, 337.4, 337.92, 328.07, 338.46, 341.68, 347.2, 349.87, 349.93, 345.52, 348.23, 351.49, 350.64, 349.23, 345.8, 341.68, 339.28, 343.23, 346.59, 344.49, 341.73, 337.31, 344.98, 354.3, 356.39, 354.73, 356.39, 363.62, 365.78, 366.27, 367.37, 366.88, 364.33, 364.67, 366.29, 375.16, 380.0, 387.08, 385.54, 383.05, 377.72, 381.25, 367.1, 355.58, 352.44, 355.55, 358.74, 362.8, 356.87, 354.26, 352.6, 343.16, 351.97, 355.14, 354.22, 328.75, 330.52, 353.98, 353.22, 356.88, 356.56, 362.225, 359.88, 366.1, 366.42, 356.17, 342.44, 344.16, 336.65, 331.26, 317.2, 296.63, 315.76, 311.96, 310.78, 311.11, 321.82, 334.23, 337.69, 356.79, 342.14, 317.37, 321.52, 315.99, 318.82, 324.91, 324.25, 315.79, 314.57, 323.61, 316.225, 308.09, 304.08, 294.31, 292.51, 302.31, 315.57, 318.88, 313.95, 309.45, 316.46, 323.77, 332.8, 340.98, 343.01, 348.22, 347.16, 348.04, 351.67, 351.35, 361.4, 354.48, 353.67, 357.02, 360.44, 357.72, 362.49, 380.51, 382.13, 384.73, 388.52, 399.75, 405.89, 402.53, 397.83, 402.845, 405.47, 407.8, 407.99, 411.5, 414.58, 417.16, 415.81, 419.14, 426.52, 424.4, 427.16, 437.14, 440.2, 426.64, 428.75, 422.14, 416.44, 415.65, 365.59, 368.9, 363.4, 372.2, 366.5, 367.27, 371.19, 373.8, 372.28, 361.64, 362.94, 367.71, 365.72, 372.5, 374.99, 383.2, 388.68, 384.07, 385.13, 391.07, 371.93, 367.76, 363.05, 364.41, 373.27, 373.93, 375.14, 377.5, 378.31, 374.92, 372.7, 373.78, 372.91, 378.32, 377.83, 375.14, 376.42, 373.43, 374.44, 365.65, 355.04, 353.49, 347.5, 347.83, 337.02, 337.5, 337.76, 345.82, 351.95, 350.65, 355.0, 351.86, 341.43, 353.09, 354.95, 346.06, 348.01, 341.36, 330.8, 340.14, 345.13, 345.61, 352.5, 353.67, 348.13, 342.8, 344.13, 346.04, 347.44, 357.9, 368.48, 369.01, 371.72, 372.26, 368.03, 370.45, 362.42, 361.6, 353.32, 352.7, 352.29, 351.59, 349.45, 347.98, 351.35, 350.98, 358.31, 359.03, 361.26, 362.33, 359.77, 368.81, 371.96, 370.72, 360.05, 345.71, 342.05, 339.12, 336.67, 341.07, 333.04, 332.32, 327.0, 329.27, 324.57, 328.87, 333.49, 331.37, 331.07, 320.42, 319.76, 326.61, 331.41, 329.11, 333.32, 341.03, 354.58, 356.93, 353.63, 351.78, 360.27, 362.42, 350.74, 354.43, 359.23, 359.21, 354.74, 358.83, 368.01, 374.37, 377.11, 375.02, 378.04, 379.84, 382.98, 378.0, 374.85, 375.35, 383.19, 383.425, 381.46, 376.92, 374.76, 363.95, 363.4, 372.24, 373.07, 368.64, 373.54, 370.35, 370.23, 372.725, 370.54, 369.34, 369.16, 344.15, 324.55, 334.65, 336.51, 337.81, 338.91, 339.61, 339.34, 343.27, 339.49, 339.69, 346.44, 354.01, 353.16, 355.19, 350.61, 345.775, 360.01, 361.47, 361.56, 369.31, 367.92, 361.73, 365.85, 366.28, 366.61, 369.2, 371.36, 366.9, 366.4, 355.16, 347.61, 348.94, 345.68, 347.36, 349.65, 347.51, 338.63, 341.67, 326.45, 320.61, 328.3, 331.24, 328.17, 334.21, 332.62, 329.31, 329.26, 325.77, 323.33, 327.8, 330.4, 327.93, 330.79, 329.68, 332.08, 329.5, 330.11, 328.29, 329.76, 329.31, 323.02, 305.83, 302.72, 307.93, 312.55, 314.65, 314.03, 319.2, 317.7, 317.0, 314.92, 315.1, 319.26, 325.71, 335.69, 336.7, 342.14, 346.1, 342.64, 338.01, 336.1, 335.9, 335.44, 330.28, 316.4, 304.12, 284.32, 269.8, 274.36, 278.12, 277.07, 259.67, 249.85, 224.74, 215.06, 187.0, 155.0, 161.47, 128.88, 101.27, 89.07, 90.45, 94.32, 93.6, 116.13, 141.07, 167.37, 155.56, 140.71, 149.02, 130.0, 120.04, 122.5, 129.24, 140.3, 144.59, 150.11, 146.34, 140.0, 132.9, 134.0, 145.0, 135.47, 134.53, 136.11, 128.35, 123.87, 127.78, 135.26, 132.39, 132.9, 124.39, 125.01, 121.41, 122.41, 131.57, 128.0, 125.2, 119.34, 113.89, 117.79, 125.81, 130.29, 131.33, 136.22, 135.81, 142.68, 141.26, 149.06, 142.94, 144.63, 151.89, 155.49, 177.49, 197.41, 219.0, 213.39, 197.44, 166.02, 176.32, 176.0, 192.78, 191.32, 187.24, 184.6, 182.0, 183.59, 176.08, 169.65, 167.64, 176.32, 180.39, 180.07, 180.47, 181.65, 178.66, 175.56, 172.91, 169.78, 174.44, 173.41, 181.27, 177.41, 175.57, 171.65, 176.76, 175.39, 175.45, 173.65, 169.0, 168.25, 162.29, 160.74, 156.29, 153.5, 163.06, 166.48, 170.6, 168.77, 171.35, 179.6, 173.2, 172.49, 172.52, 171.43, 169.03, 169.14, 165.9, 167.29, 167.94, 172.5, 171.35, 173.6, 172.6, 171.76, 169.33, 171.5, 168.15, 164.0, 160.55, 157.0, 157.585, 156.34, 159.0, 163.36, 160.33, 161.09, 161.03, 154.23, 155.0, 150.93, 145.02, 146.42, 159.2, 162.05, 164.16, 165.68, 161.87, 167.63, 159.36, 162.4, 163.59, 166.83, 165.95, 162.09, 162.5, 158.84, 167.28, 166.18, 166.2, 163.87, 164.1, 166.19, 159.08, 155.0, 148.02, 146.62, 141.59, 143.51, 150.79, 151.2, 152.14, 154.53, 172.24, 180.44, 180.42, 176.25, 178.78, 191.47, 196.08, 203.01, 200.0, 199.19, 202.0, 215.85, 213.12, 216.06, 208.6, 213.0, 210.42, 226.6, 230.26, 237.2, 234.52, 228.37, 228.24, 228.35, 228.37, 224.73, 225.3, 220.53, 218.62, 211.11, 217.81, 219.4, 216.08, 215.26, 215.42, 214.4, 212.75], \"open\": [130.94, 129.43, 128.85, 128.83, 130.6, 131.75, 132.25, 132.35, 129.26, 130.73, 129.92, 131.69, 130.87, 133.52, 135.75, 135.1, 131.93, 136.3, 139.68, 146.04, 143.72, 146.38, 146.15, 147.47, 148.62, 146.16, 148.08, 147.45, 148.24, 148.09, 148.615, 149.61, 151.11, 153.97, 155.1, 153.51, 154.305, 152.11, 151.08, 150.96, 154.7, 154.56, 155.0, 153.72, 153.16, 153.44, 152.36, 151.91, 151.94, 152.47, 153.08, 153.78, 154.765, 154.645, 154.9, 152.0, 151.38, 147.71, 148.46, 150.04, 152.08, 149.7, 149.03, 148.21, 151.31, 152.43, 152.75, 153.55, 153.73, 153.02, 153.99, 151.65, 150.9, 151.15, 153.85, 152.74, 150.44, 149.57, 148.71, 147.89, 147.1, 145.27, 144.69, 143.88, 143.7, 143.01, 140.69, 143.21, 145.42, 144.83, 145.44, 146.86, 148.0, 146.88, 147.65, 146.97, 146.23, 147.13, 144.39, 143.5, 142.67, 142.24, 141.15, 141.365, 143.93, 143.19, 140.98, 140.56, 140.49, 140.58, 142.0, 142.57, 142.04, 141.42, 143.15, 144.04, 145.24, 146.05, 146.33, 143.68, 143.11, 142.72, 140.89, 139.84, 140.53, 141.29, 139.06, 141.03, 142.02, 143.5, 144.75, 145.94, 146.78, 147.66, 147.88, 147.24, 146.72, 146.31, 148.9, 147.06, 145.82, 143.14, 141.655, 142.45, 143.32, 143.85, 144.37, 143.65, 144.13, 144.86, 143.46, 143.95, 144.14, 142.96, 142.16, 144.75, 143.55, 144.07, 143.4, 141.64, 135.0, 123.05, 129.28, 131.25, 131.64, 132.295, 128.17, 128.21, 131.48, 129.64, 132.18, 135.78, 132.44, 133.11, 134.63, 134.77, 136.12, 137.5, 137.32, 136.58, 134.35, 134.95, 130.57, 131.09, 129.74, 128.05, 129.85, 131.51, 128.71, 139.89, 140.0, 139.75, 135.12, 138.08, 137.51, 137.98, 141.93, 142.15, 147.47, 146.39, 146.02, 148.0, 147.34, 147.48, 148.27, 148.0, 147.65, 148.37, 146.58, 147.08, 145.29, 145.14, 143.0, 142.33, 142.59, 145.42, 146.5, 148.89, 149.85, 149.37, 147.25, 148.97, 147.46, 147.15, 147.03, 147.67, 147.28, 146.35, 148.44, 146.99, 144.45, 144.53, 144.64, 144.11, 145.14, 147.93, 148.6, 143.65, 140.57, 141.72, 143.25, 143.6, 143.11, 145.21, 147.15, 145.51, 141.49, 141.13, 139.08, 135.88, 133.7, 130.89, 131.63, 132.32, 129.4, 126.09, 127.09, 124.03, 122.63, 124.7, 124.73, 124.83, 119.67, 117.16, 118.14, 119.59, 119.67, 118.86, 122.15, 120.85, 117.955, 118.16, 113.02, 105.45, 109.76, 114.0, 116.91, 117.07, 116.79, 117.07, 115.09, 116.27, 117.75, 118.13, 118.81, 119.68, 118.81, 120.23, 120.72, 122.0, 122.42, 123.14, 124.28, 124.31, 125.72, 126.24, 128.21, 131.25, 135.02, 134.99, 131.19, 132.61, 129.51, 131.4, 128.14, 125.79, 126.31, 126.15, 127.01, 126.99, 128.0, 128.52, 127.69, 130.39, 131.72, 131.21, 130.58, 132.82, 128.72, 130.97, 131.01, 130.58, 131.5, 133.4, 136.27, 134.13, 134.48, 132.7, 131.59, 131.69, 131.89, 133.0, 133.1, 134.36, 133.85, 133.83, 131.71, 134.25, 132.25, 130.15, 128.53, 127.435, 127.7, 128.0, 129.24, 129.19, 129.94, 125.9, 126.175, 126.58, 127.57, 132.32, 132.465, 132.1, 131.62, 130.64, 129.52, 131.01, 129.11, 129.5, 131.45, 133.19, 132.16, 133.91, 128.15, 125.54, 124.34, 125.49, 127.3, 129.73, 128.99, 126.97, 127.055, 128.73, 132.2, 132.91, 131.28, 131.59, 131.6, 132.41, 133.21, 134.55, 134.78, 131.65, 132.75, 133.0, 136.29, 135.4, 132.96, 133.35, 133.24, 131.925, 132.42, 132.21, 131.81, 132.5, 132.0, 132.7, 132.91, 133.7, 134.15, 134.77, 134.74, 134.33, 135.48, 133.93, 133.15, 133.51, 132.68, 133.21, 130.83, 129.72, 131.14, 131.63, 132.53, 132.32, 131.7, 126.85, 129.07, 128.85, 127.57, 127.5, 127.69, 128.41, 128.29, 131.45, 131.28, 131.04, 130.19, 131.58, 131.75, 132.15, 131.38, 132.465, 132.8, 134.71, 134.01, 134.93, 135.5, 133.65, 132.25, 134.38, 133.33, 135.37, 135.75, 136.04, 134.3, 136.78, 137.44, 138.35, 145.83, 143.455, 143.04, 143.18, 141.8, 140.72, 139.1, 141.74, 142.1, 141.74, 146.39, 147.2, 148.9, 149.19, 147.28, 146.81, 145.25, 146.98, 147.89, 149.61, 150.01, 149.1, 149.83, 151.62, 150.95, 152.46, 153.51, 151.03, 151.71, 154.17, 155.57, 155.2, 159.33, 156.23, 153.93, 153.88, 155.16, 156.76, 157.08, 158.58, 157.86, 158.41, 157.14, 155.96, 156.15, 156.2, 157.81, 158.3, 159.22, 159.08, 158.96, 159.39, 159.15, 158.56, 158.36, 157.18, 158.87, 159.81, 159.0, 158.54, 163.63, 167.53, 169.12, 165.59, 164.85, 164.38, 163.12, 163.42, 162.76, 165.03, 164.82, 164.2, 165.34, 166.35, 167.7, 168.51, 169.73, 170.51, 173.92, 174.87, 175.97, 176.75, 177.98, 180.62, 181.82, 184.0, 182.38, 181.5, 181.03, 182.55, 181.38, 181.61, 177.19, 178.61, 179.0, 179.7, 178.31, 179.87, 180.05, 176.04, 177.03, 176.96, 174.37, 176.25, 177.2, 177.39, 177.77, 177.0, 176.98, 179.15, 177.85, 178.47, 179.07, 177.4, 178.1, 176.34, 176.12, 178.6, 178.5, 178.73, 179.58, 181.83, 182.71, 182.59, 182.6, 183.37, 184.39, 182.84, 183.48, 183.76, 183.7, 185.35, 186.32, 185.09, 182.84, 183.85, 183.42, 183.07, 181.39, 178.19, 177.63, 183.75, 184.17, 183.5, 185.59, 187.12, 186.73, 187.39, 187.38, 187.82, 190.04, 188.46, 186.69, 188.01, 189.99, 190.3, 190.05, 191.0, 191.43, 196.08, 197.5, 198.76, 199.56, 199.26, 198.94, 202.72, 199.45, 199.82, 199.47, 198.46, 198.09, 199.43, 201.64, 202.0, 202.45, 204.12, 207.07, 206.68, 206.93, 208.87, 209.0, 209.16, 211.11, 210.03, 211.785, 213.22, 223.5, 237.13, 241.03, 242.33, 243.33, 238.78, 237.45, 238.59, 237.56, 239.9, 238.04, 234.0, 232.77, 236.02, 236.55, 239.69, 236.89, 235.83, 235.87, 236.18, 238.69, 238.39, 238.58, 236.34, 236.73, 240.84, 241.03, 239.65, 240.06, 237.53, 234.92, 235.89, 239.74, 240.89, 240.03, 243.05, 247.5, 249.99, 252.97, 253.05, 256.09, 256.42, 256.74, 255.04, 255.31, 254.11, 253.73, 254.65, 256.05, 256.7, 255.35, 258.21, 258.58, 259.26, 260.98, 260.94, 263.0, 261.73, 256.33, 258.47, 258.7, 260.78, 265.1, 263.57, 264.21, 259.85, 258.26, 255.55, 259.48, 258.29, 258.09, 262.21, 262.62, 264.36, 266.73, 265.45, 262.47, 261.2, 262.24, 261.61, 263.85, 262.93, 263.38, 266.17, 267.14, 265.33, 265.57, 266.83, 269.5, 270.25, 277.41, 276.42, 278.72, 274.36, 278.63, 285.15, 286.13, 287.88, 290.57, 293.92, 296.17, 296.0, 296.63, 298.7, 298.11, 295.91, 295.26, 296.5, 296.34, 296.86, 295.78, 296.47, 298.25, 296.72, 308.3, 310.55, 316.7, 322.18, 330.95, 339.9, 336.9, 350.4, 341.51, 334.82, 338.55, 336.28, 336.0, 344.99, 341.43, 339.49, 359.89, 352.7, 354.28, 342.68, 320.0, 341.29, 348.06, 333.85, 336.25, 340.74, 342.06, 348.95, 356.61, 351.85, 352.75, 355.0, 357.46, 359.85, 364.34, 366.59, 361.71, 341.82, 338.1, 354.5, 341.52, 349.85, 352.65, 354.41, 346.29, 339.86, 332.31, 330.07, 327.62, 331.84, 337.7, 328.76, 320.0, 329.64, 331.02, 321.62, 322.05, 324.86, 324.7, 312.29, 330.56, 330.26, 332.28, 331.72, 332.16, 331.98, 338.99, 332.37, 334.86, 338.64, 339.87, 340.64, 339.84, 343.78, 338.34, 344.51, 341.01, 341.28, 333.83, 329.53, 322.29, 328.85, 335.93, 340.07, 340.27, 343.95, 343.78, 344.0, 342.29, 341.66, 340.55, 345.52, 359.5, 364.28, 352.0, 358.33, 358.74, 357.71, 355.86, 356.83, 355.83, 358.98, 360.88, 362.32, 372.0, 368.14, 371.0, 371.76, 370.67, 366.26, 357.07, 352.62, 346.62, 346.55, 340.28, 340.43, 331.9, 332.35, 334.76, 329.91, 337.48, 329.83, 338.54, 335.89, 332.84, 337.58, 343.36, 341.13, 345.15, 347.21, 353.83, 358.2, 358.95, 357.69, 353.02, 354.76, 356.82, 351.72, 355.38, 361.04, 361.33, 354.96, 353.24, 348.62, 349.47, 347.37, 348.47, 350.5, 346.07, 340.75, 339.69, 339.2, 336.16, 338.63, 345.8, 348.63, 351.19, 354.12, 349.15, 348.23, 352.21, 355.68, 351.84, 350.25, 345.04, 341.4, 345.81, 347.55, 348.41, 349.4, 338.68, 344.98, 356.51, 356.39, 358.3, 357.3, 363.62, 368.96, 369.51, 370.2, 369.2, 367.37, 367.82, 369.03, 375.53, 380.28, 388.75, 391.09, 389.06, 384.01, 384.24, 383.03, 362.91, 365.29, 359.38, 361.0, 367.77, 363.96, 359.8, 357.79, 349.03, 361.84, 358.77, 360.25, 361.4, 330.77, 353.98, 357.18, 366.97, 359.55, 362.225, 367.4, 369.33, 367.94, 369.63, 349.61, 352.68, 340.32, 338.47, 335.93, 302.75, 325.17, 314.6, 315.61, 314.69, 324.94, 335.97, 341.53, 364.82, 356.86, 330.71, 332.04, 321.75, 333.12, 327.42, 328.0, 321.87, 317.55, 324.35, 329.32, 317.0, 309.28, 300.27, 297.35, 308.73, 319.79, 320.77, 314.66, 318.84, 317.51, 329.79, 334.11, 342.96, 345.0, 348.56, 348.73, 352.01, 352.8, 351.35, 363.78, 362.46, 361.44, 359.2, 362.23, 359.75, 362.99, 386.15, 387.7, 386.79, 388.93, 400.61, 410.67, 406.46, 399.65, 408.18, 407.46, 411.09, 409.44, 412.47, 415.91, 417.16, 421.5, 419.91, 427.64, 425.85, 427.16, 437.8, 445.57, 443.24, 431.5, 430.09, 422.33, 415.65, 371.9, 384.68, 378.2, 374.66, 371.56, 370.0, 371.19, 374.7, 374.2, 368.81, 364.56, 375.47, 371.72, 376.21, 376.47, 386.36, 388.69, 389.68, 385.41, 398.62, 376.49, 370.2, 368.73, 364.41, 375.42, 377.28, 376.51, 384.0, 378.4, 375.85, 375.3, 376.32, 375.85, 383.92, 378.45, 380.09, 378.82, 375.74, 376.5, 367.28, 367.22, 358.335, 354.58, 351.87, 344.405, 339.41, 339.38, 348.35, 351.95, 352.64, 358.09, 356.99, 345.98, 355.26, 355.4, 352.59, 350.14, 345.2, 338.15, 342.36, 346.61, 347.96, 352.5, 355.87, 355.34, 349.06, 347.98, 346.91, 348.43, 357.9, 375.45, 372.6, 374.5, 373.18, 374.85, 370.88, 367.5, 363.57, 364.89, 355.38, 354.68, 353.92, 350.74, 349.01, 354.43, 351.87, 359.95, 360.04, 361.26, 362.42, 367.67, 369.99, 376.13, 374.9, 370.28, 356.15, 346.71, 345.31, 339.84, 349.06, 341.7, 334.3, 332.02, 334.11, 328.6, 331.17, 334.61, 333.68, 331.19, 328.41, 322.73, 330.11, 334.5, 332.56, 335.51, 342.12, 355.02, 365.0, 359.45, 353.52, 364.03, 364.54, 353.875, 357.68, 360.86, 361.86, 357.74, 359.05, 368.84, 383.3, 377.54, 377.72, 378.29, 382.83, 386.23, 384.0, 376.61, 379.18, 385.33, 387.01, 388.28, 383.14, 382.0, 371.78, 366.6, 372.24, 374.0, 370.68, 376.16, 373.99, 372.87, 374.44, 373.0, 370.35, 373.21, 369.35, 332.99, 336.02, 345.32, 341.49, 343.16, 341.74, 340.01, 345.9, 344.33, 341.37, 346.44, 355.03, 358.31, 356.05, 356.38, 347.71, 366.06, 361.87, 362.95, 370.49, 372.0, 373.49, 366.01, 370.05, 367.63, 372.53, 373.62, 369.59, 368.14, 367.05, 351.18, 354.37, 350.12, 347.55, 352.63, 350.25, 342.01, 341.67, 329.18, 322.33, 328.45, 332.94, 334.65, 336.8, 338.52, 332.97, 330.36, 330.31, 325.36, 328.37, 330.4, 329.39, 333.14, 332.23, 335.0, 335.48, 332.15, 330.55, 332.23, 331.01, 332.15, 322.99, 309.96, 308.82, 321.58, 316.26, 317.88, 323.16, 321.4, 321.35, 318.65, 318.74, 320.695, 330.89, 340.37, 336.7, 347.62, 346.7, 344.17, 342.65, 338.62, 338.5, 339.0, 333.19, 319.79, 306.64, 299.0, 278.0, 279.75, 291.4, 284.31, 275.79, 253.35, 238.51, 236.31, 222.35, 160.53, 174.89, 147.16, 132.51, 99.85, 99.02, 99.85, 98.53, 123.68, 154.8, 171.68, 172.0, 153.81, 154.98, 138.4, 128.35, 125.16, 133.99, 162.29, 147.49, 154.71, 155.45, 150.05, 138.43, 141.76, 149.32, 138.26, 140.28, 136.5, 137.47, 130.09, 133.97, 138.08, 137.19, 143.23, 127.02, 132.84, 126.11, 122.93, 132.57, 130.92, 129.72, 125.01, 118.98, 118.34, 126.4, 137.03, 133.27, 136.81, 141.01, 145.25, 149.13, 156.1, 145.35, 145.45, 154.0, 157.09, 181.3, 205.12, 223.0, 222.29, 210.88, 179.35, 187.15, 177.27, 206.85, 194.46, 188.15, 197.61, 184.57, 189.16, 183.65, 169.82, 173.42, 181.19, 188.04, 185.61, 185.7, 184.42, 184.89, 179.0, 179.66, 171.74, 180.2, 176.63, 186.0, 184.31, 178.41, 175.09, 178.24, 176.24, 178.1, 175.4, 173.14, 168.45, 172.89, 162.75, 161.47, 156.62, 164.7, 167.65, 172.74, 171.55, 171.35, 184.89, 183.83, 173.56, 173.0, 178.14, 172.01, 170.39, 168.41, 168.42, 168.66, 180.39, 173.8, 174.66, 174.95, 174.7, 170.49, 172.76, 175.58, 171.31, 166.46, 161.7, 161.0, 157.97, 162.0, 166.48, 161.95, 164.38, 165.66, 157.62, 156.65, 157.49, 150.14, 146.72, 160.4, 164.51, 164.58, 169.95, 161.93, 169.5, 173.09, 163.64, 166.22, 169.6, 167.35, 165.27, 162.7, 161.0, 171.18, 169.1, 168.43, 166.5, 164.7, 169.99, 164.92, 159.12, 153.0, 148.0, 147.2, 145.51, 151.84, 153.19, 152.28, 156.21, 179.19, 182.72, 189.73, 178.74, 178.99, 194.59, 200.07, 222.35, 200.09, 204.72, 203.29, 219.91, 217.41, 217.69, 215.67, 214.49, 213.1, 227.66, 236.42, 238.27, 238.43, 238.61, 228.25, 233.03, 234.41, 230.04, 229.45, 227.22, 221.87, 212.43, 223.65, 219.75, 219.57, 218.07, 218.3, 216.25, 216.16], \"type\": \"candlestick\", \"x\": [0, 1, 2, 3, 4, 5, 6, 7, 8, 9, 10, 11, 12, 13, 14, 15, 16, 17, 18, 19, 20, 21, 22, 23, 24, 25, 26, 27, 28, 29, 30, 31, 32, 33, 34, 35, 36, 37, 38, 39, 40, 41, 42, 43, 44, 45, 46, 47, 48, 49, 50, 51, 52, 53, 54, 55, 56, 57, 58, 59, 60, 61, 62, 63, 64, 65, 66, 67, 68, 69, 70, 71, 72, 73, 74, 75, 76, 77, 78, 79, 80, 81, 82, 83, 84, 85, 86, 87, 88, 89, 90, 91, 92, 93, 94, 95, 96, 97, 98, 99, 100, 101, 102, 103, 104, 105, 106, 107, 108, 109, 110, 111, 112, 113, 114, 115, 116, 117, 118, 119, 120, 121, 122, 123, 124, 125, 126, 127, 128, 129, 130, 131, 132, 133, 134, 135, 136, 137, 138, 139, 140, 141, 142, 143, 144, 145, 146, 147, 148, 149, 150, 151, 152, 153, 154, 155, 156, 157, 158, 159, 160, 161, 162, 163, 164, 165, 166, 167, 168, 169, 170, 171, 172, 173, 174, 175, 176, 177, 178, 179, 180, 181, 182, 183, 184, 185, 186, 187, 188, 189, 190, 191, 192, 193, 194, 195, 196, 197, 198, 199, 200, 201, 202, 203, 204, 205, 206, 207, 208, 209, 210, 211, 212, 213, 214, 215, 216, 217, 218, 219, 220, 221, 222, 223, 224, 225, 226, 227, 228, 229, 230, 231, 232, 233, 234, 235, 236, 237, 238, 239, 240, 241, 242, 243, 244, 245, 246, 247, 248, 249, 250, 251, 252, 253, 254, 255, 256, 257, 258, 259, 260, 261, 262, 263, 264, 265, 266, 267, 268, 269, 270, 271, 272, 273, 274, 275, 276, 277, 278, 279, 280, 281, 282, 283, 284, 285, 286, 287, 288, 289, 290, 291, 292, 293, 294, 295, 296, 297, 298, 299, 300, 301, 302, 303, 304, 305, 306, 307, 308, 309, 310, 311, 312, 313, 314, 315, 316, 317, 318, 319, 320, 321, 322, 323, 324, 325, 326, 327, 328, 329, 330, 331, 332, 333, 334, 335, 336, 337, 338, 339, 340, 341, 342, 343, 344, 345, 346, 347, 348, 349, 350, 351, 352, 353, 354, 355, 356, 357, 358, 359, 360, 361, 362, 363, 364, 365, 366, 367, 368, 369, 370, 371, 372, 373, 374, 375, 376, 377, 378, 379, 380, 381, 382, 383, 384, 385, 386, 387, 388, 389, 390, 391, 392, 393, 394, 395, 396, 397, 398, 399, 400, 401, 402, 403, 404, 405, 406, 407, 408, 409, 410, 411, 412, 413, 414, 415, 416, 417, 418, 419, 420, 421, 422, 423, 424, 425, 426, 427, 428, 429, 430, 431, 432, 433, 434, 435, 436, 437, 438, 439, 440, 441, 442, 443, 444, 445, 446, 447, 448, 449, 450, 451, 452, 453, 454, 455, 456, 457, 458, 459, 460, 461, 462, 463, 464, 465, 466, 467, 468, 469, 470, 471, 472, 473, 474, 475, 476, 477, 478, 479, 480, 481, 482, 483, 484, 485, 486, 487, 488, 489, 490, 491, 492, 493, 494, 495, 496, 497, 498, 499, 500, 501, 502, 503, 504, 505, 506, 507, 508, 509, 510, 511, 512, 513, 514, 515, 516, 517, 518, 519, 520, 521, 522, 523, 524, 525, 526, 527, 528, 529, 530, 531, 532, 533, 534, 535, 536, 537, 538, 539, 540, 541, 542, 543, 544, 545, 546, 547, 548, 549, 550, 551, 552, 553, 554, 555, 556, 557, 558, 559, 560, 561, 562, 563, 564, 565, 566, 567, 568, 569, 570, 571, 572, 573, 574, 575, 576, 577, 578, 579, 580, 581, 582, 583, 584, 585, 586, 587, 588, 589, 590, 591, 592, 593, 594, 595, 596, 597, 598, 599, 600, 601, 602, 603, 604, 605, 606, 607, 608, 609, 610, 611, 612, 613, 614, 615, 616, 617, 618, 619, 620, 621, 622, 623, 624, 625, 626, 627, 628, 629, 630, 631, 632, 633, 634, 635, 636, 637, 638, 639, 640, 641, 642, 643, 644, 645, 646, 647, 648, 649, 650, 651, 652, 653, 654, 655, 656, 657, 658, 659, 660, 661, 662, 663, 664, 665, 666, 667, 668, 669, 670, 671, 672, 673, 674, 675, 676, 677, 678, 679, 680, 681, 682, 683, 684, 685, 686, 687, 688, 689, 690, 691, 692, 693, 694, 695, 696, 697, 698, 699, 700, 701, 702, 703, 704, 705, 706, 707, 708, 709, 710, 711, 712, 713, 714, 715, 716, 717, 718, 719, 720, 721, 722, 723, 724, 725, 726, 727, 728, 729, 730, 731, 732, 733, 734, 735, 736, 737, 738, 739, 740, 741, 742, 743, 744, 745, 746, 747, 748, 749, 750, 751, 752, 753, 754, 755, 756, 757, 758, 759, 760, 761, 762, 763, 764, 765, 766, 767, 768, 769, 770, 771, 772, 773, 774, 775, 776, 777, 778, 779, 780, 781, 782, 783, 784, 785, 786, 787, 788, 789, 790, 791, 792, 793, 794, 795, 796, 797, 798, 799, 800, 801, 802, 803, 804, 805, 806, 807, 808, 809, 810, 811, 812, 813, 814, 815, 816, 817, 818, 819, 820, 821, 822, 823, 824, 825, 826, 827, 828, 829, 830, 831, 832, 833, 834, 835, 836, 837, 838, 839, 840, 841, 842, 843, 844, 845, 846, 847, 848, 849, 850, 851, 852, 853, 854, 855, 856, 857, 858, 859, 860, 861, 862, 863, 864, 865, 866, 867, 868, 869, 870, 871, 872, 873, 874, 875, 876, 877, 878, 879, 880, 881, 882, 883, 884, 885, 886, 887, 888, 889, 890, 891, 892, 893, 894, 895, 896, 897, 898, 899, 900, 901, 902, 903, 904, 905, 906, 907, 908, 909, 910, 911, 912, 913, 914, 915, 916, 917, 918, 919, 920, 921, 922, 923, 924, 925, 926, 927, 928, 929, 930, 931, 932, 933, 934, 935, 936, 937, 938, 939, 940, 941, 942, 943, 944, 945, 946, 947, 948, 949, 950, 951, 952, 953, 954, 955, 956, 957, 958, 959, 960, 961, 962, 963, 964, 965, 966, 967, 968, 969, 970, 971, 972, 973, 974, 975, 976, 977, 978, 979, 980, 981, 982, 983, 984, 985, 986, 987, 988, 989, 990, 991, 992, 993, 994, 995, 996, 997, 998, 999, 1000, 1001, 1002, 1003, 1004, 1005, 1006, 1007, 1008, 1009, 1010, 1011, 1012, 1013, 1014, 1015, 1016, 1017, 1018, 1019, 1020, 1021, 1022, 1023, 1024, 1025, 1026, 1027, 1028, 1029, 1030, 1031, 1032, 1033, 1034, 1035, 1036, 1037, 1038, 1039, 1040, 1041, 1042, 1043, 1044, 1045, 1046, 1047, 1048, 1049, 1050, 1051, 1052, 1053, 1054, 1055, 1056, 1057, 1058, 1059, 1060, 1061, 1062, 1063, 1064, 1065, 1066, 1067, 1068, 1069, 1070, 1071, 1072, 1073, 1074, 1075, 1076, 1077, 1078, 1079, 1080, 1081, 1082, 1083, 1084, 1085, 1086, 1087, 1088, 1089, 1090, 1091, 1092, 1093, 1094, 1095, 1096, 1097, 1098, 1099, 1100, 1101, 1102, 1103, 1104, 1105, 1106, 1107, 1108, 1109, 1110, 1111, 1112, 1113, 1114, 1115, 1116, 1117, 1118, 1119, 1120, 1121, 1122, 1123, 1124, 1125, 1126, 1127, 1128, 1129, 1130, 1131, 1132, 1133, 1134, 1135, 1136, 1137, 1138, 1139, 1140, 1141, 1142, 1143, 1144, 1145, 1146, 1147, 1148, 1149, 1150, 1151, 1152, 1153, 1154, 1155, 1156, 1157, 1158, 1159, 1160, 1161, 1162, 1163, 1164, 1165, 1166, 1167, 1168, 1169, 1170, 1171, 1172, 1173, 1174, 1175, 1176, 1177, 1178, 1179, 1180, 1181, 1182, 1183, 1184, 1185, 1186, 1187, 1188, 1189, 1190, 1191, 1192, 1193, 1194, 1195, 1196, 1197, 1198, 1199, 1200, 1201, 1202, 1203, 1204, 1205, 1206, 1207, 1208, 1209, 1210, 1211, 1212, 1213, 1214, 1215, 1216, 1217, 1218, 1219, 1220, 1221, 1222, 1223, 1224, 1225, 1226, 1227, 1228, 1229, 1230, 1231, 1232, 1233, 1234, 1235, 1236, 1237, 1238, 1239, 1240, 1241, 1242, 1243, 1244, 1245, 1246, 1247, 1248, 1249, 1250, 1251, 1252, 1253, 1254, 1255, 1256, 1257, 1258, 1259, 1260, 1261, 1262, 1263, 1264, 1265, 1266, 1267, 1268, 1269, 1270, 1271, 1272, 1273, 1274, 1275, 1276, 1277, 1278, 1279, 1280, 1281, 1282, 1283, 1284, 1285, 1286, 1287, 1288, 1289, 1290, 1291, 1292, 1293, 1294, 1295, 1296, 1297, 1298, 1299, 1300, 1301, 1302, 1303, 1304, 1305, 1306, 1307, 1308, 1309, 1310, 1311, 1312, 1313, 1314, 1315, 1316, 1317, 1318, 1319, 1320, 1321, 1322, 1323, 1324, 1325, 1326, 1327, 1328, 1329, 1330, 1331, 1332, 1333, 1334, 1335, 1336, 1337, 1338, 1339, 1340, 1341, 1342, 1343, 1344, 1345, 1346, 1347, 1348, 1349, 1350, 1351, 1352, 1353, 1354, 1355, 1356, 1357, 1358, 1359, 1360, 1361, 1362, 1363, 1364, 1365, 1366, 1367, 1368, 1369, 1370, 1371, 1372, 1373, 1374, 1375, 1376, 1377, 1378, 1379, 1380, 1381, 1382, 1383, 1384, 1385, 1386, 1387, 1388, 1389, 1390, 1391, 1392, 1393, 1394, 1395, 1396, 1397, 1398, 1399, 1400, 1401, 1402, 1403, 1404, 1405, 1406, 1407, 1408, 1409, 1410, 1411, 1412, 1413, 1414, 1415, 1416, 1417, 1418, 1419, 1420, 1421, 1422, 1423, 1424, 1425, 1426, 1427, 1428, 1429, 1430, 1431, 1432, 1433, 1434, 1435, 1436, 1437, 1438, 1439, 1440, 1441, 1442, 1443, 1444, 1445, 1446, 1447, 1448, 1449, 1450, 1451, 1452, 1453, 1454, 1455, 1456, 1457, 1458, 1459, 1460, 1461, 1462, 1463, 1464, 1465, 1466, 1467, 1468, 1469, 1470, 1471, 1472, 1473, 1474, 1475, 1476, 1477, 1478, 1479, 1480, 1481, 1482, 1483, 1484, 1485, 1486, 1487, 1488, 1489, 1490, 1491, 1492, 1493, 1494, 1495, 1496, 1497, 1498]}],\n",
              "                        {\"template\": {\"data\": {\"bar\": [{\"error_x\": {\"color\": \"#2a3f5f\"}, \"error_y\": {\"color\": \"#2a3f5f\"}, \"marker\": {\"line\": {\"color\": \"#E5ECF6\", \"width\": 0.5}}, \"type\": \"bar\"}], \"barpolar\": [{\"marker\": {\"line\": {\"color\": \"#E5ECF6\", \"width\": 0.5}}, \"type\": \"barpolar\"}], \"carpet\": [{\"aaxis\": {\"endlinecolor\": \"#2a3f5f\", \"gridcolor\": \"white\", \"linecolor\": \"white\", \"minorgridcolor\": \"white\", \"startlinecolor\": \"#2a3f5f\"}, \"baxis\": {\"endlinecolor\": \"#2a3f5f\", \"gridcolor\": \"white\", \"linecolor\": \"white\", \"minorgridcolor\": \"white\", \"startlinecolor\": \"#2a3f5f\"}, \"type\": \"carpet\"}], \"choropleth\": [{\"colorbar\": {\"outlinewidth\": 0, \"ticks\": \"\"}, \"type\": \"choropleth\"}], \"contour\": [{\"colorbar\": {\"outlinewidth\": 0, \"ticks\": \"\"}, \"colorscale\": [[0.0, \"#0d0887\"], [0.1111111111111111, \"#46039f\"], [0.2222222222222222, \"#7201a8\"], [0.3333333333333333, \"#9c179e\"], [0.4444444444444444, \"#bd3786\"], [0.5555555555555556, \"#d8576b\"], [0.6666666666666666, \"#ed7953\"], [0.7777777777777778, \"#fb9f3a\"], [0.8888888888888888, \"#fdca26\"], [1.0, \"#f0f921\"]], \"type\": \"contour\"}], \"contourcarpet\": [{\"colorbar\": {\"outlinewidth\": 0, \"ticks\": \"\"}, \"type\": \"contourcarpet\"}], \"heatmap\": [{\"colorbar\": {\"outlinewidth\": 0, \"ticks\": \"\"}, \"colorscale\": [[0.0, \"#0d0887\"], [0.1111111111111111, \"#46039f\"], [0.2222222222222222, \"#7201a8\"], [0.3333333333333333, \"#9c179e\"], [0.4444444444444444, \"#bd3786\"], [0.5555555555555556, \"#d8576b\"], [0.6666666666666666, \"#ed7953\"], [0.7777777777777778, \"#fb9f3a\"], [0.8888888888888888, \"#fdca26\"], [1.0, \"#f0f921\"]], \"type\": \"heatmap\"}], \"heatmapgl\": [{\"colorbar\": {\"outlinewidth\": 0, \"ticks\": \"\"}, \"colorscale\": [[0.0, \"#0d0887\"], [0.1111111111111111, \"#46039f\"], [0.2222222222222222, \"#7201a8\"], [0.3333333333333333, \"#9c179e\"], [0.4444444444444444, \"#bd3786\"], [0.5555555555555556, \"#d8576b\"], [0.6666666666666666, \"#ed7953\"], [0.7777777777777778, \"#fb9f3a\"], [0.8888888888888888, \"#fdca26\"], [1.0, \"#f0f921\"]], \"type\": \"heatmapgl\"}], \"histogram\": [{\"marker\": {\"colorbar\": {\"outlinewidth\": 0, \"ticks\": \"\"}}, \"type\": \"histogram\"}], \"histogram2d\": [{\"colorbar\": {\"outlinewidth\": 0, \"ticks\": \"\"}, \"colorscale\": [[0.0, \"#0d0887\"], [0.1111111111111111, \"#46039f\"], [0.2222222222222222, \"#7201a8\"], [0.3333333333333333, \"#9c179e\"], [0.4444444444444444, \"#bd3786\"], [0.5555555555555556, \"#d8576b\"], [0.6666666666666666, \"#ed7953\"], [0.7777777777777778, \"#fb9f3a\"], [0.8888888888888888, \"#fdca26\"], [1.0, \"#f0f921\"]], \"type\": \"histogram2d\"}], \"histogram2dcontour\": [{\"colorbar\": {\"outlinewidth\": 0, \"ticks\": \"\"}, \"colorscale\": [[0.0, \"#0d0887\"], [0.1111111111111111, \"#46039f\"], [0.2222222222222222, \"#7201a8\"], [0.3333333333333333, \"#9c179e\"], [0.4444444444444444, \"#bd3786\"], [0.5555555555555556, \"#d8576b\"], [0.6666666666666666, \"#ed7953\"], [0.7777777777777778, \"#fb9f3a\"], [0.8888888888888888, \"#fdca26\"], [1.0, \"#f0f921\"]], \"type\": \"histogram2dcontour\"}], \"mesh3d\": [{\"colorbar\": {\"outlinewidth\": 0, \"ticks\": \"\"}, \"type\": \"mesh3d\"}], \"parcoords\": [{\"line\": {\"colorbar\": {\"outlinewidth\": 0, \"ticks\": \"\"}}, \"type\": \"parcoords\"}], \"pie\": [{\"automargin\": true, \"type\": \"pie\"}], \"scatter\": [{\"marker\": {\"colorbar\": {\"outlinewidth\": 0, \"ticks\": \"\"}}, \"type\": \"scatter\"}], \"scatter3d\": [{\"line\": {\"colorbar\": {\"outlinewidth\": 0, \"ticks\": \"\"}}, \"marker\": {\"colorbar\": {\"outlinewidth\": 0, \"ticks\": \"\"}}, \"type\": \"scatter3d\"}], \"scattercarpet\": [{\"marker\": {\"colorbar\": {\"outlinewidth\": 0, \"ticks\": \"\"}}, \"type\": \"scattercarpet\"}], \"scattergeo\": [{\"marker\": {\"colorbar\": {\"outlinewidth\": 0, \"ticks\": \"\"}}, \"type\": \"scattergeo\"}], \"scattergl\": [{\"marker\": {\"colorbar\": {\"outlinewidth\": 0, \"ticks\": \"\"}}, \"type\": \"scattergl\"}], \"scattermapbox\": [{\"marker\": {\"colorbar\": {\"outlinewidth\": 0, \"ticks\": \"\"}}, \"type\": \"scattermapbox\"}], \"scatterpolar\": [{\"marker\": {\"colorbar\": {\"outlinewidth\": 0, \"ticks\": \"\"}}, \"type\": \"scatterpolar\"}], \"scatterpolargl\": [{\"marker\": {\"colorbar\": {\"outlinewidth\": 0, \"ticks\": \"\"}}, \"type\": \"scatterpolargl\"}], \"scatterternary\": [{\"marker\": {\"colorbar\": {\"outlinewidth\": 0, \"ticks\": \"\"}}, \"type\": \"scatterternary\"}], \"surface\": [{\"colorbar\": {\"outlinewidth\": 0, \"ticks\": \"\"}, \"colorscale\": [[0.0, \"#0d0887\"], [0.1111111111111111, \"#46039f\"], [0.2222222222222222, \"#7201a8\"], [0.3333333333333333, \"#9c179e\"], [0.4444444444444444, \"#bd3786\"], [0.5555555555555556, \"#d8576b\"], [0.6666666666666666, \"#ed7953\"], [0.7777777777777778, \"#fb9f3a\"], [0.8888888888888888, \"#fdca26\"], [1.0, \"#f0f921\"]], \"type\": \"surface\"}], \"table\": [{\"cells\": {\"fill\": {\"color\": \"#EBF0F8\"}, \"line\": {\"color\": \"white\"}}, \"header\": {\"fill\": {\"color\": \"#C8D4E3\"}, \"line\": {\"color\": \"white\"}}, \"type\": \"table\"}]}, \"layout\": {\"annotationdefaults\": {\"arrowcolor\": \"#2a3f5f\", \"arrowhead\": 0, \"arrowwidth\": 1}, \"coloraxis\": {\"colorbar\": {\"outlinewidth\": 0, \"ticks\": \"\"}}, \"colorscale\": {\"diverging\": [[0, \"#8e0152\"], [0.1, \"#c51b7d\"], [0.2, \"#de77ae\"], [0.3, \"#f1b6da\"], [0.4, \"#fde0ef\"], [0.5, \"#f7f7f7\"], [0.6, \"#e6f5d0\"], [0.7, \"#b8e186\"], [0.8, \"#7fbc41\"], [0.9, \"#4d9221\"], [1, \"#276419\"]], \"sequential\": [[0.0, \"#0d0887\"], [0.1111111111111111, \"#46039f\"], [0.2222222222222222, \"#7201a8\"], [0.3333333333333333, \"#9c179e\"], [0.4444444444444444, \"#bd3786\"], [0.5555555555555556, \"#d8576b\"], [0.6666666666666666, \"#ed7953\"], [0.7777777777777778, \"#fb9f3a\"], [0.8888888888888888, \"#fdca26\"], [1.0, \"#f0f921\"]], \"sequentialminus\": [[0.0, \"#0d0887\"], [0.1111111111111111, \"#46039f\"], [0.2222222222222222, \"#7201a8\"], [0.3333333333333333, \"#9c179e\"], [0.4444444444444444, \"#bd3786\"], [0.5555555555555556, \"#d8576b\"], [0.6666666666666666, \"#ed7953\"], [0.7777777777777778, \"#fb9f3a\"], [0.8888888888888888, \"#fdca26\"], [1.0, \"#f0f921\"]]}, \"colorway\": [\"#636efa\", \"#EF553B\", \"#00cc96\", \"#ab63fa\", \"#FFA15A\", \"#19d3f3\", \"#FF6692\", \"#B6E880\", \"#FF97FF\", \"#FECB52\"], \"font\": {\"color\": \"#2a3f5f\"}, \"geo\": {\"bgcolor\": \"white\", \"lakecolor\": \"white\", \"landcolor\": \"#E5ECF6\", \"showlakes\": true, \"showland\": true, \"subunitcolor\": \"white\"}, \"hoverlabel\": {\"align\": \"left\"}, \"hovermode\": \"closest\", \"mapbox\": {\"style\": \"light\"}, \"paper_bgcolor\": \"white\", \"plot_bgcolor\": \"#E5ECF6\", \"polar\": {\"angularaxis\": {\"gridcolor\": \"white\", \"linecolor\": \"white\", \"ticks\": \"\"}, \"bgcolor\": \"#E5ECF6\", \"radialaxis\": {\"gridcolor\": \"white\", \"linecolor\": \"white\", \"ticks\": \"\"}}, \"scene\": {\"xaxis\": {\"backgroundcolor\": \"#E5ECF6\", \"gridcolor\": \"white\", \"gridwidth\": 2, \"linecolor\": \"white\", \"showbackground\": true, \"ticks\": \"\", \"zerolinecolor\": \"white\"}, \"yaxis\": {\"backgroundcolor\": \"#E5ECF6\", \"gridcolor\": \"white\", \"gridwidth\": 2, \"linecolor\": \"white\", \"showbackground\": true, \"ticks\": \"\", \"zerolinecolor\": \"white\"}, \"zaxis\": {\"backgroundcolor\": \"#E5ECF6\", \"gridcolor\": \"white\", \"gridwidth\": 2, \"linecolor\": \"white\", \"showbackground\": true, \"ticks\": \"\", \"zerolinecolor\": \"white\"}}, \"shapedefaults\": {\"line\": {\"color\": \"#2a3f5f\"}}, \"ternary\": {\"aaxis\": {\"gridcolor\": \"white\", \"linecolor\": \"white\", \"ticks\": \"\"}, \"baxis\": {\"gridcolor\": \"white\", \"linecolor\": \"white\", \"ticks\": \"\"}, \"bgcolor\": \"#E5ECF6\", \"caxis\": {\"gridcolor\": \"white\", \"linecolor\": \"white\", \"ticks\": \"\"}}, \"title\": {\"x\": 0.05}, \"xaxis\": {\"automargin\": true, \"gridcolor\": \"white\", \"linecolor\": \"white\", \"ticks\": \"\", \"title\": {\"standoff\": 15}, \"zerolinecolor\": \"white\", \"zerolinewidth\": 2}, \"yaxis\": {\"automargin\": true, \"gridcolor\": \"white\", \"linecolor\": \"white\", \"ticks\": \"\", \"title\": {\"standoff\": 15}, \"zerolinecolor\": \"white\", \"zerolinewidth\": 2}}}},\n",
              "                        {\"responsive\": true}\n",
              "                    ).then(function(){\n",
              "                            \n",
              "var gd = document.getElementById('49fb1536-97f8-4e9a-8f6e-ba2ce2fbc9b1');\n",
              "var x = new MutationObserver(function (mutations, observer) {{\n",
              "        var display = window.getComputedStyle(gd).display;\n",
              "        if (!display || display === 'none') {{\n",
              "            console.log([gd, 'removed!']);\n",
              "            Plotly.purge(gd);\n",
              "            observer.disconnect();\n",
              "        }}\n",
              "}});\n",
              "\n",
              "// Listen for the removal of the full notebook cells\n",
              "var notebookContainer = gd.closest('#notebook-container');\n",
              "if (notebookContainer) {{\n",
              "    x.observe(notebookContainer, {childList: true});\n",
              "}}\n",
              "\n",
              "// Listen for the clearing of the current output cell\n",
              "var outputEl = gd.closest('.output');\n",
              "if (outputEl) {{\n",
              "    x.observe(outputEl, {childList: true});\n",
              "}}\n",
              "\n",
              "                        })\n",
              "                };\n",
              "                \n",
              "            </script>\n",
              "        </div>\n",
              "</body>\n",
              "</html>"
            ]
          },
          "metadata": {
            "tags": []
          }
        }
      ]
    },
    {
      "cell_type": "code",
      "metadata": {
        "colab": {
          "base_uri": "https://localhost:8080/"
        },
        "id": "M9RMh_-_T7YU",
        "outputId": "e729884c-f7a5-43cc-b352-c874e70bf901"
      },
      "source": [
        "hws = head_with_shoulders()\n",
        "hws.find_head_with_shoulders(data, 10)"
      ],
      "execution_count": 5,
      "outputs": [
        {
          "output_type": "execute_result",
          "data": {
            "text/plain": [
              "([138, 218, 323, 386, 785, 854, 1135, 1181],\n",
              " [(115, 151),\n",
              "  (203, 236),\n",
              "  (298, 363),\n",
              "  (363, 404),\n",
              "  (767, 823),\n",
              "  (842, 889),\n",
              "  (1113, 1159),\n",
              "  (1159, 1219)])"
            ]
          },
          "metadata": {
            "tags": []
          },
          "execution_count": 5
        }
      ]
    },
    {
      "cell_type": "code",
      "metadata": {
        "id": "Bzv2FruWMbSU",
        "colab": {
          "base_uri": "https://localhost:8080/"
        },
        "outputId": "82b391d7-8359-42be-840b-1b08935d2e31"
      },
      "source": [
        "triangles = find_triangle(data, 20)\n",
        "triangles"
      ],
      "execution_count": 6,
      "outputs": [
        {
          "output_type": "execute_result",
          "data": {
            "text/plain": [
              "[(33, 48, 51),\n",
              " (138, 159, 177),\n",
              " (218, 237, 244),\n",
              " (323, 341, 360),\n",
              " (482, 484, 500),\n",
              " (535, 552, 572),\n",
              " (639, 648, 663),\n",
              " (785, 805, 755),\n",
              " (854, 869, 889),\n",
              " (889, 902, 923),\n",
              " (936, 954, 962),\n",
              " (962, 970, 978),\n",
              " (1037, 1052, 1062),\n",
              " (1181, 1199, 1219),\n",
              " (1219, 1238, 1251),\n",
              " (1276, 359, 380),\n",
              " (1354, 1357, 1360),\n",
              " (1399, 1419, 1438),\n",
              " (1438, 100, 115)]"
            ]
          },
          "metadata": {
            "tags": []
          },
          "execution_count": 6
        }
      ]
    },
    {
      "cell_type": "code",
      "metadata": {
        "id": "cCojEa56niVn"
      },
      "source": [
        "from marubozu import find_marubozu"
      ],
      "execution_count": 7,
      "outputs": []
    },
    {
      "cell_type": "code",
      "metadata": {
        "id": "ESnmZ10CIiin",
        "colab": {
          "base_uri": "https://localhost:8080/",
          "height": 433
        },
        "outputId": "2e7a6e6d-b335-4d1e-bb73-a3f3682c62a5"
      },
      "source": [
        "import itertools\n",
        "\n",
        "all_bearish = list(itertools.chain.from_iterable(find_marubozu(data)[0]))\n",
        "all_bullish = list(itertools.chain.from_iterable(find_marubozu(data)[1]))\n",
        "marubozu_candlesticks = all_bearish + all_bullish\n",
        "marubozu_candlesticks.sort()\n",
        "\n",
        "new_data = data.iloc[marubozu_candlesticks]\n",
        "new_data"
      ],
      "execution_count": 8,
      "outputs": [
        {
          "output_type": "execute_result",
          "data": {
            "text/html": [
              "<div>\n",
              "<style scoped>\n",
              "    .dataframe tbody tr th:only-of-type {\n",
              "        vertical-align: middle;\n",
              "    }\n",
              "\n",
              "    .dataframe tbody tr th {\n",
              "        vertical-align: top;\n",
              "    }\n",
              "\n",
              "    .dataframe thead th {\n",
              "        text-align: right;\n",
              "    }\n",
              "</style>\n",
              "<table border=\"1\" class=\"dataframe\">\n",
              "  <thead>\n",
              "    <tr style=\"text-align: right;\">\n",
              "      <th></th>\n",
              "      <th>&lt;DATE&gt;</th>\n",
              "      <th>&lt;OPEN&gt;</th>\n",
              "      <th>&lt;HIGH&gt;</th>\n",
              "      <th>&lt;LOW&gt;</th>\n",
              "      <th>&lt;CLOSE&gt;</th>\n",
              "      <th>&lt;VOL&gt;</th>\n",
              "    </tr>\n",
              "  </thead>\n",
              "  <tbody>\n",
              "    <tr>\n",
              "      <th>6</th>\n",
              "      <td>2015-01-12</td>\n",
              "      <td>132.250</td>\n",
              "      <td>132.25</td>\n",
              "      <td>129.980</td>\n",
              "      <td>130.91</td>\n",
              "      <td>304352</td>\n",
              "    </tr>\n",
              "    <tr>\n",
              "      <th>14</th>\n",
              "      <td>2015-01-23</td>\n",
              "      <td>135.750</td>\n",
              "      <td>135.75</td>\n",
              "      <td>134.620</td>\n",
              "      <td>134.64</td>\n",
              "      <td>231418</td>\n",
              "    </tr>\n",
              "    <tr>\n",
              "      <th>30</th>\n",
              "      <td>2015-02-17</td>\n",
              "      <td>148.615</td>\n",
              "      <td>149.96</td>\n",
              "      <td>148.615</td>\n",
              "      <td>149.80</td>\n",
              "      <td>167557</td>\n",
              "    </tr>\n",
              "    <tr>\n",
              "      <th>39</th>\n",
              "      <td>2015-03-02</td>\n",
              "      <td>150.960</td>\n",
              "      <td>154.12</td>\n",
              "      <td>150.960</td>\n",
              "      <td>153.77</td>\n",
              "      <td>199732</td>\n",
              "    </tr>\n",
              "    <tr>\n",
              "      <th>44</th>\n",
              "      <td>2015-03-09</td>\n",
              "      <td>153.160</td>\n",
              "      <td>155.57</td>\n",
              "      <td>153.160</td>\n",
              "      <td>154.74</td>\n",
              "      <td>156189</td>\n",
              "    </tr>\n",
              "    <tr>\n",
              "      <th>...</th>\n",
              "      <td>...</td>\n",
              "      <td>...</td>\n",
              "      <td>...</td>\n",
              "      <td>...</td>\n",
              "      <td>...</td>\n",
              "      <td>...</td>\n",
              "    </tr>\n",
              "    <tr>\n",
              "      <th>1408</th>\n",
              "      <td>2020-08-24</td>\n",
              "      <td>168.660</td>\n",
              "      <td>178.25</td>\n",
              "      <td>167.940</td>\n",
              "      <td>178.25</td>\n",
              "      <td>952355</td>\n",
              "    </tr>\n",
              "    <tr>\n",
              "      <th>1426</th>\n",
              "      <td>2020-09-18</td>\n",
              "      <td>165.660</td>\n",
              "      <td>169.62</td>\n",
              "      <td>161.030</td>\n",
              "      <td>161.03</td>\n",
              "      <td>480248</td>\n",
              "    </tr>\n",
              "    <tr>\n",
              "      <th>1449</th>\n",
              "      <td>2020-10-21</td>\n",
              "      <td>166.500</td>\n",
              "      <td>167.58</td>\n",
              "      <td>163.870</td>\n",
              "      <td>163.87</td>\n",
              "      <td>264399</td>\n",
              "    </tr>\n",
              "    <tr>\n",
              "      <th>1469</th>\n",
              "      <td>2020-11-18</td>\n",
              "      <td>222.350</td>\n",
              "      <td>222.35</td>\n",
              "      <td>203.010</td>\n",
              "      <td>203.32</td>\n",
              "      <td>1025965</td>\n",
              "    </tr>\n",
              "    <tr>\n",
              "      <th>1492</th>\n",
              "      <td>2020-12-22</td>\n",
              "      <td>223.650</td>\n",
              "      <td>223.65</td>\n",
              "      <td>217.810</td>\n",
              "      <td>218.82</td>\n",
              "      <td>291092</td>\n",
              "    </tr>\n",
              "  </tbody>\n",
              "</table>\n",
              "<p>227 rows × 6 columns</p>\n",
              "</div>"
            ],
            "text/plain": [
              "         <DATE>   <OPEN>  <HIGH>    <LOW>  <CLOSE>    <VOL>\n",
              "6    2015-01-12  132.250  132.25  129.980   130.91   304352\n",
              "14   2015-01-23  135.750  135.75  134.620   134.64   231418\n",
              "30   2015-02-17  148.615  149.96  148.615   149.80   167557\n",
              "39   2015-03-02  150.960  154.12  150.960   153.77   199732\n",
              "44   2015-03-09  153.160  155.57  153.160   154.74   156189\n",
              "...         ...      ...     ...      ...      ...      ...\n",
              "1408 2020-08-24  168.660  178.25  167.940   178.25   952355\n",
              "1426 2020-09-18  165.660  169.62  161.030   161.03   480248\n",
              "1449 2020-10-21  166.500  167.58  163.870   163.87   264399\n",
              "1469 2020-11-18  222.350  222.35  203.010   203.32  1025965\n",
              "1492 2020-12-22  223.650  223.65  217.810   218.82   291092\n",
              "\n",
              "[227 rows x 6 columns]"
            ]
          },
          "metadata": {
            "tags": []
          },
          "execution_count": 8
        }
      ]
    },
    {
      "cell_type": "code",
      "metadata": {
        "id": "VgnzDp8_ItOo",
        "colab": {
          "base_uri": "https://localhost:8080/",
          "height": 562
        },
        "outputId": "553a7bc0-9667-4595-859f-0ea7aa90b8b8"
      },
      "source": [
        "draw_plot(new_data, 0, len(new_data))"
      ],
      "execution_count": 9,
      "outputs": [
        {
          "output_type": "display_data",
          "data": {
            "text/html": [
              "<html>\n",
              "<head><meta charset=\"utf-8\" /></head>\n",
              "<body>\n",
              "    <div>\n",
              "            <script src=\"https://cdnjs.cloudflare.com/ajax/libs/mathjax/2.7.5/MathJax.js?config=TeX-AMS-MML_SVG\"></script><script type=\"text/javascript\">if (window.MathJax) {MathJax.Hub.Config({SVG: {font: \"STIX-Web\"}});}</script>\n",
              "                <script type=\"text/javascript\">window.PlotlyConfig = {MathJaxConfig: 'local'};</script>\n",
              "        <script src=\"https://cdn.plot.ly/plotly-latest.min.js\"></script>    \n",
              "            <div id=\"f19b2e6e-891f-4608-9af2-7b1232525e89\" class=\"plotly-graph-div\" style=\"height:525px; width:100%;\"></div>\n",
              "            <script type=\"text/javascript\">\n",
              "                \n",
              "                    window.PLOTLYENV=window.PLOTLYENV || {};\n",
              "                    \n",
              "                if (document.getElementById(\"f19b2e6e-891f-4608-9af2-7b1232525e89\")) {\n",
              "                    Plotly.newPlot(\n",
              "                        'f19b2e6e-891f-4608-9af2-7b1232525e89',\n",
              "                        [{\"close\": [130.91, 134.64, 149.8, 153.77, 154.74, 153.68, 152.87, 152.87, 152.87, 152.68, 150.22, 148.61, 152.27, 152.39, 147.92, 141.42, 145.85, 147.98, 144.83, 142.8, 140.7, 142.32, 145.39, 145.68, 144.46, 139.04, 146.93, 145.1, 141.01, 144.15, 145.815, 132.68, 130.57, 133.93, 133.5, 136.39, 137.17, 128.46, 146.4, 148.46, 146.07, 148.28, 148.69, 139.48, 147.37, 126.05, 128.03, 118.01, 120.14, 116.37, 115.26, 122.82, 134.03, 132.96, 131.31, 131.98, 133.26, 134.15, 128.09, 126.15, 129.88, 132.85, 131.53, 129.83, 126.97, 130.09, 132.38, 131.61, 134.71, 129.45, 129.87, 132.95, 132.9, 128.54, 130.62, 130.62, 130.62, 134.67, 133.95, 135.62, 137.44, 138.93, 140.07, 143.04, 145.1, 147.67, 149.63, 152.26, 152.17, 155.33, 157.51, 158.63, 158.44, 158.29, 163.92, 166.48, 167.97, 172.7, 183.93, 182.98, 178.69, 179.07, 178.755, 177.48, 179.02, 180.38, 183.23, 182.46, 185.02, 186.98, 185.24, 187.07, 198.32, 199.31, 202.24, 206.385, 208.55, 208.24, 242.52, 234.36, 239.75, 240.52, 254.3, 260.86, 265.98, 264.08, 266.2, 260.96, 264.55, 265.82, 277.94, 289.85, 295.51, 295.01, 308.6, 343.09, 347.96, 327.95, 338.75, 329.5, 340.49, 352.15, 360.71, 363.73, 354.79, 341.11, 337.49, 347.03, 354.95, 346.44, 339.45, 349.4, 351.2, 353.57, 359.76, 354.73, 365.18, 390.15, 356.2, 354.98, 366.72, 356.96, 320.86, 294.31, 316.96, 359.12, 363.14, 404.87, 421.62, 435.42, 422.61, 373.97, 391.92, 364.78, 370.23, 377.6, 380.74, 355.1, 354.95, 349.0, 353.8, 349.41, 347.06, 374.12, 362.69, 336.42, 320.42, 328.01, 369.43, 374.76, 375.62, 344.22, 339.91, 350.93, 350.61, 355.16, 355.16, 355.16, 348.94, 345.68, 345.68, 345.68, 350.01, 341.67, 341.67, 341.67, 341.67, 341.67, 341.67, 332.78, 344.63, 260.45, 152.36, 147.35, 128.99, 125.2, 179.02, 178.66, 165.95, 179.25, 175.46, 172.05, 178.25, 161.03, 163.87, 203.32, 218.82], \"high\": [132.25, 135.75, 149.96, 154.12, 155.57, 154.07, 154.9, 154.9, 154.9, 153.17, 152.08, 149.7, 153.49, 153.99, 148.71, 142.135, 146.79, 148.24, 147.13, 144.39, 142.24, 143.54, 146.53, 146.05, 146.33, 139.84, 147.66, 146.31, 143.14, 144.6, 146.74, 135.0, 130.57, 133.98, 134.51, 136.98, 137.41, 130.4, 147.33, 148.98, 147.08, 148.36, 149.57, 143.65, 147.52, 127.09, 128.13, 118.01, 120.14, 116.8, 117.07, 123.32, 134.67, 134.99, 132.61, 132.24, 133.61, 134.4, 130.15, 129.94, 131.4, 133.9, 133.19, 129.83, 128.99, 131.28, 132.73, 133.24, 134.99, 130.83, 129.87, 132.95, 132.9, 131.7, 130.62, 130.62, 130.62, 134.88, 135.38, 136.18, 138.85, 139.41, 140.72, 143.1, 145.85, 149.33, 149.72, 152.46, 153.51, 155.96, 158.41, 159.13, 159.08, 159.15, 164.06, 167.4, 169.07, 173.23, 184.79, 185.65, 181.61, 179.17, 178.785, 179.94, 179.05, 180.93, 183.74, 184.39, 185.02, 187.2, 185.4, 187.4, 201.23, 199.56, 202.33, 206.65, 208.71, 209.0, 246.42, 238.04, 239.86, 241.85, 256.74, 260.86, 267.19, 265.81, 267.25, 262.47, 265.6, 266.54, 281.43, 292.65, 296.5, 296.86, 308.89, 343.52, 353.54, 330.48, 340.64, 333.83, 342.98, 356.83, 363.28, 370.67, 357.54, 346.62, 340.28, 347.99, 356.88, 347.37, 340.75, 350.58, 355.68, 355.04, 362.25, 361.17, 371.13, 391.09, 359.8, 363.36, 368.44, 369.63, 335.93, 302.63, 316.96, 363.05, 363.14, 404.87, 421.82, 436.32, 423.31, 378.73, 398.62, 368.73, 371.06, 384.0, 383.92, 359.93, 359.25, 352.59, 355.24, 355.34, 349.06, 374.62, 365.27, 336.42, 329.54, 328.01, 369.43, 382.52, 376.08, 369.35, 343.16, 351.35, 356.63, 367.05, 367.05, 367.05, 355.26, 350.12, 350.12, 350.12, 350.01, 341.67, 341.67, 341.67, 341.67, 341.67, 341.67, 334.8, 345.86, 275.79, 153.81, 155.45, 137.47, 133.12, 184.89, 184.31, 172.89, 179.78, 183.83, 178.14, 178.25, 169.62, 167.58, 222.35, 223.65], \"low\": [129.98, 134.62, 148.615, 150.96, 153.16, 152.47, 152.87, 152.87, 152.87, 150.04, 149.94, 146.82, 151.31, 152.22, 147.75, 140.69, 145.42, 146.86, 144.81, 142.17, 140.33, 141.42, 144.04, 145.11, 143.82, 138.45, 146.5, 144.225, 140.81, 142.45, 143.95, 131.61, 128.0, 132.18, 132.44, 134.77, 136.12, 128.46, 142.15, 146.02, 145.25, 146.5, 147.25, 138.9, 145.21, 125.13, 124.83, 115.07, 118.03, 114.0, 114.43, 120.72, 131.25, 132.76, 130.58, 130.58, 131.89, 131.71, 127.1, 126.06, 129.88, 131.45, 131.49, 127.17, 126.64, 129.39, 131.6, 131.37, 133.7, 129.16, 128.38, 131.6, 131.51, 128.53, 128.29, 128.29, 128.29, 132.8, 133.33, 134.3, 136.78, 137.44, 139.41, 141.74, 141.74, 146.39, 147.89, 151.27, 151.87, 154.17, 156.92, 157.81, 158.17, 156.73, 162.76, 165.03, 166.35, 170.51, 181.82, 182.98, 177.95, 177.19, 176.98, 177.48, 176.12, 179.58, 182.6, 181.8, 183.585, 186.32, 183.5, 185.59, 198.32, 197.62, 198.94, 204.12, 206.93, 207.64, 242.33, 234.1, 236.18, 239.74, 251.51, 257.24, 263.57, 262.62, 264.36, 259.63, 263.38, 265.33, 276.42, 287.88, 294.87, 294.88, 296.72, 336.0, 341.29, 322.05, 335.12, 324.27, 335.93, 351.74, 358.98, 363.3, 352.62, 338.62, 336.49, 343.36, 353.02, 343.35, 336.68, 348.23, 350.64, 344.98, 356.39, 354.73, 363.62, 385.54, 354.26, 353.98, 362.225, 356.17, 317.2, 294.31, 302.31, 351.35, 357.72, 397.83, 417.16, 427.16, 415.65, 371.19, 391.07, 363.05, 364.41, 377.5, 378.32, 351.95, 354.95, 346.06, 352.5, 348.13, 342.8, 357.9, 361.26, 328.87, 320.42, 319.76, 358.83, 374.76, 372.24, 344.15, 338.91, 346.44, 350.61, 355.16, 355.16, 355.16, 348.94, 345.68, 345.68, 345.68, 338.63, 341.67, 341.67, 341.67, 341.67, 341.67, 341.67, 330.4, 336.7, 259.67, 140.71, 146.34, 128.35, 125.2, 178.66, 177.41, 162.29, 171.35, 173.2, 171.43, 167.94, 161.03, 163.87, 203.01, 217.81], \"open\": [132.25, 135.75, 148.615, 150.96, 153.16, 152.47, 154.9, 154.9, 154.9, 150.04, 152.08, 149.7, 151.31, 153.99, 148.71, 140.69, 145.42, 146.86, 147.13, 144.39, 142.24, 141.42, 144.04, 146.05, 146.33, 139.84, 147.66, 146.31, 143.14, 142.45, 143.95, 135.0, 128.21, 132.18, 132.44, 134.77, 136.12, 129.74, 142.15, 146.02, 147.08, 146.5, 147.25, 143.65, 145.21, 127.09, 124.83, 117.16, 118.14, 114.0, 117.07, 120.72, 131.25, 134.99, 132.61, 130.58, 131.89, 131.71, 130.15, 129.94, 130.64, 131.45, 133.19, 127.3, 128.99, 131.28, 131.6, 133.24, 133.7, 130.83, 129.72, 131.63, 132.32, 131.7, 128.29, 128.29, 128.29, 132.8, 133.33, 134.3, 136.78, 137.44, 140.72, 141.74, 141.74, 146.39, 147.89, 152.46, 153.51, 154.17, 158.41, 157.81, 159.08, 159.15, 162.76, 165.03, 166.35, 170.51, 181.82, 184.0, 181.61, 177.19, 176.98, 179.07, 176.12, 179.58, 182.6, 184.39, 183.7, 186.32, 183.5, 185.59, 198.76, 199.56, 198.94, 204.12, 206.93, 209.0, 242.33, 238.04, 236.18, 239.74, 256.74, 259.26, 263.57, 262.62, 264.36, 262.47, 263.38, 265.33, 276.42, 287.88, 296.5, 296.86, 296.72, 336.0, 341.29, 322.05, 340.64, 333.83, 335.93, 356.83, 358.98, 370.67, 352.62, 346.62, 340.28, 343.36, 353.02, 347.37, 340.75, 348.23, 355.68, 344.98, 356.39, 358.3, 363.62, 391.09, 359.8, 353.98, 362.225, 369.63, 335.93, 300.27, 308.73, 351.35, 359.75, 399.65, 417.16, 427.16, 415.65, 371.19, 398.62, 368.73, 364.41, 384.0, 383.92, 351.95, 355.4, 352.59, 352.5, 355.34, 349.06, 357.9, 361.26, 331.17, 328.41, 322.73, 359.05, 382.0, 372.24, 369.35, 343.16, 346.44, 356.38, 367.05, 367.05, 367.05, 354.37, 350.12, 350.12, 350.12, 342.01, 341.67, 341.67, 341.67, 341.67, 341.67, 341.67, 330.4, 336.7, 275.79, 153.81, 155.45, 137.47, 129.72, 184.89, 184.31, 172.89, 171.35, 183.83, 178.14, 168.66, 165.66, 166.5, 222.35, 223.65], \"type\": \"candlestick\", \"x\": [0, 1, 2, 3, 4, 5, 6, 7, 8, 9, 10, 11, 12, 13, 14, 15, 16, 17, 18, 19, 20, 21, 22, 23, 24, 25, 26, 27, 28, 29, 30, 31, 32, 33, 34, 35, 36, 37, 38, 39, 40, 41, 42, 43, 44, 45, 46, 47, 48, 49, 50, 51, 52, 53, 54, 55, 56, 57, 58, 59, 60, 61, 62, 63, 64, 65, 66, 67, 68, 69, 70, 71, 72, 73, 74, 75, 76, 77, 78, 79, 80, 81, 82, 83, 84, 85, 86, 87, 88, 89, 90, 91, 92, 93, 94, 95, 96, 97, 98, 99, 100, 101, 102, 103, 104, 105, 106, 107, 108, 109, 110, 111, 112, 113, 114, 115, 116, 117, 118, 119, 120, 121, 122, 123, 124, 125, 126, 127, 128, 129, 130, 131, 132, 133, 134, 135, 136, 137, 138, 139, 140, 141, 142, 143, 144, 145, 146, 147, 148, 149, 150, 151, 152, 153, 154, 155, 156, 157, 158, 159, 160, 161, 162, 163, 164, 165, 166, 167, 168, 169, 170, 171, 172, 173, 174, 175, 176, 177, 178, 179, 180, 181, 182, 183, 184, 185, 186, 187, 188, 189, 190, 191, 192, 193, 194, 195, 196, 197, 198, 199, 200, 201, 202, 203, 204, 205, 206, 207, 208, 209, 210, 211, 212, 213, 214, 215, 216, 217, 218, 219, 220, 221, 222, 223, 224, 225, 226]}],\n",
              "                        {\"template\": {\"data\": {\"bar\": [{\"error_x\": {\"color\": \"#2a3f5f\"}, \"error_y\": {\"color\": \"#2a3f5f\"}, \"marker\": {\"line\": {\"color\": \"#E5ECF6\", \"width\": 0.5}}, \"type\": \"bar\"}], \"barpolar\": [{\"marker\": {\"line\": {\"color\": \"#E5ECF6\", \"width\": 0.5}}, \"type\": \"barpolar\"}], \"carpet\": [{\"aaxis\": {\"endlinecolor\": \"#2a3f5f\", \"gridcolor\": \"white\", \"linecolor\": \"white\", \"minorgridcolor\": \"white\", \"startlinecolor\": \"#2a3f5f\"}, \"baxis\": {\"endlinecolor\": \"#2a3f5f\", \"gridcolor\": \"white\", \"linecolor\": \"white\", \"minorgridcolor\": \"white\", \"startlinecolor\": \"#2a3f5f\"}, \"type\": \"carpet\"}], \"choropleth\": [{\"colorbar\": {\"outlinewidth\": 0, \"ticks\": \"\"}, \"type\": \"choropleth\"}], \"contour\": [{\"colorbar\": {\"outlinewidth\": 0, \"ticks\": \"\"}, \"colorscale\": [[0.0, \"#0d0887\"], [0.1111111111111111, \"#46039f\"], [0.2222222222222222, \"#7201a8\"], [0.3333333333333333, \"#9c179e\"], [0.4444444444444444, \"#bd3786\"], [0.5555555555555556, \"#d8576b\"], [0.6666666666666666, \"#ed7953\"], [0.7777777777777778, \"#fb9f3a\"], [0.8888888888888888, \"#fdca26\"], [1.0, \"#f0f921\"]], \"type\": \"contour\"}], \"contourcarpet\": [{\"colorbar\": {\"outlinewidth\": 0, \"ticks\": \"\"}, \"type\": \"contourcarpet\"}], \"heatmap\": [{\"colorbar\": {\"outlinewidth\": 0, \"ticks\": \"\"}, \"colorscale\": [[0.0, \"#0d0887\"], [0.1111111111111111, \"#46039f\"], [0.2222222222222222, \"#7201a8\"], [0.3333333333333333, \"#9c179e\"], [0.4444444444444444, \"#bd3786\"], [0.5555555555555556, \"#d8576b\"], [0.6666666666666666, \"#ed7953\"], [0.7777777777777778, \"#fb9f3a\"], [0.8888888888888888, \"#fdca26\"], [1.0, \"#f0f921\"]], \"type\": \"heatmap\"}], \"heatmapgl\": [{\"colorbar\": {\"outlinewidth\": 0, \"ticks\": \"\"}, \"colorscale\": [[0.0, \"#0d0887\"], [0.1111111111111111, \"#46039f\"], [0.2222222222222222, \"#7201a8\"], [0.3333333333333333, \"#9c179e\"], [0.4444444444444444, \"#bd3786\"], [0.5555555555555556, \"#d8576b\"], [0.6666666666666666, \"#ed7953\"], [0.7777777777777778, \"#fb9f3a\"], [0.8888888888888888, \"#fdca26\"], [1.0, \"#f0f921\"]], \"type\": \"heatmapgl\"}], \"histogram\": [{\"marker\": {\"colorbar\": {\"outlinewidth\": 0, \"ticks\": \"\"}}, \"type\": \"histogram\"}], \"histogram2d\": [{\"colorbar\": {\"outlinewidth\": 0, \"ticks\": \"\"}, \"colorscale\": [[0.0, \"#0d0887\"], [0.1111111111111111, \"#46039f\"], [0.2222222222222222, \"#7201a8\"], [0.3333333333333333, \"#9c179e\"], [0.4444444444444444, \"#bd3786\"], [0.5555555555555556, \"#d8576b\"], [0.6666666666666666, \"#ed7953\"], [0.7777777777777778, \"#fb9f3a\"], [0.8888888888888888, \"#fdca26\"], [1.0, \"#f0f921\"]], \"type\": \"histogram2d\"}], \"histogram2dcontour\": [{\"colorbar\": {\"outlinewidth\": 0, \"ticks\": \"\"}, \"colorscale\": [[0.0, \"#0d0887\"], [0.1111111111111111, \"#46039f\"], [0.2222222222222222, \"#7201a8\"], [0.3333333333333333, \"#9c179e\"], [0.4444444444444444, \"#bd3786\"], [0.5555555555555556, \"#d8576b\"], [0.6666666666666666, \"#ed7953\"], [0.7777777777777778, \"#fb9f3a\"], [0.8888888888888888, \"#fdca26\"], [1.0, \"#f0f921\"]], \"type\": \"histogram2dcontour\"}], \"mesh3d\": [{\"colorbar\": {\"outlinewidth\": 0, \"ticks\": \"\"}, \"type\": \"mesh3d\"}], \"parcoords\": [{\"line\": {\"colorbar\": {\"outlinewidth\": 0, \"ticks\": \"\"}}, \"type\": \"parcoords\"}], \"pie\": [{\"automargin\": true, \"type\": \"pie\"}], \"scatter\": [{\"marker\": {\"colorbar\": {\"outlinewidth\": 0, \"ticks\": \"\"}}, \"type\": \"scatter\"}], \"scatter3d\": [{\"line\": {\"colorbar\": {\"outlinewidth\": 0, \"ticks\": \"\"}}, \"marker\": {\"colorbar\": {\"outlinewidth\": 0, \"ticks\": \"\"}}, \"type\": \"scatter3d\"}], \"scattercarpet\": [{\"marker\": {\"colorbar\": {\"outlinewidth\": 0, \"ticks\": \"\"}}, \"type\": \"scattercarpet\"}], \"scattergeo\": [{\"marker\": {\"colorbar\": {\"outlinewidth\": 0, \"ticks\": \"\"}}, \"type\": \"scattergeo\"}], \"scattergl\": [{\"marker\": {\"colorbar\": {\"outlinewidth\": 0, \"ticks\": \"\"}}, \"type\": \"scattergl\"}], \"scattermapbox\": [{\"marker\": {\"colorbar\": {\"outlinewidth\": 0, \"ticks\": \"\"}}, \"type\": \"scattermapbox\"}], \"scatterpolar\": [{\"marker\": {\"colorbar\": {\"outlinewidth\": 0, \"ticks\": \"\"}}, \"type\": \"scatterpolar\"}], \"scatterpolargl\": [{\"marker\": {\"colorbar\": {\"outlinewidth\": 0, \"ticks\": \"\"}}, \"type\": \"scatterpolargl\"}], \"scatterternary\": [{\"marker\": {\"colorbar\": {\"outlinewidth\": 0, \"ticks\": \"\"}}, \"type\": \"scatterternary\"}], \"surface\": [{\"colorbar\": {\"outlinewidth\": 0, \"ticks\": \"\"}, \"colorscale\": [[0.0, \"#0d0887\"], [0.1111111111111111, \"#46039f\"], [0.2222222222222222, \"#7201a8\"], [0.3333333333333333, \"#9c179e\"], [0.4444444444444444, \"#bd3786\"], [0.5555555555555556, \"#d8576b\"], [0.6666666666666666, \"#ed7953\"], [0.7777777777777778, \"#fb9f3a\"], [0.8888888888888888, \"#fdca26\"], [1.0, \"#f0f921\"]], \"type\": \"surface\"}], \"table\": [{\"cells\": {\"fill\": {\"color\": \"#EBF0F8\"}, \"line\": {\"color\": \"white\"}}, \"header\": {\"fill\": {\"color\": \"#C8D4E3\"}, \"line\": {\"color\": \"white\"}}, \"type\": \"table\"}]}, \"layout\": {\"annotationdefaults\": {\"arrowcolor\": \"#2a3f5f\", \"arrowhead\": 0, \"arrowwidth\": 1}, \"coloraxis\": {\"colorbar\": {\"outlinewidth\": 0, \"ticks\": \"\"}}, \"colorscale\": {\"diverging\": [[0, \"#8e0152\"], [0.1, \"#c51b7d\"], [0.2, \"#de77ae\"], [0.3, \"#f1b6da\"], [0.4, \"#fde0ef\"], [0.5, \"#f7f7f7\"], [0.6, \"#e6f5d0\"], [0.7, \"#b8e186\"], [0.8, \"#7fbc41\"], [0.9, \"#4d9221\"], [1, \"#276419\"]], \"sequential\": [[0.0, \"#0d0887\"], [0.1111111111111111, \"#46039f\"], [0.2222222222222222, \"#7201a8\"], [0.3333333333333333, \"#9c179e\"], [0.4444444444444444, \"#bd3786\"], [0.5555555555555556, \"#d8576b\"], [0.6666666666666666, \"#ed7953\"], [0.7777777777777778, \"#fb9f3a\"], [0.8888888888888888, \"#fdca26\"], [1.0, \"#f0f921\"]], \"sequentialminus\": [[0.0, \"#0d0887\"], [0.1111111111111111, \"#46039f\"], [0.2222222222222222, \"#7201a8\"], [0.3333333333333333, \"#9c179e\"], [0.4444444444444444, \"#bd3786\"], [0.5555555555555556, \"#d8576b\"], [0.6666666666666666, \"#ed7953\"], [0.7777777777777778, \"#fb9f3a\"], [0.8888888888888888, \"#fdca26\"], [1.0, \"#f0f921\"]]}, \"colorway\": [\"#636efa\", \"#EF553B\", \"#00cc96\", \"#ab63fa\", \"#FFA15A\", \"#19d3f3\", \"#FF6692\", \"#B6E880\", \"#FF97FF\", \"#FECB52\"], \"font\": {\"color\": \"#2a3f5f\"}, \"geo\": {\"bgcolor\": \"white\", \"lakecolor\": \"white\", \"landcolor\": \"#E5ECF6\", \"showlakes\": true, \"showland\": true, \"subunitcolor\": \"white\"}, \"hoverlabel\": {\"align\": \"left\"}, \"hovermode\": \"closest\", \"mapbox\": {\"style\": \"light\"}, \"paper_bgcolor\": \"white\", \"plot_bgcolor\": \"#E5ECF6\", \"polar\": {\"angularaxis\": {\"gridcolor\": \"white\", \"linecolor\": \"white\", \"ticks\": \"\"}, \"bgcolor\": \"#E5ECF6\", \"radialaxis\": {\"gridcolor\": \"white\", \"linecolor\": \"white\", \"ticks\": \"\"}}, \"scene\": {\"xaxis\": {\"backgroundcolor\": \"#E5ECF6\", \"gridcolor\": \"white\", \"gridwidth\": 2, \"linecolor\": \"white\", \"showbackground\": true, \"ticks\": \"\", \"zerolinecolor\": \"white\"}, \"yaxis\": {\"backgroundcolor\": \"#E5ECF6\", \"gridcolor\": \"white\", \"gridwidth\": 2, \"linecolor\": \"white\", \"showbackground\": true, \"ticks\": \"\", \"zerolinecolor\": \"white\"}, \"zaxis\": {\"backgroundcolor\": \"#E5ECF6\", \"gridcolor\": \"white\", \"gridwidth\": 2, \"linecolor\": \"white\", \"showbackground\": true, \"ticks\": \"\", \"zerolinecolor\": \"white\"}}, \"shapedefaults\": {\"line\": {\"color\": \"#2a3f5f\"}}, \"ternary\": {\"aaxis\": {\"gridcolor\": \"white\", \"linecolor\": \"white\", \"ticks\": \"\"}, \"baxis\": {\"gridcolor\": \"white\", \"linecolor\": \"white\", \"ticks\": \"\"}, \"bgcolor\": \"#E5ECF6\", \"caxis\": {\"gridcolor\": \"white\", \"linecolor\": \"white\", \"ticks\": \"\"}}, \"title\": {\"x\": 0.05}, \"xaxis\": {\"automargin\": true, \"gridcolor\": \"white\", \"linecolor\": \"white\", \"ticks\": \"\", \"title\": {\"standoff\": 15}, \"zerolinecolor\": \"white\", \"zerolinewidth\": 2}, \"yaxis\": {\"automargin\": true, \"gridcolor\": \"white\", \"linecolor\": \"white\", \"ticks\": \"\", \"title\": {\"standoff\": 15}, \"zerolinecolor\": \"white\", \"zerolinewidth\": 2}}}},\n",
              "                        {\"responsive\": true}\n",
              "                    ).then(function(){\n",
              "                            \n",
              "var gd = document.getElementById('f19b2e6e-891f-4608-9af2-7b1232525e89');\n",
              "var x = new MutationObserver(function (mutations, observer) {{\n",
              "        var display = window.getComputedStyle(gd).display;\n",
              "        if (!display || display === 'none') {{\n",
              "            console.log([gd, 'removed!']);\n",
              "            Plotly.purge(gd);\n",
              "            observer.disconnect();\n",
              "        }}\n",
              "}});\n",
              "\n",
              "// Listen for the removal of the full notebook cells\n",
              "var notebookContainer = gd.closest('#notebook-container');\n",
              "if (notebookContainer) {{\n",
              "    x.observe(notebookContainer, {childList: true});\n",
              "}}\n",
              "\n",
              "// Listen for the clearing of the current output cell\n",
              "var outputEl = gd.closest('.output');\n",
              "if (outputEl) {{\n",
              "    x.observe(outputEl, {childList: true});\n",
              "}}\n",
              "\n",
              "                        })\n",
              "                };\n",
              "                \n",
              "            </script>\n",
              "        </div>\n",
              "</body>\n",
              "</html>"
            ]
          },
          "metadata": {
            "tags": []
          }
        }
      ]
    },
    {
      "cell_type": "code",
      "metadata": {
        "id": "d2oZhJSFiA17"
      },
      "source": [
        "from levels import levels, levelplot"
      ],
      "execution_count": 5,
      "outputs": []
    },
    {
      "cell_type": "code",
      "metadata": {
        "colab": {
          "base_uri": "https://localhost:8080/"
        },
        "id": "i3Y51AT8iELM",
        "outputId": "4f8ea74f-237a-461f-a6d3-e2c0af7e434b"
      },
      "source": [
        "l = levels()\n",
        "l.find_support(data)"
      ],
      "execution_count": 6,
      "outputs": [
        {
          "output_type": "execute_result",
          "data": {
            "text/plain": [
              "[(2, 126.2),\n",
              " (16, 130.76),\n",
              " (38, 150.52),\n",
              " (57, 145.99),\n",
              " (72, 149.47),\n",
              " (85, 140.46),\n",
              " (101, 140.33),\n",
              " (126, 139.03),\n",
              " (137, 144.225),\n",
              " (153, 140.07),\n",
              " (161, 115.44),\n",
              " (166, 127.23),\n",
              " (188, 128.61),\n",
              " (226, 144.3),\n",
              " (233, 141.46),\n",
              " (237, 138.9),\n",
              " (272, 102.1),\n",
              " (280, 112.51),\n",
              " (328, 130.54),\n",
              " (347, 124.79),\n",
              " (365, 122.39),\n",
              " (371, 123.99),\n",
              " (376, 129.39),\n",
              " (411, 128.38),\n",
              " (421, 126.39),\n",
              " (428, 129.925),\n",
              " (466, 144.615),\n",
              " (484, 153.06),\n",
              " (494, 155.0),\n",
              " (505, 156.87),\n",
              " (516, 160.82),\n",
              " (537, 180.44),\n",
              " (542, 177.19),\n",
              " (552, 173.83),\n",
              " (565, 175.65),\n",
              " (589, 175.5),\n",
              " (602, 186.45),\n",
              " (642, 236.07),\n",
              " (648, 231.0),\n",
              " (654, 234.39),\n",
              " (659, 234.76),\n",
              " (666, 234.35),\n",
              " (670, 237.15),\n",
              " (729, 274.21),\n",
              " (741, 293.07),\n",
              " (765, 334.37),\n",
              " (769, 317.39),\n",
              " (773, 319.31),\n",
              " (787, 335.46),\n",
              " (795, 322.41),\n",
              " (830, 319.16),\n",
              " (839, 340.3),\n",
              " (844, 351.92),\n",
              " (895, 343.35),\n",
              " (899, 336.68),\n",
              " (915, 339.28),\n",
              " (920, 337.31),\n",
              " (931, 364.33),\n",
              " (943, 352.44),\n",
              " (950, 343.16),\n",
              " (954, 328.75),\n",
              " (973, 310.78),\n",
              " (993, 292.51),\n",
              " (998, 309.45),\n",
              " (1011, 353.67),\n",
              " (1023, 397.83),\n",
              " (1052, 361.64),\n",
              " (1065, 363.05),\n",
              " (1095, 341.43),\n",
              " (1101, 330.8),\n",
              " (1108, 342.8),\n",
              " (1153, 319.76),\n",
              " (1162, 351.78),\n",
              " (1169, 354.74),\n",
              " (1179, 374.85),\n",
              " (1187, 363.4),\n",
              " (1199, 324.55),\n",
              " (1214, 345.775),\n",
              " (1220, 361.73),\n",
              " (1238, 320.61),\n",
              " (1247, 323.33),\n",
              " (1261, 302.72),\n",
              " (1269, 314.92),\n",
              " (1286, 269.8),\n",
              " (1299, 89.07),\n",
              " (1310, 120.04),\n",
              " (1318, 132.9),\n",
              " (1325, 123.87),\n",
              " (1338, 113.89),\n",
              " (1368, 167.64),\n",
              " (1393, 153.5),\n",
              " (1430, 145.02),\n",
              " (1456, 141.59),\n",
              " (1465, 176.25),\n",
              " (1471, 199.19),\n",
              " (1484, 228.24),\n",
              " (1491, 211.11)]"
            ]
          },
          "metadata": {
            "tags": []
          },
          "execution_count": 6
        }
      ]
    },
    {
      "cell_type": "code",
      "metadata": {
        "id": "QnChTZPBHxiy",
        "colab": {
          "base_uri": "https://localhost:8080/",
          "height": 562
        },
        "outputId": "d1016fda-0a75-4064-e005-f7a0fd9dc80a"
      },
      "source": [
        "levplot = levelplot(levels = levels())\n",
        "levplot.support_plot(data, 0, 100)"
      ],
      "execution_count": 7,
      "outputs": [
        {
          "output_type": "display_data",
          "data": {
            "text/html": [
              "<html>\n",
              "<head><meta charset=\"utf-8\" /></head>\n",
              "<body>\n",
              "    <div>\n",
              "            <script src=\"https://cdnjs.cloudflare.com/ajax/libs/mathjax/2.7.5/MathJax.js?config=TeX-AMS-MML_SVG\"></script><script type=\"text/javascript\">if (window.MathJax) {MathJax.Hub.Config({SVG: {font: \"STIX-Web\"}});}</script>\n",
              "                <script type=\"text/javascript\">window.PlotlyConfig = {MathJaxConfig: 'local'};</script>\n",
              "        <script src=\"https://cdn.plot.ly/plotly-latest.min.js\"></script>    \n",
              "            <div id=\"40ba32b4-a277-4572-8446-be10a97ea482\" class=\"plotly-graph-div\" style=\"height:525px; width:100%;\"></div>\n",
              "            <script type=\"text/javascript\">\n",
              "                \n",
              "                    window.PLOTLYENV=window.PLOTLYENV || {};\n",
              "                    \n",
              "                if (document.getElementById(\"40ba32b4-a277-4572-8446-be10a97ea482\")) {\n",
              "                    Plotly.newPlot(\n",
              "                        '40ba32b4-a277-4572-8446-be10a97ea482',\n",
              "                        [{\"close\": [129.96, 129.09, 127.69, 129.47, 131.83, 131.58, 130.91, 131.14, 130.345, 130.16, 130.79, 131.24, 132.41, 135.65, 134.64, 134.09, 132.45, 139.9, 147.76, 145.43, 146.28, 147.31, 147.18, 148.605, 148.0, 147.56, 148.13, 147.87, 148.04, 149.72, 149.8, 151.22, 153.79, 158.31, 154.68, 154.42, 153.02, 151.72, 150.87, 153.77, 155.6, 154.44, 154.47, 153.16, 154.74, 152.57, 151.18, 152.0, 151.57, 153.68, 154.54, 155.74, 154.1, 154.53, 152.87, 151.64, 148.18, 148.15, 148.9, 152.68, 150.22, 148.61, 149.26, 150.92, 152.27, 153.36, 153.56, 154.34, 153.38, 153.22, 152.39, 152.0, 149.6, 152.67, 153.35, 151.26, 149.87, 148.39, 147.92, 147.5, 146.14, 143.27, 144.65, 144.07, 143.02, 141.0, 141.42, 145.49, 145.85, 145.49, 145.63, 147.98, 146.89, 146.64, 147.04, 146.43, 147.37, 144.83, 142.8, 143.06], \"high\": [131.84, 129.83, 129.61, 129.96, 131.98, 132.24, 132.25, 133.91, 131.27, 131.77, 131.01, 131.99, 132.87, 136.195, 135.75, 135.19, 132.99, 141.85, 148.24, 146.82, 146.58, 148.0, 148.39, 148.86, 148.89, 148.15, 148.71, 148.37, 148.56, 149.84, 149.96, 151.55, 154.24, 158.81, 155.92, 154.78, 154.7, 152.31, 151.85, 154.12, 156.9, 155.22, 155.96, 155.01, 155.57, 153.95, 152.58, 152.91, 152.24, 154.07, 155.0, 155.97, 155.08, 155.48, 154.9, 152.56, 151.93, 148.82, 149.27, 153.17, 152.08, 149.7, 150.5, 151.43, 153.49, 153.48, 153.61, 154.96, 155.46, 153.5, 153.99, 152.52, 151.35, 153.53, 154.05, 153.0, 150.8, 149.67, 148.71, 148.23, 147.43, 145.93, 145.0, 144.79, 144.62, 143.1, 142.135, 145.93, 146.79, 146.08, 146.52, 148.24, 148.24, 147.19, 147.71, 147.3, 147.7, 147.13, 144.39, 143.61], \"low\": [129.1, 128.61, 126.2, 128.74, 130.48, 130.97, 129.98, 130.18, 129.16, 129.73, 129.11, 129.48, 130.5701, 133.05, 134.62, 133.55, 130.76, 136.01, 139.64, 144.38, 143.05, 146.22, 146.05, 146.56, 147.72, 145.68, 147.51, 147.26, 147.72, 148.06, 148.615, 149.55, 151.06, 153.96, 153.42, 153.25, 152.14, 150.82, 150.52, 150.96, 154.23, 154.03, 154.35, 152.83, 153.16, 152.46, 151.17, 151.83, 149.79, 152.47, 152.8, 152.12, 153.68, 154.52, 152.87, 151.39, 148.16, 145.99, 147.56, 150.04, 149.94, 146.82, 148.34, 148.13, 151.31, 152.34, 151.645, 153.34, 153.0, 151.6, 152.22, 151.07, 149.47, 151.07, 152.06, 148.86, 149.74, 148.03, 147.75, 146.02, 145.92, 142.75, 143.85, 143.24, 142.33, 140.46, 140.69, 143.17, 145.42, 144.02, 145.2, 146.86, 146.34, 146.3, 146.74, 146.11, 146.22, 144.81, 142.17, 142.58], \"open\": [130.94, 129.43, 128.85, 128.83, 130.6, 131.75, 132.25, 132.35, 129.26, 130.73, 129.92, 131.69, 130.87, 133.52, 135.75, 135.1, 131.93, 136.3, 139.68, 146.04, 143.72, 146.38, 146.15, 147.47, 148.62, 146.16, 148.08, 147.45, 148.24, 148.09, 148.615, 149.61, 151.11, 153.97, 155.1, 153.51, 154.305, 152.11, 151.08, 150.96, 154.7, 154.56, 155.0, 153.72, 153.16, 153.44, 152.36, 151.91, 151.94, 152.47, 153.08, 153.78, 154.765, 154.645, 154.9, 152.0, 151.38, 147.71, 148.46, 150.04, 152.08, 149.7, 149.03, 148.21, 151.31, 152.43, 152.75, 153.55, 153.73, 153.02, 153.99, 151.65, 150.9, 151.15, 153.85, 152.74, 150.44, 149.57, 148.71, 147.89, 147.1, 145.27, 144.69, 143.88, 143.7, 143.01, 140.69, 143.21, 145.42, 144.83, 145.44, 146.86, 148.0, 146.88, 147.65, 146.97, 146.23, 147.13, 144.39, 143.5], \"type\": \"candlestick\", \"x\": [0, 1, 2, 3, 4, 5, 6, 7, 8, 9, 10, 11, 12, 13, 14, 15, 16, 17, 18, 19, 20, 21, 22, 23, 24, 25, 26, 27, 28, 29, 30, 31, 32, 33, 34, 35, 36, 37, 38, 39, 40, 41, 42, 43, 44, 45, 46, 47, 48, 49, 50, 51, 52, 53, 54, 55, 56, 57, 58, 59, 60, 61, 62, 63, 64, 65, 66, 67, 68, 69, 70, 71, 72, 73, 74, 75, 76, 77, 78, 79, 80, 81, 82, 83, 84, 85, 86, 87, 88, 89, 90, 91, 92, 93, 94, 95, 96, 97, 98, 99]}, {\"type\": \"scatter\", \"x\": [2, 3, 4, 5, 6, 7, 8, 9, 10, 11, 12, 13, 14, 15, 16, 17, 18, 19, 20, 21, 22, 23, 24, 25, 26, 27, 28, 29, 30, 31, 32, 33, 34, 35, 36, 37, 38, 39, 40, 41, 42, 43, 44, 45, 46, 47, 48, 49, 50, 51, 52, 53, 54, 55, 56, 57, 58, 59, 60, 61, 62, 63, 64, 65, 66, 67, 68, 69, 70, 71, 72, 73, 74, 75, 76, 77, 78, 79, 80, 81, 82, 83, 84, 85, 86, 87, 88, 89, 90, 91, 92, 93, 94, 95, 96, 97, 98, 99], \"y\": [126.2, 126.2, 126.2, 126.2, 126.2, 126.2, 126.2, 126.2, 126.2, 126.2, 126.2, 126.2, 126.2, 126.2, 126.2, 126.2, 126.2, 126.2, 126.2, 126.2, 126.2, 126.2, 126.2, 126.2, 126.2, 126.2, 126.2, 126.2, 126.2, 126.2, 126.2, 126.2, 126.2, 126.2, 126.2, 126.2, 126.2, 126.2, 126.2, 126.2, 126.2, 126.2, 126.2, 126.2, 126.2, 126.2, 126.2, 126.2, 126.2, 126.2, 126.2, 126.2, 126.2, 126.2, 126.2, 126.2, 126.2, 126.2, 126.2, 126.2, 126.2, 126.2, 126.2, 126.2, 126.2, 126.2, 126.2, 126.2, 126.2, 126.2, 126.2, 126.2, 126.2, 126.2, 126.2, 126.2, 126.2, 126.2, 126.2, 126.2, 126.2, 126.2, 126.2, 126.2, 126.2, 126.2, 126.2, 126.2, 126.2, 126.2, 126.2, 126.2, 126.2, 126.2, 126.2, 126.2, 126.2, 126.2, 126.2]}, {\"type\": \"scatter\", \"x\": [16, 17, 18, 19, 20, 21, 22, 23, 24, 25, 26, 27, 28, 29, 30, 31, 32, 33, 34, 35, 36, 37, 38, 39, 40, 41, 42, 43, 44, 45, 46, 47, 48, 49, 50, 51, 52, 53, 54, 55, 56, 57, 58, 59, 60, 61, 62, 63, 64, 65, 66, 67, 68, 69, 70, 71, 72, 73, 74, 75, 76, 77, 78, 79, 80, 81, 82, 83, 84, 85, 86, 87, 88, 89, 90, 91, 92, 93, 94, 95, 96, 97, 98, 99], \"y\": [130.76, 130.76, 130.76, 130.76, 130.76, 130.76, 130.76, 130.76, 130.76, 130.76, 130.76, 130.76, 130.76, 130.76, 130.76, 130.76, 130.76, 130.76, 130.76, 130.76, 130.76, 130.76, 130.76, 130.76, 130.76, 130.76, 130.76, 130.76, 130.76, 130.76, 130.76, 130.76, 130.76, 130.76, 130.76, 130.76, 130.76, 130.76, 130.76, 130.76, 130.76, 130.76, 130.76, 130.76, 130.76, 130.76, 130.76, 130.76, 130.76, 130.76, 130.76, 130.76, 130.76, 130.76, 130.76, 130.76, 130.76, 130.76, 130.76, 130.76, 130.76, 130.76, 130.76, 130.76, 130.76, 130.76, 130.76, 130.76, 130.76, 130.76, 130.76, 130.76, 130.76, 130.76, 130.76, 130.76, 130.76, 130.76, 130.76, 130.76, 130.76, 130.76, 130.76, 130.76, 130.76]}, {\"type\": \"scatter\", \"x\": [38, 39, 40, 41, 42, 43, 44, 45, 46, 47, 48, 49, 50, 51, 52, 53, 54, 55, 56, 57, 58, 59, 60, 61, 62, 63, 64, 65, 66, 67, 68, 69, 70, 71, 72, 73, 74, 75, 76, 77, 78, 79, 80, 81, 82, 83, 84, 85, 86, 87, 88, 89, 90, 91, 92, 93, 94, 95, 96, 97, 98, 99], \"y\": [150.52, 150.52, 150.52, 150.52, 150.52, 150.52, 150.52, 150.52, 150.52, 150.52, 150.52, 150.52, 150.52, 150.52, 150.52, 150.52, 150.52, 150.52, 150.52, 150.52, 150.52, 150.52, 150.52, 150.52, 150.52, 150.52, 150.52, 150.52, 150.52, 150.52, 150.52, 150.52, 150.52, 150.52, 150.52, 150.52, 150.52, 150.52, 150.52, 150.52, 150.52, 150.52, 150.52, 150.52, 150.52, 150.52, 150.52, 150.52, 150.52, 150.52, 150.52, 150.52, 150.52, 150.52, 150.52, 150.52, 150.52, 150.52, 150.52, 150.52, 150.52, 150.52, 150.52]}, {\"type\": \"scatter\", \"x\": [57, 58, 59, 60, 61, 62, 63, 64, 65, 66, 67, 68, 69, 70, 71, 72, 73, 74, 75, 76, 77, 78, 79, 80, 81, 82, 83, 84, 85, 86, 87, 88, 89, 90, 91, 92, 93, 94, 95, 96, 97, 98, 99], \"y\": [145.99, 145.99, 145.99, 145.99, 145.99, 145.99, 145.99, 145.99, 145.99, 145.99, 145.99, 145.99, 145.99, 145.99, 145.99, 145.99, 145.99, 145.99, 145.99, 145.99, 145.99, 145.99, 145.99, 145.99, 145.99, 145.99, 145.99, 145.99, 145.99, 145.99, 145.99, 145.99, 145.99, 145.99, 145.99, 145.99, 145.99, 145.99, 145.99, 145.99, 145.99, 145.99, 145.99, 145.99]}, {\"type\": \"scatter\", \"x\": [72, 73, 74, 75, 76, 77, 78, 79, 80, 81, 82, 83, 84, 85, 86, 87, 88, 89, 90, 91, 92, 93, 94, 95, 96, 97, 98, 99], \"y\": [149.47, 149.47, 149.47, 149.47, 149.47, 149.47, 149.47, 149.47, 149.47, 149.47, 149.47, 149.47, 149.47, 149.47, 149.47, 149.47, 149.47, 149.47, 149.47, 149.47, 149.47, 149.47, 149.47, 149.47, 149.47, 149.47, 149.47, 149.47, 149.47]}, {\"type\": \"scatter\", \"x\": [85, 86, 87, 88, 89, 90, 91, 92, 93, 94, 95, 96, 97, 98, 99], \"y\": [140.46, 140.46, 140.46, 140.46, 140.46, 140.46, 140.46, 140.46, 140.46, 140.46, 140.46, 140.46, 140.46, 140.46, 140.46, 140.46]}, {\"type\": \"scatter\", \"x\": [], \"y\": []}, {\"type\": \"scatter\", \"x\": [], \"y\": []}, {\"type\": \"scatter\", \"x\": [], \"y\": []}, {\"type\": \"scatter\", \"x\": [], \"y\": []}, {\"type\": \"scatter\", \"x\": [], \"y\": []}, {\"type\": \"scatter\", \"x\": [], \"y\": []}, {\"type\": \"scatter\", \"x\": [], \"y\": []}, {\"type\": \"scatter\", \"x\": [], \"y\": []}, {\"type\": \"scatter\", \"x\": [], \"y\": []}, {\"type\": \"scatter\", \"x\": [], \"y\": []}, {\"type\": \"scatter\", \"x\": [], \"y\": []}, {\"type\": \"scatter\", \"x\": [], \"y\": []}, {\"type\": \"scatter\", \"x\": [], \"y\": []}, {\"type\": \"scatter\", \"x\": [], \"y\": []}, {\"type\": \"scatter\", \"x\": [], \"y\": []}, {\"type\": \"scatter\", \"x\": [], \"y\": []}, {\"type\": \"scatter\", \"x\": [], \"y\": []}, {\"type\": \"scatter\", \"x\": [], \"y\": []}, {\"type\": \"scatter\", \"x\": [], \"y\": []}, {\"type\": \"scatter\", \"x\": [], \"y\": []}, {\"type\": \"scatter\", \"x\": [], \"y\": []}, {\"type\": \"scatter\", \"x\": [], \"y\": []}, {\"type\": \"scatter\", \"x\": [], \"y\": []}, {\"type\": \"scatter\", \"x\": [], \"y\": []}, {\"type\": \"scatter\", \"x\": [], \"y\": []}, {\"type\": \"scatter\", \"x\": [], \"y\": []}, {\"type\": \"scatter\", \"x\": [], \"y\": []}, {\"type\": \"scatter\", \"x\": [], \"y\": []}, {\"type\": \"scatter\", \"x\": [], \"y\": []}, {\"type\": \"scatter\", \"x\": [], \"y\": []}, {\"type\": \"scatter\", \"x\": [], \"y\": []}, {\"type\": \"scatter\", \"x\": [], \"y\": []}, {\"type\": \"scatter\", \"x\": [], \"y\": []}, {\"type\": \"scatter\", \"x\": [], \"y\": []}, {\"type\": \"scatter\", \"x\": [], \"y\": []}, {\"type\": \"scatter\", \"x\": [], \"y\": []}, {\"type\": \"scatter\", \"x\": [], \"y\": []}, {\"type\": \"scatter\", \"x\": [], \"y\": []}, {\"type\": \"scatter\", \"x\": [], \"y\": []}, {\"type\": \"scatter\", \"x\": [], \"y\": []}, {\"type\": \"scatter\", \"x\": [], \"y\": []}, {\"type\": \"scatter\", \"x\": [], \"y\": []}, {\"type\": \"scatter\", \"x\": [], \"y\": []}, {\"type\": \"scatter\", \"x\": [], \"y\": []}, {\"type\": \"scatter\", \"x\": [], \"y\": []}, {\"type\": \"scatter\", \"x\": [], \"y\": []}, {\"type\": \"scatter\", \"x\": [], \"y\": []}, {\"type\": \"scatter\", \"x\": [], \"y\": []}, {\"type\": \"scatter\", \"x\": [], \"y\": []}, {\"type\": \"scatter\", \"x\": [], \"y\": []}, {\"type\": \"scatter\", \"x\": [], \"y\": []}, {\"type\": \"scatter\", \"x\": [], \"y\": []}, {\"type\": \"scatter\", \"x\": [], \"y\": []}, {\"type\": \"scatter\", \"x\": [], \"y\": []}, {\"type\": \"scatter\", \"x\": [], \"y\": []}, {\"type\": \"scatter\", \"x\": [], \"y\": []}, {\"type\": \"scatter\", \"x\": [], \"y\": []}, {\"type\": \"scatter\", \"x\": [], \"y\": []}, {\"type\": \"scatter\", \"x\": [], \"y\": []}, {\"type\": \"scatter\", \"x\": [], \"y\": []}, {\"type\": \"scatter\", \"x\": [], \"y\": []}, {\"type\": \"scatter\", \"x\": [], \"y\": []}, {\"type\": \"scatter\", \"x\": [], \"y\": []}, {\"type\": \"scatter\", \"x\": [], \"y\": []}, {\"type\": \"scatter\", \"x\": [], \"y\": []}, {\"type\": \"scatter\", \"x\": [], \"y\": []}, {\"type\": \"scatter\", \"x\": [], \"y\": []}, {\"type\": \"scatter\", \"x\": [], \"y\": []}, {\"type\": \"scatter\", \"x\": [], \"y\": []}, {\"type\": \"scatter\", \"x\": [], \"y\": []}, {\"type\": \"scatter\", \"x\": [], \"y\": []}, {\"type\": \"scatter\", \"x\": [], \"y\": []}, {\"type\": \"scatter\", \"x\": [], \"y\": []}, {\"type\": \"scatter\", \"x\": [], \"y\": []}, {\"type\": \"scatter\", \"x\": [], \"y\": []}, {\"type\": \"scatter\", \"x\": [], \"y\": []}, {\"type\": \"scatter\", \"x\": [], \"y\": []}, {\"type\": \"scatter\", \"x\": [], \"y\": []}, {\"type\": \"scatter\", \"x\": [], \"y\": []}, {\"type\": \"scatter\", \"x\": [], \"y\": []}, {\"type\": \"scatter\", \"x\": [], \"y\": []}, {\"type\": \"scatter\", \"x\": [], \"y\": []}, {\"type\": \"scatter\", \"x\": [], \"y\": []}, {\"type\": \"scatter\", \"x\": [], \"y\": []}, {\"type\": \"scatter\", \"x\": [], \"y\": []}, {\"type\": \"scatter\", \"x\": [], \"y\": []}, {\"type\": \"scatter\", \"x\": [], \"y\": []}, {\"type\": \"scatter\", \"x\": [], \"y\": []}, {\"type\": \"scatter\", \"x\": [], \"y\": []}, {\"type\": \"scatter\", \"x\": [], \"y\": []}, {\"type\": \"scatter\", \"x\": [], \"y\": []}],\n",
              "                        {\"template\": {\"data\": {\"bar\": [{\"error_x\": {\"color\": \"#2a3f5f\"}, \"error_y\": {\"color\": \"#2a3f5f\"}, \"marker\": {\"line\": {\"color\": \"#E5ECF6\", \"width\": 0.5}}, \"type\": \"bar\"}], \"barpolar\": [{\"marker\": {\"line\": {\"color\": \"#E5ECF6\", \"width\": 0.5}}, \"type\": \"barpolar\"}], \"carpet\": [{\"aaxis\": {\"endlinecolor\": \"#2a3f5f\", \"gridcolor\": \"white\", \"linecolor\": \"white\", \"minorgridcolor\": \"white\", \"startlinecolor\": \"#2a3f5f\"}, \"baxis\": {\"endlinecolor\": \"#2a3f5f\", \"gridcolor\": \"white\", \"linecolor\": \"white\", \"minorgridcolor\": \"white\", \"startlinecolor\": \"#2a3f5f\"}, \"type\": \"carpet\"}], \"choropleth\": [{\"colorbar\": {\"outlinewidth\": 0, \"ticks\": \"\"}, \"type\": \"choropleth\"}], \"contour\": [{\"colorbar\": {\"outlinewidth\": 0, \"ticks\": \"\"}, \"colorscale\": [[0.0, \"#0d0887\"], [0.1111111111111111, \"#46039f\"], [0.2222222222222222, \"#7201a8\"], [0.3333333333333333, \"#9c179e\"], [0.4444444444444444, \"#bd3786\"], [0.5555555555555556, \"#d8576b\"], [0.6666666666666666, \"#ed7953\"], [0.7777777777777778, \"#fb9f3a\"], [0.8888888888888888, \"#fdca26\"], [1.0, \"#f0f921\"]], \"type\": \"contour\"}], \"contourcarpet\": [{\"colorbar\": {\"outlinewidth\": 0, \"ticks\": \"\"}, \"type\": \"contourcarpet\"}], \"heatmap\": [{\"colorbar\": {\"outlinewidth\": 0, \"ticks\": \"\"}, \"colorscale\": [[0.0, \"#0d0887\"], [0.1111111111111111, \"#46039f\"], [0.2222222222222222, \"#7201a8\"], [0.3333333333333333, \"#9c179e\"], [0.4444444444444444, \"#bd3786\"], [0.5555555555555556, \"#d8576b\"], [0.6666666666666666, \"#ed7953\"], [0.7777777777777778, \"#fb9f3a\"], [0.8888888888888888, \"#fdca26\"], [1.0, \"#f0f921\"]], \"type\": \"heatmap\"}], \"heatmapgl\": [{\"colorbar\": {\"outlinewidth\": 0, \"ticks\": \"\"}, \"colorscale\": [[0.0, \"#0d0887\"], [0.1111111111111111, \"#46039f\"], [0.2222222222222222, \"#7201a8\"], [0.3333333333333333, \"#9c179e\"], [0.4444444444444444, \"#bd3786\"], [0.5555555555555556, \"#d8576b\"], [0.6666666666666666, \"#ed7953\"], [0.7777777777777778, \"#fb9f3a\"], [0.8888888888888888, \"#fdca26\"], [1.0, \"#f0f921\"]], \"type\": \"heatmapgl\"}], \"histogram\": [{\"marker\": {\"colorbar\": {\"outlinewidth\": 0, \"ticks\": \"\"}}, \"type\": \"histogram\"}], \"histogram2d\": [{\"colorbar\": {\"outlinewidth\": 0, \"ticks\": \"\"}, \"colorscale\": [[0.0, \"#0d0887\"], [0.1111111111111111, \"#46039f\"], [0.2222222222222222, \"#7201a8\"], [0.3333333333333333, \"#9c179e\"], [0.4444444444444444, \"#bd3786\"], [0.5555555555555556, \"#d8576b\"], [0.6666666666666666, \"#ed7953\"], [0.7777777777777778, \"#fb9f3a\"], [0.8888888888888888, \"#fdca26\"], [1.0, \"#f0f921\"]], \"type\": \"histogram2d\"}], \"histogram2dcontour\": [{\"colorbar\": {\"outlinewidth\": 0, \"ticks\": \"\"}, \"colorscale\": [[0.0, \"#0d0887\"], [0.1111111111111111, \"#46039f\"], [0.2222222222222222, \"#7201a8\"], [0.3333333333333333, \"#9c179e\"], [0.4444444444444444, \"#bd3786\"], [0.5555555555555556, \"#d8576b\"], [0.6666666666666666, \"#ed7953\"], [0.7777777777777778, \"#fb9f3a\"], [0.8888888888888888, \"#fdca26\"], [1.0, \"#f0f921\"]], \"type\": \"histogram2dcontour\"}], \"mesh3d\": [{\"colorbar\": {\"outlinewidth\": 0, \"ticks\": \"\"}, \"type\": \"mesh3d\"}], \"parcoords\": [{\"line\": {\"colorbar\": {\"outlinewidth\": 0, \"ticks\": \"\"}}, \"type\": \"parcoords\"}], \"pie\": [{\"automargin\": true, \"type\": \"pie\"}], \"scatter\": [{\"marker\": {\"colorbar\": {\"outlinewidth\": 0, \"ticks\": \"\"}}, \"type\": \"scatter\"}], \"scatter3d\": [{\"line\": {\"colorbar\": {\"outlinewidth\": 0, \"ticks\": \"\"}}, \"marker\": {\"colorbar\": {\"outlinewidth\": 0, \"ticks\": \"\"}}, \"type\": \"scatter3d\"}], \"scattercarpet\": [{\"marker\": {\"colorbar\": {\"outlinewidth\": 0, \"ticks\": \"\"}}, \"type\": \"scattercarpet\"}], \"scattergeo\": [{\"marker\": {\"colorbar\": {\"outlinewidth\": 0, \"ticks\": \"\"}}, \"type\": \"scattergeo\"}], \"scattergl\": [{\"marker\": {\"colorbar\": {\"outlinewidth\": 0, \"ticks\": \"\"}}, \"type\": \"scattergl\"}], \"scattermapbox\": [{\"marker\": {\"colorbar\": {\"outlinewidth\": 0, \"ticks\": \"\"}}, \"type\": \"scattermapbox\"}], \"scatterpolar\": [{\"marker\": {\"colorbar\": {\"outlinewidth\": 0, \"ticks\": \"\"}}, \"type\": \"scatterpolar\"}], \"scatterpolargl\": [{\"marker\": {\"colorbar\": {\"outlinewidth\": 0, \"ticks\": \"\"}}, \"type\": \"scatterpolargl\"}], \"scatterternary\": [{\"marker\": {\"colorbar\": {\"outlinewidth\": 0, \"ticks\": \"\"}}, \"type\": \"scatterternary\"}], \"surface\": [{\"colorbar\": {\"outlinewidth\": 0, \"ticks\": \"\"}, \"colorscale\": [[0.0, \"#0d0887\"], [0.1111111111111111, \"#46039f\"], [0.2222222222222222, \"#7201a8\"], [0.3333333333333333, \"#9c179e\"], [0.4444444444444444, \"#bd3786\"], [0.5555555555555556, \"#d8576b\"], [0.6666666666666666, \"#ed7953\"], [0.7777777777777778, \"#fb9f3a\"], [0.8888888888888888, \"#fdca26\"], [1.0, \"#f0f921\"]], \"type\": \"surface\"}], \"table\": [{\"cells\": {\"fill\": {\"color\": \"#EBF0F8\"}, \"line\": {\"color\": \"white\"}}, \"header\": {\"fill\": {\"color\": \"#C8D4E3\"}, \"line\": {\"color\": \"white\"}}, \"type\": \"table\"}]}, \"layout\": {\"annotationdefaults\": {\"arrowcolor\": \"#2a3f5f\", \"arrowhead\": 0, \"arrowwidth\": 1}, \"coloraxis\": {\"colorbar\": {\"outlinewidth\": 0, \"ticks\": \"\"}}, \"colorscale\": {\"diverging\": [[0, \"#8e0152\"], [0.1, \"#c51b7d\"], [0.2, \"#de77ae\"], [0.3, \"#f1b6da\"], [0.4, \"#fde0ef\"], [0.5, \"#f7f7f7\"], [0.6, \"#e6f5d0\"], [0.7, \"#b8e186\"], [0.8, \"#7fbc41\"], [0.9, \"#4d9221\"], [1, \"#276419\"]], \"sequential\": [[0.0, \"#0d0887\"], [0.1111111111111111, \"#46039f\"], [0.2222222222222222, \"#7201a8\"], [0.3333333333333333, \"#9c179e\"], [0.4444444444444444, \"#bd3786\"], [0.5555555555555556, \"#d8576b\"], [0.6666666666666666, \"#ed7953\"], [0.7777777777777778, \"#fb9f3a\"], [0.8888888888888888, \"#fdca26\"], [1.0, \"#f0f921\"]], \"sequentialminus\": [[0.0, \"#0d0887\"], [0.1111111111111111, \"#46039f\"], [0.2222222222222222, \"#7201a8\"], [0.3333333333333333, \"#9c179e\"], [0.4444444444444444, \"#bd3786\"], [0.5555555555555556, \"#d8576b\"], [0.6666666666666666, \"#ed7953\"], [0.7777777777777778, \"#fb9f3a\"], [0.8888888888888888, \"#fdca26\"], [1.0, \"#f0f921\"]]}, \"colorway\": [\"#636efa\", \"#EF553B\", \"#00cc96\", \"#ab63fa\", \"#FFA15A\", \"#19d3f3\", \"#FF6692\", \"#B6E880\", \"#FF97FF\", \"#FECB52\"], \"font\": {\"color\": \"#2a3f5f\"}, \"geo\": {\"bgcolor\": \"white\", \"lakecolor\": \"white\", \"landcolor\": \"#E5ECF6\", \"showlakes\": true, \"showland\": true, \"subunitcolor\": \"white\"}, \"hoverlabel\": {\"align\": \"left\"}, \"hovermode\": \"closest\", \"mapbox\": {\"style\": \"light\"}, \"paper_bgcolor\": \"white\", \"plot_bgcolor\": \"#E5ECF6\", \"polar\": {\"angularaxis\": {\"gridcolor\": \"white\", \"linecolor\": \"white\", \"ticks\": \"\"}, \"bgcolor\": \"#E5ECF6\", \"radialaxis\": {\"gridcolor\": \"white\", \"linecolor\": \"white\", \"ticks\": \"\"}}, \"scene\": {\"xaxis\": {\"backgroundcolor\": \"#E5ECF6\", \"gridcolor\": \"white\", \"gridwidth\": 2, \"linecolor\": \"white\", \"showbackground\": true, \"ticks\": \"\", \"zerolinecolor\": \"white\"}, \"yaxis\": {\"backgroundcolor\": \"#E5ECF6\", \"gridcolor\": \"white\", \"gridwidth\": 2, \"linecolor\": \"white\", \"showbackground\": true, \"ticks\": \"\", \"zerolinecolor\": \"white\"}, \"zaxis\": {\"backgroundcolor\": \"#E5ECF6\", \"gridcolor\": \"white\", \"gridwidth\": 2, \"linecolor\": \"white\", \"showbackground\": true, \"ticks\": \"\", \"zerolinecolor\": \"white\"}}, \"shapedefaults\": {\"line\": {\"color\": \"#2a3f5f\"}}, \"ternary\": {\"aaxis\": {\"gridcolor\": \"white\", \"linecolor\": \"white\", \"ticks\": \"\"}, \"baxis\": {\"gridcolor\": \"white\", \"linecolor\": \"white\", \"ticks\": \"\"}, \"bgcolor\": \"#E5ECF6\", \"caxis\": {\"gridcolor\": \"white\", \"linecolor\": \"white\", \"ticks\": \"\"}}, \"title\": {\"x\": 0.05}, \"xaxis\": {\"automargin\": true, \"gridcolor\": \"white\", \"linecolor\": \"white\", \"ticks\": \"\", \"title\": {\"standoff\": 15}, \"zerolinecolor\": \"white\", \"zerolinewidth\": 2}, \"yaxis\": {\"automargin\": true, \"gridcolor\": \"white\", \"linecolor\": \"white\", \"ticks\": \"\", \"title\": {\"standoff\": 15}, \"zerolinecolor\": \"white\", \"zerolinewidth\": 2}}}},\n",
              "                        {\"responsive\": true}\n",
              "                    ).then(function(){\n",
              "                            \n",
              "var gd = document.getElementById('40ba32b4-a277-4572-8446-be10a97ea482');\n",
              "var x = new MutationObserver(function (mutations, observer) {{\n",
              "        var display = window.getComputedStyle(gd).display;\n",
              "        if (!display || display === 'none') {{\n",
              "            console.log([gd, 'removed!']);\n",
              "            Plotly.purge(gd);\n",
              "            observer.disconnect();\n",
              "        }}\n",
              "}});\n",
              "\n",
              "// Listen for the removal of the full notebook cells\n",
              "var notebookContainer = gd.closest('#notebook-container');\n",
              "if (notebookContainer) {{\n",
              "    x.observe(notebookContainer, {childList: true});\n",
              "}}\n",
              "\n",
              "// Listen for the clearing of the current output cell\n",
              "var outputEl = gd.closest('.output');\n",
              "if (outputEl) {{\n",
              "    x.observe(outputEl, {childList: true});\n",
              "}}\n",
              "\n",
              "                        })\n",
              "                };\n",
              "                \n",
              "            </script>\n",
              "        </div>\n",
              "</body>\n",
              "</html>"
            ]
          },
          "metadata": {
            "tags": []
          }
        }
      ]
    },
    {
      "cell_type": "code",
      "metadata": {
        "id": "lDAnuTGrNWER",
        "outputId": "6725f769-85b3-48a7-f7ec-85ffedd37ce7",
        "colab": {
          "base_uri": "https://localhost:8080/",
          "height": 562
        }
      },
      "source": [
        "levplot.resistance_plot(data, 0, 100)"
      ],
      "execution_count": 8,
      "outputs": [
        {
          "output_type": "display_data",
          "data": {
            "text/html": [
              "<html>\n",
              "<head><meta charset=\"utf-8\" /></head>\n",
              "<body>\n",
              "    <div>\n",
              "            <script src=\"https://cdnjs.cloudflare.com/ajax/libs/mathjax/2.7.5/MathJax.js?config=TeX-AMS-MML_SVG\"></script><script type=\"text/javascript\">if (window.MathJax) {MathJax.Hub.Config({SVG: {font: \"STIX-Web\"}});}</script>\n",
              "                <script type=\"text/javascript\">window.PlotlyConfig = {MathJaxConfig: 'local'};</script>\n",
              "        <script src=\"https://cdn.plot.ly/plotly-latest.min.js\"></script>    \n",
              "            <div id=\"40f9e3f9-1cd1-44dd-b8c0-d98de1808af2\" class=\"plotly-graph-div\" style=\"height:525px; width:100%;\"></div>\n",
              "            <script type=\"text/javascript\">\n",
              "                \n",
              "                    window.PLOTLYENV=window.PLOTLYENV || {};\n",
              "                    \n",
              "                if (document.getElementById(\"40f9e3f9-1cd1-44dd-b8c0-d98de1808af2\")) {\n",
              "                    Plotly.newPlot(\n",
              "                        '40f9e3f9-1cd1-44dd-b8c0-d98de1808af2',\n",
              "                        [{\"close\": [129.96, 129.09, 127.69, 129.47, 131.83, 131.58, 130.91, 131.14, 130.345, 130.16, 130.79, 131.24, 132.41, 135.65, 134.64, 134.09, 132.45, 139.9, 147.76, 145.43, 146.28, 147.31, 147.18, 148.605, 148.0, 147.56, 148.13, 147.87, 148.04, 149.72, 149.8, 151.22, 153.79, 158.31, 154.68, 154.42, 153.02, 151.72, 150.87, 153.77, 155.6, 154.44, 154.47, 153.16, 154.74, 152.57, 151.18, 152.0, 151.57, 153.68, 154.54, 155.74, 154.1, 154.53, 152.87, 151.64, 148.18, 148.15, 148.9, 152.68, 150.22, 148.61, 149.26, 150.92, 152.27, 153.36, 153.56, 154.34, 153.38, 153.22, 152.39, 152.0, 149.6, 152.67, 153.35, 151.26, 149.87, 148.39, 147.92, 147.5, 146.14, 143.27, 144.65, 144.07, 143.02, 141.0, 141.42, 145.49, 145.85, 145.49, 145.63, 147.98, 146.89, 146.64, 147.04, 146.43, 147.37, 144.83, 142.8, 143.06], \"high\": [131.84, 129.83, 129.61, 129.96, 131.98, 132.24, 132.25, 133.91, 131.27, 131.77, 131.01, 131.99, 132.87, 136.195, 135.75, 135.19, 132.99, 141.85, 148.24, 146.82, 146.58, 148.0, 148.39, 148.86, 148.89, 148.15, 148.71, 148.37, 148.56, 149.84, 149.96, 151.55, 154.24, 158.81, 155.92, 154.78, 154.7, 152.31, 151.85, 154.12, 156.9, 155.22, 155.96, 155.01, 155.57, 153.95, 152.58, 152.91, 152.24, 154.07, 155.0, 155.97, 155.08, 155.48, 154.9, 152.56, 151.93, 148.82, 149.27, 153.17, 152.08, 149.7, 150.5, 151.43, 153.49, 153.48, 153.61, 154.96, 155.46, 153.5, 153.99, 152.52, 151.35, 153.53, 154.05, 153.0, 150.8, 149.67, 148.71, 148.23, 147.43, 145.93, 145.0, 144.79, 144.62, 143.1, 142.135, 145.93, 146.79, 146.08, 146.52, 148.24, 148.24, 147.19, 147.71, 147.3, 147.7, 147.13, 144.39, 143.61], \"low\": [129.1, 128.61, 126.2, 128.74, 130.48, 130.97, 129.98, 130.18, 129.16, 129.73, 129.11, 129.48, 130.5701, 133.05, 134.62, 133.55, 130.76, 136.01, 139.64, 144.38, 143.05, 146.22, 146.05, 146.56, 147.72, 145.68, 147.51, 147.26, 147.72, 148.06, 148.615, 149.55, 151.06, 153.96, 153.42, 153.25, 152.14, 150.82, 150.52, 150.96, 154.23, 154.03, 154.35, 152.83, 153.16, 152.46, 151.17, 151.83, 149.79, 152.47, 152.8, 152.12, 153.68, 154.52, 152.87, 151.39, 148.16, 145.99, 147.56, 150.04, 149.94, 146.82, 148.34, 148.13, 151.31, 152.34, 151.645, 153.34, 153.0, 151.6, 152.22, 151.07, 149.47, 151.07, 152.06, 148.86, 149.74, 148.03, 147.75, 146.02, 145.92, 142.75, 143.85, 143.24, 142.33, 140.46, 140.69, 143.17, 145.42, 144.02, 145.2, 146.86, 146.34, 146.3, 146.74, 146.11, 146.22, 144.81, 142.17, 142.58], \"open\": [130.94, 129.43, 128.85, 128.83, 130.6, 131.75, 132.25, 132.35, 129.26, 130.73, 129.92, 131.69, 130.87, 133.52, 135.75, 135.1, 131.93, 136.3, 139.68, 146.04, 143.72, 146.38, 146.15, 147.47, 148.62, 146.16, 148.08, 147.45, 148.24, 148.09, 148.615, 149.61, 151.11, 153.97, 155.1, 153.51, 154.305, 152.11, 151.08, 150.96, 154.7, 154.56, 155.0, 153.72, 153.16, 153.44, 152.36, 151.91, 151.94, 152.47, 153.08, 153.78, 154.765, 154.645, 154.9, 152.0, 151.38, 147.71, 148.46, 150.04, 152.08, 149.7, 149.03, 148.21, 151.31, 152.43, 152.75, 153.55, 153.73, 153.02, 153.99, 151.65, 150.9, 151.15, 153.85, 152.74, 150.44, 149.57, 148.71, 147.89, 147.1, 145.27, 144.69, 143.88, 143.7, 143.01, 140.69, 143.21, 145.42, 144.83, 145.44, 146.86, 148.0, 146.88, 147.65, 146.97, 146.23, 147.13, 144.39, 143.5], \"type\": \"candlestick\", \"x\": [0, 1, 2, 3, 4, 5, 6, 7, 8, 9, 10, 11, 12, 13, 14, 15, 16, 17, 18, 19, 20, 21, 22, 23, 24, 25, 26, 27, 28, 29, 30, 31, 32, 33, 34, 35, 36, 37, 38, 39, 40, 41, 42, 43, 44, 45, 46, 47, 48, 49, 50, 51, 52, 53, 54, 55, 56, 57, 58, 59, 60, 61, 62, 63, 64, 65, 66, 67, 68, 69, 70, 71, 72, 73, 74, 75, 76, 77, 78, 79, 80, 81, 82, 83, 84, 85, 86, 87, 88, 89, 90, 91, 92, 93, 94, 95, 96, 97, 98, 99]}, {\"type\": \"scatter\", \"x\": [13, 14, 15, 16, 17, 18, 19, 20, 21, 22, 23, 24, 25, 26, 27, 28, 29, 30, 31, 32, 33, 34, 35, 36, 37, 38, 39, 40, 41, 42, 43, 44, 45, 46, 47, 48, 49, 50, 51, 52, 53, 54, 55, 56, 57, 58, 59, 60, 61, 62, 63, 64, 65, 66, 67, 68, 69, 70, 71, 72, 73, 74, 75, 76, 77, 78, 79, 80, 81, 82, 83, 84, 85, 86, 87, 88, 89, 90, 91, 92, 93, 94, 95, 96, 97, 98, 99], \"y\": [136.195, 136.195, 136.195, 136.195, 136.195, 136.195, 136.195, 136.195, 136.195, 136.195, 136.195, 136.195, 136.195, 136.195, 136.195, 136.195, 136.195, 136.195, 136.195, 136.195, 136.195, 136.195, 136.195, 136.195, 136.195, 136.195, 136.195, 136.195, 136.195, 136.195, 136.195, 136.195, 136.195, 136.195, 136.195, 136.195, 136.195, 136.195, 136.195, 136.195, 136.195, 136.195, 136.195, 136.195, 136.195, 136.195, 136.195, 136.195, 136.195, 136.195, 136.195, 136.195, 136.195, 136.195, 136.195, 136.195, 136.195, 136.195, 136.195, 136.195, 136.195, 136.195, 136.195, 136.195, 136.195, 136.195, 136.195, 136.195, 136.195, 136.195, 136.195, 136.195, 136.195, 136.195, 136.195, 136.195, 136.195, 136.195, 136.195, 136.195, 136.195, 136.195, 136.195, 136.195, 136.195, 136.195, 136.195, 136.195]}, {\"type\": \"scatter\", \"x\": [18, 19, 20, 21, 22, 23, 24, 25, 26, 27, 28, 29, 30, 31, 32, 33, 34, 35, 36, 37, 38, 39, 40, 41, 42, 43, 44, 45, 46, 47, 48, 49, 50, 51, 52, 53, 54, 55, 56, 57, 58, 59, 60, 61, 62, 63, 64, 65, 66, 67, 68, 69, 70, 71, 72, 73, 74, 75, 76, 77, 78, 79, 80, 81, 82, 83, 84, 85, 86, 87, 88, 89, 90, 91, 92, 93, 94, 95, 96, 97, 98, 99], \"y\": [148.24, 148.24, 148.24, 148.24, 148.24, 148.24, 148.24, 148.24, 148.24, 148.24, 148.24, 148.24, 148.24, 148.24, 148.24, 148.24, 148.24, 148.24, 148.24, 148.24, 148.24, 148.24, 148.24, 148.24, 148.24, 148.24, 148.24, 148.24, 148.24, 148.24, 148.24, 148.24, 148.24, 148.24, 148.24, 148.24, 148.24, 148.24, 148.24, 148.24, 148.24, 148.24, 148.24, 148.24, 148.24, 148.24, 148.24, 148.24, 148.24, 148.24, 148.24, 148.24, 148.24, 148.24, 148.24, 148.24, 148.24, 148.24, 148.24, 148.24, 148.24, 148.24, 148.24, 148.24, 148.24, 148.24, 148.24, 148.24, 148.24, 148.24, 148.24, 148.24, 148.24, 148.24, 148.24, 148.24, 148.24, 148.24, 148.24, 148.24, 148.24, 148.24, 148.24]}, {\"type\": \"scatter\", \"x\": [33, 34, 35, 36, 37, 38, 39, 40, 41, 42, 43, 44, 45, 46, 47, 48, 49, 50, 51, 52, 53, 54, 55, 56, 57, 58, 59, 60, 61, 62, 63, 64, 65, 66, 67, 68, 69, 70, 71, 72, 73, 74, 75, 76, 77, 78, 79, 80, 81, 82, 83, 84, 85, 86, 87, 88, 89, 90, 91, 92, 93, 94, 95, 96, 97, 98, 99], \"y\": [158.81, 158.81, 158.81, 158.81, 158.81, 158.81, 158.81, 158.81, 158.81, 158.81, 158.81, 158.81, 158.81, 158.81, 158.81, 158.81, 158.81, 158.81, 158.81, 158.81, 158.81, 158.81, 158.81, 158.81, 158.81, 158.81, 158.81, 158.81, 158.81, 158.81, 158.81, 158.81, 158.81, 158.81, 158.81, 158.81, 158.81, 158.81, 158.81, 158.81, 158.81, 158.81, 158.81, 158.81, 158.81, 158.81, 158.81, 158.81, 158.81, 158.81, 158.81, 158.81, 158.81, 158.81, 158.81, 158.81, 158.81, 158.81, 158.81, 158.81, 158.81, 158.81, 158.81, 158.81, 158.81, 158.81, 158.81, 158.81]}, {\"type\": \"scatter\", \"x\": [59, 60, 61, 62, 63, 64, 65, 66, 67, 68, 69, 70, 71, 72, 73, 74, 75, 76, 77, 78, 79, 80, 81, 82, 83, 84, 85, 86, 87, 88, 89, 90, 91, 92, 93, 94, 95, 96, 97, 98, 99], \"y\": [153.17, 153.17, 153.17, 153.17, 153.17, 153.17, 153.17, 153.17, 153.17, 153.17, 153.17, 153.17, 153.17, 153.17, 153.17, 153.17, 153.17, 153.17, 153.17, 153.17, 153.17, 153.17, 153.17, 153.17, 153.17, 153.17, 153.17, 153.17, 153.17, 153.17, 153.17, 153.17, 153.17, 153.17, 153.17, 153.17, 153.17, 153.17, 153.17, 153.17, 153.17, 153.17]}, {\"type\": \"scatter\", \"x\": [74, 75, 76, 77, 78, 79, 80, 81, 82, 83, 84, 85, 86, 87, 88, 89, 90, 91, 92, 93, 94, 95, 96, 97, 98, 99], \"y\": [154.05, 154.05, 154.05, 154.05, 154.05, 154.05, 154.05, 154.05, 154.05, 154.05, 154.05, 154.05, 154.05, 154.05, 154.05, 154.05, 154.05, 154.05, 154.05, 154.05, 154.05, 154.05, 154.05, 154.05, 154.05, 154.05, 154.05]}, {\"type\": \"scatter\", \"x\": [], \"y\": []}, {\"type\": \"scatter\", \"x\": [], \"y\": []}, {\"type\": \"scatter\", \"x\": [], \"y\": []}, {\"type\": \"scatter\", \"x\": [], \"y\": []}, {\"type\": \"scatter\", \"x\": [], \"y\": []}, {\"type\": \"scatter\", \"x\": [], \"y\": []}, {\"type\": \"scatter\", \"x\": [], \"y\": []}, {\"type\": \"scatter\", \"x\": [], \"y\": []}, {\"type\": \"scatter\", \"x\": [], \"y\": []}, {\"type\": \"scatter\", \"x\": [], \"y\": []}, {\"type\": \"scatter\", \"x\": [], \"y\": []}, {\"type\": \"scatter\", \"x\": [], \"y\": []}, {\"type\": \"scatter\", \"x\": [], \"y\": []}, {\"type\": \"scatter\", \"x\": [], \"y\": []}, {\"type\": \"scatter\", \"x\": [], \"y\": []}, {\"type\": \"scatter\", \"x\": [], \"y\": []}, {\"type\": \"scatter\", \"x\": [], \"y\": []}, {\"type\": \"scatter\", \"x\": [], \"y\": []}, {\"type\": \"scatter\", \"x\": [], \"y\": []}, {\"type\": \"scatter\", \"x\": [], \"y\": []}, {\"type\": \"scatter\", \"x\": [], \"y\": []}, {\"type\": \"scatter\", \"x\": [], \"y\": []}, {\"type\": \"scatter\", \"x\": [], \"y\": []}, {\"type\": \"scatter\", \"x\": [], \"y\": []}, {\"type\": \"scatter\", \"x\": [], \"y\": []}, {\"type\": \"scatter\", \"x\": [], \"y\": []}, {\"type\": \"scatter\", \"x\": [], \"y\": []}, {\"type\": \"scatter\", \"x\": [], \"y\": []}, {\"type\": \"scatter\", \"x\": [], \"y\": []}, {\"type\": \"scatter\", \"x\": [], \"y\": []}, {\"type\": \"scatter\", \"x\": [], \"y\": []}, {\"type\": \"scatter\", \"x\": [], \"y\": []}, {\"type\": \"scatter\", \"x\": [], \"y\": []}, {\"type\": \"scatter\", \"x\": [], \"y\": []}, {\"type\": \"scatter\", \"x\": [], \"y\": []}, {\"type\": \"scatter\", \"x\": [], \"y\": []}, {\"type\": \"scatter\", \"x\": [], \"y\": []}, {\"type\": \"scatter\", \"x\": [], \"y\": []}, {\"type\": \"scatter\", \"x\": [], \"y\": []}, {\"type\": \"scatter\", \"x\": [], \"y\": []}, {\"type\": \"scatter\", \"x\": [], \"y\": []}, {\"type\": \"scatter\", \"x\": [], \"y\": []}, {\"type\": \"scatter\", \"x\": [], \"y\": []}, {\"type\": \"scatter\", \"x\": [], \"y\": []}, {\"type\": \"scatter\", \"x\": [], \"y\": []}, {\"type\": \"scatter\", \"x\": [], \"y\": []}, {\"type\": \"scatter\", \"x\": [], \"y\": []}, {\"type\": \"scatter\", \"x\": [], \"y\": []}, {\"type\": \"scatter\", \"x\": [], \"y\": []}, {\"type\": \"scatter\", \"x\": [], \"y\": []}, {\"type\": \"scatter\", \"x\": [], \"y\": []}, {\"type\": \"scatter\", \"x\": [], \"y\": []}, {\"type\": \"scatter\", \"x\": [], \"y\": []}, {\"type\": \"scatter\", \"x\": [], \"y\": []}, {\"type\": \"scatter\", \"x\": [], \"y\": []}, {\"type\": \"scatter\", \"x\": [], \"y\": []}, {\"type\": \"scatter\", \"x\": [], \"y\": []}, {\"type\": \"scatter\", \"x\": [], \"y\": []}, {\"type\": \"scatter\", \"x\": [], \"y\": []}, {\"type\": \"scatter\", \"x\": [], \"y\": []}, {\"type\": \"scatter\", \"x\": [], \"y\": []}, {\"type\": \"scatter\", \"x\": [], \"y\": []}, {\"type\": \"scatter\", \"x\": [], \"y\": []}, {\"type\": \"scatter\", \"x\": [], \"y\": []}, {\"type\": \"scatter\", \"x\": [], \"y\": []}, {\"type\": \"scatter\", \"x\": [], \"y\": []}, {\"type\": \"scatter\", \"x\": [], \"y\": []}, {\"type\": \"scatter\", \"x\": [], \"y\": []}, {\"type\": \"scatter\", \"x\": [], \"y\": []}, {\"type\": \"scatter\", \"x\": [], \"y\": []}, {\"type\": \"scatter\", \"x\": [], \"y\": []}, {\"type\": \"scatter\", \"x\": [], \"y\": []}, {\"type\": \"scatter\", \"x\": [], \"y\": []}, {\"type\": \"scatter\", \"x\": [], \"y\": []}, {\"type\": \"scatter\", \"x\": [], \"y\": []}, {\"type\": \"scatter\", \"x\": [], \"y\": []}, {\"type\": \"scatter\", \"x\": [], \"y\": []}, {\"type\": \"scatter\", \"x\": [], \"y\": []}, {\"type\": \"scatter\", \"x\": [], \"y\": []}, {\"type\": \"scatter\", \"x\": [], \"y\": []}, {\"type\": \"scatter\", \"x\": [], \"y\": []}, {\"type\": \"scatter\", \"x\": [], \"y\": []}, {\"type\": \"scatter\", \"x\": [], \"y\": []}, {\"type\": \"scatter\", \"x\": [], \"y\": []}, {\"type\": \"scatter\", \"x\": [], \"y\": []}, {\"type\": \"scatter\", \"x\": [], \"y\": []}, {\"type\": \"scatter\", \"x\": [], \"y\": []}, {\"type\": \"scatter\", \"x\": [], \"y\": []}, {\"type\": \"scatter\", \"x\": [], \"y\": []}, {\"type\": \"scatter\", \"x\": [], \"y\": []}, {\"type\": \"scatter\", \"x\": [], \"y\": []}, {\"type\": \"scatter\", \"x\": [], \"y\": []}],\n",
              "                        {\"template\": {\"data\": {\"bar\": [{\"error_x\": {\"color\": \"#2a3f5f\"}, \"error_y\": {\"color\": \"#2a3f5f\"}, \"marker\": {\"line\": {\"color\": \"#E5ECF6\", \"width\": 0.5}}, \"type\": \"bar\"}], \"barpolar\": [{\"marker\": {\"line\": {\"color\": \"#E5ECF6\", \"width\": 0.5}}, \"type\": \"barpolar\"}], \"carpet\": [{\"aaxis\": {\"endlinecolor\": \"#2a3f5f\", \"gridcolor\": \"white\", \"linecolor\": \"white\", \"minorgridcolor\": \"white\", \"startlinecolor\": \"#2a3f5f\"}, \"baxis\": {\"endlinecolor\": \"#2a3f5f\", \"gridcolor\": \"white\", \"linecolor\": \"white\", \"minorgridcolor\": \"white\", \"startlinecolor\": \"#2a3f5f\"}, \"type\": \"carpet\"}], \"choropleth\": [{\"colorbar\": {\"outlinewidth\": 0, \"ticks\": \"\"}, \"type\": \"choropleth\"}], \"contour\": [{\"colorbar\": {\"outlinewidth\": 0, \"ticks\": \"\"}, \"colorscale\": [[0.0, \"#0d0887\"], [0.1111111111111111, \"#46039f\"], [0.2222222222222222, \"#7201a8\"], [0.3333333333333333, \"#9c179e\"], [0.4444444444444444, \"#bd3786\"], [0.5555555555555556, \"#d8576b\"], [0.6666666666666666, \"#ed7953\"], [0.7777777777777778, \"#fb9f3a\"], [0.8888888888888888, \"#fdca26\"], [1.0, \"#f0f921\"]], \"type\": \"contour\"}], \"contourcarpet\": [{\"colorbar\": {\"outlinewidth\": 0, \"ticks\": \"\"}, \"type\": \"contourcarpet\"}], \"heatmap\": [{\"colorbar\": {\"outlinewidth\": 0, \"ticks\": \"\"}, \"colorscale\": [[0.0, \"#0d0887\"], [0.1111111111111111, \"#46039f\"], [0.2222222222222222, \"#7201a8\"], [0.3333333333333333, \"#9c179e\"], [0.4444444444444444, \"#bd3786\"], [0.5555555555555556, \"#d8576b\"], [0.6666666666666666, \"#ed7953\"], [0.7777777777777778, \"#fb9f3a\"], [0.8888888888888888, \"#fdca26\"], [1.0, \"#f0f921\"]], \"type\": \"heatmap\"}], \"heatmapgl\": [{\"colorbar\": {\"outlinewidth\": 0, \"ticks\": \"\"}, \"colorscale\": [[0.0, \"#0d0887\"], [0.1111111111111111, \"#46039f\"], [0.2222222222222222, \"#7201a8\"], [0.3333333333333333, \"#9c179e\"], [0.4444444444444444, \"#bd3786\"], [0.5555555555555556, \"#d8576b\"], [0.6666666666666666, \"#ed7953\"], [0.7777777777777778, \"#fb9f3a\"], [0.8888888888888888, \"#fdca26\"], [1.0, \"#f0f921\"]], \"type\": \"heatmapgl\"}], \"histogram\": [{\"marker\": {\"colorbar\": {\"outlinewidth\": 0, \"ticks\": \"\"}}, \"type\": \"histogram\"}], \"histogram2d\": [{\"colorbar\": {\"outlinewidth\": 0, \"ticks\": \"\"}, \"colorscale\": [[0.0, \"#0d0887\"], [0.1111111111111111, \"#46039f\"], [0.2222222222222222, \"#7201a8\"], [0.3333333333333333, \"#9c179e\"], [0.4444444444444444, \"#bd3786\"], [0.5555555555555556, \"#d8576b\"], [0.6666666666666666, \"#ed7953\"], [0.7777777777777778, \"#fb9f3a\"], [0.8888888888888888, \"#fdca26\"], [1.0, \"#f0f921\"]], \"type\": \"histogram2d\"}], \"histogram2dcontour\": [{\"colorbar\": {\"outlinewidth\": 0, \"ticks\": \"\"}, \"colorscale\": [[0.0, \"#0d0887\"], [0.1111111111111111, \"#46039f\"], [0.2222222222222222, \"#7201a8\"], [0.3333333333333333, \"#9c179e\"], [0.4444444444444444, \"#bd3786\"], [0.5555555555555556, \"#d8576b\"], [0.6666666666666666, \"#ed7953\"], [0.7777777777777778, \"#fb9f3a\"], [0.8888888888888888, \"#fdca26\"], [1.0, \"#f0f921\"]], \"type\": \"histogram2dcontour\"}], \"mesh3d\": [{\"colorbar\": {\"outlinewidth\": 0, \"ticks\": \"\"}, \"type\": \"mesh3d\"}], \"parcoords\": [{\"line\": {\"colorbar\": {\"outlinewidth\": 0, \"ticks\": \"\"}}, \"type\": \"parcoords\"}], \"pie\": [{\"automargin\": true, \"type\": \"pie\"}], \"scatter\": [{\"marker\": {\"colorbar\": {\"outlinewidth\": 0, \"ticks\": \"\"}}, \"type\": \"scatter\"}], \"scatter3d\": [{\"line\": {\"colorbar\": {\"outlinewidth\": 0, \"ticks\": \"\"}}, \"marker\": {\"colorbar\": {\"outlinewidth\": 0, \"ticks\": \"\"}}, \"type\": \"scatter3d\"}], \"scattercarpet\": [{\"marker\": {\"colorbar\": {\"outlinewidth\": 0, \"ticks\": \"\"}}, \"type\": \"scattercarpet\"}], \"scattergeo\": [{\"marker\": {\"colorbar\": {\"outlinewidth\": 0, \"ticks\": \"\"}}, \"type\": \"scattergeo\"}], \"scattergl\": [{\"marker\": {\"colorbar\": {\"outlinewidth\": 0, \"ticks\": \"\"}}, \"type\": \"scattergl\"}], \"scattermapbox\": [{\"marker\": {\"colorbar\": {\"outlinewidth\": 0, \"ticks\": \"\"}}, \"type\": \"scattermapbox\"}], \"scatterpolar\": [{\"marker\": {\"colorbar\": {\"outlinewidth\": 0, \"ticks\": \"\"}}, \"type\": \"scatterpolar\"}], \"scatterpolargl\": [{\"marker\": {\"colorbar\": {\"outlinewidth\": 0, \"ticks\": \"\"}}, \"type\": \"scatterpolargl\"}], \"scatterternary\": [{\"marker\": {\"colorbar\": {\"outlinewidth\": 0, \"ticks\": \"\"}}, \"type\": \"scatterternary\"}], \"surface\": [{\"colorbar\": {\"outlinewidth\": 0, \"ticks\": \"\"}, \"colorscale\": [[0.0, \"#0d0887\"], [0.1111111111111111, \"#46039f\"], [0.2222222222222222, \"#7201a8\"], [0.3333333333333333, \"#9c179e\"], [0.4444444444444444, \"#bd3786\"], [0.5555555555555556, \"#d8576b\"], [0.6666666666666666, \"#ed7953\"], [0.7777777777777778, \"#fb9f3a\"], [0.8888888888888888, \"#fdca26\"], [1.0, \"#f0f921\"]], \"type\": \"surface\"}], \"table\": [{\"cells\": {\"fill\": {\"color\": \"#EBF0F8\"}, \"line\": {\"color\": \"white\"}}, \"header\": {\"fill\": {\"color\": \"#C8D4E3\"}, \"line\": {\"color\": \"white\"}}, \"type\": \"table\"}]}, \"layout\": {\"annotationdefaults\": {\"arrowcolor\": \"#2a3f5f\", \"arrowhead\": 0, \"arrowwidth\": 1}, \"coloraxis\": {\"colorbar\": {\"outlinewidth\": 0, \"ticks\": \"\"}}, \"colorscale\": {\"diverging\": [[0, \"#8e0152\"], [0.1, \"#c51b7d\"], [0.2, \"#de77ae\"], [0.3, \"#f1b6da\"], [0.4, \"#fde0ef\"], [0.5, \"#f7f7f7\"], [0.6, \"#e6f5d0\"], [0.7, \"#b8e186\"], [0.8, \"#7fbc41\"], [0.9, \"#4d9221\"], [1, \"#276419\"]], \"sequential\": [[0.0, \"#0d0887\"], [0.1111111111111111, \"#46039f\"], [0.2222222222222222, \"#7201a8\"], [0.3333333333333333, \"#9c179e\"], [0.4444444444444444, \"#bd3786\"], [0.5555555555555556, \"#d8576b\"], [0.6666666666666666, \"#ed7953\"], [0.7777777777777778, \"#fb9f3a\"], [0.8888888888888888, \"#fdca26\"], [1.0, \"#f0f921\"]], \"sequentialminus\": [[0.0, \"#0d0887\"], [0.1111111111111111, \"#46039f\"], [0.2222222222222222, \"#7201a8\"], [0.3333333333333333, \"#9c179e\"], [0.4444444444444444, \"#bd3786\"], [0.5555555555555556, \"#d8576b\"], [0.6666666666666666, \"#ed7953\"], [0.7777777777777778, \"#fb9f3a\"], [0.8888888888888888, \"#fdca26\"], [1.0, \"#f0f921\"]]}, \"colorway\": [\"#636efa\", \"#EF553B\", \"#00cc96\", \"#ab63fa\", \"#FFA15A\", \"#19d3f3\", \"#FF6692\", \"#B6E880\", \"#FF97FF\", \"#FECB52\"], \"font\": {\"color\": \"#2a3f5f\"}, \"geo\": {\"bgcolor\": \"white\", \"lakecolor\": \"white\", \"landcolor\": \"#E5ECF6\", \"showlakes\": true, \"showland\": true, \"subunitcolor\": \"white\"}, \"hoverlabel\": {\"align\": \"left\"}, \"hovermode\": \"closest\", \"mapbox\": {\"style\": \"light\"}, \"paper_bgcolor\": \"white\", \"plot_bgcolor\": \"#E5ECF6\", \"polar\": {\"angularaxis\": {\"gridcolor\": \"white\", \"linecolor\": \"white\", \"ticks\": \"\"}, \"bgcolor\": \"#E5ECF6\", \"radialaxis\": {\"gridcolor\": \"white\", \"linecolor\": \"white\", \"ticks\": \"\"}}, \"scene\": {\"xaxis\": {\"backgroundcolor\": \"#E5ECF6\", \"gridcolor\": \"white\", \"gridwidth\": 2, \"linecolor\": \"white\", \"showbackground\": true, \"ticks\": \"\", \"zerolinecolor\": \"white\"}, \"yaxis\": {\"backgroundcolor\": \"#E5ECF6\", \"gridcolor\": \"white\", \"gridwidth\": 2, \"linecolor\": \"white\", \"showbackground\": true, \"ticks\": \"\", \"zerolinecolor\": \"white\"}, \"zaxis\": {\"backgroundcolor\": \"#E5ECF6\", \"gridcolor\": \"white\", \"gridwidth\": 2, \"linecolor\": \"white\", \"showbackground\": true, \"ticks\": \"\", \"zerolinecolor\": \"white\"}}, \"shapedefaults\": {\"line\": {\"color\": \"#2a3f5f\"}}, \"ternary\": {\"aaxis\": {\"gridcolor\": \"white\", \"linecolor\": \"white\", \"ticks\": \"\"}, \"baxis\": {\"gridcolor\": \"white\", \"linecolor\": \"white\", \"ticks\": \"\"}, \"bgcolor\": \"#E5ECF6\", \"caxis\": {\"gridcolor\": \"white\", \"linecolor\": \"white\", \"ticks\": \"\"}}, \"title\": {\"x\": 0.05}, \"xaxis\": {\"automargin\": true, \"gridcolor\": \"white\", \"linecolor\": \"white\", \"ticks\": \"\", \"title\": {\"standoff\": 15}, \"zerolinecolor\": \"white\", \"zerolinewidth\": 2}, \"yaxis\": {\"automargin\": true, \"gridcolor\": \"white\", \"linecolor\": \"white\", \"ticks\": \"\", \"title\": {\"standoff\": 15}, \"zerolinecolor\": \"white\", \"zerolinewidth\": 2}}}},\n",
              "                        {\"responsive\": true}\n",
              "                    ).then(function(){\n",
              "                            \n",
              "var gd = document.getElementById('40f9e3f9-1cd1-44dd-b8c0-d98de1808af2');\n",
              "var x = new MutationObserver(function (mutations, observer) {{\n",
              "        var display = window.getComputedStyle(gd).display;\n",
              "        if (!display || display === 'none') {{\n",
              "            console.log([gd, 'removed!']);\n",
              "            Plotly.purge(gd);\n",
              "            observer.disconnect();\n",
              "        }}\n",
              "}});\n",
              "\n",
              "// Listen for the removal of the full notebook cells\n",
              "var notebookContainer = gd.closest('#notebook-container');\n",
              "if (notebookContainer) {{\n",
              "    x.observe(notebookContainer, {childList: true});\n",
              "}}\n",
              "\n",
              "// Listen for the clearing of the current output cell\n",
              "var outputEl = gd.closest('.output');\n",
              "if (outputEl) {{\n",
              "    x.observe(outputEl, {childList: true});\n",
              "}}\n",
              "\n",
              "                        })\n",
              "                };\n",
              "                \n",
              "            </script>\n",
              "        </div>\n",
              "</body>\n",
              "</html>"
            ]
          },
          "metadata": {
            "tags": []
          }
        }
      ]
    },
    {
      "cell_type": "code",
      "metadata": {
        "id": "5agx4Om4NXw1"
      },
      "source": [
        ""
      ],
      "execution_count": null,
      "outputs": []
    }
  ]
}